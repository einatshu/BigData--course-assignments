{
  "nbformat": 4,
  "nbformat_minor": 0,
  "metadata": {
    "kernelspec": {
      "display_name": "Python 3",
      "language": "python",
      "name": "python3"
    },
    "language_info": {
      "codemirror_mode": {
        "name": "ipython",
        "version": 3
      },
      "file_extension": ".py",
      "mimetype": "text/x-python",
      "name": "python",
      "nbconvert_exporter": "python",
      "pygments_lexer": "ipython3",
      "version": "3.6.7"
    },
    "colab": {
      "name": "HW-6.ipynb",
      "provenance": [],
      "toc_visible": true
    }
  },
  "cells": [
    {
      "cell_type": "markdown",
      "metadata": {
        "id": "ATxpf1JpbCyE",
        "colab_type": "text"
      },
      "source": [
        "# Homework Assignment  6"
      ]
    },
    {
      "cell_type": "markdown",
      "metadata": {
        "id": "T6nDeYS6bCyF",
        "colab_type": "text"
      },
      "source": [
        "**Question 1:** Construct a sentiment classifier using 80% of the reviews in the [Amazon Fine Food Reviews dataset](https://www.kaggle.com/snap/amazon-fine-food-reviews).\n",
        "The classifier needs to predict if a product got a one-star or a five-star review. \n",
        "Evaluate the classifier using the rest of the data (30pt). \n"
      ]
    },
    {
      "cell_type": "code",
      "metadata": {
        "id": "hN8sFGgYNP_y",
        "colab_type": "code",
        "colab": {
          "base_uri": "https://localhost:8080/",
          "height": 1000
        },
        "outputId": "7b6785ac-8ed3-4bc6-91b7-79ecb40094f3"
      },
      "source": [
        "!pip install afinn\n",
        "!pip install turicreate"
      ],
      "execution_count": 1,
      "outputs": [
        {
          "output_type": "stream",
          "text": [
            "Collecting afinn\n",
            "\u001b[?25l  Downloading https://files.pythonhosted.org/packages/86/e5/ffbb7ee3cca21ac6d310ac01944fb163c20030b45bda25421d725d8a859a/afinn-0.1.tar.gz (52kB)\n",
            "\r\u001b[K     |██████▎                         | 10kB 18.3MB/s eta 0:00:01\r\u001b[K     |████████████▌                   | 20kB 1.8MB/s eta 0:00:01\r\u001b[K     |██████████████████▊             | 30kB 2.1MB/s eta 0:00:01\r\u001b[K     |█████████████████████████       | 40kB 1.7MB/s eta 0:00:01\r\u001b[K     |███████████████████████████████▏| 51kB 2.1MB/s eta 0:00:01\r\u001b[K     |████████████████████████████████| 61kB 1.9MB/s \n",
            "\u001b[?25hBuilding wheels for collected packages: afinn\n",
            "  Building wheel for afinn (setup.py) ... \u001b[?25l\u001b[?25hdone\n",
            "  Created wheel for afinn: filename=afinn-0.1-cp36-none-any.whl size=53452 sha256=152d0de12a0d45d4a09b9d55172c2b4ed101b3887847752ab70d85761ef287a8\n",
            "  Stored in directory: /root/.cache/pip/wheels/b5/1c/de/428301f3333ca509dcf20ff358690eb23a1388fbcbbde008b2\n",
            "Successfully built afinn\n",
            "Installing collected packages: afinn\n",
            "Successfully installed afinn-0.1\n",
            "Collecting turicreate\n",
            "\u001b[?25l  Downloading https://files.pythonhosted.org/packages/ee/3c/11f0818f117bc80bab78b5b04d492316f949d005bb1c6b3e05f31182b20e/turicreate-6.2.2-cp36-cp36m-manylinux1_x86_64.whl (91.8MB)\n",
            "\u001b[K     |████████████████████████████████| 91.8MB 62kB/s \n",
            "\u001b[?25hCollecting resampy==0.2.1\n",
            "\u001b[?25l  Downloading https://files.pythonhosted.org/packages/14/b6/66a06d85474190b50aee1a6c09cdc95bb405ac47338b27e9b21409da1760/resampy-0.2.1.tar.gz (322kB)\n",
            "\u001b[K     |████████████████████████████████| 327kB 42.2MB/s \n",
            "\u001b[?25hRequirement already satisfied: requests>=2.9.1 in /usr/local/lib/python3.6/dist-packages (from turicreate) (2.23.0)\n",
            "Collecting tensorflow<=2.0.1,>=2.0.0\n",
            "\u001b[?25l  Downloading https://files.pythonhosted.org/packages/43/16/b07e3f7a4a024b47918f7018967eb984b0c542458a6141d8c48515aa81d4/tensorflow-2.0.1-cp36-cp36m-manylinux2010_x86_64.whl (86.3MB)\n",
            "\u001b[K     |████████████████████████████████| 86.3MB 64kB/s \n",
            "\u001b[?25hRequirement already satisfied: numpy in /usr/local/lib/python3.6/dist-packages (from turicreate) (1.18.4)\n",
            "Requirement already satisfied: decorator>=4.0.9 in /usr/local/lib/python3.6/dist-packages (from turicreate) (4.4.2)\n",
            "Requirement already satisfied: scipy>=1.1.0 in /usr/local/lib/python3.6/dist-packages (from turicreate) (1.4.1)\n",
            "Requirement already satisfied: prettytable==0.7.2 in /usr/local/lib/python3.6/dist-packages (from turicreate) (0.7.2)\n",
            "Requirement already satisfied: pandas>=0.23.2 in /usr/local/lib/python3.6/dist-packages (from turicreate) (1.0.3)\n",
            "Collecting coremltools==3.3\n",
            "\u001b[?25l  Downloading https://files.pythonhosted.org/packages/77/19/611916d1ef326d38857d93af5ba184f6ad7491642e0fa4f9082e7d82f034/coremltools-3.3-cp36-none-manylinux1_x86_64.whl (3.4MB)\n",
            "\u001b[K     |████████████████████████████████| 3.4MB 39.7MB/s \n",
            "\u001b[?25hRequirement already satisfied: pillow>=5.2.0 in /usr/local/lib/python3.6/dist-packages (from turicreate) (7.0.0)\n",
            "Requirement already satisfied: six>=1.10.0 in /usr/local/lib/python3.6/dist-packages (from turicreate) (1.12.0)\n",
            "Requirement already satisfied: numba>=0.32 in /usr/local/lib/python3.6/dist-packages (from resampy==0.2.1->turicreate) (0.48.0)\n",
            "Requirement already satisfied: idna<3,>=2.5 in /usr/local/lib/python3.6/dist-packages (from requests>=2.9.1->turicreate) (2.9)\n",
            "Requirement already satisfied: urllib3!=1.25.0,!=1.25.1,<1.26,>=1.21.1 in /usr/local/lib/python3.6/dist-packages (from requests>=2.9.1->turicreate) (1.24.3)\n",
            "Requirement already satisfied: certifi>=2017.4.17 in /usr/local/lib/python3.6/dist-packages (from requests>=2.9.1->turicreate) (2020.4.5.1)\n",
            "Requirement already satisfied: chardet<4,>=3.0.2 in /usr/local/lib/python3.6/dist-packages (from requests>=2.9.1->turicreate) (3.0.4)\n",
            "Requirement already satisfied: wrapt>=1.11.1 in /usr/local/lib/python3.6/dist-packages (from tensorflow<=2.0.1,>=2.0.0->turicreate) (1.12.1)\n",
            "Requirement already satisfied: termcolor>=1.1.0 in /usr/local/lib/python3.6/dist-packages (from tensorflow<=2.0.1,>=2.0.0->turicreate) (1.1.0)\n",
            "Collecting tensorboard<2.1.0,>=2.0.0\n",
            "\u001b[?25l  Downloading https://files.pythonhosted.org/packages/76/54/99b9d5d52d5cb732f099baaaf7740403e83fe6b0cedde940fabd2b13d75a/tensorboard-2.0.2-py3-none-any.whl (3.8MB)\n",
            "\u001b[K     |████████████████████████████████| 3.8MB 37.7MB/s \n",
            "\u001b[?25hRequirement already satisfied: astor>=0.6.0 in /usr/local/lib/python3.6/dist-packages (from tensorflow<=2.0.1,>=2.0.0->turicreate) (0.8.1)\n",
            "Requirement already satisfied: protobuf>=3.6.1 in /usr/local/lib/python3.6/dist-packages (from tensorflow<=2.0.1,>=2.0.0->turicreate) (3.10.0)\n",
            "Requirement already satisfied: absl-py>=0.7.0 in /usr/local/lib/python3.6/dist-packages (from tensorflow<=2.0.1,>=2.0.0->turicreate) (0.9.0)\n",
            "Requirement already satisfied: keras-applications>=1.0.8 in /usr/local/lib/python3.6/dist-packages (from tensorflow<=2.0.1,>=2.0.0->turicreate) (1.0.8)\n",
            "Requirement already satisfied: opt-einsum>=2.3.2 in /usr/local/lib/python3.6/dist-packages (from tensorflow<=2.0.1,>=2.0.0->turicreate) (3.2.1)\n",
            "Requirement already satisfied: keras-preprocessing>=1.0.5 in /usr/local/lib/python3.6/dist-packages (from tensorflow<=2.0.1,>=2.0.0->turicreate) (1.1.0)\n",
            "Collecting tensorflow-estimator<2.1.0,>=2.0.0\n",
            "\u001b[?25l  Downloading https://files.pythonhosted.org/packages/fc/08/8b927337b7019c374719145d1dceba21a8bb909b93b1ad6f8fb7d22c1ca1/tensorflow_estimator-2.0.1-py2.py3-none-any.whl (449kB)\n",
            "\u001b[K     |████████████████████████████████| 450kB 38.3MB/s \n",
            "\u001b[?25hCollecting gast==0.2.2\n",
            "  Downloading https://files.pythonhosted.org/packages/4e/35/11749bf99b2d4e3cceb4d55ca22590b0d7c2c62b9de38ac4a4a7f4687421/gast-0.2.2.tar.gz\n",
            "Requirement already satisfied: grpcio>=1.8.6 in /usr/local/lib/python3.6/dist-packages (from tensorflow<=2.0.1,>=2.0.0->turicreate) (1.28.1)\n",
            "Requirement already satisfied: google-pasta>=0.1.6 in /usr/local/lib/python3.6/dist-packages (from tensorflow<=2.0.1,>=2.0.0->turicreate) (0.2.0)\n",
            "Requirement already satisfied: wheel>=0.26; python_version >= \"3\" in /usr/local/lib/python3.6/dist-packages (from tensorflow<=2.0.1,>=2.0.0->turicreate) (0.34.2)\n",
            "Requirement already satisfied: python-dateutil>=2.6.1 in /usr/local/lib/python3.6/dist-packages (from pandas>=0.23.2->turicreate) (2.8.1)\n",
            "Requirement already satisfied: pytz>=2017.2 in /usr/local/lib/python3.6/dist-packages (from pandas>=0.23.2->turicreate) (2018.9)\n",
            "Requirement already satisfied: llvmlite<0.32.0,>=0.31.0dev0 in /usr/local/lib/python3.6/dist-packages (from numba>=0.32->resampy==0.2.1->turicreate) (0.31.0)\n",
            "Requirement already satisfied: setuptools in /usr/local/lib/python3.6/dist-packages (from numba>=0.32->resampy==0.2.1->turicreate) (46.1.3)\n",
            "Requirement already satisfied: werkzeug>=0.11.15 in /usr/local/lib/python3.6/dist-packages (from tensorboard<2.1.0,>=2.0.0->tensorflow<=2.0.1,>=2.0.0->turicreate) (1.0.1)\n",
            "Requirement already satisfied: google-auth<2,>=1.6.3 in /usr/local/lib/python3.6/dist-packages (from tensorboard<2.1.0,>=2.0.0->tensorflow<=2.0.1,>=2.0.0->turicreate) (1.7.2)\n",
            "Requirement already satisfied: google-auth-oauthlib<0.5,>=0.4.1 in /usr/local/lib/python3.6/dist-packages (from tensorboard<2.1.0,>=2.0.0->tensorflow<=2.0.1,>=2.0.0->turicreate) (0.4.1)\n",
            "Requirement already satisfied: markdown>=2.6.8 in /usr/local/lib/python3.6/dist-packages (from tensorboard<2.1.0,>=2.0.0->tensorflow<=2.0.1,>=2.0.0->turicreate) (3.2.1)\n",
            "Requirement already satisfied: h5py in /usr/local/lib/python3.6/dist-packages (from keras-applications>=1.0.8->tensorflow<=2.0.1,>=2.0.0->turicreate) (2.10.0)\n",
            "Requirement already satisfied: pyasn1-modules>=0.2.1 in /usr/local/lib/python3.6/dist-packages (from google-auth<2,>=1.6.3->tensorboard<2.1.0,>=2.0.0->tensorflow<=2.0.1,>=2.0.0->turicreate) (0.2.8)\n",
            "Requirement already satisfied: cachetools<3.2,>=2.0.0 in /usr/local/lib/python3.6/dist-packages (from google-auth<2,>=1.6.3->tensorboard<2.1.0,>=2.0.0->tensorflow<=2.0.1,>=2.0.0->turicreate) (3.1.1)\n",
            "Requirement already satisfied: rsa<4.1,>=3.1.4 in /usr/local/lib/python3.6/dist-packages (from google-auth<2,>=1.6.3->tensorboard<2.1.0,>=2.0.0->tensorflow<=2.0.1,>=2.0.0->turicreate) (4.0)\n",
            "Requirement already satisfied: requests-oauthlib>=0.7.0 in /usr/local/lib/python3.6/dist-packages (from google-auth-oauthlib<0.5,>=0.4.1->tensorboard<2.1.0,>=2.0.0->tensorflow<=2.0.1,>=2.0.0->turicreate) (1.3.0)\n",
            "Requirement already satisfied: pyasn1<0.5.0,>=0.4.6 in /usr/local/lib/python3.6/dist-packages (from pyasn1-modules>=0.2.1->google-auth<2,>=1.6.3->tensorboard<2.1.0,>=2.0.0->tensorflow<=2.0.1,>=2.0.0->turicreate) (0.4.8)\n",
            "Requirement already satisfied: oauthlib>=3.0.0 in /usr/local/lib/python3.6/dist-packages (from requests-oauthlib>=0.7.0->google-auth-oauthlib<0.5,>=0.4.1->tensorboard<2.1.0,>=2.0.0->tensorflow<=2.0.1,>=2.0.0->turicreate) (3.1.0)\n",
            "Building wheels for collected packages: resampy, gast\n",
            "  Building wheel for resampy (setup.py) ... \u001b[?25l\u001b[?25hdone\n",
            "  Created wheel for resampy: filename=resampy-0.2.1-cp36-none-any.whl size=320850 sha256=5e7b8820c51fc68083cf6a165ba5be3d172702c205118df46121aacb3569a8e2\n",
            "  Stored in directory: /root/.cache/pip/wheels/ff/4f/ed/2e6c676c23efe5394bb40ade50662e90eb46e29b48324c5f9b\n",
            "  Building wheel for gast (setup.py) ... \u001b[?25l\u001b[?25hdone\n",
            "  Created wheel for gast: filename=gast-0.2.2-cp36-none-any.whl size=7540 sha256=a40a835ac835ac4dcf9fa5c9c1844cd167f70433a25cfa0b7609f57b0df6368a\n",
            "  Stored in directory: /root/.cache/pip/wheels/5c/2e/7e/a1d4d4fcebe6c381f378ce7743a3ced3699feb89bcfbdadadd\n",
            "Successfully built resampy gast\n",
            "\u001b[31mERROR: tensorflow-probability 0.10.0rc0 has requirement gast>=0.3.2, but you'll have gast 0.2.2 which is incompatible.\u001b[0m\n",
            "Installing collected packages: resampy, tensorboard, tensorflow-estimator, gast, tensorflow, coremltools, turicreate\n",
            "  Found existing installation: resampy 0.2.2\n",
            "    Uninstalling resampy-0.2.2:\n",
            "      Successfully uninstalled resampy-0.2.2\n",
            "  Found existing installation: tensorboard 2.2.1\n",
            "    Uninstalling tensorboard-2.2.1:\n",
            "      Successfully uninstalled tensorboard-2.2.1\n",
            "  Found existing installation: tensorflow-estimator 2.2.0\n",
            "    Uninstalling tensorflow-estimator-2.2.0:\n",
            "      Successfully uninstalled tensorflow-estimator-2.2.0\n",
            "  Found existing installation: gast 0.3.3\n",
            "    Uninstalling gast-0.3.3:\n",
            "      Successfully uninstalled gast-0.3.3\n",
            "  Found existing installation: tensorflow 2.2.0\n",
            "    Uninstalling tensorflow-2.2.0:\n",
            "      Successfully uninstalled tensorflow-2.2.0\n",
            "Successfully installed coremltools-3.3 gast-0.2.2 resampy-0.2.1 tensorboard-2.0.2 tensorflow-2.0.1 tensorflow-estimator-2.0.1 turicreate-6.2.2\n"
          ],
          "name": "stdout"
        }
      ]
    },
    {
      "cell_type": "code",
      "metadata": {
        "id": "cIoqk24KbCyG",
        "colab_type": "code",
        "colab": {
          "base_uri": "https://localhost:8080/",
          "height": 319
        },
        "outputId": "1f9a8c3d-ace0-4cbb-c030-38bbe14145fb"
      },
      "source": [
        "!mkdir /root/.kaggle/\n",
        "import json\n",
        "import os\n",
        "\n",
        "# Installing the Kaggle package\n",
        "!pip install kaggle \n",
        "# You can also put this file on your Google Drive\n",
        "with open('/root/.kaggle/kaggle.json', 'w') as file:\n",
        "  json.dump(api_token, file)\n",
        "!chmod 600 /root/.kaggle/kaggle.json\n",
        "\n",
        "!mkdir ./datasets\n",
        "!mkdir ./datasets/food-reviews\n",
        "!kaggle datasets download snap/amazon-fine-food-reviews -p ./datasets/\n",
        "!unzip ./datasets/amazon-fine-food-reviews.zip -d ./datasets/food-reviews/"
      ],
      "execution_count": 2,
      "outputs": [
        {
          "output_type": "stream",
          "text": [
            "Requirement already satisfied: kaggle in /usr/local/lib/python3.6/dist-packages (1.5.6)\n",
            "Requirement already satisfied: python-slugify in /usr/local/lib/python3.6/dist-packages (from kaggle) (4.0.0)\n",
            "Requirement already satisfied: python-dateutil in /usr/local/lib/python3.6/dist-packages (from kaggle) (2.8.1)\n",
            "Requirement already satisfied: urllib3<1.25,>=1.21.1 in /usr/local/lib/python3.6/dist-packages (from kaggle) (1.24.3)\n",
            "Requirement already satisfied: tqdm in /usr/local/lib/python3.6/dist-packages (from kaggle) (4.41.1)\n",
            "Requirement already satisfied: requests in /usr/local/lib/python3.6/dist-packages (from kaggle) (2.23.0)\n",
            "Requirement already satisfied: certifi in /usr/local/lib/python3.6/dist-packages (from kaggle) (2020.4.5.1)\n",
            "Requirement already satisfied: six>=1.10 in /usr/local/lib/python3.6/dist-packages (from kaggle) (1.12.0)\n",
            "Requirement already satisfied: text-unidecode>=1.3 in /usr/local/lib/python3.6/dist-packages (from python-slugify->kaggle) (1.3)\n",
            "Requirement already satisfied: chardet<4,>=3.0.2 in /usr/local/lib/python3.6/dist-packages (from requests->kaggle) (3.0.4)\n",
            "Requirement already satisfied: idna<3,>=2.5 in /usr/local/lib/python3.6/dist-packages (from requests->kaggle) (2.9)\n",
            "Downloading amazon-fine-food-reviews.zip to ./datasets\n",
            " 99% 239M/242M [00:02<00:00, 145MB/s]\n",
            "100% 242M/242M [00:02<00:00, 120MB/s]\n",
            "Archive:  ./datasets/amazon-fine-food-reviews.zip\n",
            "  inflating: ./datasets/food-reviews/Reviews.csv  \n",
            "  inflating: ./datasets/food-reviews/database.sqlite  \n",
            "  inflating: ./datasets/food-reviews/hashes.txt  \n"
          ],
          "name": "stdout"
        }
      ]
    },
    {
      "cell_type": "markdown",
      "metadata": {
        "id": "9vYHlNpSkAki",
        "colab_type": "text"
      },
      "source": [
        "Distribution of reviews score from the origin dataset."
      ]
    },
    {
      "cell_type": "code",
      "metadata": {
        "id": "y_KQFwjDAtxe",
        "colab_type": "code",
        "colab": {
          "base_uri": "https://localhost:8080/",
          "height": 302
        },
        "outputId": "e2590838-a82f-4876-c106-e14c15cdd3f3"
      },
      "source": [
        "import seaborn as sns\n",
        "sns.set()\n",
        "sns.distplot(reviews_df['Score'], kde=False, rug=True)"
      ],
      "execution_count": 12,
      "outputs": [
        {
          "output_type": "execute_result",
          "data": {
            "text/plain": [
              "<matplotlib.axes._subplots.AxesSubplot at 0x7fcfd0e5a978>"
            ]
          },
          "metadata": {
            "tags": []
          },
          "execution_count": 12
        },
        {
          "output_type": "display_data",
          "data": {
            "image/png": "[encoded data removed]",
            "text/plain": [
              "<Figure size 432x288 with 1 Axes>"
            ]
          },
          "metadata": {
            "tags": []
          }
        }
      ]
    },
    {
      "cell_type": "markdown",
      "metadata": {
        "id": "1wuRwkEVkJpI",
        "colab_type": "text"
      },
      "source": [
        "I randomly selected 5000 reviews from each score (1 and 5) from the original dataset, from two reasons: 1. to make sure that colab won't crash during the evaluation. 2. Since the dataset is unbalanced (I took the same amount of samples from the positive label and from the negative label)"
      ]
    },
    {
      "cell_type": "code",
      "metadata": {
        "id": "s0W7v1DycPpF",
        "colab_type": "code",
        "colab": {
          "base_uri": "https://localhost:8080/",
          "height": 1000
        },
        "outputId": "5d3f1448-e9a6-4965-d4e3-df10c39433c8"
      },
      "source": [
        "import pandas as pd\n",
        "\n",
        "reviews_df = pd.read_csv('./datasets/food-reviews/Reviews.csv')\n",
        "reviews_scores_to_keep = [1,5]\n",
        "reviews_df_filtered = reviews_df[reviews_df['Score'].isin(reviews_scores_to_keep)]\n",
        "# randomly select 5000 samples from each label\n",
        "pos_samples = reviews_df_filtered[reviews_df_filtered['Score']==5].sample(n=5000)\n",
        "neg_samples = reviews_df_filtered[reviews_df_filtered['Score']==1].sample(n=5000)\n",
        "reviews_df_filtered = pd.concat([pos_samples, neg_samples], axis=0, sort=False)\n",
        "print(reviews_df_filtered.shape)\n",
        "reviews_df_filtered.head(10)"
      ],
      "execution_count": 2,
      "outputs": [
        {
          "output_type": "stream",
          "text": [
            "(10000, 10)\n"
          ],
          "name": "stdout"
        },
        {
          "output_type": "execute_result",
          "data": {
            "text/html": [
              "<div>\n",
              "<style scoped>\n",
              "    .dataframe tbody tr th:only-of-type {\n",
              "        vertical-align: middle;\n",
              "    }\n",
              "\n",
              "    .dataframe tbody tr th {\n",
              "        vertical-align: top;\n",
              "    }\n",
              "\n",
              "    .dataframe thead th {\n",
              "        text-align: right;\n",
              "    }\n",
              "</style>\n",
              "<table border=\"1\" class=\"dataframe\">\n",
              "  <thead>\n",
              "    <tr style=\"text-align: right;\">\n",
              "      <th></th>\n",
              "      <th>Id</th>\n",
              "      <th>ProductId</th>\n",
              "      <th>UserId</th>\n",
              "      <th>ProfileName</th>\n",
              "      <th>HelpfulnessNumerator</th>\n",
              "      <th>HelpfulnessDenominator</th>\n",
              "      <th>Score</th>\n",
              "      <th>Time</th>\n",
              "      <th>Summary</th>\n",
              "      <th>Text</th>\n",
              "    </tr>\n",
              "  </thead>\n",
              "  <tbody>\n",
              "    <tr>\n",
              "      <th>28934</th>\n",
              "      <td>28935</td>\n",
              "      <td>B0000VM8Y0</td>\n",
              "      <td>A30OJ5EDH7QQJG</td>\n",
              "      <td>BAkins</td>\n",
              "      <td>1</td>\n",
              "      <td>1</td>\n",
              "      <td>5</td>\n",
              "      <td>1310169600</td>\n",
              "      <td>Great product!</td>\n",
              "      <td>Love the clear vanilla flavoring for making wh...</td>\n",
              "    </tr>\n",
              "    <tr>\n",
              "      <th>330498</th>\n",
              "      <td>330499</td>\n",
              "      <td>B00022F2A4</td>\n",
              "      <td>A15XPSV4VTY8HV</td>\n",
              "      <td>leenbean \"leenbean\"</td>\n",
              "      <td>23</td>\n",
              "      <td>24</td>\n",
              "      <td>5</td>\n",
              "      <td>1195516800</td>\n",
              "      <td>Great for Gluten Free</td>\n",
              "      <td>This is a great product for making gluten free...</td>\n",
              "    </tr>\n",
              "    <tr>\n",
              "      <th>65788</th>\n",
              "      <td>65789</td>\n",
              "      <td>B0007A0AQW</td>\n",
              "      <td>A1REPQGT1N651L</td>\n",
              "      <td>Vanessa</td>\n",
              "      <td>0</td>\n",
              "      <td>0</td>\n",
              "      <td>5</td>\n",
              "      <td>1345507200</td>\n",
              "      <td>Great for potty training!!</td>\n",
              "      <td>I adopted a 1 year old Yorkie rescue pup who i...</td>\n",
              "    </tr>\n",
              "    <tr>\n",
              "      <th>137819</th>\n",
              "      <td>137820</td>\n",
              "      <td>B0000YVCFS</td>\n",
              "      <td>A2YP1QI0BUC1U0</td>\n",
              "      <td>A. Loomis \"AL\"</td>\n",
              "      <td>1</td>\n",
              "      <td>1</td>\n",
              "      <td>5</td>\n",
              "      <td>1123891200</td>\n",
              "      <td>Wonderful product! I love the Wild  Rasberry F...</td>\n",
              "      <td>I am a person with Crohns disease, &amp; I can not...</td>\n",
              "    </tr>\n",
              "    <tr>\n",
              "      <th>163710</th>\n",
              "      <td>163711</td>\n",
              "      <td>B002ZJTX16</td>\n",
              "      <td>A1QBVUCTWP9XR4</td>\n",
              "      <td>Linda Haptonstall</td>\n",
              "      <td>0</td>\n",
              "      <td>0</td>\n",
              "      <td>5</td>\n",
              "      <td>1221523200</td>\n",
              "      <td>Good snacks</td>\n",
              "      <td>Such an easy way to buy calorie controlled sna...</td>\n",
              "    </tr>\n",
              "    <tr>\n",
              "      <th>389028</th>\n",
              "      <td>389029</td>\n",
              "      <td>B004T9XDFM</td>\n",
              "      <td>A3J23DX3RGRZUC</td>\n",
              "      <td>Rebecca Pizzitola</td>\n",
              "      <td>1</td>\n",
              "      <td>1</td>\n",
              "      <td>5</td>\n",
              "      <td>1331856000</td>\n",
              "      <td>Great \"Adult\" Dessert</td>\n",
              "      <td>At first bite, the dusting makes these guys a ...</td>\n",
              "    </tr>\n",
              "    <tr>\n",
              "      <th>453966</th>\n",
              "      <td>453967</td>\n",
              "      <td>B004I5MAAQ</td>\n",
              "      <td>A3NA304NMYYSME</td>\n",
              "      <td>Belinda Boulter</td>\n",
              "      <td>0</td>\n",
              "      <td>0</td>\n",
              "      <td>5</td>\n",
              "      <td>1315526400</td>\n",
              "      <td>Great pasta texture</td>\n",
              "      <td>These noodles have a great, chewy pasta textur...</td>\n",
              "    </tr>\n",
              "    <tr>\n",
              "      <th>93141</th>\n",
              "      <td>93142</td>\n",
              "      <td>B004YV80OE</td>\n",
              "      <td>A37PZJH2F13IOR</td>\n",
              "      <td>J. Rose \"JR From the Ball so Blue\"</td>\n",
              "      <td>0</td>\n",
              "      <td>0</td>\n",
              "      <td>5</td>\n",
              "      <td>1319068800</td>\n",
              "      <td>Convenience food that's delicious</td>\n",
              "      <td>I added chunked fresh chicken breast to this i...</td>\n",
              "    </tr>\n",
              "    <tr>\n",
              "      <th>507088</th>\n",
              "      <td>507089</td>\n",
              "      <td>B000H154US</td>\n",
              "      <td>ARR275B124553</td>\n",
              "      <td>Mountainwizard</td>\n",
              "      <td>0</td>\n",
              "      <td>0</td>\n",
              "      <td>5</td>\n",
              "      <td>1345852800</td>\n",
              "      <td>Gluten Free doesn't have to hurt!</td>\n",
              "      <td>I have always been a cracker and cheese junkie...</td>\n",
              "    </tr>\n",
              "    <tr>\n",
              "      <th>200005</th>\n",
              "      <td>200006</td>\n",
              "      <td>B0046H312W</td>\n",
              "      <td>A2BDFFGAE6O868</td>\n",
              "      <td>Kathy</td>\n",
              "      <td>1</td>\n",
              "      <td>1</td>\n",
              "      <td>5</td>\n",
              "      <td>1315094400</td>\n",
              "      <td>Best Chicken Stock Ever!</td>\n",
              "      <td>This IS the best chicken stock ever, but here'...</td>\n",
              "    </tr>\n",
              "  </tbody>\n",
              "</table>\n",
              "</div>"
            ],
            "text/plain": [
              "            Id  ...                                               Text\n",
              "28934    28935  ...  Love the clear vanilla flavoring for making wh...\n",
              "330498  330499  ...  This is a great product for making gluten free...\n",
              "65788    65789  ...  I adopted a 1 year old Yorkie rescue pup who i...\n",
              "137819  137820  ...  I am a person with Crohns disease, & I can not...\n",
              "163710  163711  ...  Such an easy way to buy calorie controlled sna...\n",
              "389028  389029  ...  At first bite, the dusting makes these guys a ...\n",
              "453966  453967  ...  These noodles have a great, chewy pasta textur...\n",
              "93141    93142  ...  I added chunked fresh chicken breast to this i...\n",
              "507088  507089  ...  I have always been a cracker and cheese junkie...\n",
              "200005  200006  ...  This IS the best chicken stock ever, but here'...\n",
              "\n",
              "[10 rows x 10 columns]"
            ]
          },
          "metadata": {
            "tags": []
          },
          "execution_count": 2
        }
      ]
    },
    {
      "cell_type": "code",
      "metadata": {
        "id": "E62idkPBBiVH",
        "colab_type": "code",
        "colab": {}
      },
      "source": [
        "def score2sentiment(label):\n",
        "    if label == 5:\n",
        "        return 1\n",
        "    else:\n",
        "        return 0\n",
        "\n",
        "reviews_df_filtered['sentiment'] = reviews_df_filtered['Score'].apply(lambda label: score2sentiment(label))\n",
        "reviews_df_filtered['all_text'] = reviews_df_filtered['Summary']+\" \"+reviews_df_filtered['Text']\n"
      ],
      "execution_count": 0,
      "outputs": []
    },
    {
      "cell_type": "markdown",
      "metadata": {
        "id": "jmPb32n1lYtG",
        "colab_type": "text"
      },
      "source": [
        "I combined the Summary of the review with it's full text, Also I normalize the combined text and removed stop words and lowered the tokens. I used classifier with Bag of words features."
      ]
    },
    {
      "cell_type": "code",
      "metadata": {
        "id": "NiVjoq3WsjfB",
        "colab_type": "code",
        "colab": {
          "base_uri": "https://localhost:8080/",
          "height": 84
        },
        "outputId": "95ba85b2-d8f2-4edc-aef2-1c7deb748940"
      },
      "source": [
        "import nltk\n",
        "import turicreate as tc\n",
        "from nltk.tokenize import word_tokenize\n",
        "nltk.download('stopwords')\n",
        "nltk.download('punkt')\n",
        "\n",
        "from nltk.corpus import stopwords\n",
        "\n",
        "stop_words_set = set(stopwords.words(\"english\"))\n",
        "\n",
        "def normalize_text(text):\n",
        "  text = text.lower()\n",
        "  words_list = word_tokenize(text)\n",
        "  l = [w for w in words_list if w not in stop_words_set]\n",
        "  return \" \".join(l)"
      ],
      "execution_count": 17,
      "outputs": [
        {
          "output_type": "stream",
          "text": [
            "[nltk_data] Downloading package stopwords to /root/nltk_data...\n",
            "[nltk_data]   Package stopwords is already up-to-date!\n",
            "[nltk_data] Downloading package punkt to /root/nltk_data...\n",
            "[nltk_data]   Package punkt is already up-to-date!\n"
          ],
          "name": "stdout"
        }
      ]
    },
    {
      "cell_type": "code",
      "metadata": {
        "id": "0atn-K9vppU6",
        "colab_type": "code",
        "colab": {
          "base_uri": "https://localhost:8080/",
          "height": 84
        },
        "outputId": "93f77b45-bf41-458f-90a6-2c7ef29b45e5"
      },
      "source": [
        "reviews_df_filtered.dropna(subset=['all_text'], inplace=True) \n",
        "reviews_df_filtered['normalize_all_text'] = reviews_df_filtered['all_text'].apply(lambda x: normalize_text(x))\n",
        "\n",
        "reviews_sf = tc.SFrame(data=reviews_df_filtered[['normalize_all_text', 'sentiment']])\n"
      ],
      "execution_count": 4,
      "outputs": [
        {
          "output_type": "stream",
          "text": [
            "[nltk_data] Downloading package stopwords to /root/nltk_data...\n",
            "[nltk_data]   Package stopwords is already up-to-date!\n",
            "[nltk_data] Downloading package punkt to /root/nltk_data...\n",
            "[nltk_data]   Package punkt is already up-to-date!\n"
          ],
          "name": "stdout"
        }
      ]
    },
    {
      "cell_type": "code",
      "metadata": {
        "id": "0_ELUI0f9oaF",
        "colab_type": "code",
        "colab": {
          "base_uri": "https://localhost:8080/",
          "height": 50
        },
        "outputId": "a3b812a2-1a18-4f2a-87aa-57b014ce74b8"
      },
      "source": [
        "test, train  = reviews_sf.random_split(0.2)\n",
        "print(f\"Train size {len(train)}\\nTest size: {len(test)}\" )"
      ],
      "execution_count": 5,
      "outputs": [
        {
          "output_type": "stream",
          "text": [
            "Train size 7995\n",
            "Test size: 2005\n"
          ],
          "name": "stdout"
        }
      ]
    },
    {
      "cell_type": "code",
      "metadata": {
        "id": "QKrQfmUOuPct",
        "colab_type": "code",
        "colab": {
          "base_uri": "https://localhost:8080/",
          "height": 857
        },
        "outputId": "dc0ea905-9187-421d-cc33-d5a7d6d196a7"
      },
      "source": [
        "train['words_dict'] = tc.text_analytics.count_words(train['normalize_all_text'])\n",
        "train.materialize()\n",
        "\n",
        "test['words_dict'] = tc.text_analytics.count_words(test['normalize_all_text'])\n",
        "test.materialize()\n",
        "\n",
        "features_list = ['words_dict']\n",
        "words_cls = tc.classifier.create(train,features=features_list, target=\"sentiment\")"
      ],
      "execution_count": 24,
      "outputs": [
        {
          "output_type": "stream",
          "text": [
            "PROGRESS: Creating a validation set from 5 percent of training data. This may take a while.\n",
            "          You can set ``validation_set=None`` to disable validation tracking.\n",
            "\n",
            "PROGRESS: The following methods are available for this type of problem.\n",
            "PROGRESS: LogisticClassifier, SVMClassifier\n",
            "PROGRESS: The returned model will be chosen according to validation accuracy.\n"
          ],
          "name": "stdout"
        },
        {
          "output_type": "display_data",
          "data": {
            "text/html": [
              "<pre>Logistic regression:</pre>"
            ],
            "text/plain": [
              "Logistic regression:"
            ]
          },
          "metadata": {
            "tags": []
          }
        },
        {
          "output_type": "display_data",
          "data": {
            "text/html": [
              "<pre>--------------------------------------------------------</pre>"
            ],
            "text/plain": [
              "--------------------------------------------------------"
            ]
          },
          "metadata": {
            "tags": []
          }
        },
        {
          "output_type": "display_data",
          "data": {
            "text/html": [
              "<pre>Number of examples          : 7595</pre>"
            ],
            "text/plain": [
              "Number of examples          : 7595"
            ]
          },
          "metadata": {
            "tags": []
          }
        },
        {
          "output_type": "display_data",
          "data": {
            "text/html": [
              "<pre>Number of classes           : 2</pre>"
            ],
            "text/plain": [
              "Number of classes           : 2"
            ]
          },
          "metadata": {
            "tags": []
          }
        },
        {
          "output_type": "display_data",
          "data": {
            "text/html": [
              "<pre>Number of feature columns   : 1</pre>"
            ],
            "text/plain": [
              "Number of feature columns   : 1"
            ]
          },
          "metadata": {
            "tags": []
          }
        },
        {
          "output_type": "display_data",
          "data": {
            "text/html": [
              "<pre>Number of unpacked features : 18800</pre>"
            ],
            "text/plain": [
              "Number of unpacked features : 18800"
            ]
          },
          "metadata": {
            "tags": []
          }
        },
        {
          "output_type": "display_data",
          "data": {
            "text/html": [
              "<pre>Number of coefficients      : 18801</pre>"
            ],
            "text/plain": [
              "Number of coefficients      : 18801"
            ]
          },
          "metadata": {
            "tags": []
          }
        },
        {
          "output_type": "display_data",
          "data": {
            "text/html": [
              "<pre>Starting L-BFGS</pre>"
            ],
            "text/plain": [
              "Starting L-BFGS"
            ]
          },
          "metadata": {
            "tags": []
          }
        },
        {
          "output_type": "display_data",
          "data": {
            "text/html": [
              "<pre>--------------------------------------------------------</pre>"
            ],
            "text/plain": [
              "--------------------------------------------------------"
            ]
          },
          "metadata": {
            "tags": []
          }
        },
        {
          "output_type": "display_data",
          "data": {
            "text/html": [
              "<pre>+-----------+----------+-----------+--------------+-------------------+---------------------+</pre>"
            ],
            "text/plain": [
              "+-----------+----------+-----------+--------------+-------------------+---------------------+"
            ]
          },
          "metadata": {
            "tags": []
          }
        },
        {
          "output_type": "display_data",
          "data": {
            "text/html": [
              "<pre>| Iteration | Passes   | Step size | Elapsed Time | Training Accuracy | Validation Accuracy |</pre>"
            ],
            "text/plain": [
              "| Iteration | Passes   | Step size | Elapsed Time | Training Accuracy | Validation Accuracy |"
            ]
          },
          "metadata": {
            "tags": []
          }
        },
        {
          "output_type": "display_data",
          "data": {
            "text/html": [
              "<pre>+-----------+----------+-----------+--------------+-------------------+---------------------+</pre>"
            ],
            "text/plain": [
              "+-----------+----------+-----------+--------------+-------------------+---------------------+"
            ]
          },
          "metadata": {
            "tags": []
          }
        },
        {
          "output_type": "display_data",
          "data": {
            "text/html": [
              "<pre>| 0         | 2        | 1.000000  | 0.061169     | 0.945095          | 0.827500            |</pre>"
            ],
            "text/plain": [
              "| 0         | 2        | 1.000000  | 0.061169     | 0.945095          | 0.827500            |"
            ]
          },
          "metadata": {
            "tags": []
          }
        },
        {
          "output_type": "display_data",
          "data": {
            "text/html": [
              "<pre>| 1         | 4        | 1.000000  | 0.114233     | 0.960500          | 0.845000            |</pre>"
            ],
            "text/plain": [
              "| 1         | 4        | 1.000000  | 0.114233     | 0.960500          | 0.845000            |"
            ]
          },
          "metadata": {
            "tags": []
          }
        },
        {
          "output_type": "display_data",
          "data": {
            "text/html": [
              "<pre>| 2         | 6        | 0.771105  | 0.170207     | 0.984463          | 0.872500            |</pre>"
            ],
            "text/plain": [
              "| 2         | 6        | 0.771105  | 0.170207     | 0.984463          | 0.872500            |"
            ]
          },
          "metadata": {
            "tags": []
          }
        },
        {
          "output_type": "display_data",
          "data": {
            "text/html": [
              "<pre>| 3         | 8        | 0.771105  | 0.219773     | 0.993153          | 0.875000            |</pre>"
            ],
            "text/plain": [
              "| 3         | 8        | 0.771105  | 0.219773     | 0.993153          | 0.875000            |"
            ]
          },
          "metadata": {
            "tags": []
          }
        },
        {
          "output_type": "display_data",
          "data": {
            "text/html": [
              "<pre>| 4         | 9        | 0.963882  | 0.255253     | 0.997367          | 0.875000            |</pre>"
            ],
            "text/plain": [
              "| 4         | 9        | 0.963882  | 0.255253     | 0.997367          | 0.875000            |"
            ]
          },
          "metadata": {
            "tags": []
          }
        },
        {
          "output_type": "display_data",
          "data": {
            "text/html": [
              "<pre>| 9         | 15       | 1.000000  | 0.419372     | 1.000000          | 0.872500            |</pre>"
            ],
            "text/plain": [
              "| 9         | 15       | 1.000000  | 0.419372     | 1.000000          | 0.872500            |"
            ]
          },
          "metadata": {
            "tags": []
          }
        },
        {
          "output_type": "display_data",
          "data": {
            "text/html": [
              "<pre>+-----------+----------+-----------+--------------+-------------------+---------------------+</pre>"
            ],
            "text/plain": [
              "+-----------+----------+-----------+--------------+-------------------+---------------------+"
            ]
          },
          "metadata": {
            "tags": []
          }
        },
        {
          "output_type": "display_data",
          "data": {
            "text/html": [
              "<pre>SVM:</pre>"
            ],
            "text/plain": [
              "SVM:"
            ]
          },
          "metadata": {
            "tags": []
          }
        },
        {
          "output_type": "display_data",
          "data": {
            "text/html": [
              "<pre>--------------------------------------------------------</pre>"
            ],
            "text/plain": [
              "--------------------------------------------------------"
            ]
          },
          "metadata": {
            "tags": []
          }
        },
        {
          "output_type": "display_data",
          "data": {
            "text/html": [
              "<pre>Number of examples          : 7595</pre>"
            ],
            "text/plain": [
              "Number of examples          : 7595"
            ]
          },
          "metadata": {
            "tags": []
          }
        },
        {
          "output_type": "display_data",
          "data": {
            "text/html": [
              "<pre>Number of classes           : 2</pre>"
            ],
            "text/plain": [
              "Number of classes           : 2"
            ]
          },
          "metadata": {
            "tags": []
          }
        },
        {
          "output_type": "display_data",
          "data": {
            "text/html": [
              "<pre>Number of feature columns   : 1</pre>"
            ],
            "text/plain": [
              "Number of feature columns   : 1"
            ]
          },
          "metadata": {
            "tags": []
          }
        },
        {
          "output_type": "display_data",
          "data": {
            "text/html": [
              "<pre>Number of unpacked features : 18800</pre>"
            ],
            "text/plain": [
              "Number of unpacked features : 18800"
            ]
          },
          "metadata": {
            "tags": []
          }
        },
        {
          "output_type": "display_data",
          "data": {
            "text/html": [
              "<pre>Number of coefficients    : 18801</pre>"
            ],
            "text/plain": [
              "Number of coefficients    : 18801"
            ]
          },
          "metadata": {
            "tags": []
          }
        },
        {
          "output_type": "display_data",
          "data": {
            "text/html": [
              "<pre>Starting L-BFGS</pre>"
            ],
            "text/plain": [
              "Starting L-BFGS"
            ]
          },
          "metadata": {
            "tags": []
          }
        },
        {
          "output_type": "display_data",
          "data": {
            "text/html": [
              "<pre>--------------------------------------------------------</pre>"
            ],
            "text/plain": [
              "--------------------------------------------------------"
            ]
          },
          "metadata": {
            "tags": []
          }
        },
        {
          "output_type": "display_data",
          "data": {
            "text/html": [
              "<pre>+-----------+----------+-----------+--------------+-------------------+---------------------+</pre>"
            ],
            "text/plain": [
              "+-----------+----------+-----------+--------------+-------------------+---------------------+"
            ]
          },
          "metadata": {
            "tags": []
          }
        },
        {
          "output_type": "display_data",
          "data": {
            "text/html": [
              "<pre>| Iteration | Passes   | Step size | Elapsed Time | Training Accuracy | Validation Accuracy |</pre>"
            ],
            "text/plain": [
              "| Iteration | Passes   | Step size | Elapsed Time | Training Accuracy | Validation Accuracy |"
            ]
          },
          "metadata": {
            "tags": []
          }
        },
        {
          "output_type": "display_data",
          "data": {
            "text/html": [
              "<pre>+-----------+----------+-----------+--------------+-------------------+---------------------+</pre>"
            ],
            "text/plain": [
              "+-----------+----------+-----------+--------------+-------------------+---------------------+"
            ]
          },
          "metadata": {
            "tags": []
          }
        },
        {
          "output_type": "display_data",
          "data": {
            "text/html": [
              "<pre>| 0         | 2        | 1.000000  | 0.060037     | 0.945095          | 0.827500            |</pre>"
            ],
            "text/plain": [
              "| 0         | 2        | 1.000000  | 0.060037     | 0.945095          | 0.827500            |"
            ]
          },
          "metadata": {
            "tags": []
          }
        },
        {
          "output_type": "display_data",
          "data": {
            "text/html": [
              "<pre>| 1         | 4        | 1.000000  | 0.102509     | 0.972745          | 0.865000            |</pre>"
            ],
            "text/plain": [
              "| 1         | 4        | 1.000000  | 0.102509     | 0.972745          | 0.865000            |"
            ]
          },
          "metadata": {
            "tags": []
          }
        },
        {
          "output_type": "display_data",
          "data": {
            "text/html": [
              "<pre>| 2         | 6        | 0.783997  | 0.144412     | 0.985517          | 0.870000            |</pre>"
            ],
            "text/plain": [
              "| 2         | 6        | 0.783997  | 0.144412     | 0.985517          | 0.870000            |"
            ]
          },
          "metadata": {
            "tags": []
          }
        },
        {
          "output_type": "display_data",
          "data": {
            "text/html": [
              "<pre>| 3         | 7        | 0.979996  | 0.177575     | 0.992758          | 0.872500            |</pre>"
            ],
            "text/plain": [
              "| 3         | 7        | 0.979996  | 0.177575     | 0.992758          | 0.872500            |"
            ]
          },
          "metadata": {
            "tags": []
          }
        },
        {
          "output_type": "display_data",
          "data": {
            "text/html": [
              "<pre>| 4         | 8        | 1.000000  | 0.210455     | 0.995523          | 0.875000            |</pre>"
            ],
            "text/plain": [
              "| 4         | 8        | 1.000000  | 0.210455     | 0.995523          | 0.875000            |"
            ]
          },
          "metadata": {
            "tags": []
          }
        },
        {
          "output_type": "display_data",
          "data": {
            "text/html": [
              "<pre>| 9         | 13       | 1.000000  | 0.347740     | 0.999342          | 0.852500            |</pre>"
            ],
            "text/plain": [
              "| 9         | 13       | 1.000000  | 0.347740     | 0.999342          | 0.852500            |"
            ]
          },
          "metadata": {
            "tags": []
          }
        },
        {
          "output_type": "display_data",
          "data": {
            "text/html": [
              "<pre>+-----------+----------+-----------+--------------+-------------------+---------------------+</pre>"
            ],
            "text/plain": [
              "+-----------+----------+-----------+--------------+-------------------+---------------------+"
            ]
          },
          "metadata": {
            "tags": []
          }
        },
        {
          "output_type": "stream",
          "text": [
            "PROGRESS: Model selection based on validation accuracy:\n",
            "PROGRESS: ---------------------------------------------\n",
            "PROGRESS: LogisticClassifier              : 0.8725\n",
            "PROGRESS: SVMClassifier                   : 0.8525\n",
            "PROGRESS: ---------------------------------------------\n",
            "PROGRESS: Selecting LogisticClassifier based on validation set performance.\n"
          ],
          "name": "stdout"
        }
      ]
    },
    {
      "cell_type": "code",
      "metadata": {
        "id": "zSi0GbhBwSHZ",
        "colab_type": "code",
        "colab": {
          "base_uri": "https://localhost:8080/",
          "height": 857
        },
        "outputId": "8f7b6b29-0d1d-46ba-ea0a-11f44440a985"
      },
      "source": [
        "words_results = words_cls.evaluate(test)\n",
        "words_results"
      ],
      "execution_count": 25,
      "outputs": [
        {
          "output_type": "execute_result",
          "data": {
            "text/plain": [
              "{'accuracy': 0.9057356608478803,\n",
              " 'auc': 0.9563971884689025,\n",
              " 'confusion_matrix': Columns:\n",
              " \ttarget_label\tint\n",
              " \tpredicted_label\tint\n",
              " \tcount\tint\n",
              " \n",
              " Rows: 4\n",
              " \n",
              " Data:\n",
              " +--------------+-----------------+-------+\n",
              " | target_label | predicted_label | count |\n",
              " +--------------+-----------------+-------+\n",
              " |      0       |        0        |  920  |\n",
              " |      1       |        0        |  105  |\n",
              " |      1       |        1        |  896  |\n",
              " |      0       |        1        |   84  |\n",
              " +--------------+-----------------+-------+\n",
              " [4 rows x 3 columns],\n",
              " 'f1_score': 0.9045936395759717,\n",
              " 'log_loss': 0.422555172038779,\n",
              " 'precision': 0.9142857142857143,\n",
              " 'recall': 0.8951048951048951,\n",
              " 'roc_curve': Columns:\n",
              " \tthreshold\tfloat\n",
              " \tfpr\tfloat\n",
              " \ttpr\tfloat\n",
              " \tp\tint\n",
              " \tn\tint\n",
              " \n",
              " Rows: 100001\n",
              " \n",
              " Data:\n",
              " +-----------+--------------------+-------------------+------+------+\n",
              " | threshold |        fpr         |        tpr        |  p   |  n   |\n",
              " +-----------+--------------------+-------------------+------+------+\n",
              " |    0.0    |        1.0         |        1.0        | 1001 | 1004 |\n",
              " |   1e-05   | 0.7121513944223108 | 0.989010989010989 | 1001 | 1004 |\n",
              " |   2e-05   | 0.6802788844621513 | 0.989010989010989 | 1001 | 1004 |\n",
              " |   3e-05   | 0.6733067729083665 | 0.987012987012987 | 1001 | 1004 |\n",
              " |   4e-05   | 0.6593625498007968 | 0.987012987012987 | 1001 | 1004 |\n",
              " |   5e-05   | 0.650398406374502  | 0.986013986013986 | 1001 | 1004 |\n",
              " |   6e-05   | 0.6404382470119522 | 0.985014985014985 | 1001 | 1004 |\n",
              " |   7e-05   | 0.6304780876494024 | 0.984015984015984 | 1001 | 1004 |\n",
              " |   8e-05   | 0.6215139442231076 | 0.984015984015984 | 1001 | 1004 |\n",
              " |   9e-05   | 0.6155378486055777 | 0.984015984015984 | 1001 | 1004 |\n",
              " +-----------+--------------------+-------------------+------+------+\n",
              " [100001 rows x 5 columns]\n",
              " Note: Only the head of the SFrame is printed.\n",
              " You can use print_rows(num_rows=m, num_columns=n) to print more rows and columns.}"
            ]
          },
          "metadata": {
            "tags": []
          },
          "execution_count": 25
        }
      ]
    },
    {
      "cell_type": "markdown",
      "metadata": {
        "id": "chKUklQQbCyL",
        "colab_type": "text"
      },
      "source": [
        "**Question 2:** Construct a sentiment classifier using features from the [TextBlob package](https://textblob.readthedocs.io/en/dev/index.html),\n",
        "    and from the [affin package](https://pypi.org/project/afinn/). Compare the two classifiers results and visualize it (however you want) (20pt)"
      ]
    },
    {
      "cell_type": "code",
      "metadata": {
        "id": "QHYvAk8_PZTc",
        "colab_type": "code",
        "colab": {
          "base_uri": "https://localhost:8080/",
          "height": 67
        },
        "outputId": "8c57edc4-2d5e-4fcc-a458-c673d173970d"
      },
      "source": [
        "!pip install textblob"
      ],
      "execution_count": 11,
      "outputs": [
        {
          "output_type": "stream",
          "text": [
            "Requirement already satisfied: textblob in /usr/local/lib/python3.6/dist-packages (0.15.3)\n",
            "Requirement already satisfied: nltk>=3.1 in /usr/local/lib/python3.6/dist-packages (from textblob) (3.2.5)\n",
            "Requirement already satisfied: six in /usr/local/lib/python3.6/dist-packages (from nltk>=3.1->textblob) (1.12.0)\n"
          ],
          "name": "stdout"
        }
      ]
    },
    {
      "cell_type": "markdown",
      "metadata": {
        "id": "qek2NYjaZGnj",
        "colab_type": "text"
      },
      "source": [
        "Lets create classifier with all sentiment features"
      ]
    },
    {
      "cell_type": "code",
      "metadata": {
        "id": "sQjqxEZ5Ee9p",
        "colab_type": "code",
        "colab": {
          "base_uri": "https://localhost:8080/",
          "height": 50
        },
        "outputId": "7ece897c-f6fa-4776-c275-8a94de93fb7f"
      },
      "source": [
        "import nltk\n",
        "nltk.download('movie_reviews')\n",
        "from textblob import TextBlob\n",
        "from afinn import Afinn\n",
        "\n",
        "def get_textblob_features(text):\n",
        "  blob = TextBlob(text)\n",
        "  sentiment = blob.sentiment\n",
        "  return {'polarity': sentiment.polarity, 'subjectivity':sentiment.subjectivity}"
      ],
      "execution_count": 38,
      "outputs": [
        {
          "output_type": "stream",
          "text": [
            "[nltk_data] Downloading package movie_reviews to /root/nltk_data...\n",
            "[nltk_data]   Package movie_reviews is already up-to-date!\n"
          ],
          "name": "stdout"
        }
      ]
    },
    {
      "cell_type": "code",
      "metadata": {
        "id": "nfxAhdI7bCyM",
        "colab_type": "code",
        "colab": {
          "base_uri": "https://localhost:8080/",
          "height": 1000
        },
        "outputId": "6f12d0c9-a7da-447d-bb77-62ea162e4fb0"
      },
      "source": [
        "def get_sentiment_features(train, test):\n",
        "  afinn_text = Afinn()\n",
        "  train['afinn_score_text'] = train['normalize_all_text'].apply(lambda t: afinn_text.score(t))\n",
        "  test['afinn_score_text'] = test['normalize_all_text'].apply(lambda t: afinn_text.score(t))\n",
        "  train['textblob_score_text'] = train['normalize_all_text'].apply(lambda t: get_textblob_features(t))\n",
        "  test['textblob_score_text'] = test['normalize_all_text'].apply(lambda t: get_textblob_features(t))\n",
        "  return train, test\n",
        "\n",
        "# hold only required feild\n",
        "train_sentiment = train[['normalize_all_text', 'sentiment']].to_dataframe()\n",
        "test_sentiment = test[['normalize_all_text', 'sentiment']].to_dataframe()\n",
        "train_sentiment, test_sentiment = get_sentiment_features(train_sentiment, test_sentiment)\n",
        "\n",
        "\n",
        "features_list = ['afinn_score_text', 'textblob_score_text']\n",
        "cls_all_sentiment_features = tc.classifier.create(tc.SFrame(data=train_sentiment),features=features_list, target=\"sentiment\")"
      ],
      "execution_count": 13,
      "outputs": [
        {
          "output_type": "stream",
          "text": [
            "[nltk_data] Downloading package movie_reviews to /root/nltk_data...\n",
            "[nltk_data]   Package movie_reviews is already up-to-date!\n",
            "PROGRESS: Creating a validation set from 5 percent of training data. This may take a while.\n",
            "          You can set ``validation_set=None`` to disable validation tracking.\n",
            "\n",
            "PROGRESS: The following methods are available for this type of problem.\n",
            "PROGRESS: BoostedTreesClassifier, RandomForestClassifier, DecisionTreeClassifier, SVMClassifier, LogisticClassifier\n",
            "PROGRESS: The returned model will be chosen according to validation accuracy.\n"
          ],
          "name": "stdout"
        },
        {
          "output_type": "display_data",
          "data": {
            "text/html": [
              "<pre>Boosted trees classifier:</pre>"
            ],
            "text/plain": [
              "Boosted trees classifier:"
            ]
          },
          "metadata": {
            "tags": []
          }
        },
        {
          "output_type": "display_data",
          "data": {
            "text/html": [
              "<pre>--------------------------------------------------------</pre>"
            ],
            "text/plain": [
              "--------------------------------------------------------"
            ]
          },
          "metadata": {
            "tags": []
          }
        },
        {
          "output_type": "display_data",
          "data": {
            "text/html": [
              "<pre>Number of examples          : 7595</pre>"
            ],
            "text/plain": [
              "Number of examples          : 7595"
            ]
          },
          "metadata": {
            "tags": []
          }
        },
        {
          "output_type": "display_data",
          "data": {
            "text/html": [
              "<pre>Number of classes           : 2</pre>"
            ],
            "text/plain": [
              "Number of classes           : 2"
            ]
          },
          "metadata": {
            "tags": []
          }
        },
        {
          "output_type": "display_data",
          "data": {
            "text/html": [
              "<pre>Number of feature columns   : 2</pre>"
            ],
            "text/plain": [
              "Number of feature columns   : 2"
            ]
          },
          "metadata": {
            "tags": []
          }
        },
        {
          "output_type": "display_data",
          "data": {
            "text/html": [
              "<pre>Number of unpacked features : 3</pre>"
            ],
            "text/plain": [
              "Number of unpacked features : 3"
            ]
          },
          "metadata": {
            "tags": []
          }
        },
        {
          "output_type": "display_data",
          "data": {
            "text/html": [
              "<pre>+-----------+--------------+-------------------+---------------------+-------------------+---------------------+</pre>"
            ],
            "text/plain": [
              "+-----------+--------------+-------------------+---------------------+-------------------+---------------------+"
            ]
          },
          "metadata": {
            "tags": []
          }
        },
        {
          "output_type": "display_data",
          "data": {
            "text/html": [
              "<pre>| Iteration | Elapsed Time | Training Accuracy | Validation Accuracy | Training Log Loss | Validation Log Loss |</pre>"
            ],
            "text/plain": [
              "| Iteration | Elapsed Time | Training Accuracy | Validation Accuracy | Training Log Loss | Validation Log Loss |"
            ]
          },
          "metadata": {
            "tags": []
          }
        },
        {
          "output_type": "display_data",
          "data": {
            "text/html": [
              "<pre>+-----------+--------------+-------------------+---------------------+-------------------+---------------------+</pre>"
            ],
            "text/plain": [
              "+-----------+--------------+-------------------+---------------------+-------------------+---------------------+"
            ]
          },
          "metadata": {
            "tags": []
          }
        },
        {
          "output_type": "display_data",
          "data": {
            "text/html": [
              "<pre>| 1         | 0.009671     | 0.842528          | 0.832500            | 0.555134          | 0.555330            |</pre>"
            ],
            "text/plain": [
              "| 1         | 0.009671     | 0.842528          | 0.832500            | 0.555134          | 0.555330            |"
            ]
          },
          "metadata": {
            "tags": []
          }
        },
        {
          "output_type": "display_data",
          "data": {
            "text/html": [
              "<pre>| 2         | 0.020497     | 0.842923          | 0.850000            | 0.479104          | 0.479839            |</pre>"
            ],
            "text/plain": [
              "| 2         | 0.020497     | 0.842923          | 0.850000            | 0.479104          | 0.479839            |"
            ]
          },
          "metadata": {
            "tags": []
          }
        },
        {
          "output_type": "display_data",
          "data": {
            "text/html": [
              "<pre>| 3         | 0.027574     | 0.846741          | 0.840000            | 0.431708          | 0.435038            |</pre>"
            ],
            "text/plain": [
              "| 3         | 0.027574     | 0.846741          | 0.840000            | 0.431708          | 0.435038            |"
            ]
          },
          "metadata": {
            "tags": []
          }
        },
        {
          "output_type": "display_data",
          "data": {
            "text/html": [
              "<pre>| 4         | 0.034876     | 0.847400          | 0.842500            | 0.400845          | 0.409055            |</pre>"
            ],
            "text/plain": [
              "| 4         | 0.034876     | 0.847400          | 0.842500            | 0.400845          | 0.409055            |"
            ]
          },
          "metadata": {
            "tags": []
          }
        },
        {
          "output_type": "display_data",
          "data": {
            "text/html": [
              "<pre>| 5         | 0.042372     | 0.850691          | 0.850000            | 0.380224          | 0.390706            |</pre>"
            ],
            "text/plain": [
              "| 5         | 0.042372     | 0.850691          | 0.850000            | 0.380224          | 0.390706            |"
            ]
          },
          "metadata": {
            "tags": []
          }
        },
        {
          "output_type": "display_data",
          "data": {
            "text/html": [
              "<pre>| 10        | 0.077759     | 0.854641          | 0.847500            | 0.336361          | 0.368459            |</pre>"
            ],
            "text/plain": [
              "| 10        | 0.077759     | 0.854641          | 0.847500            | 0.336361          | 0.368459            |"
            ]
          },
          "metadata": {
            "tags": []
          }
        },
        {
          "output_type": "display_data",
          "data": {
            "text/html": [
              "<pre>+-----------+--------------+-------------------+---------------------+-------------------+---------------------+</pre>"
            ],
            "text/plain": [
              "+-----------+--------------+-------------------+---------------------+-------------------+---------------------+"
            ]
          },
          "metadata": {
            "tags": []
          }
        },
        {
          "output_type": "display_data",
          "data": {
            "text/html": [
              "<pre>Random forest classifier:</pre>"
            ],
            "text/plain": [
              "Random forest classifier:"
            ]
          },
          "metadata": {
            "tags": []
          }
        },
        {
          "output_type": "display_data",
          "data": {
            "text/html": [
              "<pre>--------------------------------------------------------</pre>"
            ],
            "text/plain": [
              "--------------------------------------------------------"
            ]
          },
          "metadata": {
            "tags": []
          }
        },
        {
          "output_type": "display_data",
          "data": {
            "text/html": [
              "<pre>Number of examples          : 7595</pre>"
            ],
            "text/plain": [
              "Number of examples          : 7595"
            ]
          },
          "metadata": {
            "tags": []
          }
        },
        {
          "output_type": "display_data",
          "data": {
            "text/html": [
              "<pre>Number of classes           : 2</pre>"
            ],
            "text/plain": [
              "Number of classes           : 2"
            ]
          },
          "metadata": {
            "tags": []
          }
        },
        {
          "output_type": "display_data",
          "data": {
            "text/html": [
              "<pre>Number of feature columns   : 2</pre>"
            ],
            "text/plain": [
              "Number of feature columns   : 2"
            ]
          },
          "metadata": {
            "tags": []
          }
        },
        {
          "output_type": "display_data",
          "data": {
            "text/html": [
              "<pre>Number of unpacked features : 3</pre>"
            ],
            "text/plain": [
              "Number of unpacked features : 3"
            ]
          },
          "metadata": {
            "tags": []
          }
        },
        {
          "output_type": "display_data",
          "data": {
            "text/html": [
              "<pre>+-----------+--------------+-------------------+---------------------+-------------------+---------------------+</pre>"
            ],
            "text/plain": [
              "+-----------+--------------+-------------------+---------------------+-------------------+---------------------+"
            ]
          },
          "metadata": {
            "tags": []
          }
        },
        {
          "output_type": "display_data",
          "data": {
            "text/html": [
              "<pre>| Iteration | Elapsed Time | Training Accuracy | Validation Accuracy | Training Log Loss | Validation Log Loss |</pre>"
            ],
            "text/plain": [
              "| Iteration | Elapsed Time | Training Accuracy | Validation Accuracy | Training Log Loss | Validation Log Loss |"
            ]
          },
          "metadata": {
            "tags": []
          }
        },
        {
          "output_type": "display_data",
          "data": {
            "text/html": [
              "<pre>+-----------+--------------+-------------------+---------------------+-------------------+---------------------+</pre>"
            ],
            "text/plain": [
              "+-----------+--------------+-------------------+---------------------+-------------------+---------------------+"
            ]
          },
          "metadata": {
            "tags": []
          }
        },
        {
          "output_type": "display_data",
          "data": {
            "text/html": [
              "<pre>| 1         | 0.008822     | 0.836603          | 0.825000            | 0.400316          | 0.403814            |</pre>"
            ],
            "text/plain": [
              "| 1         | 0.008822     | 0.836603          | 0.825000            | 0.400316          | 0.403814            |"
            ]
          },
          "metadata": {
            "tags": []
          }
        },
        {
          "output_type": "display_data",
          "data": {
            "text/html": [
              "<pre>| 2         | 0.016101     | 0.838710          | 0.825000            | 0.403133          | 0.411227            |</pre>"
            ],
            "text/plain": [
              "| 2         | 0.016101     | 0.838710          | 0.825000            | 0.403133          | 0.411227            |"
            ]
          },
          "metadata": {
            "tags": []
          }
        },
        {
          "output_type": "display_data",
          "data": {
            "text/html": [
              "<pre>| 3         | 0.023674     | 0.834365          | 0.812500            | 0.407000          | 0.418744            |</pre>"
            ],
            "text/plain": [
              "| 3         | 0.023674     | 0.834365          | 0.812500            | 0.407000          | 0.418744            |"
            ]
          },
          "metadata": {
            "tags": []
          }
        },
        {
          "output_type": "display_data",
          "data": {
            "text/html": [
              "<pre>| 4         | 0.030552     | 0.843581          | 0.817500            | 0.404476          | 0.409824            |</pre>"
            ],
            "text/plain": [
              "| 4         | 0.030552     | 0.843581          | 0.817500            | 0.404476          | 0.409824            |"
            ]
          },
          "metadata": {
            "tags": []
          }
        },
        {
          "output_type": "display_data",
          "data": {
            "text/html": [
              "<pre>| 5         | 0.037961     | 0.843055          | 0.830000            | 0.405217          | 0.409813            |</pre>"
            ],
            "text/plain": [
              "| 5         | 0.037961     | 0.843055          | 0.830000            | 0.405217          | 0.409813            |"
            ]
          },
          "metadata": {
            "tags": []
          }
        },
        {
          "output_type": "display_data",
          "data": {
            "text/html": [
              "<pre>| 10        | 0.074360     | 0.841606          | 0.827500            | 0.404746          | 0.409980            |</pre>"
            ],
            "text/plain": [
              "| 10        | 0.074360     | 0.841606          | 0.827500            | 0.404746          | 0.409980            |"
            ]
          },
          "metadata": {
            "tags": []
          }
        },
        {
          "output_type": "display_data",
          "data": {
            "text/html": [
              "<pre>+-----------+--------------+-------------------+---------------------+-------------------+---------------------+</pre>"
            ],
            "text/plain": [
              "+-----------+--------------+-------------------+---------------------+-------------------+---------------------+"
            ]
          },
          "metadata": {
            "tags": []
          }
        },
        {
          "output_type": "display_data",
          "data": {
            "text/html": [
              "<pre>Decision tree classifier:</pre>"
            ],
            "text/plain": [
              "Decision tree classifier:"
            ]
          },
          "metadata": {
            "tags": []
          }
        },
        {
          "output_type": "display_data",
          "data": {
            "text/html": [
              "<pre>--------------------------------------------------------</pre>"
            ],
            "text/plain": [
              "--------------------------------------------------------"
            ]
          },
          "metadata": {
            "tags": []
          }
        },
        {
          "output_type": "display_data",
          "data": {
            "text/html": [
              "<pre>Number of examples          : 7595</pre>"
            ],
            "text/plain": [
              "Number of examples          : 7595"
            ]
          },
          "metadata": {
            "tags": []
          }
        },
        {
          "output_type": "display_data",
          "data": {
            "text/html": [
              "<pre>Number of classes           : 2</pre>"
            ],
            "text/plain": [
              "Number of classes           : 2"
            ]
          },
          "metadata": {
            "tags": []
          }
        },
        {
          "output_type": "display_data",
          "data": {
            "text/html": [
              "<pre>Number of feature columns   : 2</pre>"
            ],
            "text/plain": [
              "Number of feature columns   : 2"
            ]
          },
          "metadata": {
            "tags": []
          }
        },
        {
          "output_type": "display_data",
          "data": {
            "text/html": [
              "<pre>Number of unpacked features : 3</pre>"
            ],
            "text/plain": [
              "Number of unpacked features : 3"
            ]
          },
          "metadata": {
            "tags": []
          }
        },
        {
          "output_type": "display_data",
          "data": {
            "text/html": [
              "<pre>+-----------+--------------+-------------------+---------------------+-------------------+---------------------+</pre>"
            ],
            "text/plain": [
              "+-----------+--------------+-------------------+---------------------+-------------------+---------------------+"
            ]
          },
          "metadata": {
            "tags": []
          }
        },
        {
          "output_type": "display_data",
          "data": {
            "text/html": [
              "<pre>| Iteration | Elapsed Time | Training Accuracy | Validation Accuracy | Training Log Loss | Validation Log Loss |</pre>"
            ],
            "text/plain": [
              "| Iteration | Elapsed Time | Training Accuracy | Validation Accuracy | Training Log Loss | Validation Log Loss |"
            ]
          },
          "metadata": {
            "tags": []
          }
        },
        {
          "output_type": "display_data",
          "data": {
            "text/html": [
              "<pre>+-----------+--------------+-------------------+---------------------+-------------------+---------------------+</pre>"
            ],
            "text/plain": [
              "+-----------+--------------+-------------------+---------------------+-------------------+---------------------+"
            ]
          },
          "metadata": {
            "tags": []
          }
        },
        {
          "output_type": "display_data",
          "data": {
            "text/html": [
              "<pre>| 1         | 0.009413     | 0.842528          | 0.832500            | 0.393439          | 0.397539            |</pre>"
            ],
            "text/plain": [
              "| 1         | 0.009413     | 0.842528          | 0.832500            | 0.393439          | 0.397539            |"
            ]
          },
          "metadata": {
            "tags": []
          }
        },
        {
          "output_type": "display_data",
          "data": {
            "text/html": [
              "<pre>+-----------+--------------+-------------------+---------------------+-------------------+---------------------+</pre>"
            ],
            "text/plain": [
              "+-----------+--------------+-------------------+---------------------+-------------------+---------------------+"
            ]
          },
          "metadata": {
            "tags": []
          }
        },
        {
          "output_type": "display_data",
          "data": {
            "text/html": [
              "<pre>SVM:</pre>"
            ],
            "text/plain": [
              "SVM:"
            ]
          },
          "metadata": {
            "tags": []
          }
        },
        {
          "output_type": "display_data",
          "data": {
            "text/html": [
              "<pre>--------------------------------------------------------</pre>"
            ],
            "text/plain": [
              "--------------------------------------------------------"
            ]
          },
          "metadata": {
            "tags": []
          }
        },
        {
          "output_type": "display_data",
          "data": {
            "text/html": [
              "<pre>Number of examples          : 7595</pre>"
            ],
            "text/plain": [
              "Number of examples          : 7595"
            ]
          },
          "metadata": {
            "tags": []
          }
        },
        {
          "output_type": "display_data",
          "data": {
            "text/html": [
              "<pre>Number of classes           : 2</pre>"
            ],
            "text/plain": [
              "Number of classes           : 2"
            ]
          },
          "metadata": {
            "tags": []
          }
        },
        {
          "output_type": "display_data",
          "data": {
            "text/html": [
              "<pre>Number of feature columns   : 2</pre>"
            ],
            "text/plain": [
              "Number of feature columns   : 2"
            ]
          },
          "metadata": {
            "tags": []
          }
        },
        {
          "output_type": "display_data",
          "data": {
            "text/html": [
              "<pre>Number of unpacked features : 3</pre>"
            ],
            "text/plain": [
              "Number of unpacked features : 3"
            ]
          },
          "metadata": {
            "tags": []
          }
        },
        {
          "output_type": "display_data",
          "data": {
            "text/html": [
              "<pre>Number of coefficients    : 4</pre>"
            ],
            "text/plain": [
              "Number of coefficients    : 4"
            ]
          },
          "metadata": {
            "tags": []
          }
        },
        {
          "output_type": "display_data",
          "data": {
            "text/html": [
              "<pre>Starting L-BFGS</pre>"
            ],
            "text/plain": [
              "Starting L-BFGS"
            ]
          },
          "metadata": {
            "tags": []
          }
        },
        {
          "output_type": "display_data",
          "data": {
            "text/html": [
              "<pre>--------------------------------------------------------</pre>"
            ],
            "text/plain": [
              "--------------------------------------------------------"
            ]
          },
          "metadata": {
            "tags": []
          }
        },
        {
          "output_type": "display_data",
          "data": {
            "text/html": [
              "<pre>+-----------+----------+-----------+--------------+-------------------+---------------------+</pre>"
            ],
            "text/plain": [
              "+-----------+----------+-----------+--------------+-------------------+---------------------+"
            ]
          },
          "metadata": {
            "tags": []
          }
        },
        {
          "output_type": "display_data",
          "data": {
            "text/html": [
              "<pre>| Iteration | Passes   | Step size | Elapsed Time | Training Accuracy | Validation Accuracy |</pre>"
            ],
            "text/plain": [
              "| Iteration | Passes   | Step size | Elapsed Time | Training Accuracy | Validation Accuracy |"
            ]
          },
          "metadata": {
            "tags": []
          }
        },
        {
          "output_type": "display_data",
          "data": {
            "text/html": [
              "<pre>+-----------+----------+-----------+--------------+-------------------+---------------------+</pre>"
            ],
            "text/plain": [
              "+-----------+----------+-----------+--------------+-------------------+---------------------+"
            ]
          },
          "metadata": {
            "tags": []
          }
        },
        {
          "output_type": "display_data",
          "data": {
            "text/html": [
              "<pre>| 0         | 2        | 1.000000  | 0.022981     | 0.711389          | 0.722500            |</pre>"
            ],
            "text/plain": [
              "| 0         | 2        | 1.000000  | 0.022981     | 0.711389          | 0.722500            |"
            ]
          },
          "metadata": {
            "tags": []
          }
        },
        {
          "output_type": "display_data",
          "data": {
            "text/html": [
              "<pre>| 1         | 4        | 1.000000  | 0.035879     | 0.792495          | 0.795000            |</pre>"
            ],
            "text/plain": [
              "| 1         | 4        | 1.000000  | 0.035879     | 0.792495          | 0.795000            |"
            ]
          },
          "metadata": {
            "tags": []
          }
        },
        {
          "output_type": "display_data",
          "data": {
            "text/html": [
              "<pre>| 2         | 6        | 0.891037  | 0.044410     | 0.816722          | 0.817500            |</pre>"
            ],
            "text/plain": [
              "| 2         | 6        | 0.891037  | 0.044410     | 0.816722          | 0.817500            |"
            ]
          },
          "metadata": {
            "tags": []
          }
        },
        {
          "output_type": "display_data",
          "data": {
            "text/html": [
              "<pre>| 3         | 8        | 0.891037  | 0.057651     | 0.821198          | 0.842500            |</pre>"
            ],
            "text/plain": [
              "| 3         | 8        | 0.891037  | 0.057651     | 0.821198          | 0.842500            |"
            ]
          },
          "metadata": {
            "tags": []
          }
        },
        {
          "output_type": "display_data",
          "data": {
            "text/html": [
              "<pre>| 4         | 9        | 1.000000  | 0.064222     | 0.820671          | 0.837500            |</pre>"
            ],
            "text/plain": [
              "| 4         | 9        | 1.000000  | 0.064222     | 0.820671          | 0.837500            |"
            ]
          },
          "metadata": {
            "tags": []
          }
        },
        {
          "output_type": "display_data",
          "data": {
            "text/html": [
              "<pre>| 9         | 14       | 1.000000  | 0.090332     | 0.823700          | 0.832500            |</pre>"
            ],
            "text/plain": [
              "| 9         | 14       | 1.000000  | 0.090332     | 0.823700          | 0.832500            |"
            ]
          },
          "metadata": {
            "tags": []
          }
        },
        {
          "output_type": "display_data",
          "data": {
            "text/html": [
              "<pre>+-----------+----------+-----------+--------------+-------------------+---------------------+</pre>"
            ],
            "text/plain": [
              "+-----------+----------+-----------+--------------+-------------------+---------------------+"
            ]
          },
          "metadata": {
            "tags": []
          }
        },
        {
          "output_type": "display_data",
          "data": {
            "text/html": [
              "<pre>Logistic regression:</pre>"
            ],
            "text/plain": [
              "Logistic regression:"
            ]
          },
          "metadata": {
            "tags": []
          }
        },
        {
          "output_type": "display_data",
          "data": {
            "text/html": [
              "<pre>--------------------------------------------------------</pre>"
            ],
            "text/plain": [
              "--------------------------------------------------------"
            ]
          },
          "metadata": {
            "tags": []
          }
        },
        {
          "output_type": "display_data",
          "data": {
            "text/html": [
              "<pre>Number of examples          : 7595</pre>"
            ],
            "text/plain": [
              "Number of examples          : 7595"
            ]
          },
          "metadata": {
            "tags": []
          }
        },
        {
          "output_type": "display_data",
          "data": {
            "text/html": [
              "<pre>Number of classes           : 2</pre>"
            ],
            "text/plain": [
              "Number of classes           : 2"
            ]
          },
          "metadata": {
            "tags": []
          }
        },
        {
          "output_type": "display_data",
          "data": {
            "text/html": [
              "<pre>Number of feature columns   : 2</pre>"
            ],
            "text/plain": [
              "Number of feature columns   : 2"
            ]
          },
          "metadata": {
            "tags": []
          }
        },
        {
          "output_type": "display_data",
          "data": {
            "text/html": [
              "<pre>Number of unpacked features : 3</pre>"
            ],
            "text/plain": [
              "Number of unpacked features : 3"
            ]
          },
          "metadata": {
            "tags": []
          }
        },
        {
          "output_type": "display_data",
          "data": {
            "text/html": [
              "<pre>Number of coefficients      : 4</pre>"
            ],
            "text/plain": [
              "Number of coefficients      : 4"
            ]
          },
          "metadata": {
            "tags": []
          }
        },
        {
          "output_type": "display_data",
          "data": {
            "text/html": [
              "<pre>Starting Newton Method</pre>"
            ],
            "text/plain": [
              "Starting Newton Method"
            ]
          },
          "metadata": {
            "tags": []
          }
        },
        {
          "output_type": "display_data",
          "data": {
            "text/html": [
              "<pre>--------------------------------------------------------</pre>"
            ],
            "text/plain": [
              "--------------------------------------------------------"
            ]
          },
          "metadata": {
            "tags": []
          }
        },
        {
          "output_type": "display_data",
          "data": {
            "text/html": [
              "<pre>+-----------+----------+--------------+-------------------+---------------------+</pre>"
            ],
            "text/plain": [
              "+-----------+----------+--------------+-------------------+---------------------+"
            ]
          },
          "metadata": {
            "tags": []
          }
        },
        {
          "output_type": "display_data",
          "data": {
            "text/html": [
              "<pre>| Iteration | Passes   | Elapsed Time | Training Accuracy | Validation Accuracy |</pre>"
            ],
            "text/plain": [
              "| Iteration | Passes   | Elapsed Time | Training Accuracy | Validation Accuracy |"
            ]
          },
          "metadata": {
            "tags": []
          }
        },
        {
          "output_type": "display_data",
          "data": {
            "text/html": [
              "<pre>+-----------+----------+--------------+-------------------+---------------------+</pre>"
            ],
            "text/plain": [
              "+-----------+----------+--------------+-------------------+---------------------+"
            ]
          },
          "metadata": {
            "tags": []
          }
        },
        {
          "output_type": "display_data",
          "data": {
            "text/html": [
              "<pre>| 1         | 2        | 0.017753     | 0.823173          | 0.845000            |</pre>"
            ],
            "text/plain": [
              "| 1         | 2        | 0.017753     | 0.823173          | 0.845000            |"
            ]
          },
          "metadata": {
            "tags": []
          }
        },
        {
          "output_type": "display_data",
          "data": {
            "text/html": [
              "<pre>| 2         | 3        | 0.030301     | 0.821593          | 0.835000            |</pre>"
            ],
            "text/plain": [
              "| 2         | 3        | 0.030301     | 0.821593          | 0.835000            |"
            ]
          },
          "metadata": {
            "tags": []
          }
        },
        {
          "output_type": "display_data",
          "data": {
            "text/html": [
              "<pre>| 3         | 4        | 0.044086     | 0.823305          | 0.835000            |</pre>"
            ],
            "text/plain": [
              "| 3         | 4        | 0.044086     | 0.823305          | 0.835000            |"
            ]
          },
          "metadata": {
            "tags": []
          }
        },
        {
          "output_type": "display_data",
          "data": {
            "text/html": [
              "<pre>| 4         | 5        | 0.057674     | 0.823568          | 0.835000            |</pre>"
            ],
            "text/plain": [
              "| 4         | 5        | 0.057674     | 0.823568          | 0.835000            |"
            ]
          },
          "metadata": {
            "tags": []
          }
        },
        {
          "output_type": "display_data",
          "data": {
            "text/html": [
              "<pre>| 5         | 6        | 0.070021     | 0.823568          | 0.835000            |</pre>"
            ],
            "text/plain": [
              "| 5         | 6        | 0.070021     | 0.823568          | 0.835000            |"
            ]
          },
          "metadata": {
            "tags": []
          }
        },
        {
          "output_type": "display_data",
          "data": {
            "text/html": [
              "<pre>+-----------+----------+--------------+-------------------+---------------------+</pre>"
            ],
            "text/plain": [
              "+-----------+----------+--------------+-------------------+---------------------+"
            ]
          },
          "metadata": {
            "tags": []
          }
        },
        {
          "output_type": "display_data",
          "data": {
            "text/html": [
              "<pre>SUCCESS: Optimal solution found.</pre>"
            ],
            "text/plain": [
              "SUCCESS: Optimal solution found."
            ]
          },
          "metadata": {
            "tags": []
          }
        },
        {
          "output_type": "display_data",
          "data": {
            "text/html": [
              "<pre></pre>"
            ],
            "text/plain": [
              ""
            ]
          },
          "metadata": {
            "tags": []
          }
        },
        {
          "output_type": "stream",
          "text": [
            "PROGRESS: Model selection based on validation accuracy:\n",
            "PROGRESS: ---------------------------------------------\n",
            "PROGRESS: BoostedTreesClassifier          : 0.8475\n",
            "PROGRESS: RandomForestClassifier          : 0.8275\n",
            "PROGRESS: DecisionTreeClassifier          : 0.83\n",
            "PROGRESS: SVMClassifier                   : 0.8325\n",
            "PROGRESS: LogisticClassifier              : 0.835\n",
            "PROGRESS: ---------------------------------------------\n",
            "PROGRESS: Selecting BoostedTreesClassifier based on validation set performance.\n"
          ],
          "name": "stdout"
        }
      ]
    },
    {
      "cell_type": "code",
      "metadata": {
        "id": "XFNZN7Sr1XxL",
        "colab_type": "code",
        "colab": {
          "base_uri": "https://localhost:8080/",
          "height": 857
        },
        "outputId": "081ac381-1d4f-4398-c31c-52d9269931fa"
      },
      "source": [
        "all_sentiment_results = cls_all_sentiment_features.evaluate(tc.SFrame(data=test_sentiment))\n",
        "all_sentiment_results"
      ],
      "execution_count": 16,
      "outputs": [
        {
          "output_type": "execute_result",
          "data": {
            "text/plain": [
              "{'accuracy': 0.8244389027431421,\n",
              " 'auc': 0.8989183127629337,\n",
              " 'confusion_matrix': Columns:\n",
              " \ttarget_label\tint\n",
              " \tpredicted_label\tint\n",
              " \tcount\tint\n",
              " \n",
              " Rows: 4\n",
              " \n",
              " Data:\n",
              " +--------------+-----------------+-------+\n",
              " | target_label | predicted_label | count |\n",
              " +--------------+-----------------+-------+\n",
              " |      0       |        0        |  814  |\n",
              " |      1       |        0        |  162  |\n",
              " |      1       |        1        |  839  |\n",
              " |      0       |        1        |  190  |\n",
              " +--------------+-----------------+-------+\n",
              " [4 rows x 3 columns],\n",
              " 'f1_score': 0.8266009852216749,\n",
              " 'log_loss': 0.40290339252326707,\n",
              " 'precision': 0.815354713313897,\n",
              " 'recall': 0.8381618381618382,\n",
              " 'roc_curve': Columns:\n",
              " \tthreshold\tfloat\n",
              " \tfpr\tfloat\n",
              " \ttpr\tfloat\n",
              " \tp\tint\n",
              " \tn\tint\n",
              " \n",
              " Rows: 100001\n",
              " \n",
              " Data:\n",
              " +-----------+-----+-----+------+------+\n",
              " | threshold | fpr | tpr |  p   |  n   |\n",
              " +-----------+-----+-----+------+------+\n",
              " |    0.0    | 1.0 | 1.0 | 1001 | 1004 |\n",
              " |   1e-05   | 1.0 | 1.0 | 1001 | 1004 |\n",
              " |   2e-05   | 1.0 | 1.0 | 1001 | 1004 |\n",
              " |   3e-05   | 1.0 | 1.0 | 1001 | 1004 |\n",
              " |   4e-05   | 1.0 | 1.0 | 1001 | 1004 |\n",
              " |   5e-05   | 1.0 | 1.0 | 1001 | 1004 |\n",
              " |   6e-05   | 1.0 | 1.0 | 1001 | 1004 |\n",
              " |   7e-05   | 1.0 | 1.0 | 1001 | 1004 |\n",
              " |   8e-05   | 1.0 | 1.0 | 1001 | 1004 |\n",
              " |   9e-05   | 1.0 | 1.0 | 1001 | 1004 |\n",
              " +-----------+-----+-----+------+------+\n",
              " [100001 rows x 5 columns]\n",
              " Note: Only the head of the SFrame is printed.\n",
              " You can use print_rows(num_rows=m, num_columns=n) to print more rows and columns.}"
            ]
          },
          "metadata": {
            "tags": []
          },
          "execution_count": 16
        }
      ]
    },
    {
      "cell_type": "markdown",
      "metadata": {
        "id": "lnmrZsEfb-CT",
        "colab_type": "text"
      },
      "source": [
        "Lets check which sentiment features perform better on our dataset, first we will examine the Afinn sentiment feature"
      ]
    },
    {
      "cell_type": "code",
      "metadata": {
        "id": "mpxcwayxb7iF",
        "colab_type": "code",
        "colab": {
          "base_uri": "https://localhost:8080/",
          "height": 1000
        },
        "outputId": "643bc699-2529-4b2b-b5f0-689a8b5ced75"
      },
      "source": [
        "features_list = ['afinn_score_text']\n",
        "cls_only_afinn_sentiment_feature = tc.classifier.create(tc.SFrame(data=train_sentiment),features=features_list, target=\"sentiment\")"
      ],
      "execution_count": 17,
      "outputs": [
        {
          "output_type": "stream",
          "text": [
            "PROGRESS: Creating a validation set from 5 percent of training data. This may take a while.\n",
            "          You can set ``validation_set=None`` to disable validation tracking.\n",
            "\n",
            "PROGRESS: The following methods are available for this type of problem.\n",
            "PROGRESS: BoostedTreesClassifier, RandomForestClassifier, DecisionTreeClassifier, SVMClassifier, LogisticClassifier\n",
            "PROGRESS: The returned model will be chosen according to validation accuracy.\n"
          ],
          "name": "stdout"
        },
        {
          "output_type": "display_data",
          "data": {
            "text/html": [
              "<pre>Boosted trees classifier:</pre>"
            ],
            "text/plain": [
              "Boosted trees classifier:"
            ]
          },
          "metadata": {
            "tags": []
          }
        },
        {
          "output_type": "display_data",
          "data": {
            "text/html": [
              "<pre>--------------------------------------------------------</pre>"
            ],
            "text/plain": [
              "--------------------------------------------------------"
            ]
          },
          "metadata": {
            "tags": []
          }
        },
        {
          "output_type": "display_data",
          "data": {
            "text/html": [
              "<pre>Number of examples          : 7595</pre>"
            ],
            "text/plain": [
              "Number of examples          : 7595"
            ]
          },
          "metadata": {
            "tags": []
          }
        },
        {
          "output_type": "display_data",
          "data": {
            "text/html": [
              "<pre>Number of classes           : 2</pre>"
            ],
            "text/plain": [
              "Number of classes           : 2"
            ]
          },
          "metadata": {
            "tags": []
          }
        },
        {
          "output_type": "display_data",
          "data": {
            "text/html": [
              "<pre>Number of feature columns   : 1</pre>"
            ],
            "text/plain": [
              "Number of feature columns   : 1"
            ]
          },
          "metadata": {
            "tags": []
          }
        },
        {
          "output_type": "display_data",
          "data": {
            "text/html": [
              "<pre>Number of unpacked features : 1</pre>"
            ],
            "text/plain": [
              "Number of unpacked features : 1"
            ]
          },
          "metadata": {
            "tags": []
          }
        },
        {
          "output_type": "display_data",
          "data": {
            "text/html": [
              "<pre>+-----------+--------------+-------------------+---------------------+-------------------+---------------------+</pre>"
            ],
            "text/plain": [
              "+-----------+--------------+-------------------+---------------------+-------------------+---------------------+"
            ]
          },
          "metadata": {
            "tags": []
          }
        },
        {
          "output_type": "display_data",
          "data": {
            "text/html": [
              "<pre>| Iteration | Elapsed Time | Training Accuracy | Validation Accuracy | Training Log Loss | Validation Log Loss |</pre>"
            ],
            "text/plain": [
              "| Iteration | Elapsed Time | Training Accuracy | Validation Accuracy | Training Log Loss | Validation Log Loss |"
            ]
          },
          "metadata": {
            "tags": []
          }
        },
        {
          "output_type": "display_data",
          "data": {
            "text/html": [
              "<pre>+-----------+--------------+-------------------+---------------------+-------------------+---------------------+</pre>"
            ],
            "text/plain": [
              "+-----------+--------------+-------------------+---------------------+-------------------+---------------------+"
            ]
          },
          "metadata": {
            "tags": []
          }
        },
        {
          "output_type": "display_data",
          "data": {
            "text/html": [
              "<pre>| 1         | 0.011676     | 0.792627          | 0.787500            | 0.589683          | 0.592802            |</pre>"
            ],
            "text/plain": [
              "| 1         | 0.011676     | 0.792627          | 0.787500            | 0.589683          | 0.592802            |"
            ]
          },
          "metadata": {
            "tags": []
          }
        },
        {
          "output_type": "display_data",
          "data": {
            "text/html": [
              "<pre>| 2         | 0.017822     | 0.792627          | 0.787500            | 0.534926          | 0.540608            |</pre>"
            ],
            "text/plain": [
              "| 2         | 0.017822     | 0.792627          | 0.787500            | 0.534926          | 0.540608            |"
            ]
          },
          "metadata": {
            "tags": []
          }
        },
        {
          "output_type": "display_data",
          "data": {
            "text/html": [
              "<pre>| 3         | 0.023980     | 0.792495          | 0.790000            | 0.503554          | 0.511070            |</pre>"
            ],
            "text/plain": [
              "| 3         | 0.023980     | 0.792495          | 0.790000            | 0.503554          | 0.511070            |"
            ]
          },
          "metadata": {
            "tags": []
          }
        },
        {
          "output_type": "display_data",
          "data": {
            "text/html": [
              "<pre>| 4         | 0.029896     | 0.792495          | 0.790000            | 0.484964          | 0.493957            |</pre>"
            ],
            "text/plain": [
              "| 4         | 0.029896     | 0.792495          | 0.790000            | 0.484964          | 0.493957            |"
            ]
          },
          "metadata": {
            "tags": []
          }
        },
        {
          "output_type": "display_data",
          "data": {
            "text/html": [
              "<pre>| 5         | 0.036427     | 0.792495          | 0.790000            | 0.473779          | 0.484400            |</pre>"
            ],
            "text/plain": [
              "| 5         | 0.036427     | 0.792495          | 0.790000            | 0.473779          | 0.484400            |"
            ]
          },
          "metadata": {
            "tags": []
          }
        },
        {
          "output_type": "display_data",
          "data": {
            "text/html": [
              "<pre>| 10        | 0.061575     | 0.792495          | 0.790000            | 0.457616          | 0.471378            |</pre>"
            ],
            "text/plain": [
              "| 10        | 0.061575     | 0.792495          | 0.790000            | 0.457616          | 0.471378            |"
            ]
          },
          "metadata": {
            "tags": []
          }
        },
        {
          "output_type": "display_data",
          "data": {
            "text/html": [
              "<pre>+-----------+--------------+-------------------+---------------------+-------------------+---------------------+</pre>"
            ],
            "text/plain": [
              "+-----------+--------------+-------------------+---------------------+-------------------+---------------------+"
            ]
          },
          "metadata": {
            "tags": []
          }
        },
        {
          "output_type": "display_data",
          "data": {
            "text/html": [
              "<pre>Random forest classifier:</pre>"
            ],
            "text/plain": [
              "Random forest classifier:"
            ]
          },
          "metadata": {
            "tags": []
          }
        },
        {
          "output_type": "display_data",
          "data": {
            "text/html": [
              "<pre>--------------------------------------------------------</pre>"
            ],
            "text/plain": [
              "--------------------------------------------------------"
            ]
          },
          "metadata": {
            "tags": []
          }
        },
        {
          "output_type": "display_data",
          "data": {
            "text/html": [
              "<pre>Number of examples          : 7595</pre>"
            ],
            "text/plain": [
              "Number of examples          : 7595"
            ]
          },
          "metadata": {
            "tags": []
          }
        },
        {
          "output_type": "display_data",
          "data": {
            "text/html": [
              "<pre>Number of classes           : 2</pre>"
            ],
            "text/plain": [
              "Number of classes           : 2"
            ]
          },
          "metadata": {
            "tags": []
          }
        },
        {
          "output_type": "display_data",
          "data": {
            "text/html": [
              "<pre>Number of feature columns   : 1</pre>"
            ],
            "text/plain": [
              "Number of feature columns   : 1"
            ]
          },
          "metadata": {
            "tags": []
          }
        },
        {
          "output_type": "display_data",
          "data": {
            "text/html": [
              "<pre>Number of unpacked features : 1</pre>"
            ],
            "text/plain": [
              "Number of unpacked features : 1"
            ]
          },
          "metadata": {
            "tags": []
          }
        },
        {
          "output_type": "display_data",
          "data": {
            "text/html": [
              "<pre>+-----------+--------------+-------------------+---------------------+-------------------+---------------------+</pre>"
            ],
            "text/plain": [
              "+-----------+--------------+-------------------+---------------------+-------------------+---------------------+"
            ]
          },
          "metadata": {
            "tags": []
          }
        },
        {
          "output_type": "display_data",
          "data": {
            "text/html": [
              "<pre>| Iteration | Elapsed Time | Training Accuracy | Validation Accuracy | Training Log Loss | Validation Log Loss |</pre>"
            ],
            "text/plain": [
              "| Iteration | Elapsed Time | Training Accuracy | Validation Accuracy | Training Log Loss | Validation Log Loss |"
            ]
          },
          "metadata": {
            "tags": []
          }
        },
        {
          "output_type": "display_data",
          "data": {
            "text/html": [
              "<pre>+-----------+--------------+-------------------+---------------------+-------------------+---------------------+</pre>"
            ],
            "text/plain": [
              "+-----------+--------------+-------------------+---------------------+-------------------+---------------------+"
            ]
          },
          "metadata": {
            "tags": []
          }
        },
        {
          "output_type": "display_data",
          "data": {
            "text/html": [
              "<pre>| 1         | 0.007458     | 0.792627          | 0.787500            | 0.472745          | 0.483437            |</pre>"
            ],
            "text/plain": [
              "| 1         | 0.007458     | 0.792627          | 0.787500            | 0.472745          | 0.483437            |"
            ]
          },
          "metadata": {
            "tags": []
          }
        },
        {
          "output_type": "display_data",
          "data": {
            "text/html": [
              "<pre>| 2         | 0.012910     | 0.792627          | 0.787500            | 0.472899          | 0.482792            |</pre>"
            ],
            "text/plain": [
              "| 2         | 0.012910     | 0.792627          | 0.787500            | 0.472899          | 0.482792            |"
            ]
          },
          "metadata": {
            "tags": []
          }
        },
        {
          "output_type": "display_data",
          "data": {
            "text/html": [
              "<pre>| 3         | 0.017877     | 0.792627          | 0.787500            | 0.472847          | 0.483796            |</pre>"
            ],
            "text/plain": [
              "| 3         | 0.017877     | 0.792627          | 0.787500            | 0.472847          | 0.483796            |"
            ]
          },
          "metadata": {
            "tags": []
          }
        },
        {
          "output_type": "display_data",
          "data": {
            "text/html": [
              "<pre>| 4         | 0.022521     | 0.792495          | 0.790000            | 0.472781          | 0.483039            |</pre>"
            ],
            "text/plain": [
              "| 4         | 0.022521     | 0.792495          | 0.790000            | 0.472781          | 0.483039            |"
            ]
          },
          "metadata": {
            "tags": []
          }
        },
        {
          "output_type": "display_data",
          "data": {
            "text/html": [
              "<pre>| 5         | 0.028793     | 0.792495          | 0.790000            | 0.472825          | 0.482794            |</pre>"
            ],
            "text/plain": [
              "| 5         | 0.028793     | 0.792495          | 0.790000            | 0.472825          | 0.482794            |"
            ]
          },
          "metadata": {
            "tags": []
          }
        },
        {
          "output_type": "display_data",
          "data": {
            "text/html": [
              "<pre>| 10        | 0.051289     | 0.792495          | 0.790000            | 0.472783          | 0.483259            |</pre>"
            ],
            "text/plain": [
              "| 10        | 0.051289     | 0.792495          | 0.790000            | 0.472783          | 0.483259            |"
            ]
          },
          "metadata": {
            "tags": []
          }
        },
        {
          "output_type": "display_data",
          "data": {
            "text/html": [
              "<pre>+-----------+--------------+-------------------+---------------------+-------------------+---------------------+</pre>"
            ],
            "text/plain": [
              "+-----------+--------------+-------------------+---------------------+-------------------+---------------------+"
            ]
          },
          "metadata": {
            "tags": []
          }
        },
        {
          "output_type": "display_data",
          "data": {
            "text/html": [
              "<pre>Decision tree classifier:</pre>"
            ],
            "text/plain": [
              "Decision tree classifier:"
            ]
          },
          "metadata": {
            "tags": []
          }
        },
        {
          "output_type": "display_data",
          "data": {
            "text/html": [
              "<pre>--------------------------------------------------------</pre>"
            ],
            "text/plain": [
              "--------------------------------------------------------"
            ]
          },
          "metadata": {
            "tags": []
          }
        },
        {
          "output_type": "display_data",
          "data": {
            "text/html": [
              "<pre>Number of examples          : 7595</pre>"
            ],
            "text/plain": [
              "Number of examples          : 7595"
            ]
          },
          "metadata": {
            "tags": []
          }
        },
        {
          "output_type": "display_data",
          "data": {
            "text/html": [
              "<pre>Number of classes           : 2</pre>"
            ],
            "text/plain": [
              "Number of classes           : 2"
            ]
          },
          "metadata": {
            "tags": []
          }
        },
        {
          "output_type": "display_data",
          "data": {
            "text/html": [
              "<pre>Number of feature columns   : 1</pre>"
            ],
            "text/plain": [
              "Number of feature columns   : 1"
            ]
          },
          "metadata": {
            "tags": []
          }
        },
        {
          "output_type": "display_data",
          "data": {
            "text/html": [
              "<pre>Number of unpacked features : 1</pre>"
            ],
            "text/plain": [
              "Number of unpacked features : 1"
            ]
          },
          "metadata": {
            "tags": []
          }
        },
        {
          "output_type": "display_data",
          "data": {
            "text/html": [
              "<pre>+-----------+--------------+-------------------+---------------------+-------------------+---------------------+</pre>"
            ],
            "text/plain": [
              "+-----------+--------------+-------------------+---------------------+-------------------+---------------------+"
            ]
          },
          "metadata": {
            "tags": []
          }
        },
        {
          "output_type": "display_data",
          "data": {
            "text/html": [
              "<pre>| Iteration | Elapsed Time | Training Accuracy | Validation Accuracy | Training Log Loss | Validation Log Loss |</pre>"
            ],
            "text/plain": [
              "| Iteration | Elapsed Time | Training Accuracy | Validation Accuracy | Training Log Loss | Validation Log Loss |"
            ]
          },
          "metadata": {
            "tags": []
          }
        },
        {
          "output_type": "display_data",
          "data": {
            "text/html": [
              "<pre>+-----------+--------------+-------------------+---------------------+-------------------+---------------------+</pre>"
            ],
            "text/plain": [
              "+-----------+--------------+-------------------+---------------------+-------------------+---------------------+"
            ]
          },
          "metadata": {
            "tags": []
          }
        },
        {
          "output_type": "display_data",
          "data": {
            "text/html": [
              "<pre>| 1         | 0.013557     | 0.792627          | 0.787500            | 0.472883          | 0.484061            |</pre>"
            ],
            "text/plain": [
              "| 1         | 0.013557     | 0.792627          | 0.787500            | 0.472883          | 0.484061            |"
            ]
          },
          "metadata": {
            "tags": []
          }
        },
        {
          "output_type": "display_data",
          "data": {
            "text/html": [
              "<pre>+-----------+--------------+-------------------+---------------------+-------------------+---------------------+</pre>"
            ],
            "text/plain": [
              "+-----------+--------------+-------------------+---------------------+-------------------+---------------------+"
            ]
          },
          "metadata": {
            "tags": []
          }
        },
        {
          "output_type": "display_data",
          "data": {
            "text/html": [
              "<pre>SVM:</pre>"
            ],
            "text/plain": [
              "SVM:"
            ]
          },
          "metadata": {
            "tags": []
          }
        },
        {
          "output_type": "display_data",
          "data": {
            "text/html": [
              "<pre>--------------------------------------------------------</pre>"
            ],
            "text/plain": [
              "--------------------------------------------------------"
            ]
          },
          "metadata": {
            "tags": []
          }
        },
        {
          "output_type": "display_data",
          "data": {
            "text/html": [
              "<pre>Number of examples          : 7595</pre>"
            ],
            "text/plain": [
              "Number of examples          : 7595"
            ]
          },
          "metadata": {
            "tags": []
          }
        },
        {
          "output_type": "display_data",
          "data": {
            "text/html": [
              "<pre>Number of classes           : 2</pre>"
            ],
            "text/plain": [
              "Number of classes           : 2"
            ]
          },
          "metadata": {
            "tags": []
          }
        },
        {
          "output_type": "display_data",
          "data": {
            "text/html": [
              "<pre>Number of feature columns   : 1</pre>"
            ],
            "text/plain": [
              "Number of feature columns   : 1"
            ]
          },
          "metadata": {
            "tags": []
          }
        },
        {
          "output_type": "display_data",
          "data": {
            "text/html": [
              "<pre>Number of unpacked features : 1</pre>"
            ],
            "text/plain": [
              "Number of unpacked features : 1"
            ]
          },
          "metadata": {
            "tags": []
          }
        },
        {
          "output_type": "display_data",
          "data": {
            "text/html": [
              "<pre>Number of coefficients    : 2</pre>"
            ],
            "text/plain": [
              "Number of coefficients    : 2"
            ]
          },
          "metadata": {
            "tags": []
          }
        },
        {
          "output_type": "display_data",
          "data": {
            "text/html": [
              "<pre>Starting L-BFGS</pre>"
            ],
            "text/plain": [
              "Starting L-BFGS"
            ]
          },
          "metadata": {
            "tags": []
          }
        },
        {
          "output_type": "display_data",
          "data": {
            "text/html": [
              "<pre>--------------------------------------------------------</pre>"
            ],
            "text/plain": [
              "--------------------------------------------------------"
            ]
          },
          "metadata": {
            "tags": []
          }
        },
        {
          "output_type": "display_data",
          "data": {
            "text/html": [
              "<pre>+-----------+----------+-----------+--------------+-------------------+---------------------+</pre>"
            ],
            "text/plain": [
              "+-----------+----------+-----------+--------------+-------------------+---------------------+"
            ]
          },
          "metadata": {
            "tags": []
          }
        },
        {
          "output_type": "display_data",
          "data": {
            "text/html": [
              "<pre>| Iteration | Passes   | Step size | Elapsed Time | Training Accuracy | Validation Accuracy |</pre>"
            ],
            "text/plain": [
              "| Iteration | Passes   | Step size | Elapsed Time | Training Accuracy | Validation Accuracy |"
            ]
          },
          "metadata": {
            "tags": []
          }
        },
        {
          "output_type": "display_data",
          "data": {
            "text/html": [
              "<pre>+-----------+----------+-----------+--------------+-------------------+---------------------+</pre>"
            ],
            "text/plain": [
              "+-----------+----------+-----------+--------------+-------------------+---------------------+"
            ]
          },
          "metadata": {
            "tags": []
          }
        },
        {
          "output_type": "display_data",
          "data": {
            "text/html": [
              "<pre>| 0         | 3        | 5.000000  | 0.029944     | 0.727716          | 0.722500            |</pre>"
            ],
            "text/plain": [
              "| 0         | 3        | 5.000000  | 0.029944     | 0.727716          | 0.722500            |"
            ]
          },
          "metadata": {
            "tags": []
          }
        },
        {
          "output_type": "display_data",
          "data": {
            "text/html": [
              "<pre>| 1         | 6        | 2.500000  | 0.037786     | 0.733246          | 0.735000            |</pre>"
            ],
            "text/plain": [
              "| 1         | 6        | 2.500000  | 0.037786     | 0.733246          | 0.735000            |"
            ]
          },
          "metadata": {
            "tags": []
          }
        },
        {
          "output_type": "display_data",
          "data": {
            "text/html": [
              "<pre>| 2         | 9        | 1.553215  | 0.044760     | 0.791178          | 0.772500            |</pre>"
            ],
            "text/plain": [
              "| 2         | 9        | 1.553215  | 0.044760     | 0.791178          | 0.772500            |"
            ]
          },
          "metadata": {
            "tags": []
          }
        },
        {
          "output_type": "display_data",
          "data": {
            "text/html": [
              "<pre>| 3         | 11       | 1.553215  | 0.050236     | 0.791178          | 0.772500            |</pre>"
            ],
            "text/plain": [
              "| 3         | 11       | 1.553215  | 0.050236     | 0.791178          | 0.772500            |"
            ]
          },
          "metadata": {
            "tags": []
          }
        },
        {
          "output_type": "display_data",
          "data": {
            "text/html": [
              "<pre>| 4         | 13       | 1.231910  | 0.055251     | 0.791178          | 0.772500            |</pre>"
            ],
            "text/plain": [
              "| 4         | 13       | 1.231910  | 0.055251     | 0.791178          | 0.772500            |"
            ]
          },
          "metadata": {
            "tags": []
          }
        },
        {
          "output_type": "display_data",
          "data": {
            "text/html": [
              "<pre>| 8         | 23       | 0.857298  | 0.076246     | 0.791178          | 0.772500            |</pre>"
            ],
            "text/plain": [
              "| 8         | 23       | 0.857298  | 0.076246     | 0.791178          | 0.772500            |"
            ]
          },
          "metadata": {
            "tags": []
          }
        },
        {
          "output_type": "display_data",
          "data": {
            "text/html": [
              "<pre>+-----------+----------+-----------+--------------+-------------------+---------------------+</pre>"
            ],
            "text/plain": [
              "+-----------+----------+-----------+--------------+-------------------+---------------------+"
            ]
          },
          "metadata": {
            "tags": []
          }
        },
        {
          "output_type": "display_data",
          "data": {
            "text/html": [
              "<pre>Logistic regression:</pre>"
            ],
            "text/plain": [
              "Logistic regression:"
            ]
          },
          "metadata": {
            "tags": []
          }
        },
        {
          "output_type": "display_data",
          "data": {
            "text/html": [
              "<pre>--------------------------------------------------------</pre>"
            ],
            "text/plain": [
              "--------------------------------------------------------"
            ]
          },
          "metadata": {
            "tags": []
          }
        },
        {
          "output_type": "display_data",
          "data": {
            "text/html": [
              "<pre>Number of examples          : 7595</pre>"
            ],
            "text/plain": [
              "Number of examples          : 7595"
            ]
          },
          "metadata": {
            "tags": []
          }
        },
        {
          "output_type": "display_data",
          "data": {
            "text/html": [
              "<pre>Number of classes           : 2</pre>"
            ],
            "text/plain": [
              "Number of classes           : 2"
            ]
          },
          "metadata": {
            "tags": []
          }
        },
        {
          "output_type": "display_data",
          "data": {
            "text/html": [
              "<pre>Number of feature columns   : 1</pre>"
            ],
            "text/plain": [
              "Number of feature columns   : 1"
            ]
          },
          "metadata": {
            "tags": []
          }
        },
        {
          "output_type": "display_data",
          "data": {
            "text/html": [
              "<pre>Number of unpacked features : 1</pre>"
            ],
            "text/plain": [
              "Number of unpacked features : 1"
            ]
          },
          "metadata": {
            "tags": []
          }
        },
        {
          "output_type": "display_data",
          "data": {
            "text/html": [
              "<pre>Number of coefficients      : 2</pre>"
            ],
            "text/plain": [
              "Number of coefficients      : 2"
            ]
          },
          "metadata": {
            "tags": []
          }
        },
        {
          "output_type": "display_data",
          "data": {
            "text/html": [
              "<pre>Starting Newton Method</pre>"
            ],
            "text/plain": [
              "Starting Newton Method"
            ]
          },
          "metadata": {
            "tags": []
          }
        },
        {
          "output_type": "display_data",
          "data": {
            "text/html": [
              "<pre>--------------------------------------------------------</pre>"
            ],
            "text/plain": [
              "--------------------------------------------------------"
            ]
          },
          "metadata": {
            "tags": []
          }
        },
        {
          "output_type": "display_data",
          "data": {
            "text/html": [
              "<pre>+-----------+----------+--------------+-------------------+---------------------+</pre>"
            ],
            "text/plain": [
              "+-----------+----------+--------------+-------------------+---------------------+"
            ]
          },
          "metadata": {
            "tags": []
          }
        },
        {
          "output_type": "display_data",
          "data": {
            "text/html": [
              "<pre>| Iteration | Passes   | Elapsed Time | Training Accuracy | Validation Accuracy |</pre>"
            ],
            "text/plain": [
              "| Iteration | Passes   | Elapsed Time | Training Accuracy | Validation Accuracy |"
            ]
          },
          "metadata": {
            "tags": []
          }
        },
        {
          "output_type": "display_data",
          "data": {
            "text/html": [
              "<pre>+-----------+----------+--------------+-------------------+---------------------+</pre>"
            ],
            "text/plain": [
              "+-----------+----------+--------------+-------------------+---------------------+"
            ]
          },
          "metadata": {
            "tags": []
          }
        },
        {
          "output_type": "display_data",
          "data": {
            "text/html": [
              "<pre>| 1         | 2        | 0.023683     | 0.771955          | 0.772500            |</pre>"
            ],
            "text/plain": [
              "| 1         | 2        | 0.023683     | 0.771955          | 0.772500            |"
            ]
          },
          "metadata": {
            "tags": []
          }
        },
        {
          "output_type": "display_data",
          "data": {
            "text/html": [
              "<pre>| 2         | 3        | 0.032276     | 0.791178          | 0.772500            |</pre>"
            ],
            "text/plain": [
              "| 2         | 3        | 0.032276     | 0.791178          | 0.772500            |"
            ]
          },
          "metadata": {
            "tags": []
          }
        },
        {
          "output_type": "display_data",
          "data": {
            "text/html": [
              "<pre>| 3         | 4        | 0.042506     | 0.791178          | 0.772500            |</pre>"
            ],
            "text/plain": [
              "| 3         | 4        | 0.042506     | 0.791178          | 0.772500            |"
            ]
          },
          "metadata": {
            "tags": []
          }
        },
        {
          "output_type": "display_data",
          "data": {
            "text/html": [
              "<pre>| 4         | 5        | 0.052339     | 0.791178          | 0.772500            |</pre>"
            ],
            "text/plain": [
              "| 4         | 5        | 0.052339     | 0.791178          | 0.772500            |"
            ]
          },
          "metadata": {
            "tags": []
          }
        },
        {
          "output_type": "display_data",
          "data": {
            "text/html": [
              "<pre>| 5         | 6        | 0.061278     | 0.791178          | 0.772500            |</pre>"
            ],
            "text/plain": [
              "| 5         | 6        | 0.061278     | 0.791178          | 0.772500            |"
            ]
          },
          "metadata": {
            "tags": []
          }
        },
        {
          "output_type": "display_data",
          "data": {
            "text/html": [
              "<pre>+-----------+----------+--------------+-------------------+---------------------+</pre>"
            ],
            "text/plain": [
              "+-----------+----------+--------------+-------------------+---------------------+"
            ]
          },
          "metadata": {
            "tags": []
          }
        },
        {
          "output_type": "display_data",
          "data": {
            "text/html": [
              "<pre>SUCCESS: Optimal solution found.</pre>"
            ],
            "text/plain": [
              "SUCCESS: Optimal solution found."
            ]
          },
          "metadata": {
            "tags": []
          }
        },
        {
          "output_type": "display_data",
          "data": {
            "text/html": [
              "<pre></pre>"
            ],
            "text/plain": [
              ""
            ]
          },
          "metadata": {
            "tags": []
          }
        },
        {
          "output_type": "stream",
          "text": [
            "PROGRESS: Model selection based on validation accuracy:\n",
            "PROGRESS: ---------------------------------------------\n",
            "PROGRESS: BoostedTreesClassifier          : 0.79\n",
            "PROGRESS: RandomForestClassifier          : 0.79\n",
            "PROGRESS: DecisionTreeClassifier          : 0.7875\n",
            "PROGRESS: SVMClassifier                   : 0.7725\n",
            "PROGRESS: LogisticClassifier              : 0.7725\n",
            "PROGRESS: ---------------------------------------------\n",
            "PROGRESS: Selecting BoostedTreesClassifier based on validation set performance.\n"
          ],
          "name": "stdout"
        }
      ]
    },
    {
      "cell_type": "code",
      "metadata": {
        "id": "UqdW8rEwcsRY",
        "colab_type": "code",
        "colab": {
          "base_uri": "https://localhost:8080/",
          "height": 857
        },
        "outputId": "f46c7204-7e9a-44df-b857-a39b904b638d"
      },
      "source": [
        "only_afinn_sentiment_results = cls_only_afinn_sentiment_feature.evaluate(tc.SFrame(data=test_sentiment))\n",
        "only_afinn_sentiment_results"
      ],
      "execution_count": 18,
      "outputs": [
        {
          "output_type": "execute_result",
          "data": {
            "text/plain": [
              "{'accuracy': 0.8094763092269327,\n",
              " 'auc': 0.8687990296556033,\n",
              " 'confusion_matrix': Columns:\n",
              " \ttarget_label\tint\n",
              " \tpredicted_label\tint\n",
              " \tcount\tint\n",
              " \n",
              " Rows: 4\n",
              " \n",
              " Data:\n",
              " +--------------+-----------------+-------+\n",
              " | target_label | predicted_label | count |\n",
              " +--------------+-----------------+-------+\n",
              " |      0       |        0        |  761  |\n",
              " |      1       |        0        |  139  |\n",
              " |      1       |        1        |  862  |\n",
              " |      0       |        1        |  243  |\n",
              " +--------------+-----------------+-------+\n",
              " [4 rows x 3 columns],\n",
              " 'f1_score': 0.818613485280152,\n",
              " 'log_loss': 0.44580022933945423,\n",
              " 'precision': 0.7800904977375566,\n",
              " 'recall': 0.8611388611388612,\n",
              " 'roc_curve': Columns:\n",
              " \tthreshold\tfloat\n",
              " \tfpr\tfloat\n",
              " \ttpr\tfloat\n",
              " \tp\tint\n",
              " \tn\tint\n",
              " \n",
              " Rows: 100001\n",
              " \n",
              " Data:\n",
              " +-----------+-----+-----+------+------+\n",
              " | threshold | fpr | tpr |  p   |  n   |\n",
              " +-----------+-----+-----+------+------+\n",
              " |    0.0    | 1.0 | 1.0 | 1001 | 1004 |\n",
              " |   1e-05   | 1.0 | 1.0 | 1001 | 1004 |\n",
              " |   2e-05   | 1.0 | 1.0 | 1001 | 1004 |\n",
              " |   3e-05   | 1.0 | 1.0 | 1001 | 1004 |\n",
              " |   4e-05   | 1.0 | 1.0 | 1001 | 1004 |\n",
              " |   5e-05   | 1.0 | 1.0 | 1001 | 1004 |\n",
              " |   6e-05   | 1.0 | 1.0 | 1001 | 1004 |\n",
              " |   7e-05   | 1.0 | 1.0 | 1001 | 1004 |\n",
              " |   8e-05   | 1.0 | 1.0 | 1001 | 1004 |\n",
              " |   9e-05   | 1.0 | 1.0 | 1001 | 1004 |\n",
              " +-----------+-----+-----+------+------+\n",
              " [100001 rows x 5 columns]\n",
              " Note: Only the head of the SFrame is printed.\n",
              " You can use print_rows(num_rows=m, num_columns=n) to print more rows and columns.}"
            ]
          },
          "metadata": {
            "tags": []
          },
          "execution_count": 18
        }
      ]
    },
    {
      "cell_type": "markdown",
      "metadata": {
        "id": "RjHsk7F_cRjQ",
        "colab_type": "text"
      },
      "source": [
        "Now we will examine the TextBlob sentiment feature"
      ]
    },
    {
      "cell_type": "code",
      "metadata": {
        "id": "ZjX0J61Bc6Er",
        "colab_type": "code",
        "colab": {
          "base_uri": "https://localhost:8080/",
          "height": 1000
        },
        "outputId": "ccd348d2-a6ba-4432-a2ee-914befe19898"
      },
      "source": [
        "features_list = ['textblob_score_text']\n",
        "cls_only_textblob_sentiment_feature = tc.classifier.create(tc.SFrame(data=train_sentiment),features=features_list, target=\"sentiment\")"
      ],
      "execution_count": 19,
      "outputs": [
        {
          "output_type": "stream",
          "text": [
            "PROGRESS: Creating a validation set from 5 percent of training data. This may take a while.\n",
            "          You can set ``validation_set=None`` to disable validation tracking.\n",
            "\n",
            "PROGRESS: The following methods are available for this type of problem.\n",
            "PROGRESS: BoostedTreesClassifier, RandomForestClassifier, DecisionTreeClassifier, SVMClassifier, LogisticClassifier\n",
            "PROGRESS: The returned model will be chosen according to validation accuracy.\n"
          ],
          "name": "stdout"
        },
        {
          "output_type": "display_data",
          "data": {
            "text/html": [
              "<pre>Boosted trees classifier:</pre>"
            ],
            "text/plain": [
              "Boosted trees classifier:"
            ]
          },
          "metadata": {
            "tags": []
          }
        },
        {
          "output_type": "display_data",
          "data": {
            "text/html": [
              "<pre>--------------------------------------------------------</pre>"
            ],
            "text/plain": [
              "--------------------------------------------------------"
            ]
          },
          "metadata": {
            "tags": []
          }
        },
        {
          "output_type": "display_data",
          "data": {
            "text/html": [
              "<pre>Number of examples          : 7595</pre>"
            ],
            "text/plain": [
              "Number of examples          : 7595"
            ]
          },
          "metadata": {
            "tags": []
          }
        },
        {
          "output_type": "display_data",
          "data": {
            "text/html": [
              "<pre>Number of classes           : 2</pre>"
            ],
            "text/plain": [
              "Number of classes           : 2"
            ]
          },
          "metadata": {
            "tags": []
          }
        },
        {
          "output_type": "display_data",
          "data": {
            "text/html": [
              "<pre>Number of feature columns   : 1</pre>"
            ],
            "text/plain": [
              "Number of feature columns   : 1"
            ]
          },
          "metadata": {
            "tags": []
          }
        },
        {
          "output_type": "display_data",
          "data": {
            "text/html": [
              "<pre>Number of unpacked features : 2</pre>"
            ],
            "text/plain": [
              "Number of unpacked features : 2"
            ]
          },
          "metadata": {
            "tags": []
          }
        },
        {
          "output_type": "display_data",
          "data": {
            "text/html": [
              "<pre>+-----------+--------------+-------------------+---------------------+-------------------+---------------------+</pre>"
            ],
            "text/plain": [
              "+-----------+--------------+-------------------+---------------------+-------------------+---------------------+"
            ]
          },
          "metadata": {
            "tags": []
          }
        },
        {
          "output_type": "display_data",
          "data": {
            "text/html": [
              "<pre>| Iteration | Elapsed Time | Training Accuracy | Validation Accuracy | Training Log Loss | Validation Log Loss |</pre>"
            ],
            "text/plain": [
              "| Iteration | Elapsed Time | Training Accuracy | Validation Accuracy | Training Log Loss | Validation Log Loss |"
            ]
          },
          "metadata": {
            "tags": []
          }
        },
        {
          "output_type": "display_data",
          "data": {
            "text/html": [
              "<pre>+-----------+--------------+-------------------+---------------------+-------------------+---------------------+</pre>"
            ],
            "text/plain": [
              "+-----------+--------------+-------------------+---------------------+-------------------+---------------------+"
            ]
          },
          "metadata": {
            "tags": []
          }
        },
        {
          "output_type": "display_data",
          "data": {
            "text/html": [
              "<pre>| 1         | 0.011727     | 0.826596          | 0.792500            | 0.567099          | 0.580991            |</pre>"
            ],
            "text/plain": [
              "| 1         | 0.011727     | 0.826596          | 0.792500            | 0.567099          | 0.580991            |"
            ]
          },
          "metadata": {
            "tags": []
          }
        },
        {
          "output_type": "display_data",
          "data": {
            "text/html": [
              "<pre>| 2         | 0.021022     | 0.827386          | 0.795000            | 0.498642          | 0.518199            |</pre>"
            ],
            "text/plain": [
              "| 2         | 0.021022     | 0.827386          | 0.795000            | 0.498642          | 0.518199            |"
            ]
          },
          "metadata": {
            "tags": []
          }
        },
        {
          "output_type": "display_data",
          "data": {
            "text/html": [
              "<pre>| 3         | 0.028981     | 0.831468          | 0.795000            | 0.456673          | 0.482834            |</pre>"
            ],
            "text/plain": [
              "| 3         | 0.028981     | 0.831468          | 0.795000            | 0.456673          | 0.482834            |"
            ]
          },
          "metadata": {
            "tags": []
          }
        },
        {
          "output_type": "display_data",
          "data": {
            "text/html": [
              "<pre>| 4         | 0.036976     | 0.831336          | 0.797500            | 0.430552          | 0.463613            |</pre>"
            ],
            "text/plain": [
              "| 4         | 0.036976     | 0.831336          | 0.797500            | 0.430552          | 0.463613            |"
            ]
          },
          "metadata": {
            "tags": []
          }
        },
        {
          "output_type": "display_data",
          "data": {
            "text/html": [
              "<pre>| 5         | 0.046261     | 0.830151          | 0.800000            | 0.412941          | 0.451317            |</pre>"
            ],
            "text/plain": [
              "| 5         | 0.046261     | 0.830151          | 0.800000            | 0.412941          | 0.451317            |"
            ]
          },
          "metadata": {
            "tags": []
          }
        },
        {
          "output_type": "display_data",
          "data": {
            "text/html": [
              "<pre>| 10        | 0.077586     | 0.834628          | 0.797500            | 0.375184          | 0.432322            |</pre>"
            ],
            "text/plain": [
              "| 10        | 0.077586     | 0.834628          | 0.797500            | 0.375184          | 0.432322            |"
            ]
          },
          "metadata": {
            "tags": []
          }
        },
        {
          "output_type": "display_data",
          "data": {
            "text/html": [
              "<pre>+-----------+--------------+-------------------+---------------------+-------------------+---------------------+</pre>"
            ],
            "text/plain": [
              "+-----------+--------------+-------------------+---------------------+-------------------+---------------------+"
            ]
          },
          "metadata": {
            "tags": []
          }
        },
        {
          "output_type": "display_data",
          "data": {
            "text/html": [
              "<pre>Random forest classifier:</pre>"
            ],
            "text/plain": [
              "Random forest classifier:"
            ]
          },
          "metadata": {
            "tags": []
          }
        },
        {
          "output_type": "display_data",
          "data": {
            "text/html": [
              "<pre>--------------------------------------------------------</pre>"
            ],
            "text/plain": [
              "--------------------------------------------------------"
            ]
          },
          "metadata": {
            "tags": []
          }
        },
        {
          "output_type": "display_data",
          "data": {
            "text/html": [
              "<pre>Number of examples          : 7595</pre>"
            ],
            "text/plain": [
              "Number of examples          : 7595"
            ]
          },
          "metadata": {
            "tags": []
          }
        },
        {
          "output_type": "display_data",
          "data": {
            "text/html": [
              "<pre>Number of classes           : 2</pre>"
            ],
            "text/plain": [
              "Number of classes           : 2"
            ]
          },
          "metadata": {
            "tags": []
          }
        },
        {
          "output_type": "display_data",
          "data": {
            "text/html": [
              "<pre>Number of feature columns   : 1</pre>"
            ],
            "text/plain": [
              "Number of feature columns   : 1"
            ]
          },
          "metadata": {
            "tags": []
          }
        },
        {
          "output_type": "display_data",
          "data": {
            "text/html": [
              "<pre>Number of unpacked features : 2</pre>"
            ],
            "text/plain": [
              "Number of unpacked features : 2"
            ]
          },
          "metadata": {
            "tags": []
          }
        },
        {
          "output_type": "display_data",
          "data": {
            "text/html": [
              "<pre>+-----------+--------------+-------------------+---------------------+-------------------+---------------------+</pre>"
            ],
            "text/plain": [
              "+-----------+--------------+-------------------+---------------------+-------------------+---------------------+"
            ]
          },
          "metadata": {
            "tags": []
          }
        },
        {
          "output_type": "display_data",
          "data": {
            "text/html": [
              "<pre>| Iteration | Elapsed Time | Training Accuracy | Validation Accuracy | Training Log Loss | Validation Log Loss |</pre>"
            ],
            "text/plain": [
              "| Iteration | Elapsed Time | Training Accuracy | Validation Accuracy | Training Log Loss | Validation Log Loss |"
            ]
          },
          "metadata": {
            "tags": []
          }
        },
        {
          "output_type": "display_data",
          "data": {
            "text/html": [
              "<pre>+-----------+--------------+-------------------+---------------------+-------------------+---------------------+</pre>"
            ],
            "text/plain": [
              "+-----------+--------------+-------------------+---------------------+-------------------+---------------------+"
            ]
          },
          "metadata": {
            "tags": []
          }
        },
        {
          "output_type": "display_data",
          "data": {
            "text/html": [
              "<pre>| 1         | 0.005711     | 0.589467          | 0.552500            | 0.667436          | 0.689564            |</pre>"
            ],
            "text/plain": [
              "| 1         | 0.005711     | 0.589467          | 0.552500            | 0.667436          | 0.689564            |"
            ]
          },
          "metadata": {
            "tags": []
          }
        },
        {
          "output_type": "display_data",
          "data": {
            "text/html": [
              "<pre>| 2         | 0.010790     | 0.601580          | 0.587500            | 0.663836          | 0.684748            |</pre>"
            ],
            "text/plain": [
              "| 2         | 0.010790     | 0.601580          | 0.587500            | 0.663836          | 0.684748            |"
            ]
          },
          "metadata": {
            "tags": []
          }
        },
        {
          "output_type": "display_data",
          "data": {
            "text/html": [
              "<pre>| 3         | 0.016350     | 0.603687          | 0.587500            | 0.663297          | 0.682577            |</pre>"
            ],
            "text/plain": [
              "| 3         | 0.016350     | 0.603687          | 0.587500            | 0.663297          | 0.682577            |"
            ]
          },
          "metadata": {
            "tags": []
          }
        },
        {
          "output_type": "display_data",
          "data": {
            "text/html": [
              "<pre>| 4         | 0.022978     | 0.603160          | 0.582500            | 0.663128          | 0.684523            |</pre>"
            ],
            "text/plain": [
              "| 4         | 0.022978     | 0.603160          | 0.582500            | 0.663128          | 0.684523            |"
            ]
          },
          "metadata": {
            "tags": []
          }
        },
        {
          "output_type": "display_data",
          "data": {
            "text/html": [
              "<pre>| 5         | 0.032234     | 0.780250          | 0.737500            | 0.585632          | 0.608127            |</pre>"
            ],
            "text/plain": [
              "| 5         | 0.032234     | 0.780250          | 0.737500            | 0.585632          | 0.608127            |"
            ]
          },
          "metadata": {
            "tags": []
          }
        },
        {
          "output_type": "display_data",
          "data": {
            "text/html": [
              "<pre>| 10        | 0.058422     | 0.816326          | 0.772500            | 0.552334          | 0.575815            |</pre>"
            ],
            "text/plain": [
              "| 10        | 0.058422     | 0.816326          | 0.772500            | 0.552334          | 0.575815            |"
            ]
          },
          "metadata": {
            "tags": []
          }
        },
        {
          "output_type": "display_data",
          "data": {
            "text/html": [
              "<pre>+-----------+--------------+-------------------+---------------------+-------------------+---------------------+</pre>"
            ],
            "text/plain": [
              "+-----------+--------------+-------------------+---------------------+-------------------+---------------------+"
            ]
          },
          "metadata": {
            "tags": []
          }
        },
        {
          "output_type": "display_data",
          "data": {
            "text/html": [
              "<pre>Decision tree classifier:</pre>"
            ],
            "text/plain": [
              "Decision tree classifier:"
            ]
          },
          "metadata": {
            "tags": []
          }
        },
        {
          "output_type": "display_data",
          "data": {
            "text/html": [
              "<pre>--------------------------------------------------------</pre>"
            ],
            "text/plain": [
              "--------------------------------------------------------"
            ]
          },
          "metadata": {
            "tags": []
          }
        },
        {
          "output_type": "display_data",
          "data": {
            "text/html": [
              "<pre>Number of examples          : 7595</pre>"
            ],
            "text/plain": [
              "Number of examples          : 7595"
            ]
          },
          "metadata": {
            "tags": []
          }
        },
        {
          "output_type": "display_data",
          "data": {
            "text/html": [
              "<pre>Number of classes           : 2</pre>"
            ],
            "text/plain": [
              "Number of classes           : 2"
            ]
          },
          "metadata": {
            "tags": []
          }
        },
        {
          "output_type": "display_data",
          "data": {
            "text/html": [
              "<pre>Number of feature columns   : 1</pre>"
            ],
            "text/plain": [
              "Number of feature columns   : 1"
            ]
          },
          "metadata": {
            "tags": []
          }
        },
        {
          "output_type": "display_data",
          "data": {
            "text/html": [
              "<pre>Number of unpacked features : 2</pre>"
            ],
            "text/plain": [
              "Number of unpacked features : 2"
            ]
          },
          "metadata": {
            "tags": []
          }
        },
        {
          "output_type": "display_data",
          "data": {
            "text/html": [
              "<pre>+-----------+--------------+-------------------+---------------------+-------------------+---------------------+</pre>"
            ],
            "text/plain": [
              "+-----------+--------------+-------------------+---------------------+-------------------+---------------------+"
            ]
          },
          "metadata": {
            "tags": []
          }
        },
        {
          "output_type": "display_data",
          "data": {
            "text/html": [
              "<pre>| Iteration | Elapsed Time | Training Accuracy | Validation Accuracy | Training Log Loss | Validation Log Loss |</pre>"
            ],
            "text/plain": [
              "| Iteration | Elapsed Time | Training Accuracy | Validation Accuracy | Training Log Loss | Validation Log Loss |"
            ]
          },
          "metadata": {
            "tags": []
          }
        },
        {
          "output_type": "display_data",
          "data": {
            "text/html": [
              "<pre>+-----------+--------------+-------------------+---------------------+-------------------+---------------------+</pre>"
            ],
            "text/plain": [
              "+-----------+--------------+-------------------+---------------------+-------------------+---------------------+"
            ]
          },
          "metadata": {
            "tags": []
          }
        },
        {
          "output_type": "display_data",
          "data": {
            "text/html": [
              "<pre>| 1         | 0.007657     | 0.826596          | 0.792500            | 0.420944          | 0.459552            |</pre>"
            ],
            "text/plain": [
              "| 1         | 0.007657     | 0.826596          | 0.792500            | 0.420944          | 0.459552            |"
            ]
          },
          "metadata": {
            "tags": []
          }
        },
        {
          "output_type": "display_data",
          "data": {
            "text/html": [
              "<pre>+-----------+--------------+-------------------+---------------------+-------------------+---------------------+</pre>"
            ],
            "text/plain": [
              "+-----------+--------------+-------------------+---------------------+-------------------+---------------------+"
            ]
          },
          "metadata": {
            "tags": []
          }
        },
        {
          "output_type": "display_data",
          "data": {
            "text/html": [
              "<pre>SVM:</pre>"
            ],
            "text/plain": [
              "SVM:"
            ]
          },
          "metadata": {
            "tags": []
          }
        },
        {
          "output_type": "display_data",
          "data": {
            "text/html": [
              "<pre>--------------------------------------------------------</pre>"
            ],
            "text/plain": [
              "--------------------------------------------------------"
            ]
          },
          "metadata": {
            "tags": []
          }
        },
        {
          "output_type": "display_data",
          "data": {
            "text/html": [
              "<pre>Number of examples          : 7595</pre>"
            ],
            "text/plain": [
              "Number of examples          : 7595"
            ]
          },
          "metadata": {
            "tags": []
          }
        },
        {
          "output_type": "display_data",
          "data": {
            "text/html": [
              "<pre>Number of classes           : 2</pre>"
            ],
            "text/plain": [
              "Number of classes           : 2"
            ]
          },
          "metadata": {
            "tags": []
          }
        },
        {
          "output_type": "display_data",
          "data": {
            "text/html": [
              "<pre>Number of feature columns   : 1</pre>"
            ],
            "text/plain": [
              "Number of feature columns   : 1"
            ]
          },
          "metadata": {
            "tags": []
          }
        },
        {
          "output_type": "display_data",
          "data": {
            "text/html": [
              "<pre>Number of unpacked features : 2</pre>"
            ],
            "text/plain": [
              "Number of unpacked features : 2"
            ]
          },
          "metadata": {
            "tags": []
          }
        },
        {
          "output_type": "display_data",
          "data": {
            "text/html": [
              "<pre>Number of coefficients    : 3</pre>"
            ],
            "text/plain": [
              "Number of coefficients    : 3"
            ]
          },
          "metadata": {
            "tags": []
          }
        },
        {
          "output_type": "display_data",
          "data": {
            "text/html": [
              "<pre>Starting L-BFGS</pre>"
            ],
            "text/plain": [
              "Starting L-BFGS"
            ]
          },
          "metadata": {
            "tags": []
          }
        },
        {
          "output_type": "display_data",
          "data": {
            "text/html": [
              "<pre>--------------------------------------------------------</pre>"
            ],
            "text/plain": [
              "--------------------------------------------------------"
            ]
          },
          "metadata": {
            "tags": []
          }
        },
        {
          "output_type": "display_data",
          "data": {
            "text/html": [
              "<pre>+-----------+----------+-----------+--------------+-------------------+---------------------+</pre>"
            ],
            "text/plain": [
              "+-----------+----------+-----------+--------------+-------------------+---------------------+"
            ]
          },
          "metadata": {
            "tags": []
          }
        },
        {
          "output_type": "display_data",
          "data": {
            "text/html": [
              "<pre>| Iteration | Passes   | Step size | Elapsed Time | Training Accuracy | Validation Accuracy |</pre>"
            ],
            "text/plain": [
              "| Iteration | Passes   | Step size | Elapsed Time | Training Accuracy | Validation Accuracy |"
            ]
          },
          "metadata": {
            "tags": []
          }
        },
        {
          "output_type": "display_data",
          "data": {
            "text/html": [
              "<pre>+-----------+----------+-----------+--------------+-------------------+---------------------+</pre>"
            ],
            "text/plain": [
              "+-----------+----------+-----------+--------------+-------------------+---------------------+"
            ]
          },
          "metadata": {
            "tags": []
          }
        },
        {
          "output_type": "display_data",
          "data": {
            "text/html": [
              "<pre>| 0         | 3        | 5.000000  | 0.031367     | 0.710731          | 0.682500            |</pre>"
            ],
            "text/plain": [
              "| 0         | 3        | 5.000000  | 0.031367     | 0.710731          | 0.682500            |"
            ]
          },
          "metadata": {
            "tags": []
          }
        },
        {
          "output_type": "display_data",
          "data": {
            "text/html": [
              "<pre>| 1         | 7        | 1.250000  | 0.045992     | 0.807637          | 0.797500            |</pre>"
            ],
            "text/plain": [
              "| 1         | 7        | 1.250000  | 0.045992     | 0.807637          | 0.797500            |"
            ]
          },
          "metadata": {
            "tags": []
          }
        },
        {
          "output_type": "display_data",
          "data": {
            "text/html": [
              "<pre>| 2         | 8        | 1.250000  | 0.055072     | 0.808032          | 0.797500            |</pre>"
            ],
            "text/plain": [
              "| 2         | 8        | 1.250000  | 0.055072     | 0.808032          | 0.797500            |"
            ]
          },
          "metadata": {
            "tags": []
          }
        },
        {
          "output_type": "display_data",
          "data": {
            "text/html": [
              "<pre>| 3         | 10       | 1.250000  | 0.065416     | 0.810402          | 0.805000            |</pre>"
            ],
            "text/plain": [
              "| 3         | 10       | 1.250000  | 0.065416     | 0.810402          | 0.805000            |"
            ]
          },
          "metadata": {
            "tags": []
          }
        },
        {
          "output_type": "display_data",
          "data": {
            "text/html": [
              "<pre>| 4         | 13       | 1.167607  | 0.077715     | 0.811060          | 0.802500            |</pre>"
            ],
            "text/plain": [
              "| 4         | 13       | 1.167607  | 0.077715     | 0.811060          | 0.802500            |"
            ]
          },
          "metadata": {
            "tags": []
          }
        },
        {
          "output_type": "display_data",
          "data": {
            "text/html": [
              "<pre>| 9         | 24       | 1.000000  | 0.112875     | 0.813430          | 0.792500            |</pre>"
            ],
            "text/plain": [
              "| 9         | 24       | 1.000000  | 0.112875     | 0.813430          | 0.792500            |"
            ]
          },
          "metadata": {
            "tags": []
          }
        },
        {
          "output_type": "display_data",
          "data": {
            "text/html": [
              "<pre>+-----------+----------+-----------+--------------+-------------------+---------------------+</pre>"
            ],
            "text/plain": [
              "+-----------+----------+-----------+--------------+-------------------+---------------------+"
            ]
          },
          "metadata": {
            "tags": []
          }
        },
        {
          "output_type": "display_data",
          "data": {
            "text/html": [
              "<pre>Logistic regression:</pre>"
            ],
            "text/plain": [
              "Logistic regression:"
            ]
          },
          "metadata": {
            "tags": []
          }
        },
        {
          "output_type": "display_data",
          "data": {
            "text/html": [
              "<pre>--------------------------------------------------------</pre>"
            ],
            "text/plain": [
              "--------------------------------------------------------"
            ]
          },
          "metadata": {
            "tags": []
          }
        },
        {
          "output_type": "display_data",
          "data": {
            "text/html": [
              "<pre>Number of examples          : 7595</pre>"
            ],
            "text/plain": [
              "Number of examples          : 7595"
            ]
          },
          "metadata": {
            "tags": []
          }
        },
        {
          "output_type": "display_data",
          "data": {
            "text/html": [
              "<pre>Number of classes           : 2</pre>"
            ],
            "text/plain": [
              "Number of classes           : 2"
            ]
          },
          "metadata": {
            "tags": []
          }
        },
        {
          "output_type": "display_data",
          "data": {
            "text/html": [
              "<pre>Number of feature columns   : 1</pre>"
            ],
            "text/plain": [
              "Number of feature columns   : 1"
            ]
          },
          "metadata": {
            "tags": []
          }
        },
        {
          "output_type": "display_data",
          "data": {
            "text/html": [
              "<pre>Number of unpacked features : 2</pre>"
            ],
            "text/plain": [
              "Number of unpacked features : 2"
            ]
          },
          "metadata": {
            "tags": []
          }
        },
        {
          "output_type": "display_data",
          "data": {
            "text/html": [
              "<pre>Number of coefficients      : 3</pre>"
            ],
            "text/plain": [
              "Number of coefficients      : 3"
            ]
          },
          "metadata": {
            "tags": []
          }
        },
        {
          "output_type": "display_data",
          "data": {
            "text/html": [
              "<pre>Starting Newton Method</pre>"
            ],
            "text/plain": [
              "Starting Newton Method"
            ]
          },
          "metadata": {
            "tags": []
          }
        },
        {
          "output_type": "display_data",
          "data": {
            "text/html": [
              "<pre>--------------------------------------------------------</pre>"
            ],
            "text/plain": [
              "--------------------------------------------------------"
            ]
          },
          "metadata": {
            "tags": []
          }
        },
        {
          "output_type": "display_data",
          "data": {
            "text/html": [
              "<pre>+-----------+----------+--------------+-------------------+---------------------+</pre>"
            ],
            "text/plain": [
              "+-----------+----------+--------------+-------------------+---------------------+"
            ]
          },
          "metadata": {
            "tags": []
          }
        },
        {
          "output_type": "display_data",
          "data": {
            "text/html": [
              "<pre>| Iteration | Passes   | Elapsed Time | Training Accuracy | Validation Accuracy |</pre>"
            ],
            "text/plain": [
              "| Iteration | Passes   | Elapsed Time | Training Accuracy | Validation Accuracy |"
            ]
          },
          "metadata": {
            "tags": []
          }
        },
        {
          "output_type": "display_data",
          "data": {
            "text/html": [
              "<pre>+-----------+----------+--------------+-------------------+---------------------+</pre>"
            ],
            "text/plain": [
              "+-----------+----------+--------------+-------------------+---------------------+"
            ]
          },
          "metadata": {
            "tags": []
          }
        },
        {
          "output_type": "display_data",
          "data": {
            "text/html": [
              "<pre>| 1         | 2        | 0.028677     | 0.813957          | 0.815000            |</pre>"
            ],
            "text/plain": [
              "| 1         | 2        | 0.028677     | 0.813957          | 0.815000            |"
            ]
          },
          "metadata": {
            "tags": []
          }
        },
        {
          "output_type": "display_data",
          "data": {
            "text/html": [
              "<pre>| 2         | 3        | 0.042416     | 0.814220          | 0.800000            |</pre>"
            ],
            "text/plain": [
              "| 2         | 3        | 0.042416     | 0.814220          | 0.800000            |"
            ]
          },
          "metadata": {
            "tags": []
          }
        },
        {
          "output_type": "display_data",
          "data": {
            "text/html": [
              "<pre>| 3         | 4        | 0.054559     | 0.814220          | 0.795000            |</pre>"
            ],
            "text/plain": [
              "| 3         | 4        | 0.054559     | 0.814220          | 0.795000            |"
            ]
          },
          "metadata": {
            "tags": []
          }
        },
        {
          "output_type": "display_data",
          "data": {
            "text/html": [
              "<pre>| 4         | 5        | 0.068835     | 0.813430          | 0.795000            |</pre>"
            ],
            "text/plain": [
              "| 4         | 5        | 0.068835     | 0.813430          | 0.795000            |"
            ]
          },
          "metadata": {
            "tags": []
          }
        },
        {
          "output_type": "display_data",
          "data": {
            "text/html": [
              "<pre>| 5         | 6        | 0.077028     | 0.813430          | 0.795000            |</pre>"
            ],
            "text/plain": [
              "| 5         | 6        | 0.077028     | 0.813430          | 0.795000            |"
            ]
          },
          "metadata": {
            "tags": []
          }
        },
        {
          "output_type": "display_data",
          "data": {
            "text/html": [
              "<pre>+-----------+----------+--------------+-------------------+---------------------+</pre>"
            ],
            "text/plain": [
              "+-----------+----------+--------------+-------------------+---------------------+"
            ]
          },
          "metadata": {
            "tags": []
          }
        },
        {
          "output_type": "display_data",
          "data": {
            "text/html": [
              "<pre>SUCCESS: Optimal solution found.</pre>"
            ],
            "text/plain": [
              "SUCCESS: Optimal solution found."
            ]
          },
          "metadata": {
            "tags": []
          }
        },
        {
          "output_type": "display_data",
          "data": {
            "text/html": [
              "<pre></pre>"
            ],
            "text/plain": [
              ""
            ]
          },
          "metadata": {
            "tags": []
          }
        },
        {
          "output_type": "stream",
          "text": [
            "PROGRESS: Model selection based on validation accuracy:\n",
            "PROGRESS: ---------------------------------------------\n",
            "PROGRESS: BoostedTreesClassifier          : 0.7975\n",
            "PROGRESS: RandomForestClassifier          : 0.7725\n",
            "PROGRESS: DecisionTreeClassifier          : 0.7925\n",
            "PROGRESS: SVMClassifier                   : 0.7925\n",
            "PROGRESS: LogisticClassifier              : 0.795\n",
            "PROGRESS: ---------------------------------------------\n",
            "PROGRESS: Selecting BoostedTreesClassifier based on validation set performance.\n"
          ],
          "name": "stdout"
        }
      ]
    },
    {
      "cell_type": "code",
      "metadata": {
        "id": "wuIeANHddIxU",
        "colab_type": "code",
        "colab": {
          "base_uri": "https://localhost:8080/",
          "height": 857
        },
        "outputId": "5bfadf82-f8b4-4ce2-b3da-2487bbdc293a"
      },
      "source": [
        "only_textblob_sentiment_results = cls_only_textblob_sentiment_feature.evaluate(tc.SFrame(data=test_sentiment))\n",
        "only_textblob_sentiment_results"
      ],
      "execution_count": 20,
      "outputs": [
        {
          "output_type": "execute_result",
          "data": {
            "text/plain": [
              "{'accuracy': 0.7935162094763092,\n",
              " 'auc': 0.873464682727631,\n",
              " 'confusion_matrix': Columns:\n",
              " \ttarget_label\tint\n",
              " \tpredicted_label\tint\n",
              " \tcount\tint\n",
              " \n",
              " Rows: 4\n",
              " \n",
              " Data:\n",
              " +--------------+-----------------+-------+\n",
              " | target_label | predicted_label | count |\n",
              " +--------------+-----------------+-------+\n",
              " |      0       |        0        |  765  |\n",
              " |      1       |        0        |  175  |\n",
              " |      1       |        1        |  826  |\n",
              " |      0       |        1        |  239  |\n",
              " +--------------+-----------------+-------+\n",
              " [4 rows x 3 columns],\n",
              " 'f1_score': 0.7996127783155856,\n",
              " 'log_loss': 0.44471897685294287,\n",
              " 'precision': 0.7755868544600939,\n",
              " 'recall': 0.8251748251748252,\n",
              " 'roc_curve': Columns:\n",
              " \tthreshold\tfloat\n",
              " \tfpr\tfloat\n",
              " \ttpr\tfloat\n",
              " \tp\tint\n",
              " \tn\tint\n",
              " \n",
              " Rows: 100001\n",
              " \n",
              " Data:\n",
              " +-----------+-----+-----+------+------+\n",
              " | threshold | fpr | tpr |  p   |  n   |\n",
              " +-----------+-----+-----+------+------+\n",
              " |    0.0    | 1.0 | 1.0 | 1001 | 1004 |\n",
              " |   1e-05   | 1.0 | 1.0 | 1001 | 1004 |\n",
              " |   2e-05   | 1.0 | 1.0 | 1001 | 1004 |\n",
              " |   3e-05   | 1.0 | 1.0 | 1001 | 1004 |\n",
              " |   4e-05   | 1.0 | 1.0 | 1001 | 1004 |\n",
              " |   5e-05   | 1.0 | 1.0 | 1001 | 1004 |\n",
              " |   6e-05   | 1.0 | 1.0 | 1001 | 1004 |\n",
              " |   7e-05   | 1.0 | 1.0 | 1001 | 1004 |\n",
              " |   8e-05   | 1.0 | 1.0 | 1001 | 1004 |\n",
              " |   9e-05   | 1.0 | 1.0 | 1001 | 1004 |\n",
              " +-----------+-----+-----+------+------+\n",
              " [100001 rows x 5 columns]\n",
              " Note: Only the head of the SFrame is printed.\n",
              " You can use print_rows(num_rows=m, num_columns=n) to print more rows and columns.}"
            ]
          },
          "metadata": {
            "tags": []
          },
          "execution_count": 20
        }
      ]
    },
    {
      "cell_type": "markdown",
      "metadata": {
        "id": "Jc5sm2srdX8s",
        "colab_type": "text"
      },
      "source": [
        "We can see that Afinn sentiment feature is much better for our dataset, In addition it has even better results when we using both features together. Now let's compare bag of words classifier results to combined classifier with sentiment features (Afinn and TextBlob)."
      ]
    },
    {
      "cell_type": "code",
      "metadata": {
        "id": "5rjX3oTWLD9Z",
        "colab_type": "code",
        "colab": {}
      },
      "source": [
        "import matplotlib.pyplot as plt\n",
        "%matplotlib inline\n",
        "\n",
        "plt.style.use('ggplot')\n",
        "\n",
        "def plot_roc_curve(results, title):\n",
        "  plt.plot(results['roc_curve']['fpr'],\n",
        "          results['roc_curve']['tpr'],\n",
        "          label='ROC Curve (AUC = %0.5f)' %results['auc'])\n",
        "\n",
        "  plt.xlim([-0.02, 1.0])\n",
        "  plt.ylim([0., 1.02])\n",
        "  plt.xlabel('FPR')\n",
        "  plt.ylabel('TPR')\n",
        "  plt.title(title)\n",
        "  plt.legend()\n",
        "  plt.show()"
      ],
      "execution_count": 0,
      "outputs": []
    },
    {
      "cell_type": "code",
      "metadata": {
        "id": "_M20Hf_sgO-c",
        "colab_type": "code",
        "colab": {
          "base_uri": "https://localhost:8080/",
          "height": 581
        },
        "outputId": "534b5ac0-6db7-4ebe-c25e-d744a636bee8"
      },
      "source": [
        "plot_roc_curve(all_sentiment_results, 'Sentiment features ROC curve')\n",
        "plot_roc_curve(words_results, 'Bag of words features ROC curve')\n",
        "\n"
      ],
      "execution_count": 26,
      "outputs": [
        {
          "output_type": "display_data",
          "data": {
            "image/png": "[encoded data removed]",
            "text/plain": [
              "<Figure size 432x288 with 1 Axes>"
            ]
          },
          "metadata": {
            "tags": []
          }
        },
        {
          "output_type": "display_data",
          "data": {
            "image/png": "[encoded data removed]",
            "text/plain": [
              "<Figure size 432x288 with 1 Axes>"
            ]
          },
          "metadata": {
            "tags": []
          }
        }
      ]
    },
    {
      "cell_type": "markdown",
      "metadata": {
        "id": "-8D2SWcphitr",
        "colab_type": "text"
      },
      "source": [
        "From previous plots we can see that Bag of words classifier is much better for our dataset. "
      ]
    },
    {
      "cell_type": "markdown",
      "metadata": {
        "id": "GklKQldybCyP",
        "colab_type": "text"
      },
      "source": [
        "**Question 3:**  Select a different reviews dataset and create a sentiment classifier which utilizes word embeddings (25pt).\n",
        "Evaluate this classifier (5pt). Try to improve your classifier by adding additional features (20pt)"
      ]
    },
    {
      "cell_type": "markdown",
      "metadata": {
        "id": "q8Kqc1DFjtcd",
        "colab_type": "text"
      },
      "source": [
        "I will use Hotels revious dataset."
      ]
    },
    {
      "cell_type": "code",
      "metadata": {
        "id": "MgS9j6eRbCyQ",
        "colab_type": "code",
        "colab": {
          "base_uri": "https://localhost:8080/",
          "height": 574
        },
        "outputId": "b6cc8152-ec45-4ef5-97e1-20d9ef7e3a0d"
      },
      "source": [
        "import spacy\n",
        "!python -m spacy download en_core_web_lg # Important! you need to restart runtime after install"
      ],
      "execution_count": 32,
      "outputs": [
        {
          "output_type": "stream",
          "text": [
            "Collecting en_core_web_lg==2.2.5\n",
            "\u001b[?25l  Downloading https://github.com/explosion/spacy-models/releases/download/en_core_web_lg-2.2.5/en_core_web_lg-2.2.5.tar.gz (827.9MB)\n",
            "\u001b[K     |████████████████████████████████| 827.9MB 1.1MB/s \n",
            "\u001b[?25hRequirement already satisfied: spacy>=2.2.2 in /usr/local/lib/python3.6/dist-packages (from en_core_web_lg==2.2.5) (2.2.4)\n",
            "Requirement already satisfied: numpy>=1.15.0 in /usr/local/lib/python3.6/dist-packages (from spacy>=2.2.2->en_core_web_lg==2.2.5) (1.18.4)\n",
            "Requirement already satisfied: thinc==7.4.0 in /usr/local/lib/python3.6/dist-packages (from spacy>=2.2.2->en_core_web_lg==2.2.5) (7.4.0)\n",
            "Requirement already satisfied: murmurhash<1.1.0,>=0.28.0 in /usr/local/lib/python3.6/dist-packages (from spacy>=2.2.2->en_core_web_lg==2.2.5) (1.0.2)\n",
            "Requirement already satisfied: srsly<1.1.0,>=1.0.2 in /usr/local/lib/python3.6/dist-packages (from spacy>=2.2.2->en_core_web_lg==2.2.5) (1.0.2)\n",
            "Requirement already satisfied: wasabi<1.1.0,>=0.4.0 in /usr/local/lib/python3.6/dist-packages (from spacy>=2.2.2->en_core_web_lg==2.2.5) (0.6.0)\n",
            "Requirement already satisfied: catalogue<1.1.0,>=0.0.7 in /usr/local/lib/python3.6/dist-packages (from spacy>=2.2.2->en_core_web_lg==2.2.5) (1.0.0)\n",
            "Requirement already satisfied: cymem<2.1.0,>=2.0.2 in /usr/local/lib/python3.6/dist-packages (from spacy>=2.2.2->en_core_web_lg==2.2.5) (2.0.3)\n",
            "Requirement already satisfied: requests<3.0.0,>=2.13.0 in /usr/local/lib/python3.6/dist-packages (from spacy>=2.2.2->en_core_web_lg==2.2.5) (2.23.0)\n",
            "Requirement already satisfied: setuptools in /usr/local/lib/python3.6/dist-packages (from spacy>=2.2.2->en_core_web_lg==2.2.5) (46.1.3)\n",
            "Requirement already satisfied: blis<0.5.0,>=0.4.0 in /usr/local/lib/python3.6/dist-packages (from spacy>=2.2.2->en_core_web_lg==2.2.5) (0.4.1)\n",
            "Requirement already satisfied: preshed<3.1.0,>=3.0.2 in /usr/local/lib/python3.6/dist-packages (from spacy>=2.2.2->en_core_web_lg==2.2.5) (3.0.2)\n",
            "Requirement already satisfied: tqdm<5.0.0,>=4.38.0 in /usr/local/lib/python3.6/dist-packages (from spacy>=2.2.2->en_core_web_lg==2.2.5) (4.41.1)\n",
            "Requirement already satisfied: plac<1.2.0,>=0.9.6 in /usr/local/lib/python3.6/dist-packages (from spacy>=2.2.2->en_core_web_lg==2.2.5) (1.1.3)\n",
            "Requirement already satisfied: importlib-metadata>=0.20; python_version < \"3.8\" in /usr/local/lib/python3.6/dist-packages (from catalogue<1.1.0,>=0.0.7->spacy>=2.2.2->en_core_web_lg==2.2.5) (1.6.0)\n",
            "Requirement already satisfied: chardet<4,>=3.0.2 in /usr/local/lib/python3.6/dist-packages (from requests<3.0.0,>=2.13.0->spacy>=2.2.2->en_core_web_lg==2.2.5) (3.0.4)\n",
            "Requirement already satisfied: idna<3,>=2.5 in /usr/local/lib/python3.6/dist-packages (from requests<3.0.0,>=2.13.0->spacy>=2.2.2->en_core_web_lg==2.2.5) (2.9)\n",
            "Requirement already satisfied: certifi>=2017.4.17 in /usr/local/lib/python3.6/dist-packages (from requests<3.0.0,>=2.13.0->spacy>=2.2.2->en_core_web_lg==2.2.5) (2020.4.5.1)\n",
            "Requirement already satisfied: urllib3!=1.25.0,!=1.25.1,<1.26,>=1.21.1 in /usr/local/lib/python3.6/dist-packages (from requests<3.0.0,>=2.13.0->spacy>=2.2.2->en_core_web_lg==2.2.5) (1.24.3)\n",
            "Requirement already satisfied: zipp>=0.5 in /usr/local/lib/python3.6/dist-packages (from importlib-metadata>=0.20; python_version < \"3.8\"->catalogue<1.1.0,>=0.0.7->spacy>=2.2.2->en_core_web_lg==2.2.5) (3.1.0)\n",
            "Building wheels for collected packages: en-core-web-lg\n",
            "  Building wheel for en-core-web-lg (setup.py) ... \u001b[?25l\u001b[?25hdone\n",
            "  Created wheel for en-core-web-lg: filename=en_core_web_lg-2.2.5-cp36-none-any.whl size=829180944 sha256=d5009b4d0562a99a9a840b82b442d76486600aa2321d1a51b0a0d542e6cd420d\n",
            "  Stored in directory: /tmp/pip-ephem-wheel-cache-wsw3uckt/wheels/2a/c1/a6/fc7a877b1efca9bc6a089d6f506f16d3868408f9ff89f8dbfc\n",
            "Successfully built en-core-web-lg\n",
            "Installing collected packages: en-core-web-lg\n",
            "Successfully installed en-core-web-lg-2.2.5\n",
            "\u001b[38;5;2m✔ Download and installation successful\u001b[0m\n",
            "You can now load the model via spacy.load('en_core_web_lg')\n"
          ],
          "name": "stdout"
        }
      ]
    },
    {
      "cell_type": "code",
      "metadata": {
        "id": "jwHp8qQ0jrLy",
        "colab_type": "code",
        "colab": {
          "base_uri": "https://localhost:8080/",
          "height": 118
        },
        "outputId": "e708eb5c-a878-409d-8adc-fa03b545e494"
      },
      "source": [
        "!mkdir ./datasets/hotel-review\n",
        "# download the dataset from Kaggle and unzip it\n",
        "!kaggle datasets download anu0012/hotel-review -p ./datasets/hotel-review\n",
        "!unzip ./datasets/hotel-review/*.zip  -d ./datasets/hotel-review/"
      ],
      "execution_count": 1,
      "outputs": [
        {
          "output_type": "stream",
          "text": [
            "Downloading hotel-review.zip to ./datasets/hotel-review\n",
            " 41% 9.00M/21.7M [00:00<00:00, 31.2MB/s]\n",
            "100% 21.7M/21.7M [00:00<00:00, 49.1MB/s]\n",
            "Archive:  ./datasets/hotel-review/hotel-review.zip\n",
            "  inflating: ./datasets/hotel-review/test.csv  \n",
            "  inflating: ./datasets/hotel-review/train.csv  \n"
          ],
          "name": "stdout"
        }
      ]
    },
    {
      "cell_type": "code",
      "metadata": {
        "id": "J-CBHgYgmRBx",
        "colab_type": "code",
        "colab": {
          "base_uri": "https://localhost:8080/",
          "height": 202
        },
        "outputId": "66b567d6-24ac-4681-c137-95468f13dc7f"
      },
      "source": [
        "import turicreate as tc\n",
        "\n",
        "def score2sentiment(label):\n",
        "    if label == 'happy':\n",
        "        return 1\n",
        "    else:\n",
        "        return 0\n",
        "\n",
        "def get_hotel_reviews_data(data_type):\n",
        "  sf = tc.SFrame.read_csv(\"./datasets/hotel-review/{}.csv\".format(data_type))  \n",
        "  if data_type=='train':\n",
        "    sf = sf.rename({\"Is_Response\": 'sentiment'})\n",
        "    sf = sf[sf['sentiment'].apply(lambda s: s=='happy' or s=='not happy')]\n",
        "    sf['sentiment'] = sf['sentiment'].apply(lambda s: score2sentiment(s))\n",
        "    sf.materialize()\n",
        "  return sf\n",
        "\n",
        "sf = get_hotel_reviews_data('train')"
      ],
      "execution_count": 34,
      "outputs": [
        {
          "output_type": "display_data",
          "data": {
            "text/html": [
              "<pre>Finished parsing file /content/datasets/hotel-review/train.csv</pre>"
            ],
            "text/plain": [
              "Finished parsing file /content/datasets/hotel-review/train.csv"
            ]
          },
          "metadata": {
            "tags": []
          }
        },
        {
          "output_type": "display_data",
          "data": {
            "text/html": [
              "<pre>Parsing completed. Parsed 100 lines in 1.1669 secs.</pre>"
            ],
            "text/plain": [
              "Parsing completed. Parsed 100 lines in 1.1669 secs."
            ]
          },
          "metadata": {
            "tags": []
          }
        },
        {
          "output_type": "stream",
          "text": [
            "------------------------------------------------------\n",
            "Inferred types from first 100 line(s) of file as \n",
            "column_type_hints=[str,str,str,str,str]\n",
            "If parsing fails due to incorrect types, you can correct\n",
            "the inferred type list above and pass it to read_csv in\n",
            "the column_type_hints argument\n",
            "------------------------------------------------------\n"
          ],
          "name": "stdout"
        },
        {
          "output_type": "display_data",
          "data": {
            "text/html": [
              "<pre>Finished parsing file /content/datasets/hotel-review/train.csv</pre>"
            ],
            "text/plain": [
              "Finished parsing file /content/datasets/hotel-review/train.csv"
            ]
          },
          "metadata": {
            "tags": []
          }
        },
        {
          "output_type": "display_data",
          "data": {
            "text/html": [
              "<pre>Parsing completed. Parsed 38932 lines in 0.825348 secs.</pre>"
            ],
            "text/plain": [
              "Parsing completed. Parsed 38932 lines in 0.825348 secs."
            ]
          },
          "metadata": {
            "tags": []
          }
        }
      ]
    },
    {
      "cell_type": "code",
      "metadata": {
        "id": "u6bHxqBhpEIe",
        "colab_type": "code",
        "colab": {
          "base_uri": "https://localhost:8080/",
          "height": 285
        },
        "outputId": "25e48878-db3c-4a64-95f4-23d64cde9729"
      },
      "source": [
        "import seaborn as sns\n",
        "sns.set()\n",
        "sns.distplot(train_sf['sentiment'], kde=False, rug=True)"
      ],
      "execution_count": 25,
      "outputs": [
        {
          "output_type": "execute_result",
          "data": {
            "text/plain": [
              "<matplotlib.axes._subplots.AxesSubplot at 0x7fc27baeef98>"
            ]
          },
          "metadata": {
            "tags": []
          },
          "execution_count": 25
        },
        {
          "output_type": "display_data",
          "data": {
            "image/png": "[encoded data removed]",
            "text/plain": [
              "<Figure size 432x288 with 1 Axes>"
            ]
          },
          "metadata": {
            "tags": []
          }
        }
      ]
    },
    {
      "cell_type": "markdown",
      "metadata": {
        "id": "JJvIBv68o3SE",
        "colab_type": "text"
      },
      "source": [
        "I randomly selected 5000 samples from each sentiment label "
      ]
    },
    {
      "cell_type": "code",
      "metadata": {
        "id": "W1XI81qSqhZF",
        "colab_type": "code",
        "colab": {}
      },
      "source": [
        "import pandas as pd\n",
        "pos_sf = sf[sf['sentiment'].apply(lambda s: s==1 )]\n",
        "neg_sf = sf[sf['sentiment'].apply(lambda s: s==0 )]\n",
        "pos_df = pos_sf.to_dataframe().sample(n=5000)\n",
        "neg_df = neg_sf.to_dataframe().sample(n=5000)\n",
        "sf = tc.SFrame(pd.concat([pos_df, neg_df], axis=0, sort=False))\n",
        "sf['normalize_all_text'] = sf['Description'].apply(lambda x: normalize_text(x))\n",
        "sf.materialize()"
      ],
      "execution_count": 0,
      "outputs": []
    },
    {
      "cell_type": "code",
      "metadata": {
        "id": "uCkHiMnqJ-tF",
        "colab_type": "code",
        "colab": {
          "base_uri": "https://localhost:8080/",
          "height": 1000
        },
        "outputId": "0cb60e08-270a-4f9e-bee7-2dabe0e46edf"
      },
      "source": [
        "from tqdm import tqdm\n",
        "import spacy\n",
        "\n",
        "def get_embedding_features(sf):\n",
        "  nlp = spacy.load('en_core_web_lg')\n",
        "  l = []\n",
        "  for i in tqdm(range(len(sf))):\n",
        "      text = sf[i][\"normalize_all_text\"]\n",
        "      l.append(nlp(text).vector)\n",
        "  sf['vector'] = l \n",
        "  return sf\n",
        "\n",
        "sf = get_embedding_features(sf)"
      ],
      "execution_count": 36,
      "outputs": [
        {
          "output_type": "stream",
          "text": [
            "\n",
            "  0%|          | 0/10000 [00:00<?, ?it/s]\u001b[A\n",
            "  0%|          | 4/10000 [00:00<04:38, 35.83it/s]\u001b[A\n",
            "  0%|          | 8/10000 [00:00<04:36, 36.11it/s]\u001b[A\n",
            "  0%|          | 11/10000 [00:00<05:05, 32.67it/s]\u001b[A\n",
            "  0%|          | 15/10000 [00:00<04:59, 33.38it/s]\u001b[A\n",
            "  0%|          | 19/10000 [00:00<05:52, 28.33it/s]\u001b[A\n",
            "  0%|          | 22/10000 [00:00<06:24, 25.98it/s]\u001b[A\n",
            "  0%|          | 26/10000 [00:00<06:28, 25.69it/s]\u001b[A\n",
            "  0%|          | 30/10000 [00:01<05:52, 28.25it/s]\u001b[A\n",
            "  0%|          | 33/10000 [00:01<07:27, 22.25it/s]\u001b[A\n",
            "  0%|          | 38/10000 [00:01<06:18, 26.30it/s]\u001b[A\n",
            "  0%|          | 42/10000 [00:01<07:29, 22.16it/s]\u001b[A\n",
            "  0%|          | 46/10000 [00:01<06:40, 24.84it/s]\u001b[A\n",
            "  0%|          | 49/10000 [00:01<06:38, 24.96it/s]\u001b[A\n",
            "  1%|          | 53/10000 [00:01<06:01, 27.55it/s]\u001b[A\n",
            "  1%|          | 57/10000 [00:02<05:52, 28.20it/s]\u001b[A\n",
            "  1%|          | 63/10000 [00:02<05:04, 32.67it/s]\u001b[A\n",
            "  1%|          | 69/10000 [00:02<04:29, 36.84it/s]\u001b[A\n",
            "  1%|          | 74/10000 [00:02<04:22, 37.86it/s]\u001b[A\n",
            "  1%|          | 79/10000 [00:02<04:19, 38.30it/s]\u001b[A\n",
            "  1%|          | 84/10000 [00:02<04:27, 37.10it/s]\u001b[A\n",
            "  1%|          | 89/10000 [00:02<04:10, 39.59it/s]\u001b[A\n",
            "  1%|          | 94/10000 [00:02<04:23, 37.53it/s]\u001b[A\n",
            "  1%|          | 98/10000 [00:03<04:26, 37.22it/s]\u001b[A\n",
            "  1%|          | 102/10000 [00:03<04:45, 34.72it/s]\u001b[A\n",
            "  1%|          | 107/10000 [00:03<04:35, 35.90it/s]\u001b[A\n",
            "  1%|          | 111/10000 [00:03<04:47, 34.43it/s]\u001b[A\n",
            "  1%|          | 116/10000 [00:03<04:23, 37.53it/s]\u001b[A\n",
            "  1%|          | 121/10000 [00:03<04:07, 39.90it/s]\u001b[A\n",
            "  1%|▏         | 126/10000 [00:03<04:00, 41.11it/s]\u001b[A\n",
            "  1%|▏         | 131/10000 [00:03<03:57, 41.52it/s]\u001b[A\n",
            "  1%|▏         | 137/10000 [00:04<03:49, 42.94it/s]\u001b[A\n",
            "  1%|▏         | 142/10000 [00:04<03:45, 43.62it/s]\u001b[A\n",
            "  1%|▏         | 148/10000 [00:04<03:34, 45.83it/s]\u001b[A\n",
            "  2%|▏         | 153/10000 [00:04<04:07, 39.78it/s]\u001b[A\n",
            "  2%|▏         | 158/10000 [00:04<04:12, 38.98it/s]\u001b[A\n",
            "  2%|▏         | 163/10000 [00:04<04:46, 34.32it/s]\u001b[A\n",
            "  2%|▏         | 167/10000 [00:04<04:49, 33.96it/s]\u001b[A\n",
            "  2%|▏         | 172/10000 [00:04<04:32, 36.02it/s]\u001b[A\n",
            "  2%|▏         | 176/10000 [00:05<05:12, 31.41it/s]\u001b[A\n",
            "  2%|▏         | 180/10000 [00:05<05:19, 30.76it/s]\u001b[A\n",
            "  2%|▏         | 186/10000 [00:05<04:39, 35.09it/s]\u001b[A\n",
            "  2%|▏         | 192/10000 [00:05<04:15, 38.35it/s]\u001b[A\n",
            "  2%|▏         | 197/10000 [00:05<04:11, 39.05it/s]\u001b[A\n",
            "  2%|▏         | 202/10000 [00:05<04:50, 33.71it/s]\u001b[A\n",
            "  2%|▏         | 206/10000 [00:05<05:02, 32.41it/s]\u001b[A\n",
            "  2%|▏         | 211/10000 [00:06<04:38, 35.13it/s]\u001b[A\n",
            "  2%|▏         | 215/10000 [00:06<05:06, 31.96it/s]\u001b[A\n",
            "  2%|▏         | 220/10000 [00:06<04:35, 35.44it/s]\u001b[A\n",
            "  2%|▏         | 224/10000 [00:06<04:32, 35.82it/s]\u001b[A\n",
            "  2%|▏         | 228/10000 [00:06<04:39, 34.90it/s]\u001b[A\n",
            "  2%|▏         | 232/10000 [00:06<04:57, 32.86it/s]\u001b[A\n",
            "  2%|▏         | 237/10000 [00:06<04:29, 36.21it/s]\u001b[A\n",
            "  2%|▏         | 242/10000 [00:06<04:16, 38.05it/s]\u001b[A\n",
            "  2%|▏         | 247/10000 [00:07<04:08, 39.19it/s]\u001b[A\n",
            "  3%|▎         | 252/10000 [00:07<04:22, 37.13it/s]\u001b[A\n",
            "  3%|▎         | 256/10000 [00:07<04:17, 37.81it/s]\u001b[A\n",
            "  3%|▎         | 260/10000 [00:07<04:50, 33.57it/s]\u001b[A\n",
            "  3%|▎         | 264/10000 [00:07<04:41, 34.62it/s]\u001b[A\n",
            "  3%|▎         | 268/10000 [00:07<04:38, 35.00it/s]\u001b[A\n",
            "  3%|▎         | 274/10000 [00:07<04:06, 39.40it/s]\u001b[A\n",
            "  3%|▎         | 279/10000 [00:07<04:02, 40.05it/s]\u001b[A\n",
            "  3%|▎         | 284/10000 [00:08<03:51, 41.91it/s]\u001b[A\n",
            "  3%|▎         | 289/10000 [00:08<03:49, 42.40it/s]\u001b[A\n",
            "  3%|▎         | 294/10000 [00:08<03:49, 42.28it/s]\u001b[A\n",
            "  3%|▎         | 300/10000 [00:08<03:30, 46.14it/s]\u001b[A\n",
            "  3%|▎         | 305/10000 [00:08<03:38, 44.36it/s]\u001b[A\n",
            "  3%|▎         | 310/10000 [00:08<03:39, 44.12it/s]\u001b[A\n",
            "  3%|▎         | 315/10000 [00:08<03:56, 41.01it/s]\u001b[A\n",
            "  3%|▎         | 320/10000 [00:08<05:06, 31.57it/s]\u001b[A\n",
            "  3%|▎         | 324/10000 [00:09<04:56, 32.68it/s]\u001b[A\n",
            "  3%|▎         | 329/10000 [00:09<04:27, 36.21it/s]\u001b[A\n",
            "  3%|▎         | 333/10000 [00:09<04:21, 36.95it/s]\u001b[A\n",
            "  3%|▎         | 337/10000 [00:09<05:00, 32.15it/s]\u001b[A\n",
            "  3%|▎         | 341/10000 [00:09<04:44, 33.99it/s]\u001b[A\n",
            "  3%|▎         | 346/10000 [00:09<04:17, 37.55it/s]\u001b[A\n",
            "  4%|▎         | 351/10000 [00:09<04:01, 39.99it/s]\u001b[A\n",
            "  4%|▎         | 356/10000 [00:09<03:58, 40.49it/s]\u001b[A\n",
            "  4%|▎         | 361/10000 [00:10<04:35, 34.95it/s]\u001b[A\n",
            "  4%|▎         | 365/10000 [00:10<04:32, 35.30it/s]\u001b[A\n",
            "  4%|▎         | 369/10000 [00:10<04:27, 36.01it/s]\u001b[A\n",
            "  4%|▎         | 373/10000 [00:10<04:20, 36.92it/s]\u001b[A\n",
            "  4%|▍         | 378/10000 [00:10<04:04, 39.29it/s]\u001b[A\n",
            "  4%|▍         | 383/10000 [00:10<04:24, 36.34it/s]\u001b[A\n",
            "  4%|▍         | 388/10000 [00:10<04:10, 38.34it/s]\u001b[A\n",
            "  4%|▍         | 393/10000 [00:10<04:30, 35.49it/s]\u001b[A\n",
            "  4%|▍         | 397/10000 [00:11<04:34, 35.01it/s]\u001b[A\n",
            "  4%|▍         | 401/10000 [00:11<04:36, 34.73it/s]\u001b[A\n",
            "  4%|▍         | 406/10000 [00:11<04:16, 37.35it/s]\u001b[A\n",
            "  4%|▍         | 410/10000 [00:11<04:22, 36.46it/s]\u001b[A\n",
            "  4%|▍         | 415/10000 [00:11<04:12, 37.96it/s]\u001b[A\n",
            "  4%|▍         | 419/10000 [00:11<04:30, 35.39it/s]\u001b[A\n",
            "  4%|▍         | 424/10000 [00:11<04:16, 37.39it/s]\u001b[A\n",
            "  4%|▍         | 428/10000 [00:11<04:13, 37.71it/s]\u001b[A\n",
            "  4%|▍         | 434/10000 [00:11<03:50, 41.57it/s]\u001b[A\n",
            "  4%|▍         | 439/10000 [00:12<04:56, 32.24it/s]\u001b[A\n",
            "  4%|▍         | 444/10000 [00:12<04:25, 35.98it/s]\u001b[A\n",
            "  4%|▍         | 449/10000 [00:12<04:10, 38.12it/s]\u001b[A\n",
            "  5%|▍         | 454/10000 [00:12<04:24, 36.11it/s]\u001b[A\n",
            "  5%|▍         | 459/10000 [00:12<04:18, 36.92it/s]\u001b[A\n",
            "  5%|▍         | 464/10000 [00:12<03:58, 39.96it/s]\u001b[A\n",
            "  5%|▍         | 469/10000 [00:12<04:11, 37.84it/s]\u001b[A\n",
            "  5%|▍         | 473/10000 [00:13<04:08, 38.38it/s]\u001b[A\n",
            "  5%|▍         | 478/10000 [00:13<04:00, 39.64it/s]\u001b[A\n",
            "  5%|▍         | 483/10000 [00:13<04:00, 39.65it/s]\u001b[A\n",
            "  5%|▍         | 488/10000 [00:13<04:45, 33.32it/s]\u001b[A\n",
            "  5%|▍         | 493/10000 [00:13<05:02, 31.41it/s]\u001b[A\n",
            "  5%|▍         | 498/10000 [00:13<04:35, 34.51it/s]\u001b[A\n",
            "  5%|▌         | 503/10000 [00:13<04:16, 37.07it/s]\u001b[A\n",
            "  5%|▌         | 508/10000 [00:14<04:03, 39.00it/s]\u001b[A\n",
            "  5%|▌         | 513/10000 [00:14<04:53, 32.27it/s]\u001b[A\n",
            "  5%|▌         | 517/10000 [00:14<04:49, 32.76it/s]\u001b[A\n",
            "  5%|▌         | 522/10000 [00:14<04:28, 35.24it/s]\u001b[A\n",
            "  5%|▌         | 527/10000 [00:14<04:15, 37.00it/s]\u001b[A\n",
            "  5%|▌         | 531/10000 [00:14<04:47, 32.94it/s]\u001b[A\n",
            "  5%|▌         | 535/10000 [00:14<05:06, 30.89it/s]\u001b[A\n",
            "  5%|▌         | 539/10000 [00:15<05:10, 30.44it/s]\u001b[A\n",
            "  5%|▌         | 545/10000 [00:15<04:28, 35.25it/s]\u001b[A\n",
            "  5%|▌         | 549/10000 [00:15<04:33, 34.61it/s]\u001b[A\n",
            "  6%|▌         | 554/10000 [00:15<04:27, 35.33it/s]\u001b[A\n",
            "  6%|▌         | 559/10000 [00:15<04:09, 37.85it/s]\u001b[A\n",
            "  6%|▌         | 564/10000 [00:15<04:13, 37.24it/s]\u001b[A\n",
            "  6%|▌         | 568/10000 [00:15<04:18, 36.49it/s]\u001b[A\n",
            "  6%|▌         | 572/10000 [00:15<04:52, 32.21it/s]\u001b[A\n",
            "  6%|▌         | 578/10000 [00:16<04:23, 35.71it/s]\u001b[A\n",
            "  6%|▌         | 582/10000 [00:16<04:46, 32.83it/s]\u001b[A\n",
            "  6%|▌         | 587/10000 [00:16<04:26, 35.38it/s]\u001b[A\n",
            "  6%|▌         | 591/10000 [00:16<04:34, 34.33it/s]\u001b[A\n",
            "  6%|▌         | 595/10000 [00:16<04:37, 33.85it/s]\u001b[A\n",
            "  6%|▌         | 601/10000 [00:16<04:06, 38.06it/s]\u001b[A\n",
            "  6%|▌         | 606/10000 [00:16<03:56, 39.64it/s]\u001b[A\n",
            "  6%|▌         | 611/10000 [00:16<03:51, 40.54it/s]\u001b[A\n",
            "  6%|▌         | 616/10000 [00:17<04:34, 34.15it/s]\u001b[A\n",
            "  6%|▌         | 620/10000 [00:17<05:22, 29.11it/s]\u001b[A\n",
            "  6%|▌         | 624/10000 [00:17<05:11, 30.11it/s]\u001b[A\n",
            "  6%|▋         | 629/10000 [00:17<04:38, 33.64it/s]\u001b[A\n",
            "  6%|▋         | 633/10000 [00:17<04:33, 34.22it/s]\u001b[A\n",
            "  6%|▋         | 637/10000 [00:17<04:22, 35.62it/s]\u001b[A\n",
            "  6%|▋         | 642/10000 [00:17<04:04, 38.32it/s]\u001b[A\n",
            "  6%|▋         | 647/10000 [00:17<04:06, 37.94it/s]\u001b[A\n",
            "  7%|▋         | 652/10000 [00:18<03:58, 39.20it/s]\u001b[A\n",
            "  7%|▋         | 657/10000 [00:18<03:44, 41.69it/s]\u001b[A\n",
            "  7%|▋         | 662/10000 [00:18<03:36, 43.13it/s]\u001b[A\n",
            "  7%|▋         | 667/10000 [00:18<03:30, 44.33it/s]\u001b[A\n",
            "  7%|▋         | 672/10000 [00:18<03:34, 43.53it/s]\u001b[A\n",
            "  7%|▋         | 677/10000 [00:18<03:45, 41.38it/s]\u001b[A\n",
            "  7%|▋         | 682/10000 [00:18<03:51, 40.21it/s]\u001b[A\n",
            "  7%|▋         | 688/10000 [00:18<03:36, 43.08it/s]\u001b[A\n",
            "  7%|▋         | 693/10000 [00:19<03:51, 40.21it/s]\u001b[A\n",
            "  7%|▋         | 699/10000 [00:19<03:31, 44.06it/s]\u001b[A\n",
            "  7%|▋         | 704/10000 [00:19<03:53, 39.90it/s]\u001b[A\n",
            "  7%|▋         | 709/10000 [00:19<04:17, 36.12it/s]\u001b[A\n",
            "  7%|▋         | 713/10000 [00:19<04:18, 35.90it/s]\u001b[A\n",
            "  7%|▋         | 718/10000 [00:19<04:12, 36.78it/s]\u001b[A\n",
            "  7%|▋         | 722/10000 [00:19<04:47, 32.29it/s]\u001b[A\n",
            "  7%|▋         | 726/10000 [00:20<05:25, 28.52it/s]\u001b[A\n",
            "  7%|▋         | 730/10000 [00:20<05:35, 27.63it/s]\u001b[A\n",
            "  7%|▋         | 734/10000 [00:20<05:17, 29.14it/s]\u001b[A\n",
            "  7%|▋         | 738/10000 [00:20<05:33, 27.76it/s]\u001b[A\n",
            "  7%|▋         | 742/10000 [00:20<05:03, 30.50it/s]\u001b[A\n",
            "  7%|▋         | 748/10000 [00:20<04:24, 35.02it/s]\u001b[A\n",
            "  8%|▊         | 754/10000 [00:20<03:59, 38.59it/s]\u001b[A\n",
            "  8%|▊         | 759/10000 [00:20<04:16, 36.09it/s]\u001b[A\n",
            "  8%|▊         | 763/10000 [00:21<04:14, 36.23it/s]\u001b[A\n",
            "  8%|▊         | 768/10000 [00:21<04:06, 37.41it/s]\u001b[A\n",
            "  8%|▊         | 773/10000 [00:21<04:00, 38.32it/s]\u001b[A\n",
            "  8%|▊         | 777/10000 [00:21<04:08, 37.16it/s]\u001b[A\n",
            "  8%|▊         | 782/10000 [00:21<03:53, 39.46it/s]\u001b[A\n",
            "  8%|▊         | 788/10000 [00:21<03:30, 43.71it/s]\u001b[A\n",
            "  8%|▊         | 793/10000 [00:21<04:09, 36.94it/s]\u001b[A\n",
            "  8%|▊         | 798/10000 [00:21<04:03, 37.85it/s]\u001b[A\n",
            "  8%|▊         | 803/10000 [00:22<04:05, 37.48it/s]\u001b[A\n",
            "  8%|▊         | 807/10000 [00:22<04:01, 38.14it/s]\u001b[A\n",
            "  8%|▊         | 811/10000 [00:22<04:06, 37.29it/s]\u001b[A\n",
            "  8%|▊         | 816/10000 [00:22<03:52, 39.46it/s]\u001b[A\n",
            "  8%|▊         | 821/10000 [00:22<03:47, 40.26it/s]\u001b[A\n",
            "  8%|▊         | 826/10000 [00:22<04:04, 37.58it/s]\u001b[A\n",
            "  8%|▊         | 830/10000 [00:22<04:46, 31.97it/s]\u001b[A\n",
            "  8%|▊         | 834/10000 [00:22<04:46, 32.02it/s]\u001b[A\n",
            "  8%|▊         | 838/10000 [00:23<04:34, 33.36it/s]\u001b[A\n",
            "  8%|▊         | 842/10000 [00:23<05:22, 28.40it/s]\u001b[A\n",
            "  8%|▊         | 846/10000 [00:23<05:12, 29.29it/s]\u001b[A\n",
            "  8%|▊         | 850/10000 [00:23<05:07, 29.79it/s]\u001b[A\n",
            "  9%|▊         | 854/10000 [00:23<05:50, 26.13it/s]\u001b[A\n",
            "  9%|▊         | 859/10000 [00:23<05:04, 30.02it/s]\u001b[A\n",
            "  9%|▊         | 864/10000 [00:23<04:35, 33.19it/s]\u001b[A\n",
            "  9%|▊         | 868/10000 [00:24<04:26, 34.26it/s]\u001b[A\n",
            "  9%|▊         | 874/10000 [00:24<04:01, 37.72it/s]\u001b[A\n",
            "  9%|▉         | 879/10000 [00:24<03:45, 40.37it/s]\u001b[A\n",
            "  9%|▉         | 884/10000 [00:24<03:59, 37.99it/s]\u001b[A\n",
            "  9%|▉         | 888/10000 [00:24<04:09, 36.58it/s]\u001b[A\n",
            "  9%|▉         | 892/10000 [00:24<04:04, 37.31it/s]\u001b[A\n",
            "  9%|▉         | 897/10000 [00:24<03:46, 40.26it/s]\u001b[A\n",
            "  9%|▉         | 902/10000 [00:24<04:08, 36.68it/s]\u001b[A\n",
            "  9%|▉         | 907/10000 [00:25<03:55, 38.66it/s]\u001b[A\n",
            "  9%|▉         | 912/10000 [00:25<04:15, 35.55it/s]\u001b[A\n",
            "  9%|▉         | 917/10000 [00:25<03:59, 38.00it/s]\u001b[A\n",
            "  9%|▉         | 922/10000 [00:25<03:55, 38.53it/s]\u001b[A\n",
            "  9%|▉         | 927/10000 [00:25<03:45, 40.28it/s]\u001b[A\n",
            "  9%|▉         | 932/10000 [00:25<03:51, 39.24it/s]\u001b[A\n",
            "  9%|▉         | 936/10000 [00:25<04:01, 37.59it/s]\u001b[A\n",
            "  9%|▉         | 940/10000 [00:25<03:58, 38.03it/s]\u001b[A\n",
            "  9%|▉         | 944/10000 [00:26<03:56, 38.31it/s]\u001b[A\n",
            " 10%|▉         | 950/10000 [00:26<03:35, 41.98it/s]\u001b[A\n",
            " 10%|▉         | 955/10000 [00:26<03:52, 38.95it/s]\u001b[A\n",
            " 10%|▉         | 961/10000 [00:26<03:29, 43.10it/s]\u001b[A\n",
            " 10%|▉         | 966/10000 [00:26<03:24, 44.23it/s]\u001b[A\n",
            " 10%|▉         | 971/10000 [00:26<03:51, 39.03it/s]\u001b[A\n",
            " 10%|▉         | 976/10000 [00:26<03:38, 41.24it/s]\u001b[A\n",
            " 10%|▉         | 981/10000 [00:26<04:34, 32.81it/s]\u001b[A\n",
            " 10%|▉         | 986/10000 [00:27<04:13, 35.58it/s]\u001b[A\n",
            " 10%|▉         | 991/10000 [00:27<04:11, 35.81it/s]\u001b[A\n",
            " 10%|▉         | 996/10000 [00:27<03:57, 37.91it/s]\u001b[A\n",
            " 10%|█         | 1001/10000 [00:27<03:45, 39.96it/s]\u001b[A\n",
            " 10%|█         | 1006/10000 [00:27<03:51, 38.87it/s]\u001b[A\n",
            " 10%|█         | 1011/10000 [00:27<03:57, 37.80it/s]\u001b[A\n",
            " 10%|█         | 1015/10000 [00:27<04:35, 32.64it/s]\u001b[A\n",
            " 10%|█         | 1019/10000 [00:28<04:57, 30.20it/s]\u001b[A\n",
            " 10%|█         | 1023/10000 [00:28<04:40, 31.98it/s]\u001b[A\n",
            " 10%|█         | 1028/10000 [00:28<04:26, 33.65it/s]\u001b[A\n",
            " 10%|█         | 1033/10000 [00:28<04:05, 36.47it/s]\u001b[A\n",
            " 10%|█         | 1039/10000 [00:28<03:45, 39.76it/s]\u001b[A\n",
            " 10%|█         | 1044/10000 [00:28<04:50, 30.83it/s]\u001b[A\n",
            " 10%|█         | 1048/10000 [00:28<04:37, 32.21it/s]\u001b[A\n",
            " 11%|█         | 1053/10000 [00:29<04:20, 34.30it/s]\u001b[A\n",
            " 11%|█         | 1057/10000 [00:29<04:53, 30.48it/s]\u001b[A\n",
            " 11%|█         | 1062/10000 [00:29<04:19, 34.42it/s]\u001b[A\n",
            " 11%|█         | 1066/10000 [00:29<04:50, 30.79it/s]\u001b[A\n",
            " 11%|█         | 1071/10000 [00:29<04:42, 31.63it/s]\u001b[A\n",
            " 11%|█         | 1075/10000 [00:29<04:41, 31.70it/s]\u001b[A\n",
            " 11%|█         | 1079/10000 [00:29<04:42, 31.62it/s]\u001b[A\n",
            " 11%|█         | 1084/10000 [00:29<04:25, 33.63it/s]\u001b[A\n",
            " 11%|█         | 1088/10000 [00:30<04:29, 33.09it/s]\u001b[A\n",
            " 11%|█         | 1092/10000 [00:30<04:21, 34.03it/s]\u001b[A\n",
            " 11%|█         | 1096/10000 [00:30<05:50, 25.38it/s]\u001b[A\n",
            " 11%|█         | 1099/10000 [00:30<05:50, 25.37it/s]\u001b[A\n",
            " 11%|█         | 1103/10000 [00:30<05:15, 28.21it/s]\u001b[A\n",
            " 11%|█         | 1107/10000 [00:30<04:48, 30.78it/s]\u001b[A\n",
            " 11%|█         | 1111/10000 [00:30<04:57, 29.83it/s]\u001b[A\n",
            " 11%|█         | 1115/10000 [00:31<04:37, 31.99it/s]\u001b[A\n",
            " 11%|█         | 1120/10000 [00:31<04:12, 35.17it/s]\u001b[A\n",
            " 11%|█▏        | 1125/10000 [00:31<03:56, 37.59it/s]\u001b[A\n",
            " 11%|█▏        | 1129/10000 [00:31<03:53, 38.03it/s]\u001b[A\n",
            " 11%|█▏        | 1134/10000 [00:31<03:46, 39.15it/s]\u001b[A\n",
            " 11%|█▏        | 1140/10000 [00:31<03:26, 42.90it/s]\u001b[A\n",
            " 11%|█▏        | 1145/10000 [00:31<03:38, 40.55it/s]\u001b[A\n",
            " 12%|█▏        | 1150/10000 [00:31<03:37, 40.70it/s]\u001b[A\n",
            " 12%|█▏        | 1155/10000 [00:31<03:26, 42.83it/s]\u001b[A\n",
            " 12%|█▏        | 1160/10000 [00:32<04:05, 36.00it/s]\u001b[A\n",
            " 12%|█▏        | 1165/10000 [00:32<03:48, 38.75it/s]\u001b[A\n",
            " 12%|█▏        | 1170/10000 [00:32<03:41, 39.78it/s]\u001b[A\n",
            " 12%|█▏        | 1175/10000 [00:32<04:12, 35.00it/s]\u001b[A\n",
            " 12%|█▏        | 1181/10000 [00:32<03:56, 37.37it/s]\u001b[A\n",
            " 12%|█▏        | 1185/10000 [00:32<03:56, 37.26it/s]\u001b[A\n",
            " 12%|█▏        | 1189/10000 [00:32<04:18, 34.06it/s]\u001b[A\n",
            " 12%|█▏        | 1193/10000 [00:33<04:07, 35.53it/s]\u001b[A\n",
            " 12%|█▏        | 1198/10000 [00:33<03:53, 37.66it/s]\u001b[A\n",
            " 12%|█▏        | 1202/10000 [00:33<03:53, 37.75it/s]\u001b[A\n",
            " 12%|█▏        | 1206/10000 [00:33<04:23, 33.40it/s]\u001b[A\n",
            " 12%|█▏        | 1210/10000 [00:33<04:17, 34.20it/s]\u001b[A\n",
            " 12%|█▏        | 1215/10000 [00:33<03:58, 36.79it/s]\u001b[A\n",
            " 12%|█▏        | 1220/10000 [00:33<03:41, 39.66it/s]\u001b[A\n",
            " 12%|█▏        | 1225/10000 [00:33<04:01, 36.35it/s]\u001b[A\n",
            " 12%|█▏        | 1229/10000 [00:33<04:05, 35.67it/s]\u001b[A\n",
            " 12%|█▏        | 1233/10000 [00:34<04:18, 33.86it/s]\u001b[A\n",
            " 12%|█▏        | 1237/10000 [00:34<04:18, 33.92it/s]\u001b[A\n",
            " 12%|█▏        | 1241/10000 [00:34<04:14, 34.39it/s]\u001b[A\n",
            " 12%|█▏        | 1246/10000 [00:34<03:54, 37.28it/s]\u001b[A\n",
            " 12%|█▎        | 1250/10000 [00:34<04:10, 34.99it/s]\u001b[A\n",
            " 13%|█▎        | 1255/10000 [00:34<04:00, 36.37it/s]\u001b[A\n",
            " 13%|█▎        | 1259/10000 [00:34<04:13, 34.52it/s]\u001b[A\n",
            " 13%|█▎        | 1263/10000 [00:34<04:16, 34.07it/s]\u001b[A\n",
            " 13%|█▎        | 1268/10000 [00:35<03:54, 37.17it/s]\u001b[A\n",
            " 13%|█▎        | 1274/10000 [00:35<03:33, 40.78it/s]\u001b[A\n",
            " 13%|█▎        | 1279/10000 [00:35<03:36, 40.22it/s]\u001b[A\n",
            " 13%|█▎        | 1284/10000 [00:35<03:38, 39.96it/s]\u001b[A\n",
            " 13%|█▎        | 1289/10000 [00:35<04:21, 33.27it/s]\u001b[A\n",
            " 13%|█▎        | 1295/10000 [00:35<03:47, 38.29it/s]\u001b[A\n",
            " 13%|█▎        | 1300/10000 [00:35<03:43, 38.96it/s]\u001b[A\n",
            " 13%|█▎        | 1305/10000 [00:36<03:58, 36.40it/s]\u001b[A\n",
            " 13%|█▎        | 1311/10000 [00:36<03:44, 38.73it/s]\u001b[A\n",
            " 13%|█▎        | 1316/10000 [00:36<03:38, 39.67it/s]\u001b[A\n",
            " 13%|█▎        | 1321/10000 [00:36<04:08, 34.97it/s]\u001b[A\n",
            " 13%|█▎        | 1327/10000 [00:36<03:38, 39.75it/s]\u001b[A\n",
            " 13%|█▎        | 1332/10000 [00:36<04:09, 34.72it/s]\u001b[A\n",
            " 13%|█▎        | 1336/10000 [00:36<04:12, 34.26it/s]\u001b[A\n",
            " 13%|█▎        | 1340/10000 [00:36<04:09, 34.68it/s]\u001b[A\n",
            " 13%|█▎        | 1344/10000 [00:37<04:06, 35.18it/s]\u001b[A\n",
            " 13%|█▎        | 1348/10000 [00:37<04:56, 29.18it/s]\u001b[A\n",
            " 14%|█▎        | 1354/10000 [00:37<04:14, 33.91it/s]\u001b[A\n",
            " 14%|█▎        | 1358/10000 [00:37<04:14, 33.94it/s]\u001b[A\n",
            " 14%|█▎        | 1362/10000 [00:37<04:04, 35.37it/s]\u001b[A\n",
            " 14%|█▎        | 1366/10000 [00:37<04:12, 34.15it/s]\u001b[A\n",
            " 14%|█▎        | 1371/10000 [00:37<03:51, 37.26it/s]\u001b[A\n",
            " 14%|█▍        | 1375/10000 [00:38<04:40, 30.71it/s]\u001b[A\n",
            " 14%|█▍        | 1379/10000 [00:38<05:07, 28.05it/s]\u001b[A\n",
            " 14%|█▍        | 1385/10000 [00:38<04:28, 32.07it/s]\u001b[A\n",
            " 14%|█▍        | 1389/10000 [00:38<04:46, 30.02it/s]\u001b[A\n",
            " 14%|█▍        | 1394/10000 [00:38<04:21, 32.90it/s]\u001b[A\n",
            " 14%|█▍        | 1399/10000 [00:38<03:55, 36.46it/s]\u001b[A\n",
            " 14%|█▍        | 1404/10000 [00:38<03:42, 38.62it/s]\u001b[A\n",
            " 14%|█▍        | 1409/10000 [00:38<03:54, 36.61it/s]\u001b[A\n",
            " 14%|█▍        | 1414/10000 [00:39<03:47, 37.81it/s]\u001b[A\n",
            " 14%|█▍        | 1418/10000 [00:39<03:55, 36.40it/s]\u001b[A\n",
            " 14%|█▍        | 1422/10000 [00:39<03:54, 36.50it/s]\u001b[A\n",
            " 14%|█▍        | 1426/10000 [00:39<04:23, 32.48it/s]\u001b[A\n",
            " 14%|█▍        | 1430/10000 [00:39<04:58, 28.73it/s]\u001b[A\n",
            " 14%|█▍        | 1434/10000 [00:39<04:45, 29.99it/s]\u001b[A\n",
            " 14%|█▍        | 1438/10000 [00:39<04:55, 29.01it/s]\u001b[A\n",
            " 14%|█▍        | 1442/10000 [00:40<04:47, 29.80it/s]\u001b[A\n",
            " 14%|█▍        | 1448/10000 [00:40<04:05, 34.90it/s]\u001b[A\n",
            " 15%|█▍        | 1454/10000 [00:40<03:36, 39.55it/s]\u001b[A\n",
            " 15%|█▍        | 1459/10000 [00:40<04:01, 35.43it/s]\u001b[A\n",
            " 15%|█▍        | 1463/10000 [00:40<04:02, 35.28it/s]\u001b[A\n",
            " 15%|█▍        | 1467/10000 [00:40<04:06, 34.63it/s]\u001b[A\n",
            " 15%|█▍        | 1471/10000 [00:40<04:10, 33.98it/s]\u001b[A\n",
            " 15%|█▍        | 1475/10000 [00:40<04:01, 35.30it/s]\u001b[A\n",
            " 15%|█▍        | 1479/10000 [00:41<04:05, 34.77it/s]\u001b[A\n",
            " 15%|█▍        | 1483/10000 [00:41<04:00, 35.43it/s]\u001b[A\n",
            " 15%|█▍        | 1488/10000 [00:41<03:57, 35.86it/s]\u001b[A\n",
            " 15%|█▍        | 1493/10000 [00:41<03:43, 38.01it/s]\u001b[A\n",
            " 15%|█▍        | 1498/10000 [00:41<03:31, 40.29it/s]\u001b[A\n",
            " 15%|█▌        | 1503/10000 [00:41<03:51, 36.70it/s]\u001b[A\n",
            " 15%|█▌        | 1508/10000 [00:41<03:39, 38.69it/s]\u001b[A\n",
            " 15%|█▌        | 1512/10000 [00:41<03:45, 37.57it/s]\u001b[A\n",
            " 15%|█▌        | 1517/10000 [00:41<03:35, 39.31it/s]\u001b[A\n",
            " 15%|█▌        | 1522/10000 [00:42<04:07, 34.26it/s]\u001b[A\n",
            " 15%|█▌        | 1527/10000 [00:42<03:51, 36.54it/s]\u001b[A\n",
            " 15%|█▌        | 1531/10000 [00:42<04:13, 33.46it/s]\u001b[A\n",
            " 15%|█▌        | 1535/10000 [00:42<04:08, 34.11it/s]\u001b[A\n",
            " 15%|█▌        | 1539/10000 [00:42<04:19, 32.61it/s]\u001b[A\n",
            " 15%|█▌        | 1544/10000 [00:42<04:04, 34.63it/s]\u001b[A\n",
            " 15%|█▌        | 1548/10000 [00:42<04:00, 35.09it/s]\u001b[A\n",
            " 16%|█▌        | 1552/10000 [00:43<03:56, 35.70it/s]\u001b[A\n",
            " 16%|█▌        | 1558/10000 [00:43<03:31, 39.95it/s]\u001b[A\n",
            " 16%|█▌        | 1563/10000 [00:43<03:25, 41.06it/s]\u001b[A\n",
            " 16%|█▌        | 1569/10000 [00:43<03:07, 44.95it/s]\u001b[A\n",
            " 16%|█▌        | 1574/10000 [00:43<03:15, 43.11it/s]\u001b[A\n",
            " 16%|█▌        | 1579/10000 [00:43<04:38, 30.23it/s]\u001b[A\n",
            " 16%|█▌        | 1583/10000 [00:43<04:31, 31.01it/s]\u001b[A\n",
            " 16%|█▌        | 1588/10000 [00:43<04:11, 33.48it/s]\u001b[A\n",
            " 16%|█▌        | 1592/10000 [00:44<04:24, 31.73it/s]\u001b[A\n",
            " 16%|█▌        | 1597/10000 [00:44<04:02, 34.71it/s]\u001b[A\n",
            " 16%|█▌        | 1603/10000 [00:44<03:32, 39.50it/s]\u001b[A\n",
            " 16%|█▌        | 1608/10000 [00:44<04:18, 32.46it/s]\u001b[A\n",
            " 16%|█▌        | 1613/10000 [00:44<04:34, 30.52it/s]\u001b[A\n",
            " 16%|█▌        | 1618/10000 [00:44<04:16, 32.72it/s]\u001b[A\n",
            " 16%|█▌        | 1622/10000 [00:44<04:12, 33.15it/s]\u001b[A\n",
            " 16%|█▋        | 1626/10000 [00:45<04:09, 33.54it/s]\u001b[A\n",
            " 16%|█▋        | 1630/10000 [00:45<04:05, 34.04it/s]\u001b[A\n",
            " 16%|█▋        | 1634/10000 [00:45<04:34, 30.49it/s]\u001b[A\n",
            " 16%|█▋        | 1638/10000 [00:45<04:25, 31.51it/s]\u001b[A\n",
            " 16%|█▋        | 1644/10000 [00:45<03:48, 36.52it/s]\u001b[A\n",
            " 16%|█▋        | 1649/10000 [00:45<03:37, 38.37it/s]\u001b[A\n",
            " 17%|█▋        | 1654/10000 [00:45<03:33, 39.14it/s]\u001b[A\n",
            " 17%|█▋        | 1659/10000 [00:46<03:52, 35.90it/s]\u001b[A\n",
            " 17%|█▋        | 1664/10000 [00:46<03:57, 35.14it/s]\u001b[A\n",
            " 17%|█▋        | 1670/10000 [00:46<03:54, 35.56it/s]\u001b[A\n",
            " 17%|█▋        | 1675/10000 [00:46<03:35, 38.62it/s]\u001b[A\n",
            " 17%|█▋        | 1680/10000 [00:46<03:29, 39.80it/s]\u001b[A\n",
            " 17%|█▋        | 1685/10000 [00:46<03:40, 37.70it/s]\u001b[A\n",
            " 17%|█▋        | 1689/10000 [00:46<03:41, 37.44it/s]\u001b[A\n",
            " 17%|█▋        | 1693/10000 [00:46<03:40, 37.64it/s]\u001b[A\n",
            " 17%|█▋        | 1698/10000 [00:47<03:28, 39.76it/s]\u001b[A\n",
            " 17%|█▋        | 1703/10000 [00:47<03:29, 39.65it/s]\u001b[A\n",
            " 17%|█▋        | 1709/10000 [00:47<03:21, 41.22it/s]\u001b[A\n",
            " 17%|█▋        | 1715/10000 [00:47<03:09, 43.66it/s]\u001b[A\n",
            " 17%|█▋        | 1720/10000 [00:47<03:44, 36.83it/s]\u001b[A\n",
            " 17%|█▋        | 1726/10000 [00:47<03:23, 40.64it/s]\u001b[A\n",
            " 17%|█▋        | 1732/10000 [00:47<03:06, 44.45it/s]\u001b[A\n",
            " 17%|█▋        | 1737/10000 [00:47<03:17, 41.73it/s]\u001b[A\n",
            " 17%|█▋        | 1742/10000 [00:48<03:08, 43.74it/s]\u001b[A\n",
            " 17%|█▋        | 1747/10000 [00:48<03:29, 39.37it/s]\u001b[A\n",
            " 18%|█▊        | 1753/10000 [00:48<03:11, 42.97it/s]\u001b[A\n",
            " 18%|█▊        | 1758/10000 [00:48<03:50, 35.74it/s]\u001b[A\n",
            " 18%|█▊        | 1762/10000 [00:48<03:47, 36.18it/s]\u001b[A\n",
            " 18%|█▊        | 1767/10000 [00:48<03:45, 36.44it/s]\u001b[A\n",
            " 18%|█▊        | 1771/10000 [00:48<04:12, 32.60it/s]\u001b[A\n",
            " 18%|█▊        | 1775/10000 [00:49<04:19, 31.67it/s]\u001b[A\n",
            " 18%|█▊        | 1779/10000 [00:49<04:20, 31.59it/s]\u001b[A\n",
            " 18%|█▊        | 1784/10000 [00:49<03:58, 34.44it/s]\u001b[A\n",
            " 18%|█▊        | 1789/10000 [00:49<03:36, 37.96it/s]\u001b[A\n",
            " 18%|█▊        | 1794/10000 [00:49<03:42, 36.95it/s]\u001b[A\n",
            " 18%|█▊        | 1798/10000 [00:49<03:53, 35.17it/s]\u001b[A\n",
            " 18%|█▊        | 1803/10000 [00:49<03:33, 38.37it/s]\u001b[A\n",
            " 18%|█▊        | 1808/10000 [00:49<04:11, 32.56it/s]\u001b[A\n",
            " 18%|█▊        | 1812/10000 [00:50<04:04, 33.52it/s]\u001b[A\n",
            " 18%|█▊        | 1817/10000 [00:50<03:46, 36.06it/s]\u001b[A\n",
            " 18%|█▊        | 1821/10000 [00:50<03:52, 35.15it/s]\u001b[A\n",
            " 18%|█▊        | 1825/10000 [00:50<04:06, 33.23it/s]\u001b[A\n",
            " 18%|█▊        | 1830/10000 [00:50<04:17, 31.71it/s]\u001b[A\n",
            " 18%|█▊        | 1834/10000 [00:50<04:04, 33.41it/s]\u001b[A\n",
            " 18%|█▊        | 1838/10000 [00:50<04:32, 29.96it/s]\u001b[A\n",
            " 18%|█▊        | 1842/10000 [00:50<04:13, 32.16it/s]\u001b[A\n",
            " 18%|█▊        | 1846/10000 [00:51<03:58, 34.15it/s]\u001b[A\n",
            " 19%|█▊        | 1853/10000 [00:51<03:31, 38.57it/s]\u001b[A\n",
            " 19%|█▊        | 1858/10000 [00:51<03:24, 39.81it/s]\u001b[A\n",
            " 19%|█▊        | 1863/10000 [00:51<03:43, 36.46it/s]\u001b[A\n",
            " 19%|█▊        | 1868/10000 [00:51<03:30, 38.72it/s]\u001b[A\n",
            " 19%|█▊        | 1873/10000 [00:51<03:38, 37.16it/s]\u001b[A\n",
            " 19%|█▉        | 1878/10000 [00:51<03:24, 39.75it/s]\u001b[A\n",
            " 19%|█▉        | 1883/10000 [00:51<03:24, 39.74it/s]\u001b[A\n",
            " 19%|█▉        | 1888/10000 [00:52<03:21, 40.27it/s]\u001b[A\n",
            " 19%|█▉        | 1893/10000 [00:52<03:21, 40.31it/s]\u001b[A\n",
            " 19%|█▉        | 1898/10000 [00:52<03:23, 39.78it/s]\u001b[A\n",
            " 19%|█▉        | 1903/10000 [00:52<03:14, 41.63it/s]\u001b[A\n",
            " 19%|█▉        | 1908/10000 [00:52<03:06, 43.45it/s]\u001b[A\n",
            " 19%|█▉        | 1913/10000 [00:52<03:32, 38.07it/s]\u001b[A\n",
            " 19%|█▉        | 1919/10000 [00:52<03:25, 39.28it/s]\u001b[A\n",
            " 19%|█▉        | 1924/10000 [00:52<03:12, 41.98it/s]\u001b[A\n",
            " 19%|█▉        | 1929/10000 [00:53<03:30, 38.29it/s]\u001b[A\n",
            " 19%|█▉        | 1933/10000 [00:53<03:36, 37.25it/s]\u001b[A\n",
            " 19%|█▉        | 1937/10000 [00:53<03:34, 37.54it/s]\u001b[A\n",
            " 19%|█▉        | 1941/10000 [00:53<03:31, 38.04it/s]\u001b[A\n",
            " 19%|█▉        | 1945/10000 [00:53<03:36, 37.13it/s]\u001b[A\n",
            " 20%|█▉        | 1951/10000 [00:53<03:16, 40.86it/s]\u001b[A\n",
            " 20%|█▉        | 1956/10000 [00:53<03:42, 36.19it/s]\u001b[A\n",
            " 20%|█▉        | 1960/10000 [00:53<03:52, 34.59it/s]\u001b[A\n",
            " 20%|█▉        | 1965/10000 [00:54<03:37, 36.86it/s]\u001b[A\n",
            " 20%|█▉        | 1969/10000 [00:54<03:45, 35.59it/s]\u001b[A\n",
            " 20%|█▉        | 1973/10000 [00:54<04:00, 33.43it/s]\u001b[A\n",
            " 20%|█▉        | 1978/10000 [00:54<03:39, 36.49it/s]\u001b[A\n",
            " 20%|█▉        | 1984/10000 [00:54<03:19, 40.19it/s]\u001b[A\n",
            " 20%|█▉        | 1989/10000 [00:54<03:25, 39.03it/s]\u001b[A\n",
            " 20%|█▉        | 1994/10000 [00:54<03:19, 40.23it/s]\u001b[A\n",
            " 20%|█▉        | 1999/10000 [00:54<03:28, 38.46it/s]\u001b[A\n",
            " 20%|██        | 2003/10000 [00:55<03:56, 33.86it/s]\u001b[A\n",
            " 20%|██        | 2008/10000 [00:55<03:42, 35.96it/s]\u001b[A\n",
            " 20%|██        | 2012/10000 [00:55<04:09, 32.08it/s]\u001b[A\n",
            " 20%|██        | 2016/10000 [00:55<04:10, 31.81it/s]\u001b[A\n",
            " 20%|██        | 2020/10000 [00:55<04:03, 32.77it/s]\u001b[A\n",
            " 20%|██        | 2026/10000 [00:55<03:36, 36.85it/s]\u001b[A\n",
            " 20%|██        | 2031/10000 [00:55<03:42, 35.89it/s]\u001b[A\n",
            " 20%|██        | 2035/10000 [00:56<04:19, 30.72it/s]\u001b[A\n",
            " 20%|██        | 2041/10000 [00:56<03:47, 34.91it/s]\u001b[A\n",
            " 20%|██        | 2047/10000 [00:56<03:19, 39.82it/s]\u001b[A\n",
            " 21%|██        | 2052/10000 [00:56<03:30, 37.84it/s]\u001b[A\n",
            " 21%|██        | 2057/10000 [00:56<03:21, 39.48it/s]\u001b[A\n",
            " 21%|██        | 2062/10000 [00:56<03:39, 36.18it/s]\u001b[A\n",
            " 21%|██        | 2068/10000 [00:56<03:15, 40.63it/s]\u001b[A\n",
            " 21%|██        | 2073/10000 [00:56<03:07, 42.38it/s]\u001b[A\n",
            " 21%|██        | 2078/10000 [00:57<03:13, 41.03it/s]\u001b[A\n",
            " 21%|██        | 2083/10000 [00:57<03:11, 41.42it/s]\u001b[A\n",
            " 21%|██        | 2088/10000 [00:57<03:06, 42.50it/s]\u001b[A\n",
            " 21%|██        | 2093/10000 [00:57<03:09, 41.65it/s]\u001b[A\n",
            " 21%|██        | 2098/10000 [00:57<03:11, 41.19it/s]\u001b[A\n",
            " 21%|██        | 2103/10000 [00:57<03:06, 42.31it/s]\u001b[A\n",
            " 21%|██        | 2108/10000 [00:57<03:22, 38.91it/s]\u001b[A\n",
            " 21%|██        | 2114/10000 [00:57<03:02, 43.28it/s]\u001b[A\n",
            " 21%|██        | 2119/10000 [00:58<03:22, 38.94it/s]\u001b[A\n",
            " 21%|██        | 2124/10000 [00:58<03:24, 38.47it/s]\u001b[A\n",
            " 21%|██▏       | 2129/10000 [00:58<03:39, 35.92it/s]\u001b[A\n",
            " 21%|██▏       | 2133/10000 [00:58<03:33, 36.84it/s]\u001b[A\n",
            " 21%|██▏       | 2138/10000 [00:58<03:17, 39.88it/s]\u001b[A\n",
            " 21%|██▏       | 2144/10000 [00:58<03:00, 43.48it/s]\u001b[A\n",
            " 21%|██▏       | 2149/10000 [00:58<03:04, 42.53it/s]\u001b[A\n",
            " 22%|██▏       | 2154/10000 [00:58<02:59, 43.67it/s]\u001b[A\n",
            " 22%|██▏       | 2159/10000 [00:59<02:57, 44.11it/s]\u001b[A\n",
            " 22%|██▏       | 2164/10000 [00:59<03:07, 41.90it/s]\u001b[A\n",
            " 22%|██▏       | 2169/10000 [00:59<04:02, 32.32it/s]\u001b[A\n",
            " 22%|██▏       | 2173/10000 [00:59<04:00, 32.50it/s]\u001b[A\n",
            " 22%|██▏       | 2177/10000 [00:59<03:48, 34.30it/s]\u001b[A\n",
            " 22%|██▏       | 2181/10000 [00:59<03:45, 34.60it/s]\u001b[A\n",
            " 22%|██▏       | 2186/10000 [00:59<03:26, 37.86it/s]\u001b[A\n",
            " 22%|██▏       | 2191/10000 [00:59<03:12, 40.53it/s]\u001b[A\n",
            " 22%|██▏       | 2196/10000 [01:00<03:07, 41.56it/s]\u001b[A\n",
            " 22%|██▏       | 2201/10000 [01:00<03:01, 42.88it/s]\u001b[A\n",
            " 22%|██▏       | 2206/10000 [01:00<03:23, 38.22it/s]\u001b[A\n",
            " 22%|██▏       | 2210/10000 [01:00<03:24, 38.15it/s]\u001b[A\n",
            " 22%|██▏       | 2214/10000 [01:00<03:22, 38.49it/s]\u001b[A\n",
            " 22%|██▏       | 2218/10000 [01:00<03:44, 34.71it/s]\u001b[A\n",
            " 22%|██▏       | 2222/10000 [01:00<04:04, 31.79it/s]\u001b[A\n",
            " 22%|██▏       | 2227/10000 [01:00<03:47, 34.11it/s]\u001b[A\n",
            " 22%|██▏       | 2233/10000 [01:01<03:23, 38.23it/s]\u001b[A\n",
            " 22%|██▏       | 2238/10000 [01:01<03:09, 41.03it/s]\u001b[A\n",
            " 22%|██▏       | 2243/10000 [01:01<03:15, 39.69it/s]\u001b[A\n",
            " 22%|██▏       | 2248/10000 [01:01<03:04, 42.11it/s]\u001b[A\n",
            " 23%|██▎       | 2253/10000 [01:01<03:05, 41.79it/s]\u001b[A\n",
            " 23%|██▎       | 2258/10000 [01:01<03:10, 40.57it/s]\u001b[A\n",
            " 23%|██▎       | 2263/10000 [01:01<03:24, 37.87it/s]\u001b[A\n",
            " 23%|██▎       | 2267/10000 [01:01<03:32, 36.47it/s]\u001b[A\n",
            " 23%|██▎       | 2271/10000 [01:02<03:30, 36.68it/s]\u001b[A\n",
            " 23%|██▎       | 2275/10000 [01:02<03:28, 37.11it/s]\u001b[A\n",
            " 23%|██▎       | 2279/10000 [01:02<03:27, 37.16it/s]\u001b[A\n",
            " 23%|██▎       | 2284/10000 [01:02<03:13, 39.93it/s]\u001b[A\n",
            " 23%|██▎       | 2289/10000 [01:02<03:43, 34.43it/s]\u001b[A\n",
            " 23%|██▎       | 2293/10000 [01:02<03:49, 33.64it/s]\u001b[A\n",
            " 23%|██▎       | 2297/10000 [01:02<03:55, 32.73it/s]\u001b[A\n",
            " 23%|██▎       | 2301/10000 [01:02<03:48, 33.70it/s]\u001b[A\n",
            " 23%|██▎       | 2306/10000 [01:03<03:37, 35.45it/s]\u001b[A\n",
            " 23%|██▎       | 2311/10000 [01:03<03:23, 37.84it/s]\u001b[A\n",
            " 23%|██▎       | 2316/10000 [01:03<03:22, 37.97it/s]\u001b[A\n",
            " 23%|██▎       | 2322/10000 [01:03<03:05, 41.38it/s]\u001b[A\n",
            " 23%|██▎       | 2327/10000 [01:03<03:05, 41.29it/s]\u001b[A\n",
            " 23%|██▎       | 2332/10000 [01:03<03:07, 40.82it/s]\u001b[A\n",
            " 23%|██▎       | 2337/10000 [01:03<02:58, 43.00it/s]\u001b[A\n",
            " 23%|██▎       | 2342/10000 [01:03<03:05, 41.20it/s]\u001b[A\n",
            " 23%|██▎       | 2347/10000 [01:03<03:03, 41.70it/s]\u001b[A\n",
            " 24%|██▎       | 2352/10000 [01:04<03:07, 40.78it/s]\u001b[A\n",
            " 24%|██▎       | 2358/10000 [01:04<03:08, 40.53it/s]\u001b[A\n",
            " 24%|██▎       | 2363/10000 [01:04<03:07, 40.65it/s]\u001b[A\n",
            " 24%|██▎       | 2368/10000 [01:04<03:11, 39.79it/s]\u001b[A\n",
            " 24%|██▎       | 2372/10000 [01:04<03:17, 38.62it/s]\u001b[A\n",
            " 24%|██▍       | 2377/10000 [01:04<03:11, 39.76it/s]\u001b[A\n",
            " 24%|██▍       | 2381/10000 [01:04<03:29, 36.40it/s]\u001b[A\n",
            " 24%|██▍       | 2385/10000 [01:04<03:27, 36.78it/s]\u001b[A\n",
            " 24%|██▍       | 2390/10000 [01:05<03:13, 39.32it/s]\u001b[A\n",
            " 24%|██▍       | 2395/10000 [01:05<03:05, 40.89it/s]\u001b[A\n",
            " 24%|██▍       | 2400/10000 [01:05<03:21, 37.65it/s]\u001b[A\n",
            " 24%|██▍       | 2404/10000 [01:05<03:19, 38.08it/s]\u001b[A\n",
            " 24%|██▍       | 2409/10000 [01:05<03:15, 38.84it/s]\u001b[A\n",
            " 24%|██▍       | 2414/10000 [01:05<03:02, 41.46it/s]\u001b[A\n",
            " 24%|██▍       | 2419/10000 [01:05<03:00, 41.88it/s]\u001b[A\n",
            " 24%|██▍       | 2424/10000 [01:05<03:02, 41.59it/s]\u001b[A\n",
            " 24%|██▍       | 2429/10000 [01:06<03:37, 34.74it/s]\u001b[A\n",
            " 24%|██▍       | 2435/10000 [01:06<03:17, 38.26it/s]\u001b[A\n",
            " 24%|██▍       | 2440/10000 [01:06<03:06, 40.55it/s]\u001b[A\n",
            " 24%|██▍       | 2445/10000 [01:06<03:29, 36.01it/s]\u001b[A\n",
            " 24%|██▍       | 2449/10000 [01:06<03:47, 33.23it/s]\u001b[A\n",
            " 25%|██▍       | 2453/10000 [01:06<03:36, 34.79it/s]\u001b[A\n",
            " 25%|██▍       | 2457/10000 [01:06<03:34, 35.21it/s]\u001b[A\n",
            " 25%|██▍       | 2462/10000 [01:06<03:26, 36.45it/s]\u001b[A\n",
            " 25%|██▍       | 2466/10000 [01:07<03:22, 37.30it/s]\u001b[A\n",
            " 25%|██▍       | 2471/10000 [01:07<03:19, 37.70it/s]\u001b[A\n",
            " 25%|██▍       | 2475/10000 [01:07<03:36, 34.74it/s]\u001b[A\n",
            " 25%|██▍       | 2479/10000 [01:07<03:30, 35.76it/s]\u001b[A\n",
            " 25%|██▍       | 2483/10000 [01:07<03:24, 36.73it/s]\u001b[A\n",
            " 25%|██▍       | 2487/10000 [01:07<04:05, 30.58it/s]\u001b[A\n",
            " 25%|██▍       | 2493/10000 [01:07<03:37, 34.45it/s]\u001b[A\n",
            " 25%|██▍       | 2497/10000 [01:08<04:09, 30.12it/s]\u001b[A\n",
            " 25%|██▌       | 2501/10000 [01:08<03:54, 31.96it/s]\u001b[A\n",
            " 25%|██▌       | 2505/10000 [01:08<04:30, 27.73it/s]\u001b[A\n",
            " 25%|██▌       | 2510/10000 [01:08<03:58, 31.42it/s]\u001b[A\n",
            " 25%|██▌       | 2514/10000 [01:08<04:53, 25.47it/s]\u001b[A\n",
            " 25%|██▌       | 2518/10000 [01:08<04:28, 27.84it/s]\u001b[A\n",
            " 25%|██▌       | 2523/10000 [01:08<03:56, 31.65it/s]\u001b[A\n",
            " 25%|██▌       | 2528/10000 [01:09<03:36, 34.48it/s]\u001b[A\n",
            " 25%|██▌       | 2532/10000 [01:09<03:43, 33.37it/s]\u001b[A\n",
            " 25%|██▌       | 2536/10000 [01:09<03:35, 34.57it/s]\u001b[A\n",
            " 25%|██▌       | 2542/10000 [01:09<03:10, 39.18it/s]\u001b[A\n",
            " 25%|██▌       | 2547/10000 [01:09<03:27, 35.92it/s]\u001b[A\n",
            " 26%|██▌       | 2551/10000 [01:09<04:09, 29.88it/s]\u001b[A\n",
            " 26%|██▌       | 2556/10000 [01:09<03:47, 32.65it/s]\u001b[A\n",
            " 26%|██▌       | 2560/10000 [01:09<04:11, 29.60it/s]\u001b[A\n",
            " 26%|██▌       | 2565/10000 [01:10<03:40, 33.71it/s]\u001b[A\n",
            " 26%|██▌       | 2569/10000 [01:10<03:38, 34.08it/s]\u001b[A\n",
            " 26%|██▌       | 2574/10000 [01:10<03:24, 36.26it/s]\u001b[A\n",
            " 26%|██▌       | 2581/10000 [01:10<03:00, 41.09it/s]\u001b[A\n",
            " 26%|██▌       | 2586/10000 [01:10<03:37, 34.12it/s]\u001b[A\n",
            " 26%|██▌       | 2590/10000 [01:10<03:30, 35.20it/s]\u001b[A\n",
            " 26%|██▌       | 2594/10000 [01:10<03:24, 36.30it/s]\u001b[A\n",
            " 26%|██▌       | 2598/10000 [01:10<03:23, 36.29it/s]\u001b[A\n",
            " 26%|██▌       | 2602/10000 [01:11<04:24, 27.95it/s]\u001b[A\n",
            " 26%|██▌       | 2607/10000 [01:11<03:56, 31.28it/s]\u001b[A\n",
            " 26%|██▌       | 2611/10000 [01:11<04:10, 29.54it/s]\u001b[A\n",
            " 26%|██▌       | 2615/10000 [01:11<04:03, 30.33it/s]\u001b[A\n",
            " 26%|██▌       | 2619/10000 [01:11<03:49, 32.21it/s]\u001b[A\n",
            " 26%|██▌       | 2623/10000 [01:11<03:40, 33.46it/s]\u001b[A\n",
            " 26%|██▋       | 2627/10000 [01:11<03:30, 34.95it/s]\u001b[A\n",
            " 26%|██▋       | 2633/10000 [01:12<03:13, 38.09it/s]\u001b[A\n",
            " 26%|██▋       | 2637/10000 [01:12<03:22, 36.43it/s]\u001b[A\n",
            " 26%|██▋       | 2641/10000 [01:12<03:21, 36.55it/s]\u001b[A\n",
            " 26%|██▋       | 2646/10000 [01:12<03:07, 39.21it/s]\u001b[A\n",
            " 27%|██▋       | 2651/10000 [01:12<03:36, 33.89it/s]\u001b[A\n",
            " 27%|██▋       | 2655/10000 [01:12<03:34, 34.19it/s]\u001b[A\n",
            " 27%|██▋       | 2659/10000 [01:12<03:42, 32.99it/s]\u001b[A\n",
            " 27%|██▋       | 2663/10000 [01:12<03:36, 33.82it/s]\u001b[A\n",
            " 27%|██▋       | 2669/10000 [01:13<03:14, 37.63it/s]\u001b[A\n",
            " 27%|██▋       | 2673/10000 [01:13<03:22, 36.26it/s]\u001b[A\n",
            " 27%|██▋       | 2679/10000 [01:13<03:02, 40.23it/s]\u001b[A\n",
            " 27%|██▋       | 2684/10000 [01:13<02:59, 40.70it/s]\u001b[A\n",
            " 27%|██▋       | 2689/10000 [01:13<02:59, 40.71it/s]\u001b[A\n",
            " 27%|██▋       | 2694/10000 [01:13<03:06, 39.14it/s]\u001b[A\n",
            " 27%|██▋       | 2699/10000 [01:13<03:03, 39.72it/s]\u001b[A\n",
            " 27%|██▋       | 2704/10000 [01:13<03:09, 38.43it/s]\u001b[A\n",
            " 27%|██▋       | 2709/10000 [01:14<03:16, 37.03it/s]\u001b[A\n",
            " 27%|██▋       | 2713/10000 [01:14<03:35, 33.84it/s]\u001b[A\n",
            " 27%|██▋       | 2717/10000 [01:14<03:58, 30.58it/s]\u001b[A\n",
            " 27%|██▋       | 2723/10000 [01:14<03:30, 34.55it/s]\u001b[A\n",
            " 27%|██▋       | 2728/10000 [01:14<03:14, 37.40it/s]\u001b[A\n",
            " 27%|██▋       | 2732/10000 [01:14<03:39, 33.13it/s]\u001b[A\n",
            " 27%|██▋       | 2736/10000 [01:14<03:50, 31.50it/s]\u001b[A\n",
            " 27%|██▋       | 2741/10000 [01:14<03:30, 34.48it/s]\u001b[A\n",
            " 27%|██▋       | 2746/10000 [01:15<03:12, 37.75it/s]\u001b[A\n",
            " 28%|██▊       | 2751/10000 [01:15<03:08, 38.37it/s]\u001b[A\n",
            " 28%|██▊       | 2756/10000 [01:15<03:22, 35.77it/s]\u001b[A\n",
            " 28%|██▊       | 2760/10000 [01:15<03:39, 32.92it/s]\u001b[A\n",
            " 28%|██▊       | 2764/10000 [01:15<03:40, 32.81it/s]\u001b[A\n",
            " 28%|██▊       | 2770/10000 [01:15<03:14, 37.15it/s]\u001b[A\n",
            " 28%|██▊       | 2774/10000 [01:15<03:23, 35.55it/s]\u001b[A\n",
            " 28%|██▊       | 2779/10000 [01:15<03:07, 38.49it/s]\u001b[A\n",
            " 28%|██▊       | 2784/10000 [01:16<03:03, 39.34it/s]\u001b[A\n",
            " 28%|██▊       | 2789/10000 [01:16<03:01, 39.66it/s]\u001b[A\n",
            " 28%|██▊       | 2794/10000 [01:16<03:04, 38.99it/s]\u001b[A\n",
            " 28%|██▊       | 2800/10000 [01:16<02:52, 41.71it/s]\u001b[A\n",
            " 28%|██▊       | 2805/10000 [01:16<02:58, 40.30it/s]\u001b[A\n",
            " 28%|██▊       | 2810/10000 [01:16<03:15, 36.85it/s]\u001b[A\n",
            " 28%|██▊       | 2815/10000 [01:16<03:00, 39.83it/s]\u001b[A\n",
            " 28%|██▊       | 2820/10000 [01:16<03:04, 38.98it/s]\u001b[A\n",
            " 28%|██▊       | 2825/10000 [01:17<03:03, 39.06it/s]\u001b[A\n",
            " 28%|██▊       | 2829/10000 [01:17<03:03, 39.00it/s]\u001b[A\n",
            " 28%|██▊       | 2833/10000 [01:17<03:03, 39.07it/s]\u001b[A\n",
            " 28%|██▊       | 2837/10000 [01:17<03:02, 39.32it/s]\u001b[A\n",
            " 28%|██▊       | 2843/10000 [01:17<02:46, 42.90it/s]\u001b[A\n",
            " 28%|██▊       | 2848/10000 [01:17<02:49, 42.13it/s]\u001b[A\n",
            " 29%|██▊       | 2853/10000 [01:17<03:01, 39.43it/s]\u001b[A\n",
            " 29%|██▊       | 2858/10000 [01:17<02:57, 40.13it/s]\u001b[A\n",
            " 29%|██▊       | 2863/10000 [01:18<03:04, 38.68it/s]\u001b[A\n",
            " 29%|██▊       | 2868/10000 [01:18<02:59, 39.81it/s]\u001b[A\n",
            " 29%|██▊       | 2874/10000 [01:18<02:47, 42.48it/s]\u001b[A\n",
            " 29%|██▉       | 2880/10000 [01:18<02:44, 43.35it/s]\u001b[A\n",
            " 29%|██▉       | 2885/10000 [01:18<03:01, 39.28it/s]\u001b[A\n",
            " 29%|██▉       | 2890/10000 [01:18<02:54, 40.84it/s]\u001b[A\n",
            " 29%|██▉       | 2895/10000 [01:18<03:00, 39.40it/s]\u001b[A\n",
            " 29%|██▉       | 2901/10000 [01:18<02:47, 42.32it/s]\u001b[A\n",
            " 29%|██▉       | 2906/10000 [01:19<02:47, 42.42it/s]\u001b[A\n",
            " 29%|██▉       | 2911/10000 [01:19<02:40, 44.20it/s]\u001b[A\n",
            " 29%|██▉       | 2917/10000 [01:19<02:35, 45.69it/s]\u001b[A\n",
            " 29%|██▉       | 2922/10000 [01:19<02:35, 45.64it/s]\u001b[A\n",
            " 29%|██▉       | 2927/10000 [01:19<02:49, 41.81it/s]\u001b[A\n",
            " 29%|██▉       | 2932/10000 [01:19<02:44, 42.96it/s]\u001b[A\n",
            " 29%|██▉       | 2937/10000 [01:19<02:49, 41.72it/s]\u001b[A\n",
            " 29%|██▉       | 2942/10000 [01:19<02:42, 43.44it/s]\u001b[A\n",
            " 29%|██▉       | 2947/10000 [01:20<02:39, 44.14it/s]\u001b[A\n",
            " 30%|██▉       | 2952/10000 [01:20<02:35, 45.35it/s]\u001b[A\n",
            " 30%|██▉       | 2957/10000 [01:20<02:35, 45.28it/s]\u001b[A\n",
            " 30%|██▉       | 2962/10000 [01:20<02:57, 39.63it/s]\u001b[A\n",
            " 30%|██▉       | 2967/10000 [01:20<03:07, 37.43it/s]\u001b[A\n",
            " 30%|██▉       | 2972/10000 [01:20<02:59, 39.20it/s]\u001b[A\n",
            " 30%|██▉       | 2977/10000 [01:20<02:53, 40.41it/s]\u001b[A\n",
            " 30%|██▉       | 2982/10000 [01:20<03:01, 38.71it/s]\u001b[A\n",
            " 30%|██▉       | 2986/10000 [01:21<03:11, 36.69it/s]\u001b[A\n",
            " 30%|██▉       | 2990/10000 [01:21<03:07, 37.43it/s]\u001b[A\n",
            " 30%|██▉       | 2994/10000 [01:21<03:16, 35.61it/s]\u001b[A\n",
            " 30%|██▉       | 2998/10000 [01:21<03:42, 31.42it/s]\u001b[A\n",
            " 30%|███       | 3002/10000 [01:21<03:43, 31.37it/s]\u001b[A\n",
            " 30%|███       | 3007/10000 [01:21<03:24, 34.24it/s]\u001b[A\n",
            " 30%|███       | 3012/10000 [01:21<03:08, 37.00it/s]\u001b[A\n",
            " 30%|███       | 3017/10000 [01:21<02:56, 39.50it/s]\u001b[A\n",
            " 30%|███       | 3022/10000 [01:22<02:59, 38.95it/s]\u001b[A\n",
            " 30%|███       | 3028/10000 [01:22<02:41, 43.25it/s]\u001b[A\n",
            " 30%|███       | 3033/10000 [01:22<02:38, 43.94it/s]\u001b[A\n",
            " 30%|███       | 3038/10000 [01:22<02:48, 41.35it/s]\u001b[A\n",
            " 30%|███       | 3043/10000 [01:22<03:33, 32.54it/s]\u001b[A\n",
            " 30%|███       | 3048/10000 [01:22<03:17, 35.20it/s]\u001b[A\n",
            " 31%|███       | 3053/10000 [01:22<03:18, 35.03it/s]\u001b[A\n",
            " 31%|███       | 3057/10000 [01:22<03:35, 32.18it/s]\u001b[A\n",
            " 31%|███       | 3061/10000 [01:23<03:23, 34.16it/s]\u001b[A\n",
            " 31%|███       | 3065/10000 [01:23<03:42, 31.23it/s]\u001b[A\n",
            " 31%|███       | 3070/10000 [01:23<03:21, 34.37it/s]\u001b[A\n",
            " 31%|███       | 3074/10000 [01:23<03:15, 35.35it/s]\u001b[A\n",
            " 31%|███       | 3078/10000 [01:23<03:47, 30.43it/s]\u001b[A\n",
            " 31%|███       | 3082/10000 [01:23<03:31, 32.66it/s]\u001b[A\n",
            " 31%|███       | 3086/10000 [01:23<03:45, 30.63it/s]\u001b[A\n",
            " 31%|███       | 3092/10000 [01:24<03:19, 34.68it/s]\u001b[A\n",
            " 31%|███       | 3098/10000 [01:24<03:00, 38.27it/s]\u001b[A\n",
            " 31%|███       | 3103/10000 [01:24<03:10, 36.24it/s]\u001b[A\n",
            " 31%|███       | 3107/10000 [01:24<03:06, 36.90it/s]\u001b[A\n",
            " 31%|███       | 3112/10000 [01:24<03:01, 38.05it/s]\u001b[A\n",
            " 31%|███       | 3116/10000 [01:24<03:00, 38.05it/s]\u001b[A\n",
            " 31%|███       | 3120/10000 [01:24<03:00, 38.02it/s]\u001b[A\n",
            " 31%|███       | 3124/10000 [01:24<03:10, 36.18it/s]\u001b[A\n",
            " 31%|███▏      | 3129/10000 [01:24<03:10, 36.16it/s]\u001b[A\n",
            " 31%|███▏      | 3134/10000 [01:25<02:59, 38.35it/s]\u001b[A\n",
            " 31%|███▏      | 3138/10000 [01:25<03:09, 36.20it/s]\u001b[A\n",
            " 31%|███▏      | 3142/10000 [01:25<03:07, 36.48it/s]\u001b[A\n",
            " 31%|███▏      | 3147/10000 [01:25<03:08, 36.36it/s]\u001b[A\n",
            " 32%|███▏      | 3152/10000 [01:25<02:58, 38.36it/s]\u001b[A\n",
            " 32%|███▏      | 3156/10000 [01:25<03:19, 34.28it/s]\u001b[A\n",
            " 32%|███▏      | 3160/10000 [01:25<03:16, 34.75it/s]\u001b[A\n",
            " 32%|███▏      | 3166/10000 [01:25<02:56, 38.76it/s]\u001b[A\n",
            " 32%|███▏      | 3171/10000 [01:26<03:35, 31.63it/s]\u001b[A\n",
            " 32%|███▏      | 3175/10000 [01:26<03:25, 33.21it/s]\u001b[A\n",
            " 32%|███▏      | 3179/10000 [01:26<03:44, 30.42it/s]\u001b[A\n",
            " 32%|███▏      | 3184/10000 [01:26<03:22, 33.65it/s]\u001b[A\n",
            " 32%|███▏      | 3188/10000 [01:26<03:44, 30.37it/s]\u001b[A\n",
            " 32%|███▏      | 3193/10000 [01:26<03:18, 34.37it/s]\u001b[A\n",
            " 32%|███▏      | 3197/10000 [01:26<03:18, 34.26it/s]\u001b[A\n",
            " 32%|███▏      | 3203/10000 [01:27<03:07, 36.20it/s]\u001b[A\n",
            " 32%|███▏      | 3209/10000 [01:27<02:52, 39.33it/s]\u001b[A\n",
            " 32%|███▏      | 3214/10000 [01:27<02:54, 38.83it/s]\u001b[A\n",
            " 32%|███▏      | 3219/10000 [01:27<03:00, 37.61it/s]\u001b[A\n",
            " 32%|███▏      | 3223/10000 [01:27<03:11, 35.43it/s]\u001b[A\n",
            " 32%|███▏      | 3229/10000 [01:27<02:53, 39.13it/s]\u001b[A\n",
            " 32%|███▏      | 3235/10000 [01:27<02:43, 41.50it/s]\u001b[A\n",
            " 32%|███▏      | 3240/10000 [01:27<02:52, 39.17it/s]\u001b[A\n",
            " 32%|███▏      | 3245/10000 [01:28<03:06, 36.31it/s]\u001b[A\n",
            " 32%|███▏      | 3249/10000 [01:28<03:10, 35.46it/s]\u001b[A\n",
            " 33%|███▎      | 3253/10000 [01:28<03:25, 32.80it/s]\u001b[A\n",
            " 33%|███▎      | 3257/10000 [01:28<03:36, 31.13it/s]\u001b[A\n",
            " 33%|███▎      | 3261/10000 [01:28<03:22, 33.30it/s]\u001b[A\n",
            " 33%|███▎      | 3265/10000 [01:28<03:14, 34.54it/s]\u001b[A\n",
            " 33%|███▎      | 3270/10000 [01:28<03:00, 37.20it/s]\u001b[A\n",
            " 33%|███▎      | 3274/10000 [01:29<03:34, 31.33it/s]\u001b[A\n",
            " 33%|███▎      | 3279/10000 [01:29<03:14, 34.59it/s]\u001b[A\n",
            " 33%|███▎      | 3283/10000 [01:29<03:07, 35.81it/s]\u001b[A\n",
            " 33%|███▎      | 3288/10000 [01:29<02:55, 38.31it/s]\u001b[A\n",
            " 33%|███▎      | 3294/10000 [01:29<02:37, 42.46it/s]\u001b[A\n",
            " 33%|███▎      | 3299/10000 [01:29<02:31, 44.19it/s]\u001b[A\n",
            " 33%|███▎      | 3304/10000 [01:29<03:04, 36.39it/s]\u001b[A\n",
            " 33%|███▎      | 3310/10000 [01:29<02:52, 38.79it/s]\u001b[A\n",
            " 33%|███▎      | 3315/10000 [01:30<02:50, 39.32it/s]\u001b[A\n",
            " 33%|███▎      | 3320/10000 [01:30<02:43, 40.98it/s]\u001b[A\n",
            " 33%|███▎      | 3325/10000 [01:30<02:40, 41.55it/s]\u001b[A\n",
            " 33%|███▎      | 3330/10000 [01:30<03:12, 34.63it/s]\u001b[A\n",
            " 33%|███▎      | 3334/10000 [01:30<03:18, 33.63it/s]\u001b[A\n",
            " 33%|███▎      | 3339/10000 [01:30<03:00, 36.86it/s]\u001b[A\n",
            " 33%|███▎      | 3343/10000 [01:30<03:15, 33.97it/s]\u001b[A\n",
            " 33%|███▎      | 3347/10000 [01:30<03:15, 34.07it/s]\u001b[A\n",
            " 34%|███▎      | 3351/10000 [01:31<03:17, 33.58it/s]\u001b[A\n",
            " 34%|███▎      | 3357/10000 [01:31<02:59, 37.00it/s]\u001b[A\n",
            " 34%|███▎      | 3361/10000 [01:31<03:04, 35.99it/s]\u001b[A\n",
            " 34%|███▎      | 3365/10000 [01:31<03:00, 36.80it/s]\u001b[A\n",
            " 34%|███▎      | 3370/10000 [01:31<02:51, 38.57it/s]\u001b[A\n",
            " 34%|███▍      | 3376/10000 [01:31<02:37, 42.12it/s]\u001b[A\n",
            " 34%|███▍      | 3381/10000 [01:31<02:52, 38.42it/s]\u001b[A\n",
            " 34%|███▍      | 3386/10000 [01:31<02:46, 39.77it/s]\u001b[A\n",
            " 34%|███▍      | 3391/10000 [01:32<02:42, 40.72it/s]\u001b[A\n",
            " 34%|███▍      | 3396/10000 [01:32<02:37, 41.98it/s]\u001b[A\n",
            " 34%|███▍      | 3401/10000 [01:32<02:43, 40.36it/s]\u001b[A\n",
            " 34%|███▍      | 3406/10000 [01:32<02:37, 41.75it/s]\u001b[A\n",
            " 34%|███▍      | 3411/10000 [01:32<02:32, 43.23it/s]\u001b[A\n",
            " 34%|███▍      | 3416/10000 [01:32<02:26, 44.97it/s]\u001b[A\n",
            " 34%|███▍      | 3421/10000 [01:32<02:49, 38.86it/s]\u001b[A\n",
            " 34%|███▍      | 3426/10000 [01:32<03:18, 33.20it/s]\u001b[A\n",
            " 34%|███▍      | 3430/10000 [01:33<03:11, 34.37it/s]\u001b[A\n",
            " 34%|███▍      | 3436/10000 [01:33<02:49, 38.84it/s]\u001b[A\n",
            " 34%|███▍      | 3441/10000 [01:33<02:38, 41.45it/s]\u001b[A\n",
            " 34%|███▍      | 3446/10000 [01:33<02:30, 43.65it/s]\u001b[A\n",
            " 35%|███▍      | 3451/10000 [01:33<02:46, 39.23it/s]\u001b[A\n",
            " 35%|███▍      | 3457/10000 [01:33<02:40, 40.85it/s]\u001b[A\n",
            " 35%|███▍      | 3463/10000 [01:33<02:28, 44.00it/s]\u001b[A\n",
            " 35%|███▍      | 3468/10000 [01:33<02:58, 36.68it/s]\u001b[A\n",
            " 35%|███▍      | 3473/10000 [01:34<02:46, 39.10it/s]\u001b[A\n",
            " 35%|███▍      | 3478/10000 [01:34<02:46, 39.26it/s]\u001b[A\n",
            " 35%|███▍      | 3483/10000 [01:34<02:37, 41.48it/s]\u001b[A\n",
            " 35%|███▍      | 3489/10000 [01:34<02:28, 43.83it/s]\u001b[A\n",
            " 35%|███▍      | 3494/10000 [01:34<02:35, 41.89it/s]\u001b[A\n",
            " 35%|███▍      | 3499/10000 [01:34<02:51, 37.92it/s]\u001b[A\n",
            " 35%|███▌      | 3505/10000 [01:34<02:37, 41.13it/s]\u001b[A\n",
            " 35%|███▌      | 3510/10000 [01:34<02:46, 38.92it/s]\u001b[A\n",
            " 35%|███▌      | 3515/10000 [01:35<02:44, 39.34it/s]\u001b[A\n",
            " 35%|███▌      | 3520/10000 [01:35<02:38, 40.91it/s]\u001b[A\n",
            " 35%|███▌      | 3525/10000 [01:35<02:35, 41.62it/s]\u001b[A\n",
            " 35%|███▌      | 3530/10000 [01:35<02:31, 42.71it/s]\u001b[A\n",
            " 35%|███▌      | 3535/10000 [01:35<02:55, 36.85it/s]\u001b[A\n",
            " 35%|███▌      | 3540/10000 [01:35<02:47, 38.67it/s]\u001b[A\n",
            " 35%|███▌      | 3546/10000 [01:35<02:42, 39.64it/s]\u001b[A\n",
            " 36%|███▌      | 3551/10000 [01:36<03:01, 35.56it/s]\u001b[A\n",
            " 36%|███▌      | 3555/10000 [01:36<03:04, 34.91it/s]\u001b[A\n",
            " 36%|███▌      | 3560/10000 [01:36<02:52, 37.43it/s]\u001b[A\n",
            " 36%|███▌      | 3564/10000 [01:36<02:49, 37.96it/s]\u001b[A\n",
            " 36%|███▌      | 3570/10000 [01:36<02:31, 42.57it/s]\u001b[A\n",
            " 36%|███▌      | 3575/10000 [01:36<02:42, 39.59it/s]\u001b[A\n",
            " 36%|███▌      | 3580/10000 [01:36<03:09, 33.94it/s]\u001b[A\n",
            " 36%|███▌      | 3584/10000 [01:36<03:17, 32.47it/s]\u001b[A\n",
            " 36%|███▌      | 3588/10000 [01:37<03:08, 33.97it/s]\u001b[A\n",
            " 36%|███▌      | 3593/10000 [01:37<03:06, 34.42it/s]\u001b[A\n",
            " 36%|███▌      | 3597/10000 [01:37<03:09, 33.71it/s]\u001b[A\n",
            " 36%|███▌      | 3603/10000 [01:37<03:26, 31.00it/s]\u001b[A\n",
            " 36%|███▌      | 3607/10000 [01:37<03:29, 30.56it/s]\u001b[A\n",
            " 36%|███▌      | 3612/10000 [01:37<03:17, 32.39it/s]\u001b[A\n",
            " 36%|███▌      | 3616/10000 [01:37<03:10, 33.43it/s]\u001b[A\n",
            " 36%|███▌      | 3620/10000 [01:38<03:22, 31.50it/s]\u001b[A\n",
            " 36%|███▋      | 3625/10000 [01:38<03:11, 33.34it/s]\u001b[A\n",
            " 36%|███▋      | 3630/10000 [01:38<03:44, 28.43it/s]\u001b[A\n",
            " 36%|███▋      | 3634/10000 [01:38<03:26, 30.90it/s]\u001b[A\n",
            " 36%|███▋      | 3639/10000 [01:38<03:18, 32.10it/s]\u001b[A\n",
            " 36%|███▋      | 3644/10000 [01:38<02:56, 35.91it/s]\u001b[A\n",
            " 36%|███▋      | 3650/10000 [01:38<02:39, 39.91it/s]\u001b[A\n",
            " 37%|███▋      | 3655/10000 [01:39<02:47, 37.98it/s]\u001b[A\n",
            " 37%|███▋      | 3660/10000 [01:39<02:38, 40.03it/s]\u001b[A\n",
            " 37%|███▋      | 3665/10000 [01:39<02:31, 41.87it/s]\u001b[A\n",
            " 37%|███▋      | 3670/10000 [01:39<02:51, 36.90it/s]\u001b[A\n",
            " 37%|███▋      | 3674/10000 [01:39<03:05, 34.18it/s]\u001b[A\n",
            " 37%|███▋      | 3679/10000 [01:39<02:53, 36.40it/s]\u001b[A\n",
            " 37%|███▋      | 3685/10000 [01:39<02:33, 41.12it/s]\u001b[A\n",
            " 37%|███▋      | 3690/10000 [01:39<02:27, 42.77it/s]\u001b[A\n",
            " 37%|███▋      | 3695/10000 [01:40<02:32, 41.39it/s]\u001b[A\n",
            " 37%|███▋      | 3700/10000 [01:40<02:36, 40.38it/s]\u001b[A\n",
            " 37%|███▋      | 3705/10000 [01:40<02:49, 37.13it/s]\u001b[A\n",
            " 37%|███▋      | 3709/10000 [01:40<03:07, 33.58it/s]\u001b[A\n",
            " 37%|███▋      | 3713/10000 [01:40<02:58, 35.14it/s]\u001b[A\n",
            " 37%|███▋      | 3717/10000 [01:40<02:59, 34.93it/s]\u001b[A\n",
            " 37%|███▋      | 3721/10000 [01:40<03:23, 30.83it/s]\u001b[A\n",
            " 37%|███▋      | 3725/10000 [01:40<03:30, 29.87it/s]\u001b[A\n",
            " 37%|███▋      | 3731/10000 [01:41<03:00, 34.71it/s]\u001b[A\n",
            " 37%|███▋      | 3735/10000 [01:41<03:23, 30.73it/s]\u001b[A\n",
            " 37%|███▋      | 3739/10000 [01:41<03:15, 32.03it/s]\u001b[A\n",
            " 37%|███▋      | 3744/10000 [01:41<03:00, 34.67it/s]\u001b[A\n",
            " 37%|███▋      | 3748/10000 [01:41<03:33, 29.33it/s]\u001b[A\n",
            " 38%|███▊      | 3753/10000 [01:41<03:18, 31.41it/s]\u001b[A\n",
            " 38%|███▊      | 3757/10000 [01:41<03:11, 32.65it/s]\u001b[A\n",
            " 38%|███▊      | 3761/10000 [01:42<03:29, 29.83it/s]\u001b[A\n",
            " 38%|███▊      | 3765/10000 [01:42<03:14, 32.03it/s]\u001b[A\n",
            " 38%|███▊      | 3770/10000 [01:42<03:02, 34.11it/s]\u001b[A\n",
            " 38%|███▊      | 3775/10000 [01:42<02:45, 37.62it/s]\u001b[A\n",
            " 38%|███▊      | 3780/10000 [01:42<02:38, 39.12it/s]\u001b[A\n",
            " 38%|███▊      | 3785/10000 [01:42<02:33, 40.55it/s]\u001b[A\n",
            " 38%|███▊      | 3790/10000 [01:42<02:47, 37.14it/s]\u001b[A\n",
            " 38%|███▊      | 3794/10000 [01:42<02:52, 36.03it/s]\u001b[A\n",
            " 38%|███▊      | 3798/10000 [01:43<02:48, 36.90it/s]\u001b[A\n",
            " 38%|███▊      | 3802/10000 [01:43<02:54, 35.60it/s]\u001b[A\n",
            " 38%|███▊      | 3806/10000 [01:43<02:52, 35.81it/s]\u001b[A\n",
            " 38%|███▊      | 3811/10000 [01:43<02:44, 37.71it/s]\u001b[A\n",
            " 38%|███▊      | 3815/10000 [01:43<03:08, 32.88it/s]\u001b[A\n",
            " 38%|███▊      | 3820/10000 [01:43<02:52, 35.91it/s]\u001b[A\n",
            " 38%|███▊      | 3824/10000 [01:43<02:47, 36.94it/s]\u001b[A\n",
            " 38%|███▊      | 3829/10000 [01:43<02:39, 38.69it/s]\u001b[A\n",
            " 38%|███▊      | 3834/10000 [01:43<02:29, 41.14it/s]\u001b[A\n",
            " 38%|███▊      | 3840/10000 [01:44<02:23, 43.04it/s]\u001b[A\n",
            " 38%|███▊      | 3845/10000 [01:44<02:36, 39.42it/s]\u001b[A\n",
            " 38%|███▊      | 3850/10000 [01:44<02:35, 39.46it/s]\u001b[A\n",
            " 39%|███▊      | 3855/10000 [01:44<03:02, 33.69it/s]\u001b[A\n",
            " 39%|███▊      | 3860/10000 [01:44<02:49, 36.23it/s]\u001b[A\n",
            " 39%|███▊      | 3864/10000 [01:44<02:49, 36.24it/s]\u001b[A\n",
            " 39%|███▊      | 3869/10000 [01:44<02:40, 38.25it/s]\u001b[A\n",
            " 39%|███▊      | 3873/10000 [01:45<02:50, 35.92it/s]\u001b[A\n",
            " 39%|███▉      | 3879/10000 [01:45<02:30, 40.65it/s]\u001b[A\n",
            " 39%|███▉      | 3884/10000 [01:45<02:53, 35.21it/s]\u001b[A\n",
            " 39%|███▉      | 3889/10000 [01:45<02:44, 37.15it/s]\u001b[A\n",
            " 39%|███▉      | 3895/10000 [01:45<02:28, 41.07it/s]\u001b[A\n",
            " 39%|███▉      | 3900/10000 [01:45<02:21, 43.12it/s]\u001b[A\n",
            " 39%|███▉      | 3905/10000 [01:45<02:35, 39.11it/s]\u001b[A\n",
            " 39%|███▉      | 3911/10000 [01:45<02:21, 43.13it/s]\u001b[A\n",
            " 39%|███▉      | 3916/10000 [01:46<02:37, 38.62it/s]\u001b[A\n",
            " 39%|███▉      | 3921/10000 [01:46<02:37, 38.57it/s]\u001b[A\n",
            " 39%|███▉      | 3926/10000 [01:46<02:40, 37.91it/s]\u001b[A\n",
            " 39%|███▉      | 3930/10000 [01:46<02:58, 34.10it/s]\u001b[A\n",
            " 39%|███▉      | 3934/10000 [01:46<02:52, 35.19it/s]\u001b[A\n",
            " 39%|███▉      | 3938/10000 [01:46<02:49, 35.67it/s]\u001b[A\n",
            " 39%|███▉      | 3942/10000 [01:46<02:58, 33.90it/s]\u001b[A\n",
            " 39%|███▉      | 3946/10000 [01:46<02:54, 34.63it/s]\u001b[A\n",
            " 40%|███▉      | 3951/10000 [01:47<02:40, 37.66it/s]\u001b[A\n",
            " 40%|███▉      | 3957/10000 [01:47<02:34, 39.01it/s]\u001b[A\n",
            " 40%|███▉      | 3961/10000 [01:47<02:37, 38.46it/s]\u001b[A\n",
            " 40%|███▉      | 3966/10000 [01:47<02:27, 40.90it/s]\u001b[A\n",
            " 40%|███▉      | 3971/10000 [01:47<02:41, 37.35it/s]\u001b[A\n",
            " 40%|███▉      | 3975/10000 [01:47<03:07, 32.16it/s]\u001b[A\n",
            " 40%|███▉      | 3980/10000 [01:47<03:00, 33.28it/s]\u001b[A\n",
            " 40%|███▉      | 3985/10000 [01:47<02:46, 36.11it/s]\u001b[A\n",
            " 40%|███▉      | 3989/10000 [01:48<02:58, 33.60it/s]\u001b[A\n",
            " 40%|███▉      | 3996/10000 [01:48<02:36, 38.40it/s]\u001b[A\n",
            " 40%|████      | 4001/10000 [01:48<02:33, 39.18it/s]\u001b[A\n",
            " 40%|████      | 4006/10000 [01:48<02:24, 41.35it/s]\u001b[A\n",
            " 40%|████      | 4011/10000 [01:48<02:27, 40.58it/s]\u001b[A\n",
            " 40%|████      | 4016/10000 [01:48<02:41, 37.05it/s]\u001b[A\n",
            " 40%|████      | 4020/10000 [01:48<03:10, 31.44it/s]\u001b[A\n",
            " 40%|████      | 4026/10000 [01:49<02:47, 35.77it/s]\u001b[A\n",
            " 40%|████      | 4030/10000 [01:49<02:47, 35.60it/s]\u001b[A\n",
            " 40%|████      | 4036/10000 [01:49<02:31, 39.32it/s]\u001b[A\n",
            " 40%|████      | 4041/10000 [01:49<02:37, 37.81it/s]\u001b[A\n",
            " 40%|████      | 4046/10000 [01:49<02:44, 36.24it/s]\u001b[A\n",
            " 41%|████      | 4051/10000 [01:49<02:32, 38.89it/s]\u001b[A\n",
            " 41%|████      | 4056/10000 [01:49<02:26, 40.48it/s]\u001b[A\n",
            " 41%|████      | 4061/10000 [01:49<02:25, 40.86it/s]\u001b[A\n",
            " 41%|████      | 4066/10000 [01:50<02:37, 37.73it/s]\u001b[A\n",
            " 41%|████      | 4072/10000 [01:50<02:30, 39.45it/s]\u001b[A\n",
            " 41%|████      | 4077/10000 [01:50<02:32, 38.89it/s]\u001b[A\n",
            " 41%|████      | 4081/10000 [01:50<03:11, 30.91it/s]\u001b[A\n",
            " 41%|████      | 4086/10000 [01:50<02:56, 33.48it/s]\u001b[A\n",
            " 41%|████      | 4090/10000 [01:50<02:50, 34.66it/s]\u001b[A\n",
            " 41%|████      | 4094/10000 [01:50<02:53, 34.11it/s]\u001b[A\n",
            " 41%|████      | 4099/10000 [01:50<02:38, 37.24it/s]\u001b[A\n",
            " 41%|████      | 4105/10000 [01:51<02:23, 41.12it/s]\u001b[A\n",
            " 41%|████      | 4110/10000 [01:51<02:19, 42.28it/s]\u001b[A\n",
            " 41%|████      | 4115/10000 [01:51<02:27, 39.82it/s]\u001b[A\n",
            " 41%|████      | 4120/10000 [01:51<02:20, 41.88it/s]\u001b[A\n",
            " 41%|████▏     | 4125/10000 [01:51<02:22, 41.09it/s]\u001b[A\n",
            " 41%|████▏     | 4130/10000 [01:51<02:36, 37.47it/s]\u001b[A\n",
            " 41%|████▏     | 4134/10000 [01:51<02:46, 35.23it/s]\u001b[A\n",
            " 41%|████▏     | 4140/10000 [01:51<02:27, 39.64it/s]\u001b[A\n",
            " 41%|████▏     | 4145/10000 [01:52<02:47, 35.05it/s]\u001b[A\n",
            " 42%|████▏     | 4150/10000 [01:52<02:40, 36.47it/s]\u001b[A\n",
            " 42%|████▏     | 4155/10000 [01:52<02:36, 37.46it/s]\u001b[A\n",
            " 42%|████▏     | 4160/10000 [01:52<02:24, 40.41it/s]\u001b[A\n",
            " 42%|████▏     | 4166/10000 [01:52<02:16, 42.71it/s]\u001b[A\n",
            " 42%|████▏     | 4171/10000 [01:52<02:22, 40.83it/s]\u001b[A\n",
            " 42%|████▏     | 4176/10000 [01:52<02:38, 36.70it/s]\u001b[A\n",
            " 42%|████▏     | 4180/10000 [01:53<02:44, 35.45it/s]\u001b[A\n",
            " 42%|████▏     | 4185/10000 [01:53<02:31, 38.48it/s]\u001b[A\n",
            " 42%|████▏     | 4190/10000 [01:53<02:29, 38.80it/s]\u001b[A\n",
            " 42%|████▏     | 4194/10000 [01:53<02:33, 37.79it/s]\u001b[A\n",
            " 42%|████▏     | 4199/10000 [01:53<02:23, 40.33it/s]\u001b[A\n",
            " 42%|████▏     | 4204/10000 [01:53<02:31, 38.29it/s]\u001b[A\n",
            " 42%|████▏     | 4208/10000 [01:53<02:40, 36.11it/s]\u001b[A\n",
            " 42%|████▏     | 4212/10000 [01:53<02:52, 33.58it/s]\u001b[A\n",
            " 42%|████▏     | 4216/10000 [01:53<02:44, 35.26it/s]\u001b[A\n",
            " 42%|████▏     | 4220/10000 [01:54<02:46, 34.75it/s]\u001b[A\n",
            " 42%|████▏     | 4224/10000 [01:54<02:45, 35.00it/s]\u001b[A\n",
            " 42%|████▏     | 4228/10000 [01:54<02:40, 35.90it/s]\u001b[A\n",
            " 42%|████▏     | 4233/10000 [01:54<02:33, 37.55it/s]\u001b[A\n",
            " 42%|████▏     | 4239/10000 [01:54<02:23, 40.06it/s]\u001b[A\n",
            " 42%|████▏     | 4244/10000 [01:54<02:21, 40.59it/s]\u001b[A\n",
            " 42%|████▏     | 4249/10000 [01:54<02:21, 40.63it/s]\u001b[A\n",
            " 43%|████▎     | 4254/10000 [01:54<02:36, 36.81it/s]\u001b[A\n",
            " 43%|████▎     | 4260/10000 [01:55<02:28, 38.76it/s]\u001b[A\n",
            " 43%|████▎     | 4264/10000 [01:55<03:25, 27.88it/s]\u001b[A\n",
            " 43%|████▎     | 4270/10000 [01:55<03:06, 30.76it/s]\u001b[A\n",
            " 43%|████▎     | 4275/10000 [01:55<02:50, 33.52it/s]\u001b[A\n",
            " 43%|████▎     | 4280/10000 [01:55<02:50, 33.56it/s]\u001b[A\n",
            " 43%|████▎     | 4284/10000 [01:55<02:48, 33.86it/s]\u001b[A\n",
            " 43%|████▎     | 4289/10000 [01:55<02:38, 36.07it/s]\u001b[A\n",
            " 43%|████▎     | 4293/10000 [01:56<02:52, 33.03it/s]\u001b[A\n",
            " 43%|████▎     | 4297/10000 [01:56<03:01, 31.43it/s]\u001b[A\n",
            " 43%|████▎     | 4302/10000 [01:56<02:50, 33.43it/s]\u001b[A\n",
            " 43%|████▎     | 4307/10000 [01:56<02:36, 36.39it/s]\u001b[A\n",
            " 43%|████▎     | 4312/10000 [01:56<02:26, 38.75it/s]\u001b[A\n",
            " 43%|████▎     | 4317/10000 [01:56<02:27, 38.66it/s]\u001b[A\n",
            " 43%|████▎     | 4321/10000 [01:56<02:52, 32.88it/s]\u001b[A\n",
            " 43%|████▎     | 4326/10000 [01:57<02:45, 34.37it/s]\u001b[A\n",
            " 43%|████▎     | 4331/10000 [01:57<02:33, 36.96it/s]\u001b[A\n",
            " 43%|████▎     | 4335/10000 [01:57<03:14, 29.15it/s]\u001b[A\n",
            " 43%|████▎     | 4339/10000 [01:57<03:06, 30.32it/s]\u001b[A\n",
            " 43%|████▎     | 4345/10000 [01:57<02:42, 34.80it/s]\u001b[A\n",
            " 43%|████▎     | 4349/10000 [01:57<02:38, 35.65it/s]\u001b[A\n",
            " 44%|████▎     | 4353/10000 [01:57<02:35, 36.21it/s]\u001b[A\n",
            " 44%|████▎     | 4358/10000 [01:57<02:31, 37.27it/s]\u001b[A\n",
            " 44%|████▎     | 4363/10000 [01:58<02:27, 38.28it/s]\u001b[A\n",
            " 44%|████▎     | 4369/10000 [01:58<02:15, 41.46it/s]\u001b[A\n",
            " 44%|████▍     | 4375/10000 [01:58<02:07, 44.07it/s]\u001b[A\n",
            " 44%|████▍     | 4380/10000 [01:58<02:20, 40.06it/s]\u001b[A\n",
            " 44%|████▍     | 4385/10000 [01:58<02:21, 39.69it/s]\u001b[A\n",
            " 44%|████▍     | 4391/10000 [01:58<02:10, 43.01it/s]\u001b[A\n",
            " 44%|████▍     | 4396/10000 [01:58<02:09, 43.20it/s]\u001b[A\n",
            " 44%|████▍     | 4401/10000 [01:58<02:25, 38.51it/s]\u001b[A\n",
            " 44%|████▍     | 4406/10000 [01:59<02:26, 38.13it/s]\u001b[A\n",
            " 44%|████▍     | 4411/10000 [01:59<02:18, 40.29it/s]\u001b[A\n",
            " 44%|████▍     | 4416/10000 [01:59<02:36, 35.57it/s]\u001b[A\n",
            " 44%|████▍     | 4420/10000 [01:59<02:32, 36.54it/s]\u001b[A\n",
            " 44%|████▍     | 4425/10000 [01:59<02:33, 36.33it/s]\u001b[A\n",
            " 44%|████▍     | 4429/10000 [01:59<02:33, 36.27it/s]\u001b[A\n",
            " 44%|████▍     | 4433/10000 [01:59<03:08, 29.60it/s]\u001b[A\n",
            " 44%|████▍     | 4437/10000 [02:00<02:55, 31.76it/s]\u001b[A\n",
            " 44%|████▍     | 4441/10000 [02:00<02:51, 32.45it/s]\u001b[A\n",
            " 44%|████▍     | 4445/10000 [02:00<02:47, 33.24it/s]\u001b[A\n",
            " 44%|████▍     | 4449/10000 [02:00<02:41, 34.46it/s]\u001b[A\n",
            " 45%|████▍     | 4453/10000 [02:00<02:45, 33.60it/s]\u001b[A\n",
            " 45%|████▍     | 4458/10000 [02:00<02:31, 36.56it/s]\u001b[A\n",
            " 45%|████▍     | 4462/10000 [02:00<02:34, 35.96it/s]\u001b[A\n",
            " 45%|████▍     | 4467/10000 [02:00<02:22, 38.73it/s]\u001b[A\n",
            " 45%|████▍     | 4471/10000 [02:00<02:33, 35.98it/s]\u001b[A\n",
            " 45%|████▍     | 4475/10000 [02:01<02:49, 32.54it/s]\u001b[A\n",
            " 45%|████▍     | 4479/10000 [02:01<02:47, 33.05it/s]\u001b[A\n",
            " 45%|████▍     | 4483/10000 [02:01<02:51, 32.26it/s]\u001b[A\n",
            " 45%|████▍     | 4487/10000 [02:01<02:47, 32.83it/s]\u001b[A\n",
            " 45%|████▍     | 4492/10000 [02:01<02:31, 36.31it/s]\u001b[A\n",
            " 45%|████▍     | 4497/10000 [02:01<02:48, 32.73it/s]\u001b[A\n",
            " 45%|████▌     | 4501/10000 [02:01<02:39, 34.42it/s]\u001b[A\n",
            " 45%|████▌     | 4505/10000 [02:01<02:35, 35.37it/s]\u001b[A\n",
            " 45%|████▌     | 4510/10000 [02:02<02:26, 37.50it/s]\u001b[A\n",
            " 45%|████▌     | 4514/10000 [02:02<02:25, 37.76it/s]\u001b[A\n",
            " 45%|████▌     | 4519/10000 [02:02<02:21, 38.62it/s]\u001b[A\n",
            " 45%|████▌     | 4525/10000 [02:02<02:13, 41.04it/s]\u001b[A\n",
            " 45%|████▌     | 4530/10000 [02:02<02:10, 42.01it/s]\u001b[A\n",
            " 45%|████▌     | 4535/10000 [02:02<02:13, 41.03it/s]\u001b[A\n",
            " 45%|████▌     | 4540/10000 [02:02<02:12, 41.19it/s]\u001b[A\n",
            " 45%|████▌     | 4545/10000 [02:02<02:17, 39.59it/s]\u001b[A\n",
            " 45%|████▌     | 4549/10000 [02:03<02:25, 37.53it/s]\u001b[A\n",
            " 46%|████▌     | 4553/10000 [02:03<02:23, 37.97it/s]\u001b[A\n",
            " 46%|████▌     | 4557/10000 [02:03<02:22, 38.27it/s]\u001b[A\n",
            " 46%|████▌     | 4561/10000 [02:03<02:28, 36.59it/s]\u001b[A\n",
            " 46%|████▌     | 4565/10000 [02:03<02:24, 37.52it/s]\u001b[A\n",
            " 46%|████▌     | 4569/10000 [02:03<02:28, 36.50it/s]\u001b[A\n",
            " 46%|████▌     | 4574/10000 [02:03<02:19, 38.98it/s]\u001b[A\n",
            " 46%|████▌     | 4579/10000 [02:03<02:14, 40.21it/s]\u001b[A\n",
            " 46%|████▌     | 4584/10000 [02:03<02:18, 39.21it/s]\u001b[A\n",
            " 46%|████▌     | 4588/10000 [02:04<02:22, 37.97it/s]\u001b[A\n",
            " 46%|████▌     | 4592/10000 [02:04<02:30, 36.02it/s]\u001b[A\n",
            " 46%|████▌     | 4596/10000 [02:04<02:30, 35.82it/s]\u001b[A\n",
            " 46%|████▌     | 4600/10000 [02:04<02:54, 30.99it/s]\u001b[A\n",
            " 46%|████▌     | 4604/10000 [02:04<02:49, 31.89it/s]\u001b[A\n",
            " 46%|████▌     | 4608/10000 [02:04<02:43, 32.90it/s]\u001b[A\n",
            " 46%|████▌     | 4613/10000 [02:04<02:34, 34.95it/s]\u001b[A\n",
            " 46%|████▌     | 4617/10000 [02:04<02:32, 35.41it/s]\u001b[A\n",
            " 46%|████▌     | 4622/10000 [02:05<02:39, 33.80it/s]\u001b[A\n",
            " 46%|████▋     | 4626/10000 [02:05<02:37, 34.12it/s]\u001b[A\n",
            " 46%|████▋     | 4631/10000 [02:05<02:25, 36.88it/s]\u001b[A\n",
            " 46%|████▋     | 4637/10000 [02:05<02:13, 40.09it/s]\u001b[A\n",
            " 46%|████▋     | 4642/10000 [02:05<02:18, 38.81it/s]\u001b[A\n",
            " 46%|████▋     | 4646/10000 [02:05<02:28, 36.11it/s]\u001b[A\n",
            " 47%|████▋     | 4651/10000 [02:05<02:16, 39.24it/s]\u001b[A\n",
            " 47%|████▋     | 4656/10000 [02:05<02:25, 36.66it/s]\u001b[A\n",
            " 47%|████▋     | 4661/10000 [02:06<02:15, 39.44it/s]\u001b[A\n",
            " 47%|████▋     | 4666/10000 [02:06<02:14, 39.72it/s]\u001b[A\n",
            " 47%|████▋     | 4671/10000 [02:06<02:28, 35.96it/s]\u001b[A\n",
            " 47%|████▋     | 4675/10000 [02:06<02:38, 33.62it/s]\u001b[A\n",
            " 47%|████▋     | 4681/10000 [02:06<02:19, 38.13it/s]\u001b[A\n",
            " 47%|████▋     | 4686/10000 [02:06<02:12, 40.05it/s]\u001b[A\n",
            " 47%|████▋     | 4691/10000 [02:06<02:26, 36.14it/s]\u001b[A\n",
            " 47%|████▋     | 4695/10000 [02:07<02:34, 34.44it/s]\u001b[A\n",
            " 47%|████▋     | 4700/10000 [02:07<02:33, 34.45it/s]\u001b[A\n",
            " 47%|████▋     | 4704/10000 [02:07<02:39, 33.20it/s]\u001b[A\n",
            " 47%|████▋     | 4709/10000 [02:07<02:23, 36.84it/s]\u001b[A\n",
            " 47%|████▋     | 4715/10000 [02:07<02:16, 38.83it/s]\u001b[A\n",
            " 47%|████▋     | 4720/10000 [02:07<02:11, 40.14it/s]\u001b[A\n",
            " 47%|████▋     | 4725/10000 [02:07<02:08, 40.95it/s]\u001b[A\n",
            " 47%|████▋     | 4730/10000 [02:07<02:18, 38.14it/s]\u001b[A\n",
            " 47%|████▋     | 4734/10000 [02:08<02:33, 34.40it/s]\u001b[A\n",
            " 47%|████▋     | 4739/10000 [02:08<02:26, 35.98it/s]\u001b[A\n",
            " 47%|████▋     | 4744/10000 [02:08<02:17, 38.26it/s]\u001b[A\n",
            " 47%|████▋     | 4749/10000 [02:08<02:12, 39.72it/s]\u001b[A\n",
            " 48%|████▊     | 4754/10000 [02:08<02:07, 41.19it/s]\u001b[A\n",
            " 48%|████▊     | 4759/10000 [02:08<02:08, 40.77it/s]\u001b[A\n",
            " 48%|████▊     | 4764/10000 [02:08<02:15, 38.58it/s]\u001b[A\n",
            " 48%|████▊     | 4770/10000 [02:08<02:02, 42.66it/s]\u001b[A\n",
            " 48%|████▊     | 4775/10000 [02:09<02:01, 43.04it/s]\u001b[A\n",
            " 48%|████▊     | 4780/10000 [02:09<01:58, 44.08it/s]\u001b[A\n",
            " 48%|████▊     | 4786/10000 [02:09<01:55, 45.22it/s]\u001b[A\n",
            " 48%|████▊     | 4791/10000 [02:09<01:57, 44.28it/s]\u001b[A\n",
            " 48%|████▊     | 4796/10000 [02:09<02:12, 39.14it/s]\u001b[A\n",
            " 48%|████▊     | 4801/10000 [02:09<02:26, 35.47it/s]\u001b[A\n",
            " 48%|████▊     | 4806/10000 [02:09<02:13, 38.81it/s]\u001b[A\n",
            " 48%|████▊     | 4811/10000 [02:09<02:15, 38.23it/s]\u001b[A\n",
            " 48%|████▊     | 4815/10000 [02:10<02:14, 38.69it/s]\u001b[A\n",
            " 48%|████▊     | 4820/10000 [02:10<02:07, 40.63it/s]\u001b[A\n",
            " 48%|████▊     | 4825/10000 [02:10<02:03, 41.74it/s]\u001b[A\n",
            " 48%|████▊     | 4830/10000 [02:10<02:13, 38.85it/s]\u001b[A\n",
            " 48%|████▊     | 4835/10000 [02:10<02:04, 41.41it/s]\u001b[A\n",
            " 48%|████▊     | 4840/10000 [02:10<02:14, 38.23it/s]\u001b[A\n",
            " 48%|████▊     | 4844/10000 [02:10<02:30, 34.37it/s]\u001b[A\n",
            " 48%|████▊     | 4848/10000 [02:10<02:40, 32.11it/s]\u001b[A\n",
            " 49%|████▊     | 4852/10000 [02:11<02:37, 32.78it/s]\u001b[A\n",
            " 49%|████▊     | 4856/10000 [02:11<02:30, 34.21it/s]\u001b[A\n",
            " 49%|████▊     | 4860/10000 [02:11<02:25, 35.22it/s]\u001b[A\n",
            " 49%|████▊     | 4865/10000 [02:11<02:15, 37.93it/s]\u001b[A\n",
            " 49%|████▊     | 4869/10000 [02:11<02:14, 38.10it/s]\u001b[A\n",
            " 49%|████▊     | 4873/10000 [02:11<02:29, 34.34it/s]\u001b[A\n",
            " 49%|████▉     | 4877/10000 [02:11<02:38, 32.22it/s]\u001b[A\n",
            " 49%|████▉     | 4882/10000 [02:11<02:22, 36.02it/s]\u001b[A\n",
            " 49%|████▉     | 4887/10000 [02:11<02:15, 37.68it/s]\u001b[A\n",
            " 49%|████▉     | 4891/10000 [02:12<02:15, 37.69it/s]\u001b[A\n",
            " 49%|████▉     | 4895/10000 [02:12<02:35, 32.84it/s]\u001b[A\n",
            " 49%|████▉     | 4900/10000 [02:12<02:26, 34.90it/s]\u001b[A\n",
            " 49%|████▉     | 4905/10000 [02:12<02:22, 35.82it/s]\u001b[A\n",
            " 49%|████▉     | 4910/10000 [02:12<02:11, 38.84it/s]\u001b[A\n",
            " 49%|████▉     | 4915/10000 [02:12<02:06, 40.20it/s]\u001b[A\n",
            " 49%|████▉     | 4920/10000 [02:12<02:07, 39.94it/s]\u001b[A\n",
            " 49%|████▉     | 4925/10000 [02:12<02:12, 38.39it/s]\u001b[A\n",
            " 49%|████▉     | 4931/10000 [02:13<01:58, 42.63it/s]\u001b[A\n",
            " 49%|████▉     | 4936/10000 [02:13<02:02, 41.22it/s]\u001b[A\n",
            " 49%|████▉     | 4941/10000 [02:13<02:05, 40.27it/s]\u001b[A\n",
            " 49%|████▉     | 4946/10000 [02:13<02:01, 41.55it/s]\u001b[A\n",
            " 50%|████▉     | 4951/10000 [02:13<02:16, 37.00it/s]\u001b[A\n",
            " 50%|████▉     | 4955/10000 [02:13<02:53, 29.02it/s]\u001b[A\n",
            " 50%|████▉     | 4959/10000 [02:13<02:42, 31.09it/s]\u001b[A\n",
            " 50%|████▉     | 4963/10000 [02:14<02:39, 31.65it/s]\u001b[A\n",
            " 50%|████▉     | 4967/10000 [02:14<02:31, 33.29it/s]\u001b[A\n",
            " 50%|████▉     | 4972/10000 [02:14<02:18, 36.19it/s]\u001b[A\n",
            " 50%|████▉     | 4976/10000 [02:14<02:17, 36.45it/s]\u001b[A\n",
            " 50%|████▉     | 4980/10000 [02:14<02:24, 34.72it/s]\u001b[A\n",
            " 50%|████▉     | 4984/10000 [02:14<02:29, 33.64it/s]\u001b[A\n",
            " 50%|████▉     | 4988/10000 [02:14<02:22, 35.27it/s]\u001b[A\n",
            " 50%|████▉     | 4993/10000 [02:14<02:17, 36.50it/s]\u001b[A\n",
            " 50%|████▉     | 4998/10000 [02:14<02:07, 39.27it/s]\u001b[A\n",
            " 50%|█████     | 5003/10000 [02:15<02:42, 30.70it/s]\u001b[A\n",
            " 50%|█████     | 5007/10000 [02:15<05:04, 16.39it/s]\u001b[A\n",
            " 50%|█████     | 5010/10000 [02:15<04:28, 18.62it/s]\u001b[A\n",
            " 50%|█████     | 5013/10000 [02:16<04:21, 19.09it/s]\u001b[A\n",
            " 50%|█████     | 5017/10000 [02:16<03:43, 22.27it/s]\u001b[A\n",
            " 50%|█████     | 5021/10000 [02:16<03:20, 24.81it/s]\u001b[A\n",
            " 50%|█████     | 5025/10000 [02:16<03:08, 26.34it/s]\u001b[A\n",
            " 50%|█████     | 5030/10000 [02:16<02:43, 30.46it/s]\u001b[A\n",
            " 50%|█████     | 5034/10000 [02:16<03:26, 24.00it/s]\u001b[A\n",
            " 50%|█████     | 5037/10000 [02:16<03:19, 24.92it/s]\u001b[A\n",
            " 50%|█████     | 5040/10000 [02:17<03:49, 21.61it/s]\u001b[A\n",
            " 50%|█████     | 5045/10000 [02:17<03:20, 24.77it/s]\u001b[A\n",
            " 50%|█████     | 5049/10000 [02:17<03:02, 27.11it/s]\u001b[A\n",
            " 51%|█████     | 5053/10000 [02:17<02:47, 29.57it/s]\u001b[A\n",
            " 51%|█████     | 5057/10000 [02:17<02:49, 29.18it/s]\u001b[A\n",
            " 51%|█████     | 5061/10000 [02:17<02:57, 27.79it/s]\u001b[A\n",
            " 51%|█████     | 5064/10000 [02:17<03:47, 21.67it/s]\u001b[A\n",
            " 51%|█████     | 5069/10000 [02:17<03:10, 25.89it/s]\u001b[A\n",
            " 51%|█████     | 5073/10000 [02:18<02:52, 28.61it/s]\u001b[A\n",
            " 51%|█████     | 5078/10000 [02:18<02:32, 32.35it/s]\u001b[A\n",
            " 51%|█████     | 5083/10000 [02:18<02:20, 34.93it/s]\u001b[A\n",
            " 51%|█████     | 5087/10000 [02:18<02:16, 36.11it/s]\u001b[A\n",
            " 51%|█████     | 5091/10000 [02:18<02:29, 32.86it/s]\u001b[A\n",
            " 51%|█████     | 5096/10000 [02:18<02:16, 35.96it/s]\u001b[A\n",
            " 51%|█████     | 5100/10000 [02:18<02:18, 35.42it/s]\u001b[A\n",
            " 51%|█████     | 5105/10000 [02:18<02:07, 38.26it/s]\u001b[A\n",
            " 51%|█████     | 5110/10000 [02:19<02:13, 36.57it/s]\u001b[A\n",
            " 51%|█████     | 5115/10000 [02:19<02:10, 37.44it/s]\u001b[A\n",
            " 51%|█████     | 5119/10000 [02:19<03:12, 25.33it/s]\u001b[A\n",
            " 51%|█████     | 5123/10000 [02:19<03:25, 23.74it/s]\u001b[A\n",
            " 51%|█████▏    | 5126/10000 [02:19<03:29, 23.23it/s]\u001b[A\n",
            " 51%|█████▏    | 5129/10000 [02:19<03:36, 22.54it/s]\u001b[A\n",
            " 51%|█████▏    | 5132/10000 [02:20<03:20, 24.29it/s]\u001b[A\n",
            " 51%|█████▏    | 5136/10000 [02:20<02:57, 27.44it/s]\u001b[A\n",
            " 51%|█████▏    | 5140/10000 [02:20<03:00, 26.99it/s]\u001b[A\n",
            " 51%|█████▏    | 5144/10000 [02:20<02:44, 29.49it/s]\u001b[A\n",
            " 51%|█████▏    | 5148/10000 [02:20<03:18, 24.49it/s]\u001b[A\n",
            " 52%|█████▏    | 5151/10000 [02:20<03:22, 23.91it/s]\u001b[A\n",
            " 52%|█████▏    | 5154/10000 [02:20<03:26, 23.48it/s]\u001b[A\n",
            " 52%|█████▏    | 5158/10000 [02:20<03:01, 26.74it/s]\u001b[A\n",
            " 52%|█████▏    | 5161/10000 [02:21<02:55, 27.62it/s]\u001b[A\n",
            " 52%|█████▏    | 5164/10000 [02:21<02:51, 28.17it/s]\u001b[A\n",
            " 52%|█████▏    | 5167/10000 [02:21<03:06, 25.89it/s]\u001b[A\n",
            " 52%|█████▏    | 5170/10000 [02:21<03:10, 25.36it/s]\u001b[A\n",
            " 52%|█████▏    | 5175/10000 [02:21<02:44, 29.38it/s]\u001b[A\n",
            " 52%|█████▏    | 5179/10000 [02:21<02:42, 29.72it/s]\u001b[A\n",
            " 52%|█████▏    | 5185/10000 [02:21<02:24, 33.41it/s]\u001b[A\n",
            " 52%|█████▏    | 5189/10000 [02:21<02:34, 31.10it/s]\u001b[A\n",
            " 52%|█████▏    | 5193/10000 [02:22<02:39, 30.22it/s]\u001b[A\n",
            " 52%|█████▏    | 5198/10000 [02:22<02:20, 34.14it/s]\u001b[A\n",
            " 52%|█████▏    | 5202/10000 [02:22<02:17, 35.01it/s]\u001b[A\n",
            " 52%|█████▏    | 5206/10000 [02:22<02:29, 32.07it/s]\u001b[A\n",
            " 52%|█████▏    | 5210/10000 [02:22<02:23, 33.36it/s]\u001b[A\n",
            " 52%|█████▏    | 5214/10000 [02:22<02:34, 31.07it/s]\u001b[A\n",
            " 52%|█████▏    | 5218/10000 [02:22<02:48, 28.42it/s]\u001b[A\n",
            " 52%|█████▏    | 5222/10000 [02:22<02:41, 29.57it/s]\u001b[A\n",
            " 52%|█████▏    | 5226/10000 [02:23<03:38, 21.88it/s]\u001b[A\n",
            " 52%|█████▏    | 5229/10000 [02:23<03:30, 22.67it/s]\u001b[A\n",
            " 52%|█████▏    | 5232/10000 [02:23<03:43, 21.33it/s]\u001b[A\n",
            " 52%|█████▏    | 5235/10000 [02:23<03:30, 22.63it/s]\u001b[A\n",
            " 52%|█████▏    | 5238/10000 [02:23<04:08, 19.18it/s]\u001b[A\n",
            " 52%|█████▏    | 5241/10000 [02:24<03:44, 21.24it/s]\u001b[A\n",
            " 52%|█████▏    | 5244/10000 [02:24<03:30, 22.64it/s]\u001b[A\n",
            " 52%|█████▏    | 5247/10000 [02:24<03:27, 22.89it/s]\u001b[A\n",
            " 52%|█████▎    | 5250/10000 [02:24<03:15, 24.34it/s]\u001b[A\n",
            " 53%|█████▎    | 5253/10000 [02:24<03:07, 25.28it/s]\u001b[A\n",
            " 53%|█████▎    | 5257/10000 [02:24<02:49, 27.96it/s]\u001b[A\n",
            " 53%|█████▎    | 5261/10000 [02:24<02:41, 29.39it/s]\u001b[A\n",
            " 53%|█████▎    | 5265/10000 [02:24<02:44, 28.76it/s]\u001b[A\n",
            " 53%|█████▎    | 5268/10000 [02:24<02:56, 26.80it/s]\u001b[A\n",
            " 53%|█████▎    | 5271/10000 [02:25<03:06, 25.32it/s]\u001b[A\n",
            " 53%|█████▎    | 5276/10000 [02:25<02:47, 28.20it/s]\u001b[A\n",
            " 53%|█████▎    | 5279/10000 [02:25<02:49, 27.87it/s]\u001b[A\n",
            " 53%|█████▎    | 5282/10000 [02:25<03:08, 25.01it/s]\u001b[A\n",
            " 53%|█████▎    | 5286/10000 [02:25<02:52, 27.35it/s]\u001b[A\n",
            " 53%|█████▎    | 5290/10000 [02:25<02:36, 30.04it/s]\u001b[A\n",
            " 53%|█████▎    | 5294/10000 [02:25<02:40, 29.36it/s]\u001b[A\n",
            " 53%|█████▎    | 5298/10000 [02:25<02:30, 31.23it/s]\u001b[A\n",
            " 53%|█████▎    | 5302/10000 [02:26<02:24, 32.50it/s]\u001b[A\n",
            " 53%|█████▎    | 5306/10000 [02:26<02:16, 34.36it/s]\u001b[A\n",
            " 53%|█████▎    | 5310/10000 [02:26<02:22, 32.95it/s]\u001b[A\n",
            " 53%|█████▎    | 5315/10000 [02:26<02:19, 33.53it/s]\u001b[A\n",
            " 53%|█████▎    | 5319/10000 [02:26<02:33, 30.57it/s]\u001b[A\n",
            " 53%|█████▎    | 5323/10000 [02:26<02:31, 30.93it/s]\u001b[A\n",
            " 53%|█████▎    | 5327/10000 [02:26<02:31, 30.91it/s]\u001b[A\n",
            " 53%|█████▎    | 5332/10000 [02:26<02:24, 32.23it/s]\u001b[A\n",
            " 53%|█████▎    | 5336/10000 [02:27<02:18, 33.74it/s]\u001b[A\n",
            " 53%|█████▎    | 5340/10000 [02:27<02:45, 28.08it/s]\u001b[A\n",
            " 53%|█████▎    | 5344/10000 [02:27<02:37, 29.65it/s]\u001b[A\n",
            " 53%|█████▎    | 5348/10000 [02:27<03:18, 23.39it/s]\u001b[A\n",
            " 54%|█████▎    | 5352/10000 [02:27<02:55, 26.50it/s]\u001b[A\n",
            " 54%|█████▎    | 5356/10000 [02:27<02:42, 28.62it/s]\u001b[A\n",
            " 54%|█████▎    | 5360/10000 [02:27<02:30, 30.73it/s]\u001b[A\n",
            " 54%|█████▎    | 5364/10000 [02:28<02:34, 29.94it/s]\u001b[A\n",
            " 54%|█████▎    | 5368/10000 [02:28<02:27, 31.49it/s]\u001b[A\n",
            " 54%|█████▎    | 5372/10000 [02:28<02:49, 27.38it/s]\u001b[A\n",
            " 54%|█████▍    | 5375/10000 [02:28<02:49, 27.34it/s]\u001b[A\n",
            " 54%|█████▍    | 5378/10000 [02:28<03:00, 25.66it/s]\u001b[A\n",
            " 54%|█████▍    | 5383/10000 [02:28<02:37, 29.26it/s]\u001b[A\n",
            " 54%|█████▍    | 5387/10000 [02:28<02:27, 31.28it/s]\u001b[A\n",
            " 54%|█████▍    | 5391/10000 [02:29<02:37, 29.26it/s]\u001b[A\n",
            " 54%|█████▍    | 5395/10000 [02:29<02:34, 29.84it/s]\u001b[A\n",
            " 54%|█████▍    | 5400/10000 [02:29<02:23, 32.16it/s]\u001b[A\n",
            " 54%|█████▍    | 5404/10000 [02:29<02:43, 28.11it/s]\u001b[A\n",
            " 54%|█████▍    | 5408/10000 [02:29<02:41, 28.35it/s]\u001b[A\n",
            " 54%|█████▍    | 5413/10000 [02:29<02:21, 32.38it/s]\u001b[A\n",
            " 54%|█████▍    | 5417/10000 [02:29<02:38, 28.97it/s]\u001b[A\n",
            " 54%|█████▍    | 5421/10000 [02:30<02:35, 29.54it/s]\u001b[A\n",
            " 54%|█████▍    | 5425/10000 [02:30<02:32, 29.98it/s]\u001b[A\n",
            " 54%|█████▍    | 5429/10000 [02:30<02:29, 30.60it/s]\u001b[A\n",
            " 54%|█████▍    | 5433/10000 [02:30<02:42, 28.13it/s]\u001b[A\n",
            " 54%|█████▍    | 5437/10000 [02:30<02:59, 25.38it/s]\u001b[A\n",
            " 54%|█████▍    | 5440/10000 [02:30<03:08, 24.13it/s]\u001b[A\n",
            " 54%|█████▍    | 5443/10000 [02:30<03:08, 24.12it/s]\u001b[A\n",
            " 54%|█████▍    | 5448/10000 [02:31<02:40, 28.35it/s]\u001b[A\n",
            " 55%|█████▍    | 5452/10000 [02:31<02:35, 29.31it/s]\u001b[A\n",
            " 55%|█████▍    | 5456/10000 [02:31<02:53, 26.17it/s]\u001b[A\n",
            " 55%|█████▍    | 5459/10000 [02:31<02:50, 26.66it/s]\u001b[A\n",
            " 55%|█████▍    | 5463/10000 [02:31<02:40, 28.26it/s]\u001b[A\n",
            " 55%|█████▍    | 5467/10000 [02:31<02:40, 28.25it/s]\u001b[A\n",
            " 55%|█████▍    | 5471/10000 [02:31<02:28, 30.44it/s]\u001b[A\n",
            " 55%|█████▍    | 5475/10000 [02:31<02:33, 29.39it/s]\u001b[A\n",
            " 55%|█████▍    | 5479/10000 [02:32<02:44, 27.46it/s]\u001b[A\n",
            " 55%|█████▍    | 5482/10000 [02:32<02:42, 27.82it/s]\u001b[A\n",
            " 55%|█████▍    | 5485/10000 [02:32<02:44, 27.52it/s]\u001b[A\n",
            " 55%|█████▍    | 5488/10000 [02:32<02:59, 25.12it/s]\u001b[A\n",
            " 55%|█████▍    | 5492/10000 [02:32<02:44, 27.36it/s]\u001b[A\n",
            " 55%|█████▍    | 5496/10000 [02:32<02:37, 28.60it/s]\u001b[A\n",
            " 55%|█████▌    | 5500/10000 [02:32<02:34, 29.08it/s]\u001b[A\n",
            " 55%|█████▌    | 5504/10000 [02:32<02:27, 30.52it/s]\u001b[A\n",
            " 55%|█████▌    | 5508/10000 [02:33<02:21, 31.73it/s]\u001b[A\n",
            " 55%|█████▌    | 5512/10000 [02:33<02:35, 28.92it/s]\u001b[A\n",
            " 55%|█████▌    | 5517/10000 [02:33<02:20, 32.02it/s]\u001b[A\n",
            " 55%|█████▌    | 5522/10000 [02:33<02:09, 34.68it/s]\u001b[A\n",
            " 55%|█████▌    | 5526/10000 [02:33<02:20, 31.89it/s]\u001b[A\n",
            " 55%|█████▌    | 5530/10000 [02:33<02:26, 30.52it/s]\u001b[A\n",
            " 55%|█████▌    | 5534/10000 [02:33<02:38, 28.25it/s]\u001b[A\n",
            " 55%|█████▌    | 5537/10000 [02:34<02:56, 25.30it/s]\u001b[A\n",
            " 55%|█████▌    | 5541/10000 [02:34<02:45, 26.98it/s]\u001b[A\n",
            " 55%|█████▌    | 5544/10000 [02:34<02:43, 27.28it/s]\u001b[A\n",
            " 55%|█████▌    | 5547/10000 [02:34<02:51, 25.91it/s]\u001b[A\n",
            " 56%|█████▌    | 5552/10000 [02:34<02:38, 28.10it/s]\u001b[A\n",
            " 56%|█████▌    | 5557/10000 [02:34<02:27, 30.12it/s]\u001b[A\n",
            " 56%|█████▌    | 5562/10000 [02:34<02:29, 29.72it/s]\u001b[A\n",
            " 56%|█████▌    | 5566/10000 [02:35<02:20, 31.62it/s]\u001b[A\n",
            " 56%|█████▌    | 5571/10000 [02:35<02:12, 33.53it/s]\u001b[A\n",
            " 56%|█████▌    | 5575/10000 [02:35<02:09, 34.27it/s]\u001b[A\n",
            " 56%|█████▌    | 5579/10000 [02:35<02:18, 31.84it/s]\u001b[A\n",
            " 56%|█████▌    | 5583/10000 [02:35<02:23, 30.69it/s]\u001b[A\n",
            " 56%|█████▌    | 5587/10000 [02:35<02:27, 29.98it/s]\u001b[A\n",
            " 56%|█████▌    | 5591/10000 [02:35<02:22, 30.98it/s]\u001b[A\n",
            " 56%|█████▌    | 5595/10000 [02:35<02:16, 32.38it/s]\u001b[A\n",
            " 56%|█████▌    | 5599/10000 [02:36<02:23, 30.75it/s]\u001b[A\n",
            " 56%|█████▌    | 5603/10000 [02:36<02:24, 30.35it/s]\u001b[A\n",
            " 56%|█████▌    | 5607/10000 [02:36<02:25, 30.17it/s]\u001b[A\n",
            " 56%|█████▌    | 5611/10000 [02:36<02:26, 30.02it/s]\u001b[A\n",
            " 56%|█████▌    | 5615/10000 [02:36<02:26, 29.83it/s]\u001b[A\n",
            " 56%|█████▌    | 5619/10000 [02:36<02:46, 26.28it/s]\u001b[A\n",
            " 56%|█████▋    | 5625/10000 [02:36<02:24, 30.23it/s]\u001b[A\n",
            " 56%|█████▋    | 5629/10000 [02:37<02:17, 31.74it/s]\u001b[A\n",
            " 56%|█████▋    | 5633/10000 [02:37<02:21, 30.90it/s]\u001b[A\n",
            " 56%|█████▋    | 5637/10000 [02:37<02:25, 29.93it/s]\u001b[A\n",
            " 56%|█████▋    | 5641/10000 [02:37<02:28, 29.35it/s]\u001b[A\n",
            " 56%|█████▋    | 5645/10000 [02:37<02:30, 28.95it/s]\u001b[A\n",
            " 56%|█████▋    | 5648/10000 [02:37<02:46, 26.21it/s]\u001b[A\n",
            " 57%|█████▋    | 5652/10000 [02:37<02:30, 28.98it/s]\u001b[A\n",
            " 57%|█████▋    | 5656/10000 [02:38<02:40, 27.02it/s]\u001b[A\n",
            " 57%|█████▋    | 5660/10000 [02:38<02:25, 29.86it/s]\u001b[A\n",
            " 57%|█████▋    | 5664/10000 [02:38<02:16, 31.66it/s]\u001b[A\n",
            " 57%|█████▋    | 5668/10000 [02:38<02:31, 28.58it/s]\u001b[A\n",
            " 57%|█████▋    | 5672/10000 [02:38<02:48, 25.71it/s]\u001b[A\n",
            " 57%|█████▋    | 5676/10000 [02:38<02:36, 27.68it/s]\u001b[A\n",
            " 57%|█████▋    | 5681/10000 [02:38<02:20, 30.68it/s]\u001b[A\n",
            " 57%|█████▋    | 5685/10000 [02:38<02:14, 31.99it/s]\u001b[A\n",
            " 57%|█████▋    | 5689/10000 [02:39<02:29, 28.83it/s]\u001b[A\n",
            " 57%|█████▋    | 5693/10000 [02:39<02:23, 29.94it/s]\u001b[A\n",
            " 57%|█████▋    | 5697/10000 [02:39<02:41, 26.62it/s]\u001b[A\n",
            " 57%|█████▋    | 5701/10000 [02:39<02:25, 29.54it/s]\u001b[A\n",
            " 57%|█████▋    | 5705/10000 [02:39<02:30, 28.58it/s]\u001b[A\n",
            " 57%|█████▋    | 5709/10000 [02:39<02:23, 29.90it/s]\u001b[A\n",
            " 57%|█████▋    | 5713/10000 [02:39<02:36, 27.35it/s]\u001b[A\n",
            " 57%|█████▋    | 5717/10000 [02:40<02:25, 29.52it/s]\u001b[A\n",
            " 57%|█████▋    | 5721/10000 [02:40<02:42, 26.40it/s]\u001b[A\n",
            " 57%|█████▋    | 5724/10000 [02:40<02:36, 27.33it/s]\u001b[A\n",
            " 57%|█████▋    | 5727/10000 [02:40<02:51, 24.90it/s]\u001b[A\n",
            " 57%|█████▋    | 5730/10000 [02:40<02:55, 24.27it/s]\u001b[A\n",
            " 57%|█████▋    | 5733/10000 [02:40<02:47, 25.54it/s]\u001b[A\n",
            " 57%|█████▋    | 5736/10000 [02:40<03:00, 23.65it/s]\u001b[A\n",
            " 57%|█████▋    | 5739/10000 [02:41<02:49, 25.19it/s]\u001b[A\n",
            " 57%|█████▋    | 5744/10000 [02:41<02:27, 28.87it/s]\u001b[A\n",
            " 57%|█████▋    | 5748/10000 [02:41<02:39, 26.66it/s]\u001b[A\n",
            " 58%|█████▊    | 5752/10000 [02:41<02:23, 29.53it/s]\u001b[A\n",
            " 58%|█████▊    | 5756/10000 [02:41<02:14, 31.54it/s]\u001b[A\n",
            " 58%|█████▊    | 5760/10000 [02:41<02:20, 30.28it/s]\u001b[A\n",
            " 58%|█████▊    | 5765/10000 [02:41<02:06, 33.59it/s]\u001b[A\n",
            " 58%|█████▊    | 5769/10000 [02:41<02:08, 32.88it/s]\u001b[A\n",
            " 58%|█████▊    | 5773/10000 [02:42<02:08, 32.95it/s]\u001b[A\n",
            " 58%|█████▊    | 5778/10000 [02:42<01:59, 35.28it/s]\u001b[A\n",
            " 58%|█████▊    | 5782/10000 [02:42<02:08, 32.90it/s]\u001b[A\n",
            " 58%|█████▊    | 5786/10000 [02:42<02:48, 25.04it/s]\u001b[A\n",
            " 58%|█████▊    | 5790/10000 [02:42<02:47, 25.20it/s]\u001b[A\n",
            " 58%|█████▊    | 5794/10000 [02:42<02:36, 26.95it/s]\u001b[A\n",
            " 58%|█████▊    | 5797/10000 [02:42<02:32, 27.58it/s]\u001b[A\n",
            " 58%|█████▊    | 5801/10000 [02:43<02:20, 29.97it/s]\u001b[A\n",
            " 58%|█████▊    | 5805/10000 [02:43<02:12, 31.60it/s]\u001b[A\n",
            " 58%|█████▊    | 5809/10000 [02:43<02:15, 30.90it/s]\u001b[A\n",
            " 58%|█████▊    | 5813/10000 [02:43<02:29, 28.10it/s]\u001b[A\n",
            " 58%|█████▊    | 5816/10000 [02:43<02:26, 28.50it/s]\u001b[A\n",
            " 58%|█████▊    | 5819/10000 [02:43<02:49, 24.66it/s]\u001b[A\n",
            " 58%|█████▊    | 5822/10000 [02:43<02:45, 25.30it/s]\u001b[A\n",
            " 58%|█████▊    | 5825/10000 [02:43<02:43, 25.59it/s]\u001b[A\n",
            " 58%|█████▊    | 5830/10000 [02:44<02:23, 29.14it/s]\u001b[A\n",
            " 58%|█████▊    | 5835/10000 [02:44<02:08, 32.46it/s]\u001b[A\n",
            " 58%|█████▊    | 5839/10000 [02:44<02:03, 33.63it/s]\u001b[A\n",
            " 58%|█████▊    | 5843/10000 [02:44<02:02, 34.04it/s]\u001b[A\n",
            " 58%|█████▊    | 5847/10000 [02:44<02:29, 27.74it/s]\u001b[A\n",
            " 59%|█████▊    | 5851/10000 [02:44<02:22, 29.20it/s]\u001b[A\n",
            " 59%|█████▊    | 5855/10000 [02:44<02:22, 28.99it/s]\u001b[A\n",
            " 59%|█████▊    | 5859/10000 [02:45<02:39, 25.98it/s]\u001b[A\n",
            " 59%|█████▊    | 5863/10000 [02:45<02:25, 28.34it/s]\u001b[A\n",
            " 59%|█████▊    | 5867/10000 [02:45<02:18, 29.93it/s]\u001b[A\n",
            " 59%|█████▊    | 5871/10000 [02:45<02:07, 32.34it/s]\u001b[A\n",
            " 59%|█████▉    | 5875/10000 [02:45<02:08, 32.00it/s]\u001b[A\n",
            " 59%|█████▉    | 5879/10000 [02:45<02:25, 28.29it/s]\u001b[A\n",
            " 59%|█████▉    | 5882/10000 [02:45<02:40, 25.63it/s]\u001b[A\n",
            " 59%|█████▉    | 5885/10000 [02:45<02:41, 25.49it/s]\u001b[A\n",
            " 59%|█████▉    | 5889/10000 [02:46<02:28, 27.66it/s]\u001b[A\n",
            " 59%|█████▉    | 5892/10000 [02:46<02:28, 27.73it/s]\u001b[A\n",
            " 59%|█████▉    | 5895/10000 [02:46<02:39, 25.75it/s]\u001b[A\n",
            " 59%|█████▉    | 5899/10000 [02:46<02:34, 26.55it/s]\u001b[A\n",
            " 59%|█████▉    | 5903/10000 [02:46<02:23, 28.56it/s]\u001b[A\n",
            " 59%|█████▉    | 5906/10000 [02:46<02:30, 27.26it/s]\u001b[A\n",
            " 59%|█████▉    | 5910/10000 [02:46<02:24, 28.36it/s]\u001b[A\n",
            " 59%|█████▉    | 5913/10000 [02:46<02:27, 27.66it/s]\u001b[A\n",
            " 59%|█████▉    | 5916/10000 [02:47<02:25, 28.14it/s]\u001b[A\n",
            " 59%|█████▉    | 5919/10000 [02:47<02:23, 28.38it/s]\u001b[A\n",
            " 59%|█████▉    | 5922/10000 [02:47<02:36, 26.06it/s]\u001b[A\n",
            " 59%|█████▉    | 5926/10000 [02:47<02:22, 28.61it/s]\u001b[A\n",
            " 59%|█████▉    | 5929/10000 [02:47<02:21, 28.70it/s]\u001b[A\n",
            " 59%|█████▉    | 5933/10000 [02:47<02:11, 30.94it/s]\u001b[A\n",
            " 59%|█████▉    | 5937/10000 [02:47<02:31, 26.74it/s]\u001b[A\n",
            " 59%|█████▉    | 5941/10000 [02:47<02:20, 28.99it/s]\u001b[A\n",
            " 59%|█████▉    | 5946/10000 [02:47<02:06, 31.99it/s]\u001b[A\n",
            " 60%|█████▉    | 5950/10000 [02:48<02:02, 33.19it/s]\u001b[A\n",
            " 60%|█████▉    | 5954/10000 [02:48<02:03, 32.73it/s]\u001b[A\n",
            " 60%|█████▉    | 5958/10000 [02:48<02:20, 28.83it/s]\u001b[A\n",
            " 60%|█████▉    | 5962/10000 [02:48<02:10, 31.00it/s]\u001b[A\n",
            " 60%|█████▉    | 5966/10000 [02:48<02:14, 29.89it/s]\u001b[A\n",
            " 60%|█████▉    | 5970/10000 [02:48<02:10, 30.93it/s]\u001b[A\n",
            " 60%|█████▉    | 5974/10000 [02:48<02:13, 30.05it/s]\u001b[A\n",
            " 60%|█████▉    | 5978/10000 [02:49<03:09, 21.23it/s]\u001b[A\n",
            " 60%|█████▉    | 5981/10000 [02:49<03:08, 21.37it/s]\u001b[A\n",
            " 60%|█████▉    | 5984/10000 [02:49<03:05, 21.64it/s]\u001b[A\n",
            " 60%|█████▉    | 5987/10000 [02:49<02:55, 22.90it/s]\u001b[A\n",
            " 60%|█████▉    | 5991/10000 [02:49<02:39, 25.15it/s]\u001b[A\n",
            " 60%|█████▉    | 5994/10000 [02:49<02:49, 23.68it/s]\u001b[A\n",
            " 60%|█████▉    | 5997/10000 [02:50<03:03, 21.83it/s]\u001b[A\n",
            " 60%|██████    | 6001/10000 [02:50<02:39, 25.13it/s]\u001b[A\n",
            " 60%|██████    | 6005/10000 [02:50<02:29, 26.70it/s]\u001b[A\n",
            " 60%|██████    | 6009/10000 [02:50<02:23, 27.88it/s]\u001b[A\n",
            " 60%|██████    | 6012/10000 [02:50<02:33, 26.02it/s]\u001b[A\n",
            " 60%|██████    | 6016/10000 [02:50<02:29, 26.66it/s]\u001b[A\n",
            " 60%|██████    | 6020/10000 [02:50<02:20, 28.35it/s]\u001b[A\n",
            " 60%|██████    | 6025/10000 [02:50<02:12, 29.98it/s]\u001b[A\n",
            " 60%|██████    | 6029/10000 [02:51<02:26, 27.12it/s]\u001b[A\n",
            " 60%|██████    | 6034/10000 [02:51<02:07, 31.07it/s]\u001b[A\n",
            " 60%|██████    | 6038/10000 [02:51<02:28, 26.68it/s]\u001b[A\n",
            " 60%|██████    | 6042/10000 [02:51<02:28, 26.63it/s]\u001b[A\n",
            " 60%|██████    | 6045/10000 [02:51<02:31, 26.04it/s]\u001b[A\n",
            " 60%|██████    | 6049/10000 [02:51<02:17, 28.70it/s]\u001b[A\n",
            " 61%|██████    | 6053/10000 [02:51<02:15, 29.16it/s]\u001b[A\n",
            " 61%|██████    | 6057/10000 [02:52<02:33, 25.68it/s]\u001b[A\n",
            " 61%|██████    | 6061/10000 [02:52<02:22, 27.58it/s]\u001b[A\n",
            " 61%|██████    | 6066/10000 [02:52<02:05, 31.33it/s]\u001b[A\n",
            " 61%|██████    | 6070/10000 [02:52<02:19, 28.25it/s]\u001b[A\n",
            " 61%|██████    | 6074/10000 [02:52<02:30, 26.12it/s]\u001b[A\n",
            " 61%|██████    | 6078/10000 [02:52<02:23, 27.32it/s]\u001b[A\n",
            " 61%|██████    | 6081/10000 [02:52<02:22, 27.53it/s]\u001b[A\n",
            " 61%|██████    | 6084/10000 [02:53<02:23, 27.22it/s]\u001b[A\n",
            " 61%|██████    | 6087/10000 [02:53<02:38, 24.72it/s]\u001b[A\n",
            " 61%|██████    | 6091/10000 [02:53<02:33, 25.42it/s]\u001b[A\n",
            " 61%|██████    | 6094/10000 [02:53<02:29, 26.15it/s]\u001b[A\n",
            " 61%|██████    | 6097/10000 [02:53<02:36, 24.94it/s]\u001b[A\n",
            " 61%|██████    | 6100/10000 [02:53<02:35, 25.06it/s]\u001b[A\n",
            " 61%|██████    | 6103/10000 [02:53<02:45, 23.58it/s]\u001b[A\n",
            " 61%|██████    | 6106/10000 [02:53<02:35, 25.02it/s]\u001b[A\n",
            " 61%|██████    | 6110/10000 [02:54<02:23, 27.09it/s]\u001b[A\n",
            " 61%|██████    | 6113/10000 [02:54<02:38, 24.51it/s]\u001b[A\n",
            " 61%|██████    | 6117/10000 [02:54<02:26, 26.47it/s]\u001b[A\n",
            " 61%|██████    | 6121/10000 [02:54<02:19, 27.72it/s]\u001b[A\n",
            " 61%|██████▏   | 6125/10000 [02:54<02:27, 26.31it/s]\u001b[A\n",
            " 61%|██████▏   | 6129/10000 [02:54<02:16, 28.37it/s]\u001b[A\n",
            " 61%|██████▏   | 6133/10000 [02:54<02:09, 29.80it/s]\u001b[A\n",
            " 61%|██████▏   | 6137/10000 [02:55<02:16, 28.36it/s]\u001b[A\n",
            " 61%|██████▏   | 6142/10000 [02:55<02:16, 28.19it/s]\u001b[A\n",
            " 61%|██████▏   | 6146/10000 [02:55<02:06, 30.44it/s]\u001b[A\n",
            " 62%|██████▏   | 6151/10000 [02:55<01:53, 33.77it/s]\u001b[A\n",
            " 62%|██████▏   | 6156/10000 [02:55<01:45, 36.29it/s]\u001b[A\n",
            " 62%|██████▏   | 6160/10000 [02:55<01:56, 33.05it/s]\u001b[A\n",
            " 62%|██████▏   | 6164/10000 [02:55<02:04, 30.84it/s]\u001b[A\n",
            " 62%|██████▏   | 6168/10000 [02:55<02:01, 31.44it/s]\u001b[A\n",
            " 62%|██████▏   | 6172/10000 [02:56<02:03, 30.95it/s]\u001b[A\n",
            " 62%|██████▏   | 6176/10000 [02:56<02:07, 29.95it/s]\u001b[A\n",
            " 62%|██████▏   | 6180/10000 [02:56<02:05, 30.40it/s]\u001b[A\n",
            " 62%|██████▏   | 6184/10000 [02:56<02:00, 31.63it/s]\u001b[A\n",
            " 62%|██████▏   | 6188/10000 [02:56<02:35, 24.51it/s]\u001b[A\n",
            " 62%|██████▏   | 6191/10000 [02:56<03:08, 20.23it/s]\u001b[A\n",
            " 62%|██████▏   | 6194/10000 [02:57<02:52, 22.12it/s]\u001b[A\n",
            " 62%|██████▏   | 6197/10000 [02:57<02:47, 22.65it/s]\u001b[A\n",
            " 62%|██████▏   | 6201/10000 [02:57<02:27, 25.78it/s]\u001b[A\n",
            " 62%|██████▏   | 6205/10000 [02:57<02:29, 25.42it/s]\u001b[A\n",
            " 62%|██████▏   | 6209/10000 [02:57<02:12, 28.52it/s]\u001b[A\n",
            " 62%|██████▏   | 6213/10000 [02:57<02:05, 30.14it/s]\u001b[A\n",
            " 62%|██████▏   | 6217/10000 [02:57<01:59, 31.66it/s]\u001b[A\n",
            " 62%|██████▏   | 6221/10000 [02:57<02:04, 30.39it/s]\u001b[A\n",
            " 62%|██████▏   | 6225/10000 [02:58<02:05, 30.14it/s]\u001b[A\n",
            " 62%|██████▏   | 6229/10000 [02:58<01:57, 32.14it/s]\u001b[A\n",
            " 62%|██████▏   | 6234/10000 [02:58<01:46, 35.38it/s]\u001b[A\n",
            " 62%|██████▏   | 6238/10000 [02:58<01:59, 31.44it/s]\u001b[A\n",
            " 62%|██████▏   | 6242/10000 [02:58<02:07, 29.45it/s]\u001b[A\n",
            " 62%|██████▏   | 6246/10000 [02:58<02:09, 28.98it/s]\u001b[A\n",
            " 63%|██████▎   | 6251/10000 [02:58<01:59, 31.29it/s]\u001b[A\n",
            " 63%|██████▎   | 6255/10000 [02:59<01:59, 31.34it/s]\u001b[A\n",
            " 63%|██████▎   | 6259/10000 [02:59<01:59, 31.42it/s]\u001b[A\n",
            " 63%|██████▎   | 6263/10000 [02:59<02:09, 28.93it/s]\u001b[A\n",
            " 63%|██████▎   | 6266/10000 [02:59<02:40, 23.29it/s]\u001b[A\n",
            " 63%|██████▎   | 6271/10000 [02:59<02:27, 25.22it/s]\u001b[A\n",
            " 63%|██████▎   | 6275/10000 [02:59<02:16, 27.35it/s]\u001b[A\n",
            " 63%|██████▎   | 6280/10000 [02:59<02:01, 30.54it/s]\u001b[A\n",
            " 63%|██████▎   | 6284/10000 [03:00<02:10, 28.46it/s]\u001b[A\n",
            " 63%|██████▎   | 6288/10000 [03:00<02:18, 26.74it/s]\u001b[A\n",
            " 63%|██████▎   | 6291/10000 [03:00<02:30, 24.68it/s]\u001b[A\n",
            " 63%|██████▎   | 6294/10000 [03:00<03:05, 20.03it/s]\u001b[A\n",
            " 63%|██████▎   | 6297/10000 [03:00<02:50, 21.76it/s]\u001b[A\n",
            " 63%|██████▎   | 6300/10000 [03:00<02:47, 22.16it/s]\u001b[A\n",
            " 63%|██████▎   | 6304/10000 [03:00<02:32, 24.17it/s]\u001b[A\n",
            " 63%|██████▎   | 6308/10000 [03:01<02:22, 25.98it/s]\u001b[A\n",
            " 63%|██████▎   | 6312/10000 [03:01<02:07, 28.83it/s]\u001b[A\n",
            " 63%|██████▎   | 6316/10000 [03:01<02:04, 29.64it/s]\u001b[A\n",
            " 63%|██████▎   | 6320/10000 [03:01<02:05, 29.31it/s]\u001b[A\n",
            " 63%|██████▎   | 6324/10000 [03:01<01:59, 30.75it/s]\u001b[A\n",
            " 63%|██████▎   | 6328/10000 [03:01<01:54, 32.16it/s]\u001b[A\n",
            " 63%|██████▎   | 6332/10000 [03:01<01:50, 33.32it/s]\u001b[A\n",
            " 63%|██████▎   | 6336/10000 [03:01<01:46, 34.41it/s]\u001b[A\n",
            " 63%|██████▎   | 6340/10000 [03:02<01:51, 32.78it/s]\u001b[A\n",
            " 63%|██████▎   | 6345/10000 [03:02<01:41, 35.97it/s]\u001b[A\n",
            " 63%|██████▎   | 6349/10000 [03:02<01:39, 36.81it/s]\u001b[A\n",
            " 64%|██████▎   | 6353/10000 [03:02<01:39, 36.69it/s]\u001b[A\n",
            " 64%|██████▎   | 6357/10000 [03:02<02:37, 23.11it/s]\u001b[A\n",
            " 64%|██████▎   | 6360/10000 [03:02<03:25, 17.72it/s]\u001b[A\n",
            " 64%|██████▎   | 6364/10000 [03:03<02:52, 21.08it/s]\u001b[A\n",
            " 64%|██████▎   | 6367/10000 [03:03<02:37, 23.05it/s]\u001b[A\n",
            " 64%|██████▎   | 6370/10000 [03:03<02:35, 23.34it/s]\u001b[A\n",
            " 64%|██████▎   | 6374/10000 [03:03<02:21, 25.69it/s]\u001b[A\n",
            " 64%|██████▍   | 6377/10000 [03:03<02:29, 24.18it/s]\u001b[A\n",
            " 64%|██████▍   | 6380/10000 [03:03<02:30, 23.99it/s]\u001b[A\n",
            " 64%|██████▍   | 6384/10000 [03:03<02:16, 26.52it/s]\u001b[A\n",
            " 64%|██████▍   | 6388/10000 [03:03<02:12, 27.26it/s]\u001b[A\n",
            " 64%|██████▍   | 6393/10000 [03:04<02:00, 29.90it/s]\u001b[A\n",
            " 64%|██████▍   | 6397/10000 [03:04<01:55, 31.30it/s]\u001b[A\n",
            " 64%|██████▍   | 6401/10000 [03:04<01:57, 30.69it/s]\u001b[A\n",
            " 64%|██████▍   | 6405/10000 [03:04<01:53, 31.67it/s]\u001b[A\n",
            " 64%|██████▍   | 6409/10000 [03:04<02:05, 28.69it/s]\u001b[A\n",
            " 64%|██████▍   | 6412/10000 [03:04<02:08, 27.99it/s]\u001b[A\n",
            " 64%|██████▍   | 6415/10000 [03:04<02:15, 26.37it/s]\u001b[A\n",
            " 64%|██████▍   | 6418/10000 [03:04<02:22, 25.12it/s]\u001b[A\n",
            " 64%|██████▍   | 6421/10000 [03:05<02:19, 25.68it/s]\u001b[A\n",
            " 64%|██████▍   | 6424/10000 [03:05<02:22, 25.05it/s]\u001b[A\n",
            " 64%|██████▍   | 6429/10000 [03:05<02:03, 28.94it/s]\u001b[A\n",
            " 64%|██████▍   | 6435/10000 [03:05<01:52, 31.57it/s]\u001b[A\n",
            " 64%|██████▍   | 6439/10000 [03:05<02:06, 28.23it/s]\u001b[A\n",
            " 64%|██████▍   | 6443/10000 [03:05<01:59, 29.73it/s]\u001b[A\n",
            " 64%|██████▍   | 6447/10000 [03:05<01:56, 30.38it/s]\u001b[A\n",
            " 65%|██████▍   | 6451/10000 [03:05<01:52, 31.66it/s]\u001b[A\n",
            " 65%|██████▍   | 6456/10000 [03:06<01:43, 34.28it/s]\u001b[A\n",
            " 65%|██████▍   | 6460/10000 [03:06<01:51, 31.78it/s]\u001b[A\n",
            " 65%|██████▍   | 6464/10000 [03:06<01:49, 32.27it/s]\u001b[A\n",
            " 65%|██████▍   | 6468/10000 [03:06<01:48, 32.57it/s]\u001b[A\n",
            " 65%|██████▍   | 6472/10000 [03:06<01:54, 30.71it/s]\u001b[A\n",
            " 65%|██████▍   | 6478/10000 [03:06<01:40, 35.06it/s]\u001b[A\n",
            " 65%|██████▍   | 6482/10000 [03:06<01:41, 34.82it/s]\u001b[A\n",
            " 65%|██████▍   | 6486/10000 [03:06<01:42, 34.35it/s]\u001b[A\n",
            " 65%|██████▍   | 6490/10000 [03:07<01:43, 33.82it/s]\u001b[A\n",
            " 65%|██████▍   | 6495/10000 [03:07<01:37, 35.84it/s]\u001b[A\n",
            " 65%|██████▍   | 6499/10000 [03:07<01:37, 35.90it/s]\u001b[A\n",
            " 65%|██████▌   | 6503/10000 [03:07<01:42, 34.22it/s]\u001b[A\n",
            " 65%|██████▌   | 6507/10000 [03:07<02:18, 25.15it/s]\u001b[A\n",
            " 65%|██████▌   | 6510/10000 [03:07<02:13, 26.23it/s]\u001b[A\n",
            " 65%|██████▌   | 6513/10000 [03:07<02:17, 25.37it/s]\u001b[A\n",
            " 65%|██████▌   | 6517/10000 [03:08<02:10, 26.72it/s]\u001b[A\n",
            " 65%|██████▌   | 6522/10000 [03:08<01:56, 29.96it/s]\u001b[A\n",
            " 65%|██████▌   | 6526/10000 [03:08<01:56, 29.83it/s]\u001b[A\n",
            " 65%|██████▌   | 6530/10000 [03:08<01:54, 30.36it/s]\u001b[A\n",
            " 65%|██████▌   | 6534/10000 [03:08<01:49, 31.76it/s]\u001b[A\n",
            " 65%|██████▌   | 6538/10000 [03:08<01:43, 33.50it/s]\u001b[A\n",
            " 65%|██████▌   | 6542/10000 [03:08<01:43, 33.54it/s]\u001b[A\n",
            " 65%|██████▌   | 6546/10000 [03:08<01:40, 34.20it/s]\u001b[A\n",
            " 66%|██████▌   | 6551/10000 [03:09<01:33, 36.77it/s]\u001b[A\n",
            " 66%|██████▌   | 6555/10000 [03:09<01:40, 34.17it/s]\u001b[A\n",
            " 66%|██████▌   | 6559/10000 [03:09<01:38, 35.07it/s]\u001b[A\n",
            " 66%|██████▌   | 6563/10000 [03:09<02:01, 28.35it/s]\u001b[A\n",
            " 66%|██████▌   | 6567/10000 [03:09<02:07, 27.01it/s]\u001b[A\n",
            " 66%|██████▌   | 6570/10000 [03:09<02:06, 27.06it/s]\u001b[A\n",
            " 66%|██████▌   | 6573/10000 [03:09<02:50, 20.13it/s]\u001b[A\n",
            " 66%|██████▌   | 6576/10000 [03:10<02:34, 22.22it/s]\u001b[A\n",
            " 66%|██████▌   | 6579/10000 [03:10<02:23, 23.83it/s]\u001b[A\n",
            " 66%|██████▌   | 6582/10000 [03:10<02:22, 24.00it/s]\u001b[A\n",
            " 66%|██████▌   | 6585/10000 [03:10<02:24, 23.62it/s]\u001b[A\n",
            " 66%|██████▌   | 6588/10000 [03:10<02:15, 25.11it/s]\u001b[A\n",
            " 66%|██████▌   | 6592/10000 [03:10<02:22, 23.90it/s]\u001b[A\n",
            " 66%|██████▌   | 6595/10000 [03:10<02:32, 22.31it/s]\u001b[A\n",
            " 66%|██████▌   | 6599/10000 [03:11<02:36, 21.72it/s]\u001b[A\n",
            " 66%|██████▌   | 6602/10000 [03:11<02:53, 19.59it/s]\u001b[A\n",
            " 66%|██████▌   | 6606/10000 [03:11<02:33, 22.17it/s]\u001b[A\n",
            " 66%|██████▌   | 6609/10000 [03:11<02:25, 23.36it/s]\u001b[A\n",
            " 66%|██████▌   | 6612/10000 [03:11<02:16, 24.81it/s]\u001b[A\n",
            " 66%|██████▌   | 6615/10000 [03:11<02:10, 25.93it/s]\u001b[A\n",
            " 66%|██████▌   | 6620/10000 [03:11<02:01, 27.81it/s]\u001b[A\n",
            " 66%|██████▌   | 6623/10000 [03:12<02:17, 24.57it/s]\u001b[A\n",
            " 66%|██████▋   | 6626/10000 [03:12<02:24, 23.35it/s]\u001b[A\n",
            " 66%|██████▋   | 6629/10000 [03:12<02:22, 23.69it/s]\u001b[A\n",
            " 66%|██████▋   | 6632/10000 [03:12<02:14, 25.01it/s]\u001b[A\n",
            " 66%|██████▋   | 6635/10000 [03:12<02:15, 24.88it/s]\u001b[A\n",
            " 66%|██████▋   | 6639/10000 [03:12<02:07, 26.34it/s]\u001b[A\n",
            " 66%|██████▋   | 6644/10000 [03:12<02:01, 27.58it/s]\u001b[A\n",
            " 66%|██████▋   | 6649/10000 [03:12<01:47, 31.18it/s]\u001b[A\n",
            " 67%|██████▋   | 6653/10000 [03:13<01:45, 31.59it/s]\u001b[A\n",
            " 67%|██████▋   | 6657/10000 [03:13<01:56, 28.65it/s]\u001b[A\n",
            " 67%|██████▋   | 6661/10000 [03:13<01:54, 29.14it/s]\u001b[A\n",
            " 67%|██████▋   | 6665/10000 [03:13<01:49, 30.35it/s]\u001b[A\n",
            " 67%|██████▋   | 6669/10000 [03:13<01:47, 30.92it/s]\u001b[A\n",
            " 67%|██████▋   | 6673/10000 [03:13<01:58, 28.07it/s]\u001b[A\n",
            " 67%|██████▋   | 6677/10000 [03:13<01:49, 30.44it/s]\u001b[A\n",
            " 67%|██████▋   | 6681/10000 [03:14<01:56, 28.49it/s]\u001b[A\n",
            " 67%|██████▋   | 6686/10000 [03:14<01:53, 29.07it/s]\u001b[A\n",
            " 67%|██████▋   | 6690/10000 [03:14<01:56, 28.46it/s]\u001b[A\n",
            " 67%|██████▋   | 6693/10000 [03:14<01:55, 28.55it/s]\u001b[A\n",
            " 67%|██████▋   | 6696/10000 [03:14<02:10, 25.39it/s]\u001b[A\n",
            " 67%|██████▋   | 6699/10000 [03:14<02:18, 23.77it/s]\u001b[A\n",
            " 67%|██████▋   | 6703/10000 [03:14<02:02, 26.81it/s]\u001b[A\n",
            " 67%|██████▋   | 6706/10000 [03:14<02:01, 27.08it/s]\u001b[A\n",
            " 67%|██████▋   | 6710/10000 [03:15<01:54, 28.62it/s]\u001b[A\n",
            " 67%|██████▋   | 6715/10000 [03:15<01:40, 32.55it/s]\u001b[A\n",
            " 67%|██████▋   | 6719/10000 [03:15<01:42, 32.16it/s]\u001b[A\n",
            " 67%|██████▋   | 6723/10000 [03:15<01:37, 33.44it/s]\u001b[A\n",
            " 67%|██████▋   | 6727/10000 [03:15<01:50, 29.63it/s]\u001b[A\n",
            " 67%|██████▋   | 6731/10000 [03:15<01:49, 29.78it/s]\u001b[A\n",
            " 67%|██████▋   | 6735/10000 [03:15<01:52, 28.93it/s]\u001b[A\n",
            " 67%|██████▋   | 6738/10000 [03:15<01:53, 28.83it/s]\u001b[A\n",
            " 67%|██████▋   | 6741/10000 [03:16<01:54, 28.56it/s]\u001b[A\n",
            " 67%|██████▋   | 6744/10000 [03:16<02:03, 26.36it/s]\u001b[A\n",
            " 67%|██████▋   | 6747/10000 [03:16<02:15, 24.01it/s]\u001b[A\n",
            " 68%|██████▊   | 6752/10000 [03:16<01:59, 27.13it/s]\u001b[A\n",
            " 68%|██████▊   | 6756/10000 [03:16<01:48, 30.01it/s]\u001b[A\n",
            " 68%|██████▊   | 6760/10000 [03:16<01:49, 29.69it/s]\u001b[A\n",
            " 68%|██████▊   | 6764/10000 [03:16<02:18, 23.37it/s]\u001b[A\n",
            " 68%|██████▊   | 6768/10000 [03:17<02:08, 25.15it/s]\u001b[A\n",
            " 68%|██████▊   | 6772/10000 [03:17<01:58, 27.15it/s]\u001b[A\n",
            " 68%|██████▊   | 6776/10000 [03:17<01:55, 27.86it/s]\u001b[A\n",
            " 68%|██████▊   | 6779/10000 [03:17<02:07, 25.28it/s]\u001b[A\n",
            " 68%|██████▊   | 6782/10000 [03:17<02:06, 25.51it/s]\u001b[A\n",
            " 68%|██████▊   | 6788/10000 [03:17<01:48, 29.73it/s]\u001b[A\n",
            " 68%|██████▊   | 6792/10000 [03:17<01:53, 28.16it/s]\u001b[A\n",
            " 68%|██████▊   | 6796/10000 [03:18<01:58, 27.12it/s]\u001b[A\n",
            " 68%|██████▊   | 6800/10000 [03:18<01:48, 29.44it/s]\u001b[A\n",
            " 68%|██████▊   | 6804/10000 [03:18<02:01, 26.32it/s]\u001b[A\n",
            " 68%|██████▊   | 6809/10000 [03:18<01:44, 30.47it/s]\u001b[A\n",
            " 68%|██████▊   | 6813/10000 [03:18<01:37, 32.80it/s]\u001b[A\n",
            " 68%|██████▊   | 6817/10000 [03:18<01:46, 30.01it/s]\u001b[A\n",
            " 68%|██████▊   | 6821/10000 [03:18<01:38, 32.35it/s]\u001b[A\n",
            " 68%|██████▊   | 6825/10000 [03:18<01:36, 32.80it/s]\u001b[A\n",
            " 68%|██████▊   | 6829/10000 [03:19<01:40, 31.45it/s]\u001b[A\n",
            " 68%|██████▊   | 6833/10000 [03:19<01:43, 30.50it/s]\u001b[A\n",
            " 68%|██████▊   | 6837/10000 [03:19<01:58, 26.71it/s]\u001b[A\n",
            " 68%|██████▊   | 6841/10000 [03:19<01:53, 27.90it/s]\u001b[A\n",
            " 68%|██████▊   | 6844/10000 [03:19<01:54, 27.45it/s]\u001b[A\n",
            " 68%|██████▊   | 6847/10000 [03:19<02:01, 25.95it/s]\u001b[A\n",
            " 69%|██████▊   | 6851/10000 [03:19<01:53, 27.64it/s]\u001b[A\n",
            " 69%|██████▊   | 6854/10000 [03:20<01:53, 27.67it/s]\u001b[A\n",
            " 69%|██████▊   | 6857/10000 [03:20<01:55, 27.24it/s]\u001b[A\n",
            " 69%|██████▊   | 6860/10000 [03:20<01:55, 27.28it/s]\u001b[A\n",
            " 69%|██████▊   | 6864/10000 [03:20<01:47, 29.24it/s]\u001b[A\n",
            " 69%|██████▊   | 6867/10000 [03:20<01:53, 27.60it/s]\u001b[A\n",
            " 69%|██████▊   | 6872/10000 [03:20<01:46, 29.29it/s]\u001b[A\n",
            " 69%|██████▉   | 6876/10000 [03:20<01:43, 30.20it/s]\u001b[A\n",
            " 69%|██████▉   | 6880/10000 [03:20<01:41, 30.78it/s]\u001b[A\n",
            " 69%|██████▉   | 6885/10000 [03:20<01:33, 33.18it/s]\u001b[A\n",
            " 69%|██████▉   | 6890/10000 [03:21<01:27, 35.64it/s]\u001b[A\n",
            " 69%|██████▉   | 6894/10000 [03:21<01:40, 31.05it/s]\u001b[A\n",
            " 69%|██████▉   | 6898/10000 [03:21<01:45, 29.27it/s]\u001b[A\n",
            " 69%|██████▉   | 6903/10000 [03:21<01:34, 32.86it/s]\u001b[A\n",
            " 69%|██████▉   | 6908/10000 [03:21<01:27, 35.44it/s]\u001b[A\n",
            " 69%|██████▉   | 6912/10000 [03:21<01:27, 35.23it/s]\u001b[A\n",
            " 69%|██████▉   | 6918/10000 [03:21<01:33, 32.82it/s]\u001b[A\n",
            " 69%|██████▉   | 6923/10000 [03:22<01:28, 34.59it/s]\u001b[A\n",
            " 69%|██████▉   | 6927/10000 [03:22<01:26, 35.33it/s]\u001b[A\n",
            " 69%|██████▉   | 6932/10000 [03:22<01:20, 37.95it/s]\u001b[A\n",
            " 69%|██████▉   | 6936/10000 [03:22<01:25, 36.02it/s]\u001b[A\n",
            " 69%|██████▉   | 6940/10000 [03:22<01:22, 36.97it/s]\u001b[A\n",
            " 69%|██████▉   | 6944/10000 [03:22<01:35, 32.08it/s]\u001b[A\n",
            " 69%|██████▉   | 6948/10000 [03:22<01:38, 31.05it/s]\u001b[A\n",
            " 70%|██████▉   | 6952/10000 [03:22<01:43, 29.50it/s]\u001b[A\n",
            " 70%|██████▉   | 6956/10000 [03:23<01:39, 30.64it/s]\u001b[A\n",
            " 70%|██████▉   | 6960/10000 [03:23<02:07, 23.82it/s]\u001b[A\n",
            " 70%|██████▉   | 6965/10000 [03:23<01:59, 25.44it/s]\u001b[A\n",
            " 70%|██████▉   | 6968/10000 [03:23<01:55, 26.36it/s]\u001b[A\n",
            " 70%|██████▉   | 6973/10000 [03:23<01:51, 27.24it/s]\u001b[A\n",
            " 70%|██████▉   | 6977/10000 [03:23<01:44, 29.05it/s]\u001b[A\n",
            " 70%|██████▉   | 6981/10000 [03:24<01:40, 30.19it/s]\u001b[A\n",
            " 70%|██████▉   | 6986/10000 [03:24<01:34, 31.73it/s]\u001b[A\n",
            " 70%|██████▉   | 6990/10000 [03:24<02:04, 24.14it/s]\u001b[A\n",
            " 70%|██████▉   | 6993/10000 [03:24<02:06, 23.78it/s]\u001b[A\n",
            " 70%|██████▉   | 6997/10000 [03:24<01:55, 25.95it/s]\u001b[A\n",
            " 70%|███████   | 7002/10000 [03:24<01:39, 30.03it/s]\u001b[A\n",
            " 70%|███████   | 7006/10000 [03:24<01:39, 30.07it/s]\u001b[A\n",
            " 70%|███████   | 7010/10000 [03:25<01:46, 27.97it/s]\u001b[A\n",
            " 70%|███████   | 7014/10000 [03:25<01:48, 27.54it/s]\u001b[A\n",
            " 70%|███████   | 7017/10000 [03:25<02:01, 24.53it/s]\u001b[A\n",
            " 70%|███████   | 7021/10000 [03:25<01:53, 26.18it/s]\u001b[A\n",
            " 70%|███████   | 7025/10000 [03:25<01:44, 28.35it/s]\u001b[A\n",
            " 70%|███████   | 7029/10000 [03:25<01:37, 30.54it/s]\u001b[A\n",
            " 70%|███████   | 7033/10000 [03:25<01:47, 27.63it/s]\u001b[A\n",
            " 70%|███████   | 7037/10000 [03:26<01:44, 28.42it/s]\u001b[A\n",
            " 70%|███████   | 7040/10000 [03:26<01:55, 25.53it/s]\u001b[A\n",
            " 70%|███████   | 7043/10000 [03:26<02:00, 24.44it/s]\u001b[A\n",
            " 70%|███████   | 7046/10000 [03:26<02:03, 23.94it/s]\u001b[A\n",
            " 70%|███████   | 7049/10000 [03:26<02:00, 24.53it/s]\u001b[A\n",
            " 71%|███████   | 7052/10000 [03:26<01:55, 25.48it/s]\u001b[A\n",
            " 71%|███████   | 7055/10000 [03:26<02:00, 24.37it/s]\u001b[A\n",
            " 71%|███████   | 7059/10000 [03:26<01:46, 27.55it/s]\u001b[A\n",
            " 71%|███████   | 7063/10000 [03:27<01:46, 27.51it/s]\u001b[A\n",
            " 71%|███████   | 7067/10000 [03:27<01:44, 27.94it/s]\u001b[A\n",
            " 71%|███████   | 7070/10000 [03:27<01:45, 27.82it/s]\u001b[A\n",
            " 71%|███████   | 7074/10000 [03:27<01:41, 28.78it/s]\u001b[A\n",
            " 71%|███████   | 7077/10000 [03:27<01:41, 28.75it/s]\u001b[A\n",
            " 71%|███████   | 7082/10000 [03:27<01:36, 30.17it/s]\u001b[A\n",
            " 71%|███████   | 7086/10000 [03:27<01:38, 29.69it/s]\u001b[A\n",
            " 71%|███████   | 7090/10000 [03:27<01:30, 32.07it/s]\u001b[A\n",
            " 71%|███████   | 7095/10000 [03:28<01:24, 34.19it/s]\u001b[A\n",
            " 71%|███████   | 7099/10000 [03:28<01:21, 35.49it/s]\u001b[A\n",
            " 71%|███████   | 7103/10000 [03:28<01:28, 32.80it/s]\u001b[A\n",
            " 71%|███████   | 7107/10000 [03:28<01:24, 34.23it/s]\u001b[A\n",
            " 71%|███████   | 7112/10000 [03:28<01:22, 34.81it/s]\u001b[A\n",
            " 71%|███████   | 7117/10000 [03:28<01:29, 32.19it/s]\u001b[A\n",
            " 71%|███████   | 7122/10000 [03:28<01:28, 32.65it/s]\u001b[A\n",
            " 71%|███████▏  | 7126/10000 [03:29<01:26, 33.09it/s]\u001b[A\n",
            " 71%|███████▏  | 7130/10000 [03:29<01:37, 29.47it/s]\u001b[A\n",
            " 71%|███████▏  | 7134/10000 [03:29<01:46, 26.95it/s]\u001b[A\n",
            " 71%|███████▏  | 7139/10000 [03:29<01:32, 30.85it/s]\u001b[A\n",
            " 71%|███████▏  | 7143/10000 [03:29<01:34, 30.31it/s]\u001b[A\n",
            " 71%|███████▏  | 7147/10000 [03:29<02:02, 23.25it/s]\u001b[A\n",
            " 72%|███████▏  | 7152/10000 [03:29<01:47, 26.43it/s]\u001b[A\n",
            " 72%|███████▏  | 7156/10000 [03:30<01:46, 26.68it/s]\u001b[A\n",
            " 72%|███████▏  | 7161/10000 [03:30<01:33, 30.22it/s]\u001b[A\n",
            " 72%|███████▏  | 7165/10000 [03:30<01:45, 26.94it/s]\u001b[A\n",
            " 72%|███████▏  | 7169/10000 [03:30<01:40, 28.15it/s]\u001b[A\n",
            " 72%|███████▏  | 7173/10000 [03:30<01:44, 26.94it/s]\u001b[A\n",
            " 72%|███████▏  | 7177/10000 [03:30<01:35, 29.48it/s]\u001b[A\n",
            " 72%|███████▏  | 7181/10000 [03:31<01:44, 27.00it/s]\u001b[A\n",
            " 72%|███████▏  | 7185/10000 [03:31<01:46, 26.33it/s]\u001b[A\n",
            " 72%|███████▏  | 7188/10000 [03:31<01:56, 24.07it/s]\u001b[A\n",
            " 72%|███████▏  | 7192/10000 [03:31<01:45, 26.61it/s]\u001b[A\n",
            " 72%|███████▏  | 7196/10000 [03:31<01:37, 28.88it/s]\u001b[A\n",
            " 72%|███████▏  | 7200/10000 [03:31<01:39, 28.03it/s]\u001b[A\n",
            " 72%|███████▏  | 7203/10000 [03:31<01:45, 26.54it/s]\u001b[A\n",
            " 72%|███████▏  | 7206/10000 [03:31<01:54, 24.50it/s]\u001b[A\n",
            " 72%|███████▏  | 7211/10000 [03:32<01:37, 28.55it/s]\u001b[A\n",
            " 72%|███████▏  | 7216/10000 [03:32<01:31, 30.56it/s]\u001b[A\n",
            " 72%|███████▏  | 7221/10000 [03:32<01:25, 32.38it/s]\u001b[A\n",
            " 72%|███████▏  | 7225/10000 [03:32<01:39, 27.84it/s]\u001b[A\n",
            " 72%|███████▏  | 7229/10000 [03:32<01:36, 28.61it/s]\u001b[A\n",
            " 72%|███████▏  | 7233/10000 [03:32<01:40, 27.50it/s]\u001b[A\n",
            " 72%|███████▏  | 7236/10000 [03:32<01:48, 25.47it/s]\u001b[A\n",
            " 72%|███████▏  | 7240/10000 [03:33<01:41, 27.25it/s]\u001b[A\n",
            " 72%|███████▏  | 7244/10000 [03:33<01:41, 27.12it/s]\u001b[A\n",
            " 72%|███████▏  | 7248/10000 [03:33<01:41, 27.17it/s]\u001b[A\n",
            " 73%|███████▎  | 7251/10000 [03:33<01:41, 27.20it/s]\u001b[A\n",
            " 73%|███████▎  | 7254/10000 [03:33<01:59, 22.98it/s]\u001b[A\n",
            " 73%|███████▎  | 7258/10000 [03:33<01:48, 25.23it/s]\u001b[A\n",
            " 73%|███████▎  | 7261/10000 [03:33<01:53, 24.12it/s]\u001b[A\n",
            " 73%|███████▎  | 7264/10000 [03:34<01:49, 25.08it/s]\u001b[A\n",
            " 73%|███████▎  | 7267/10000 [03:34<01:49, 25.03it/s]\u001b[A\n",
            " 73%|███████▎  | 7272/10000 [03:34<01:34, 28.79it/s]\u001b[A\n",
            " 73%|███████▎  | 7276/10000 [03:34<01:38, 27.67it/s]\u001b[A\n",
            " 73%|███████▎  | 7279/10000 [03:34<01:36, 28.11it/s]\u001b[A\n",
            " 73%|███████▎  | 7283/10000 [03:34<01:28, 30.63it/s]\u001b[A\n",
            " 73%|███████▎  | 7287/10000 [03:34<01:24, 32.03it/s]\u001b[A\n",
            " 73%|███████▎  | 7291/10000 [03:34<01:35, 28.39it/s]\u001b[A\n",
            " 73%|███████▎  | 7295/10000 [03:35<01:58, 22.73it/s]\u001b[A\n",
            " 73%|███████▎  | 7300/10000 [03:35<01:46, 25.34it/s]\u001b[A\n",
            " 73%|███████▎  | 7303/10000 [03:35<01:48, 24.95it/s]\u001b[A\n",
            " 73%|███████▎  | 7307/10000 [03:35<01:39, 27.07it/s]\u001b[A\n",
            " 73%|███████▎  | 7310/10000 [03:35<01:40, 26.88it/s]\u001b[A\n",
            " 73%|███████▎  | 7314/10000 [03:35<01:33, 28.85it/s]\u001b[A\n",
            " 73%|███████▎  | 7319/10000 [03:35<01:25, 31.40it/s]\u001b[A\n",
            " 73%|███████▎  | 7323/10000 [03:36<01:27, 30.77it/s]\u001b[A\n",
            " 73%|███████▎  | 7328/10000 [03:36<01:18, 34.21it/s]\u001b[A\n",
            " 73%|███████▎  | 7332/10000 [03:36<01:21, 32.82it/s]\u001b[A\n",
            " 73%|███████▎  | 7336/10000 [03:36<01:19, 33.60it/s]\u001b[A\n",
            " 73%|███████▎  | 7340/10000 [03:36<01:15, 35.22it/s]\u001b[A\n",
            " 73%|███████▎  | 7344/10000 [03:36<01:15, 35.14it/s]\u001b[A\n",
            " 73%|███████▎  | 7348/10000 [03:36<01:13, 36.06it/s]\u001b[A\n",
            " 74%|███████▎  | 7352/10000 [03:36<01:13, 36.00it/s]\u001b[A\n",
            " 74%|███████▎  | 7357/10000 [03:36<01:09, 37.82it/s]\u001b[A\n",
            " 74%|███████▎  | 7361/10000 [03:37<01:12, 36.30it/s]\u001b[A\n",
            " 74%|███████▎  | 7365/10000 [03:37<01:23, 31.49it/s]\u001b[A\n",
            " 74%|███████▎  | 7370/10000 [03:37<01:16, 34.43it/s]\u001b[A\n",
            " 74%|███████▎  | 7374/10000 [03:37<01:22, 31.79it/s]\u001b[A\n",
            " 74%|███████▍  | 7378/10000 [03:37<01:20, 32.64it/s]\u001b[A\n",
            " 74%|███████▍  | 7382/10000 [03:37<01:28, 29.42it/s]\u001b[A\n",
            " 74%|███████▍  | 7386/10000 [03:37<01:30, 28.77it/s]\u001b[A\n",
            " 74%|███████▍  | 7390/10000 [03:38<01:26, 30.28it/s]\u001b[A\n",
            " 74%|███████▍  | 7394/10000 [03:38<01:31, 28.48it/s]\u001b[A\n",
            " 74%|███████▍  | 7398/10000 [03:38<01:35, 27.29it/s]\u001b[A\n",
            " 74%|███████▍  | 7402/10000 [03:38<01:30, 28.82it/s]\u001b[A\n",
            " 74%|███████▍  | 7406/10000 [03:38<01:27, 29.80it/s]\u001b[A\n",
            " 74%|███████▍  | 7410/10000 [03:38<01:32, 27.91it/s]\u001b[A\n",
            " 74%|███████▍  | 7414/10000 [03:38<01:26, 29.99it/s]\u001b[A\n",
            " 74%|███████▍  | 7418/10000 [03:39<01:25, 30.35it/s]\u001b[A\n",
            " 74%|███████▍  | 7422/10000 [03:39<01:41, 25.38it/s]\u001b[A\n",
            " 74%|███████▍  | 7425/10000 [03:39<01:40, 25.72it/s]\u001b[A\n",
            " 74%|███████▍  | 7428/10000 [03:39<01:40, 25.70it/s]\u001b[A\n",
            " 74%|███████▍  | 7433/10000 [03:39<01:34, 27.03it/s]\u001b[A\n",
            " 74%|███████▍  | 7436/10000 [03:39<01:34, 27.24it/s]\u001b[A\n",
            " 74%|███████▍  | 7439/10000 [03:39<01:49, 23.32it/s]\u001b[A\n",
            " 74%|███████▍  | 7444/10000 [03:40<01:32, 27.76it/s]\u001b[A\n",
            " 74%|███████▍  | 7448/10000 [03:40<01:25, 29.92it/s]\u001b[A\n",
            " 75%|███████▍  | 7452/10000 [03:40<01:27, 29.06it/s]\u001b[A\n",
            " 75%|███████▍  | 7456/10000 [03:40<01:25, 29.79it/s]\u001b[A\n",
            " 75%|███████▍  | 7460/10000 [03:40<01:20, 31.58it/s]\u001b[A\n",
            " 75%|███████▍  | 7464/10000 [03:40<01:15, 33.46it/s]\u001b[A\n",
            " 75%|███████▍  | 7468/10000 [03:40<01:20, 31.43it/s]\u001b[A\n",
            " 75%|███████▍  | 7473/10000 [03:40<01:14, 34.13it/s]\u001b[A\n",
            " 75%|███████▍  | 7477/10000 [03:41<01:19, 31.90it/s]\u001b[A\n",
            " 75%|███████▍  | 7481/10000 [03:41<01:15, 33.57it/s]\u001b[A\n",
            " 75%|███████▍  | 7485/10000 [03:41<01:15, 33.41it/s]\u001b[A\n",
            " 75%|███████▍  | 7489/10000 [03:41<01:17, 32.24it/s]\u001b[A\n",
            " 75%|███████▍  | 7493/10000 [03:41<01:16, 32.63it/s]\u001b[A\n",
            " 75%|███████▍  | 7497/10000 [03:41<01:26, 28.77it/s]\u001b[A\n",
            " 75%|███████▌  | 7501/10000 [03:41<01:20, 31.00it/s]\u001b[A\n",
            " 75%|███████▌  | 7505/10000 [03:41<01:19, 31.48it/s]\u001b[A\n",
            " 75%|███████▌  | 7509/10000 [03:42<01:22, 30.14it/s]\u001b[A\n",
            " 75%|███████▌  | 7513/10000 [03:42<01:23, 29.68it/s]\u001b[A\n",
            " 75%|███████▌  | 7517/10000 [03:42<01:25, 28.95it/s]\u001b[A\n",
            " 75%|███████▌  | 7521/10000 [03:42<01:19, 31.12it/s]\u001b[A\n",
            " 75%|███████▌  | 7526/10000 [03:42<01:11, 34.40it/s]\u001b[A\n",
            " 75%|███████▌  | 7530/10000 [03:42<01:11, 34.74it/s]\u001b[A\n",
            " 75%|███████▌  | 7534/10000 [03:42<01:14, 32.99it/s]\u001b[A\n",
            " 75%|███████▌  | 7538/10000 [03:43<01:32, 26.54it/s]\u001b[A\n",
            " 75%|███████▌  | 7542/10000 [03:43<01:26, 28.57it/s]\u001b[A\n",
            " 75%|███████▌  | 7546/10000 [03:43<01:20, 30.45it/s]\u001b[A\n",
            " 76%|███████▌  | 7550/10000 [03:43<01:17, 31.50it/s]\u001b[A\n",
            " 76%|███████▌  | 7554/10000 [03:43<01:27, 27.83it/s]\u001b[A\n",
            " 76%|███████▌  | 7559/10000 [03:43<01:16, 32.06it/s]\u001b[A\n",
            " 76%|███████▌  | 7563/10000 [03:43<01:16, 31.72it/s]\u001b[A\n",
            " 76%|███████▌  | 7568/10000 [03:43<01:17, 31.51it/s]\u001b[A\n",
            " 76%|███████▌  | 7572/10000 [03:44<01:14, 32.69it/s]\u001b[A\n",
            " 76%|███████▌  | 7576/10000 [03:44<01:23, 29.18it/s]\u001b[A\n",
            " 76%|███████▌  | 7580/10000 [03:44<01:26, 27.83it/s]\u001b[A\n",
            " 76%|███████▌  | 7583/10000 [03:44<01:29, 26.91it/s]\u001b[A\n",
            " 76%|███████▌  | 7586/10000 [03:44<01:30, 26.56it/s]\u001b[A\n",
            " 76%|███████▌  | 7589/10000 [03:44<01:33, 25.73it/s]\u001b[A\n",
            " 76%|███████▌  | 7594/10000 [03:44<01:20, 29.78it/s]\u001b[A\n",
            " 76%|███████▌  | 7598/10000 [03:44<01:14, 32.15it/s]\u001b[A\n",
            " 76%|███████▌  | 7602/10000 [03:45<01:11, 33.65it/s]\u001b[A\n",
            " 76%|███████▌  | 7606/10000 [03:45<01:13, 32.47it/s]\u001b[A\n",
            " 76%|███████▌  | 7610/10000 [03:45<01:11, 33.55it/s]\u001b[A\n",
            " 76%|███████▌  | 7615/10000 [03:45<01:05, 36.15it/s]\u001b[A\n",
            " 76%|███████▌  | 7619/10000 [03:45<01:21, 29.11it/s]\u001b[A\n",
            " 76%|███████▌  | 7623/10000 [03:45<01:17, 30.60it/s]\u001b[A\n",
            " 76%|███████▋  | 7627/10000 [03:45<01:16, 30.95it/s]\u001b[A\n",
            " 76%|███████▋  | 7631/10000 [03:45<01:16, 30.99it/s]\u001b[A\n",
            " 76%|███████▋  | 7635/10000 [03:46<01:14, 31.62it/s]\u001b[A\n",
            " 76%|███████▋  | 7640/10000 [03:46<01:08, 34.43it/s]\u001b[A\n",
            " 76%|███████▋  | 7644/10000 [03:46<01:19, 29.53it/s]\u001b[A\n",
            " 76%|███████▋  | 7648/10000 [03:46<01:15, 31.29it/s]\u001b[A\n",
            " 77%|███████▋  | 7652/10000 [03:46<01:14, 31.45it/s]\u001b[A\n",
            " 77%|███████▋  | 7656/10000 [03:46<01:17, 30.42it/s]\u001b[A\n",
            " 77%|███████▋  | 7661/10000 [03:46<01:09, 33.48it/s]\u001b[A\n",
            " 77%|███████▋  | 7665/10000 [03:46<01:06, 34.91it/s]\u001b[A\n",
            " 77%|███████▋  | 7669/10000 [03:47<01:27, 26.75it/s]\u001b[A\n",
            " 77%|███████▋  | 7674/10000 [03:47<01:19, 29.42it/s]\u001b[A\n",
            " 77%|███████▋  | 7678/10000 [03:47<01:17, 29.82it/s]\u001b[A\n",
            " 77%|███████▋  | 7682/10000 [03:47<01:26, 26.66it/s]\u001b[A\n",
            " 77%|███████▋  | 7685/10000 [03:47<01:29, 25.82it/s]\u001b[A\n",
            " 77%|███████▋  | 7688/10000 [03:47<01:27, 26.52it/s]\u001b[A\n",
            " 77%|███████▋  | 7691/10000 [03:48<01:37, 23.65it/s]\u001b[A\n",
            " 77%|███████▋  | 7695/10000 [03:48<01:27, 26.21it/s]\u001b[A\n",
            " 77%|███████▋  | 7698/10000 [03:48<01:25, 26.85it/s]\u001b[A\n",
            " 77%|███████▋  | 7701/10000 [03:48<01:25, 26.96it/s]\u001b[A\n",
            " 77%|███████▋  | 7705/10000 [03:48<01:18, 29.22it/s]\u001b[A\n",
            " 77%|███████▋  | 7709/10000 [03:48<01:25, 26.70it/s]\u001b[A\n",
            " 77%|███████▋  | 7712/10000 [03:48<01:24, 27.19it/s]\u001b[A\n",
            " 77%|███████▋  | 7715/10000 [03:48<01:25, 26.65it/s]\u001b[A\n",
            " 77%|███████▋  | 7719/10000 [03:49<01:18, 28.97it/s]\u001b[A\n",
            " 77%|███████▋  | 7723/10000 [03:49<01:23, 27.17it/s]\u001b[A\n",
            " 77%|███████▋  | 7726/10000 [03:49<01:24, 27.00it/s]\u001b[A\n",
            " 77%|███████▋  | 7731/10000 [03:49<01:14, 30.54it/s]\u001b[A\n",
            " 77%|███████▋  | 7735/10000 [03:49<01:13, 30.71it/s]\u001b[A\n",
            " 77%|███████▋  | 7739/10000 [03:49<01:19, 28.34it/s]\u001b[A\n",
            " 77%|███████▋  | 7742/10000 [03:49<01:21, 27.78it/s]\u001b[A\n",
            " 77%|███████▋  | 7746/10000 [03:49<01:15, 29.89it/s]\u001b[A\n",
            " 78%|███████▊  | 7750/10000 [03:50<01:11, 31.67it/s]\u001b[A\n",
            " 78%|███████▊  | 7755/10000 [03:50<01:05, 34.48it/s]\u001b[A\n",
            " 78%|███████▊  | 7759/10000 [03:50<01:13, 30.52it/s]\u001b[A\n",
            " 78%|███████▊  | 7763/10000 [03:50<01:08, 32.82it/s]\u001b[A\n",
            " 78%|███████▊  | 7767/10000 [03:50<01:23, 26.64it/s]\u001b[A\n",
            " 78%|███████▊  | 7770/10000 [03:50<01:24, 26.43it/s]\u001b[A\n",
            " 78%|███████▊  | 7774/10000 [03:50<01:17, 28.63it/s]\u001b[A\n",
            " 78%|███████▊  | 7778/10000 [03:50<01:12, 30.78it/s]\u001b[A\n",
            " 78%|███████▊  | 7782/10000 [03:51<01:16, 28.81it/s]\u001b[A\n",
            " 78%|███████▊  | 7787/10000 [03:51<01:08, 32.42it/s]\u001b[A\n",
            " 78%|███████▊  | 7792/10000 [03:51<01:02, 35.10it/s]\u001b[A\n",
            " 78%|███████▊  | 7796/10000 [03:51<01:02, 35.37it/s]\u001b[A\n",
            " 78%|███████▊  | 7800/10000 [03:51<01:02, 34.94it/s]\u001b[A\n",
            " 78%|███████▊  | 7804/10000 [03:51<01:04, 33.86it/s]\u001b[A\n",
            " 78%|███████▊  | 7808/10000 [03:52<01:35, 22.90it/s]\u001b[A\n",
            " 78%|███████▊  | 7814/10000 [03:52<01:19, 27.53it/s]\u001b[A\n",
            " 78%|███████▊  | 7818/10000 [03:52<01:19, 27.37it/s]\u001b[A\n",
            " 78%|███████▊  | 7822/10000 [03:52<01:12, 30.17it/s]\u001b[A\n",
            " 78%|███████▊  | 7826/10000 [03:52<01:10, 31.05it/s]\u001b[A\n",
            " 78%|███████▊  | 7830/10000 [03:52<01:10, 30.72it/s]\u001b[A\n",
            " 78%|███████▊  | 7834/10000 [03:52<01:14, 29.02it/s]\u001b[A\n",
            " 78%|███████▊  | 7838/10000 [03:52<01:15, 28.60it/s]\u001b[A\n",
            " 78%|███████▊  | 7842/10000 [03:53<01:12, 29.85it/s]\u001b[A\n",
            " 78%|███████▊  | 7847/10000 [03:53<01:09, 31.14it/s]\u001b[A\n",
            " 79%|███████▊  | 7851/10000 [03:53<01:19, 27.11it/s]\u001b[A\n",
            " 79%|███████▊  | 7854/10000 [03:53<01:54, 18.79it/s]\u001b[A\n",
            " 79%|███████▊  | 7858/10000 [03:53<01:37, 22.00it/s]\u001b[A\n",
            " 79%|███████▊  | 7861/10000 [03:53<01:29, 23.84it/s]\u001b[A\n",
            " 79%|███████▊  | 7864/10000 [03:53<01:26, 24.76it/s]\u001b[A\n",
            " 79%|███████▊  | 7868/10000 [03:54<01:16, 27.94it/s]\u001b[A\n",
            " 79%|███████▊  | 7872/10000 [03:54<01:21, 26.05it/s]\u001b[A\n",
            " 79%|███████▉  | 7876/10000 [03:54<01:17, 27.32it/s]\u001b[A\n",
            " 79%|███████▉  | 7880/10000 [03:54<01:11, 29.85it/s]\u001b[A\n",
            " 79%|███████▉  | 7884/10000 [03:54<01:08, 30.74it/s]\u001b[A\n",
            " 79%|███████▉  | 7889/10000 [03:54<01:01, 34.24it/s]\u001b[A\n",
            " 79%|███████▉  | 7893/10000 [03:54<00:59, 35.37it/s]\u001b[A\n",
            " 79%|███████▉  | 7897/10000 [03:54<01:00, 34.59it/s]\u001b[A\n",
            " 79%|███████▉  | 7902/10000 [03:55<00:56, 36.84it/s]\u001b[A\n",
            " 79%|███████▉  | 7906/10000 [03:55<01:00, 34.63it/s]\u001b[A\n",
            " 79%|███████▉  | 7910/10000 [03:55<01:00, 34.66it/s]\u001b[A\n",
            " 79%|███████▉  | 7914/10000 [03:55<01:09, 30.11it/s]\u001b[A\n",
            " 79%|███████▉  | 7918/10000 [03:55<01:10, 29.47it/s]\u001b[A\n",
            " 79%|███████▉  | 7922/10000 [03:55<01:08, 30.52it/s]\u001b[A\n",
            " 79%|███████▉  | 7926/10000 [03:55<01:09, 29.78it/s]\u001b[A\n",
            " 79%|███████▉  | 7930/10000 [03:56<01:07, 30.60it/s]\u001b[A\n",
            " 79%|███████▉  | 7935/10000 [03:56<01:02, 32.94it/s]\u001b[A\n",
            " 79%|███████▉  | 7939/10000 [03:56<01:28, 23.41it/s]\u001b[A\n",
            " 79%|███████▉  | 7942/10000 [03:56<01:36, 21.39it/s]\u001b[A\n",
            " 79%|███████▉  | 7947/10000 [03:56<01:20, 25.58it/s]\u001b[A\n",
            " 80%|███████▉  | 7951/10000 [03:56<01:13, 27.77it/s]\u001b[A\n",
            " 80%|███████▉  | 7956/10000 [03:56<01:06, 30.81it/s]\u001b[A\n",
            " 80%|███████▉  | 7960/10000 [03:57<01:03, 31.92it/s]\u001b[A\n",
            " 80%|███████▉  | 7964/10000 [03:57<01:23, 24.41it/s]\u001b[A\n",
            " 80%|███████▉  | 7967/10000 [03:57<01:24, 24.13it/s]\u001b[A\n",
            " 80%|███████▉  | 7971/10000 [03:57<01:15, 26.71it/s]\u001b[A\n",
            " 80%|███████▉  | 7975/10000 [03:57<01:12, 27.80it/s]\u001b[A\n",
            " 80%|███████▉  | 7979/10000 [03:57<01:11, 28.38it/s]\u001b[A\n",
            " 80%|███████▉  | 7983/10000 [03:57<01:09, 29.10it/s]\u001b[A\n",
            " 80%|███████▉  | 7988/10000 [03:58<01:01, 32.93it/s]\u001b[A\n",
            " 80%|███████▉  | 7993/10000 [03:58<00:56, 35.47it/s]\u001b[A\n",
            " 80%|███████▉  | 7997/10000 [03:58<01:09, 28.65it/s]\u001b[A\n",
            " 80%|████████  | 8001/10000 [03:58<01:07, 29.76it/s]\u001b[A\n",
            " 80%|████████  | 8005/10000 [03:58<01:07, 29.58it/s]\u001b[A\n",
            " 80%|████████  | 8009/10000 [03:58<01:02, 31.64it/s]\u001b[A\n",
            " 80%|████████  | 8013/10000 [03:58<01:14, 26.78it/s]\u001b[A\n",
            " 80%|████████  | 8017/10000 [03:59<01:10, 28.21it/s]\u001b[A\n",
            " 80%|████████  | 8021/10000 [03:59<01:10, 28.17it/s]\u001b[A\n",
            " 80%|████████  | 8025/10000 [03:59<01:10, 27.97it/s]\u001b[A\n",
            " 80%|████████  | 8030/10000 [03:59<01:06, 29.81it/s]\u001b[A\n",
            " 80%|████████  | 8034/10000 [03:59<01:01, 32.11it/s]\u001b[A\n",
            " 80%|████████  | 8038/10000 [03:59<01:04, 30.34it/s]\u001b[A\n",
            " 80%|████████  | 8043/10000 [03:59<00:58, 33.47it/s]\u001b[A\n",
            " 80%|████████  | 8047/10000 [03:59<01:01, 31.86it/s]\u001b[A\n",
            " 81%|████████  | 8051/10000 [04:00<01:03, 30.92it/s]\u001b[A\n",
            " 81%|████████  | 8055/10000 [04:00<01:01, 31.47it/s]\u001b[A\n",
            " 81%|████████  | 8060/10000 [04:00<00:57, 33.94it/s]\u001b[A\n",
            " 81%|████████  | 8064/10000 [04:00<01:06, 29.28it/s]\u001b[A\n",
            " 81%|████████  | 8069/10000 [04:00<01:01, 31.15it/s]\u001b[A\n",
            " 81%|████████  | 8073/10000 [04:00<00:59, 32.64it/s]\u001b[A\n",
            " 81%|████████  | 8077/10000 [04:00<00:59, 32.58it/s]\u001b[A\n",
            " 81%|████████  | 8082/10000 [04:01<00:55, 34.73it/s]\u001b[A\n",
            " 81%|████████  | 8086/10000 [04:01<00:56, 33.62it/s]\u001b[A\n",
            " 81%|████████  | 8090/10000 [04:01<01:00, 31.79it/s]\u001b[A\n",
            " 81%|████████  | 8095/10000 [04:01<00:56, 33.74it/s]\u001b[A\n",
            " 81%|████████  | 8099/10000 [04:01<00:55, 34.49it/s]\u001b[A\n",
            " 81%|████████  | 8104/10000 [04:01<00:50, 37.70it/s]\u001b[A\n",
            " 81%|████████  | 8109/10000 [04:01<00:49, 38.15it/s]\u001b[A\n",
            " 81%|████████  | 8113/10000 [04:01<00:49, 37.92it/s]\u001b[A\n",
            " 81%|████████  | 8117/10000 [04:01<00:51, 36.70it/s]\u001b[A\n",
            " 81%|████████  | 8122/10000 [04:02<00:47, 39.35it/s]\u001b[A\n",
            " 81%|████████▏ | 8127/10000 [04:02<00:49, 38.12it/s]\u001b[A\n",
            " 81%|████████▏ | 8132/10000 [04:02<00:46, 40.22it/s]\u001b[A\n",
            " 81%|████████▏ | 8137/10000 [04:02<00:47, 39.29it/s]\u001b[A\n",
            " 81%|████████▏ | 8141/10000 [04:02<00:48, 37.98it/s]\u001b[A\n",
            " 81%|████████▏ | 8145/10000 [04:02<00:49, 37.69it/s]\u001b[A\n",
            " 81%|████████▏ | 8149/10000 [04:02<00:57, 32.09it/s]\u001b[A\n",
            " 82%|████████▏ | 8153/10000 [04:03<01:15, 24.31it/s]\u001b[A\n",
            " 82%|████████▏ | 8157/10000 [04:03<01:07, 27.24it/s]\u001b[A\n",
            " 82%|████████▏ | 8162/10000 [04:03<01:00, 30.63it/s]\u001b[A\n",
            " 82%|████████▏ | 8166/10000 [04:03<01:00, 30.45it/s]\u001b[A\n",
            " 82%|████████▏ | 8170/10000 [04:03<01:01, 29.98it/s]\u001b[A\n",
            " 82%|████████▏ | 8174/10000 [04:03<01:04, 28.30it/s]\u001b[A\n",
            " 82%|████████▏ | 8179/10000 [04:03<00:57, 31.85it/s]\u001b[A\n",
            " 82%|████████▏ | 8183/10000 [04:04<00:58, 30.94it/s]\u001b[A\n",
            " 82%|████████▏ | 8189/10000 [04:04<00:55, 32.63it/s]\u001b[A\n",
            " 82%|████████▏ | 8193/10000 [04:04<00:57, 31.46it/s]\u001b[A\n",
            " 82%|████████▏ | 8197/10000 [04:04<00:55, 32.34it/s]\u001b[A\n",
            " 82%|████████▏ | 8201/10000 [04:04<00:57, 31.29it/s]\u001b[A\n",
            " 82%|████████▏ | 8205/10000 [04:04<00:55, 32.60it/s]\u001b[A\n",
            " 82%|████████▏ | 8209/10000 [04:04<01:08, 25.97it/s]\u001b[A\n",
            " 82%|████████▏ | 8212/10000 [04:05<01:08, 26.16it/s]\u001b[A\n",
            " 82%|████████▏ | 8216/10000 [04:05<01:03, 28.26it/s]\u001b[A\n",
            " 82%|████████▏ | 8220/10000 [04:05<00:59, 30.00it/s]\u001b[A\n",
            " 82%|████████▏ | 8224/10000 [04:05<00:55, 32.19it/s]\u001b[A\n",
            " 82%|████████▏ | 8228/10000 [04:05<00:54, 32.35it/s]\u001b[A\n",
            " 82%|████████▏ | 8232/10000 [04:05<00:51, 34.06it/s]\u001b[A\n",
            " 82%|████████▏ | 8236/10000 [04:05<00:49, 35.38it/s]\u001b[A\n",
            " 82%|████████▏ | 8240/10000 [04:05<00:53, 33.03it/s]\u001b[A\n",
            " 82%|████████▏ | 8245/10000 [04:05<00:48, 36.03it/s]\u001b[A\n",
            " 82%|████████▏ | 8249/10000 [04:06<00:47, 36.48it/s]\u001b[A\n",
            " 83%|████████▎ | 8253/10000 [04:06<00:53, 32.48it/s]\u001b[A\n",
            " 83%|████████▎ | 8257/10000 [04:06<01:01, 28.20it/s]\u001b[A\n",
            " 83%|████████▎ | 8261/10000 [04:06<01:02, 28.03it/s]\u001b[A\n",
            " 83%|████████▎ | 8264/10000 [04:06<01:05, 26.57it/s]\u001b[A\n",
            " 83%|████████▎ | 8268/10000 [04:06<00:58, 29.47it/s]\u001b[A\n",
            " 83%|████████▎ | 8272/10000 [04:06<00:57, 29.87it/s]\u001b[A\n",
            " 83%|████████▎ | 8277/10000 [04:07<00:52, 32.52it/s]\u001b[A\n",
            " 83%|████████▎ | 8281/10000 [04:07<00:52, 32.84it/s]\u001b[A\n",
            " 83%|████████▎ | 8285/10000 [04:07<00:53, 32.21it/s]\u001b[A\n",
            " 83%|████████▎ | 8289/10000 [04:07<00:54, 31.61it/s]\u001b[A\n",
            " 83%|████████▎ | 8294/10000 [04:07<00:58, 29.33it/s]\u001b[A\n",
            " 83%|████████▎ | 8299/10000 [04:07<00:55, 30.53it/s]\u001b[A\n",
            " 83%|████████▎ | 8303/10000 [04:07<00:53, 31.48it/s]\u001b[A\n",
            " 83%|████████▎ | 8307/10000 [04:08<00:58, 28.78it/s]\u001b[A\n",
            " 83%|████████▎ | 8310/10000 [04:08<01:05, 25.88it/s]\u001b[A\n",
            " 83%|████████▎ | 8313/10000 [04:08<01:06, 25.43it/s]\u001b[A\n",
            " 83%|████████▎ | 8318/10000 [04:08<00:56, 29.60it/s]\u001b[A\n",
            " 83%|████████▎ | 8322/10000 [04:08<00:53, 31.49it/s]\u001b[A\n",
            " 83%|████████▎ | 8326/10000 [04:08<00:50, 33.23it/s]\u001b[A\n",
            " 83%|████████▎ | 8330/10000 [04:08<00:58, 28.57it/s]\u001b[A\n",
            " 83%|████████▎ | 8334/10000 [04:08<01:03, 26.06it/s]\u001b[A\n",
            " 83%|████████▎ | 8338/10000 [04:09<01:01, 27.18it/s]\u001b[A\n",
            " 83%|████████▎ | 8341/10000 [04:09<01:00, 27.54it/s]\u001b[A\n",
            " 83%|████████▎ | 8344/10000 [04:09<01:14, 22.37it/s]\u001b[A\n",
            " 83%|████████▎ | 8348/10000 [04:09<01:08, 24.08it/s]\u001b[A\n",
            " 84%|████████▎ | 8353/10000 [04:09<00:59, 27.56it/s]\u001b[A\n",
            " 84%|████████▎ | 8357/10000 [04:09<01:08, 23.91it/s]\u001b[A\n",
            " 84%|████████▎ | 8360/10000 [04:10<01:20, 20.29it/s]\u001b[A\n",
            " 84%|████████▎ | 8365/10000 [04:10<01:09, 23.63it/s]\u001b[A\n",
            " 84%|████████▎ | 8369/10000 [04:10<01:02, 26.17it/s]\u001b[A\n",
            " 84%|████████▎ | 8374/10000 [04:10<00:53, 30.16it/s]\u001b[A\n",
            " 84%|████████▍ | 8379/10000 [04:10<00:49, 32.57it/s]\u001b[A\n",
            " 84%|████████▍ | 8383/10000 [04:10<00:53, 30.18it/s]\u001b[A\n",
            " 84%|████████▍ | 8387/10000 [04:10<00:51, 31.41it/s]\u001b[A\n",
            " 84%|████████▍ | 8391/10000 [04:10<00:53, 30.29it/s]\u001b[A\n",
            " 84%|████████▍ | 8395/10000 [04:11<00:54, 29.35it/s]\u001b[A\n",
            " 84%|████████▍ | 8399/10000 [04:11<00:51, 31.26it/s]\u001b[A\n",
            " 84%|████████▍ | 8403/10000 [04:11<00:48, 32.62it/s]\u001b[A\n",
            " 84%|████████▍ | 8407/10000 [04:11<00:56, 28.10it/s]\u001b[A\n",
            " 84%|████████▍ | 8410/10000 [04:11<01:02, 25.38it/s]\u001b[A\n",
            " 84%|████████▍ | 8414/10000 [04:11<00:59, 26.59it/s]\u001b[A\n",
            " 84%|████████▍ | 8418/10000 [04:11<00:55, 28.43it/s]\u001b[A\n",
            " 84%|████████▍ | 8424/10000 [04:12<00:48, 32.26it/s]\u001b[A\n",
            " 84%|████████▍ | 8428/10000 [04:12<00:51, 30.64it/s]\u001b[A\n",
            " 84%|████████▍ | 8432/10000 [04:12<00:54, 28.87it/s]\u001b[A\n",
            " 84%|████████▍ | 8437/10000 [04:12<00:48, 32.27it/s]\u001b[A\n",
            " 84%|████████▍ | 8441/10000 [04:12<00:52, 29.62it/s]\u001b[A\n",
            " 84%|████████▍ | 8445/10000 [04:12<00:51, 30.19it/s]\u001b[A\n",
            " 84%|████████▍ | 8449/10000 [04:12<00:52, 29.28it/s]\u001b[A\n",
            " 85%|████████▍ | 8454/10000 [04:13<00:50, 30.36it/s]\u001b[A\n",
            " 85%|████████▍ | 8458/10000 [04:13<00:54, 28.51it/s]\u001b[A\n",
            " 85%|████████▍ | 8461/10000 [04:13<00:53, 28.58it/s]\u001b[A\n",
            " 85%|████████▍ | 8464/10000 [04:13<00:58, 26.29it/s]\u001b[A\n",
            " 85%|████████▍ | 8467/10000 [04:13<01:04, 23.61it/s]\u001b[A\n",
            " 85%|████████▍ | 8470/10000 [04:13<01:08, 22.32it/s]\u001b[A\n",
            " 85%|████████▍ | 8474/10000 [04:13<00:59, 25.68it/s]\u001b[A\n",
            " 85%|████████▍ | 8479/10000 [04:13<00:51, 29.42it/s]\u001b[A\n",
            " 85%|████████▍ | 8483/10000 [04:14<00:51, 29.21it/s]\u001b[A\n",
            " 85%|████████▍ | 8488/10000 [04:14<00:46, 32.72it/s]\u001b[A\n",
            " 85%|████████▍ | 8492/10000 [04:14<00:56, 26.66it/s]\u001b[A\n",
            " 85%|████████▍ | 8496/10000 [04:14<00:52, 28.54it/s]\u001b[A\n",
            " 85%|████████▌ | 8500/10000 [04:14<00:53, 28.00it/s]\u001b[A\n",
            " 85%|████████▌ | 8504/10000 [04:14<00:54, 27.68it/s]\u001b[A\n",
            " 85%|████████▌ | 8510/10000 [04:14<00:45, 32.66it/s]\u001b[A\n",
            " 85%|████████▌ | 8514/10000 [04:15<00:43, 34.46it/s]\u001b[A\n",
            " 85%|████████▌ | 8518/10000 [04:15<00:42, 35.25it/s]\u001b[A\n",
            " 85%|████████▌ | 8522/10000 [04:15<00:43, 33.93it/s]\u001b[A\n",
            " 85%|████████▌ | 8526/10000 [04:15<00:43, 34.08it/s]\u001b[A\n",
            " 85%|████████▌ | 8531/10000 [04:15<00:41, 35.43it/s]\u001b[A\n",
            " 85%|████████▌ | 8535/10000 [04:15<00:40, 36.05it/s]\u001b[A\n",
            " 85%|████████▌ | 8540/10000 [04:15<00:39, 36.70it/s]\u001b[A\n",
            " 85%|████████▌ | 8544/10000 [04:15<00:45, 31.66it/s]\u001b[A\n",
            " 85%|████████▌ | 8548/10000 [04:16<00:46, 31.52it/s]\u001b[A\n",
            " 86%|████████▌ | 8552/10000 [04:16<00:50, 28.52it/s]\u001b[A\n",
            " 86%|████████▌ | 8556/10000 [04:16<00:46, 30.76it/s]\u001b[A\n",
            " 86%|████████▌ | 8560/10000 [04:16<00:51, 28.06it/s]\u001b[A\n",
            " 86%|████████▌ | 8564/10000 [04:16<00:47, 30.35it/s]\u001b[A\n",
            " 86%|████████▌ | 8568/10000 [04:16<00:48, 29.59it/s]\u001b[A\n",
            " 86%|████████▌ | 8572/10000 [04:16<00:50, 28.35it/s]\u001b[A\n",
            " 86%|████████▌ | 8576/10000 [04:17<00:46, 30.37it/s]\u001b[A\n",
            " 86%|████████▌ | 8580/10000 [04:17<00:47, 30.15it/s]\u001b[A\n",
            " 86%|████████▌ | 8584/10000 [04:17<00:48, 28.90it/s]\u001b[A\n",
            " 86%|████████▌ | 8587/10000 [04:17<00:49, 28.47it/s]\u001b[A\n",
            " 86%|████████▌ | 8591/10000 [04:17<00:47, 29.75it/s]\u001b[A\n",
            " 86%|████████▌ | 8595/10000 [04:17<00:47, 29.39it/s]\u001b[A\n",
            " 86%|████████▌ | 8599/10000 [04:17<00:45, 30.73it/s]\u001b[A\n",
            " 86%|████████▌ | 8603/10000 [04:17<00:45, 30.97it/s]\u001b[A\n",
            " 86%|████████▌ | 8608/10000 [04:18<00:42, 33.13it/s]\u001b[A\n",
            " 86%|████████▌ | 8612/10000 [04:18<00:49, 28.05it/s]\u001b[A\n",
            " 86%|████████▌ | 8616/10000 [04:18<00:47, 28.88it/s]\u001b[A\n",
            " 86%|████████▌ | 8620/10000 [04:18<00:44, 30.91it/s]\u001b[A\n",
            " 86%|████████▌ | 8624/10000 [04:18<00:46, 29.91it/s]\u001b[A\n",
            " 86%|████████▋ | 8628/10000 [04:18<00:43, 31.39it/s]\u001b[A\n",
            " 86%|████████▋ | 8632/10000 [04:18<00:43, 31.34it/s]\u001b[A\n",
            " 86%|████████▋ | 8637/10000 [04:19<00:40, 33.92it/s]\u001b[A\n",
            " 86%|████████▋ | 8641/10000 [04:19<00:42, 31.87it/s]\u001b[A\n",
            " 86%|████████▋ | 8645/10000 [04:19<00:54, 24.76it/s]\u001b[A\n",
            " 86%|████████▋ | 8648/10000 [04:19<00:56, 24.08it/s]\u001b[A\n",
            " 87%|████████▋ | 8652/10000 [04:19<00:53, 25.28it/s]\u001b[A\n",
            " 87%|████████▋ | 8655/10000 [04:19<00:55, 24.08it/s]\u001b[A\n",
            " 87%|████████▋ | 8659/10000 [04:19<00:50, 26.71it/s]\u001b[A\n",
            " 87%|████████▋ | 8664/10000 [04:20<00:46, 28.79it/s]\u001b[A\n",
            " 87%|████████▋ | 8668/10000 [04:20<00:45, 29.45it/s]\u001b[A\n",
            " 87%|████████▋ | 8673/10000 [04:20<00:39, 33.19it/s]\u001b[A\n",
            " 87%|████████▋ | 8678/10000 [04:20<00:37, 35.51it/s]\u001b[A\n",
            " 87%|████████▋ | 8682/10000 [04:20<00:41, 31.49it/s]\u001b[A\n",
            " 87%|████████▋ | 8686/10000 [04:20<00:43, 30.28it/s]\u001b[A\n",
            " 87%|████████▋ | 8690/10000 [04:21<01:01, 21.45it/s]\u001b[A\n",
            " 87%|████████▋ | 8694/10000 [04:21<00:53, 24.62it/s]\u001b[A\n",
            " 87%|████████▋ | 8699/10000 [04:21<00:47, 27.63it/s]\u001b[A\n",
            " 87%|████████▋ | 8704/10000 [04:21<00:45, 28.60it/s]\u001b[A\n",
            " 87%|████████▋ | 8709/10000 [04:21<00:41, 31.30it/s]\u001b[A\n",
            " 87%|████████▋ | 8714/10000 [04:21<00:36, 35.07it/s]\u001b[A\n",
            " 87%|████████▋ | 8718/10000 [04:21<00:36, 35.53it/s]\u001b[A\n",
            " 87%|████████▋ | 8722/10000 [04:21<00:36, 35.01it/s]\u001b[A\n",
            " 87%|████████▋ | 8727/10000 [04:22<00:35, 36.36it/s]\u001b[A\n",
            " 87%|████████▋ | 8731/10000 [04:22<00:37, 33.94it/s]\u001b[A\n",
            " 87%|████████▋ | 8735/10000 [04:22<00:38, 32.85it/s]\u001b[A\n",
            " 87%|████████▋ | 8739/10000 [04:22<00:43, 29.19it/s]\u001b[A\n",
            " 87%|████████▋ | 8743/10000 [04:22<00:41, 30.30it/s]\u001b[A\n",
            " 87%|████████▋ | 8747/10000 [04:22<00:41, 30.17it/s]\u001b[A\n",
            " 88%|████████▊ | 8751/10000 [04:22<00:40, 31.06it/s]\u001b[A\n",
            " 88%|████████▊ | 8756/10000 [04:22<00:36, 34.06it/s]\u001b[A\n",
            " 88%|████████▊ | 8760/10000 [04:23<00:36, 34.11it/s]\u001b[A\n",
            " 88%|████████▊ | 8764/10000 [04:23<00:36, 33.97it/s]\u001b[A\n",
            " 88%|████████▊ | 8768/10000 [04:23<00:42, 29.12it/s]\u001b[A\n",
            " 88%|████████▊ | 8773/10000 [04:23<00:36, 33.22it/s]\u001b[A\n",
            " 88%|████████▊ | 8777/10000 [04:23<00:42, 28.46it/s]\u001b[A\n",
            " 88%|████████▊ | 8781/10000 [04:23<00:42, 28.62it/s]\u001b[A\n",
            " 88%|████████▊ | 8785/10000 [04:23<00:50, 24.20it/s]\u001b[A\n",
            " 88%|████████▊ | 8790/10000 [04:24<00:44, 27.10it/s]\u001b[A\n",
            " 88%|████████▊ | 8794/10000 [04:24<00:41, 29.23it/s]\u001b[A\n",
            " 88%|████████▊ | 8798/10000 [04:24<00:37, 31.75it/s]\u001b[A\n",
            " 88%|████████▊ | 8803/10000 [04:24<00:35, 33.34it/s]\u001b[A\n",
            " 88%|████████▊ | 8808/10000 [04:24<00:33, 35.42it/s]\u001b[A\n",
            " 88%|████████▊ | 8813/10000 [04:24<00:33, 35.07it/s]\u001b[A\n",
            " 88%|████████▊ | 8817/10000 [04:24<00:36, 32.78it/s]\u001b[A\n",
            " 88%|████████▊ | 8821/10000 [04:24<00:34, 34.50it/s]\u001b[A\n",
            " 88%|████████▊ | 8825/10000 [04:25<00:34, 33.84it/s]\u001b[A\n",
            " 88%|████████▊ | 8829/10000 [04:25<00:39, 29.94it/s]\u001b[A\n",
            " 88%|████████▊ | 8835/10000 [04:25<00:34, 33.96it/s]\u001b[A\n",
            " 88%|████████▊ | 8839/10000 [04:25<00:39, 29.20it/s]\u001b[A\n",
            " 88%|████████▊ | 8843/10000 [04:25<00:37, 30.65it/s]\u001b[A\n",
            " 88%|████████▊ | 8847/10000 [04:25<00:36, 31.76it/s]\u001b[A\n",
            " 89%|████████▊ | 8852/10000 [04:25<00:33, 34.19it/s]\u001b[A\n",
            " 89%|████████▊ | 8857/10000 [04:26<00:32, 35.08it/s]\u001b[A\n",
            " 89%|████████▊ | 8861/10000 [04:26<00:32, 34.99it/s]\u001b[A\n",
            " 89%|████████▊ | 8865/10000 [04:26<00:38, 29.76it/s]\u001b[A\n",
            " 89%|████████▊ | 8870/10000 [04:26<00:34, 33.19it/s]\u001b[A\n",
            " 89%|████████▊ | 8874/10000 [04:26<00:33, 33.79it/s]\u001b[A\n",
            " 89%|████████▉ | 8878/10000 [04:26<00:33, 33.56it/s]\u001b[A\n",
            " 89%|████████▉ | 8882/10000 [04:26<00:32, 34.52it/s]\u001b[A\n",
            " 89%|████████▉ | 8886/10000 [04:26<00:32, 33.93it/s]\u001b[A\n",
            " 89%|████████▉ | 8891/10000 [04:27<00:31, 34.92it/s]\u001b[A\n",
            " 89%|████████▉ | 8895/10000 [04:27<00:33, 33.24it/s]\u001b[A\n",
            " 89%|████████▉ | 8899/10000 [04:27<00:45, 24.28it/s]\u001b[A\n",
            " 89%|████████▉ | 8903/10000 [04:27<00:45, 24.10it/s]\u001b[A\n",
            " 89%|████████▉ | 8907/10000 [04:27<00:44, 24.66it/s]\u001b[A\n",
            " 89%|████████▉ | 8911/10000 [04:27<00:42, 25.41it/s]\u001b[A\n",
            " 89%|████████▉ | 8916/10000 [04:28<00:38, 28.14it/s]\u001b[A\n",
            " 89%|████████▉ | 8920/10000 [04:28<00:35, 30.34it/s]\u001b[A\n",
            " 89%|████████▉ | 8925/10000 [04:28<00:33, 31.95it/s]\u001b[A\n",
            " 89%|████████▉ | 8930/10000 [04:28<00:30, 35.61it/s]\u001b[A\n",
            " 89%|████████▉ | 8934/10000 [04:28<00:30, 35.46it/s]\u001b[A\n",
            " 89%|████████▉ | 8938/10000 [04:28<00:35, 30.11it/s]\u001b[A\n",
            " 89%|████████▉ | 8943/10000 [04:28<00:32, 32.92it/s]\u001b[A\n",
            " 89%|████████▉ | 8947/10000 [04:28<00:31, 33.34it/s]\u001b[A\n",
            " 90%|████████▉ | 8951/10000 [04:29<00:34, 30.02it/s]\u001b[A\n",
            " 90%|████████▉ | 8955/10000 [04:29<00:39, 26.55it/s]\u001b[A\n",
            " 90%|████████▉ | 8960/10000 [04:29<00:41, 24.85it/s]\u001b[A\n",
            " 90%|████████▉ | 8963/10000 [04:29<00:43, 24.06it/s]\u001b[A\n",
            " 90%|████████▉ | 8968/10000 [04:29<00:37, 27.40it/s]\u001b[A\n",
            " 90%|████████▉ | 8972/10000 [04:29<00:37, 27.43it/s]\u001b[A\n",
            " 90%|████████▉ | 8976/10000 [04:30<00:34, 29.36it/s]\u001b[A\n",
            " 90%|████████▉ | 8980/10000 [04:30<00:33, 30.34it/s]\u001b[A\n",
            " 90%|████████▉ | 8984/10000 [04:30<00:32, 31.20it/s]\u001b[A\n",
            " 90%|████████▉ | 8988/10000 [04:30<00:36, 27.86it/s]\u001b[A\n",
            " 90%|████████▉ | 8991/10000 [04:30<00:38, 26.15it/s]\u001b[A\n",
            " 90%|████████▉ | 8994/10000 [04:30<00:38, 26.18it/s]\u001b[A\n",
            " 90%|████████▉ | 8997/10000 [04:30<00:38, 25.99it/s]\u001b[A\n",
            " 90%|█████████ | 9002/10000 [04:30<00:33, 29.58it/s]\u001b[A\n",
            " 90%|█████████ | 9006/10000 [04:31<00:32, 30.62it/s]\u001b[A\n",
            " 90%|█████████ | 9010/10000 [04:31<00:32, 30.35it/s]\u001b[A\n",
            " 90%|█████████ | 9014/10000 [04:31<00:32, 30.39it/s]\u001b[A\n",
            " 90%|█████████ | 9018/10000 [04:31<00:35, 27.46it/s]\u001b[A\n",
            " 90%|█████████ | 9022/10000 [04:31<00:32, 30.12it/s]\u001b[A\n",
            " 90%|█████████ | 9026/10000 [04:31<00:30, 31.82it/s]\u001b[A\n",
            " 90%|█████████ | 9030/10000 [04:31<00:29, 32.72it/s]\u001b[A\n",
            " 90%|█████████ | 9034/10000 [04:31<00:29, 32.63it/s]\u001b[A\n",
            " 90%|█████████ | 9038/10000 [04:32<00:28, 34.34it/s]\u001b[A\n",
            " 90%|█████████ | 9042/10000 [04:32<00:32, 29.43it/s]\u001b[A\n",
            " 90%|█████████ | 9047/10000 [04:32<00:28, 33.34it/s]\u001b[A\n",
            " 91%|█████████ | 9051/10000 [04:32<00:27, 34.38it/s]\u001b[A\n",
            " 91%|█████████ | 9055/10000 [04:32<00:29, 32.00it/s]\u001b[A\n",
            " 91%|█████████ | 9059/10000 [04:32<00:31, 30.29it/s]\u001b[A\n",
            " 91%|█████████ | 9064/10000 [04:32<00:29, 31.41it/s]\u001b[A\n",
            " 91%|█████████ | 9068/10000 [04:33<00:29, 31.92it/s]\u001b[A\n",
            " 91%|█████████ | 9072/10000 [04:33<00:38, 24.04it/s]\u001b[A\n",
            " 91%|█████████ | 9075/10000 [04:33<00:37, 24.37it/s]\u001b[A\n",
            " 91%|█████████ | 9079/10000 [04:33<00:34, 27.08it/s]\u001b[A\n",
            " 91%|█████████ | 9083/10000 [04:33<00:30, 29.69it/s]\u001b[A\n",
            " 91%|█████████ | 9087/10000 [04:33<00:33, 27.02it/s]\u001b[A\n",
            " 91%|█████████ | 9092/10000 [04:33<00:29, 30.45it/s]\u001b[A\n",
            " 91%|█████████ | 9096/10000 [04:34<00:29, 30.29it/s]\u001b[A\n",
            " 91%|█████████ | 9100/10000 [04:34<00:29, 30.55it/s]\u001b[A\n",
            " 91%|█████████ | 9104/10000 [04:34<00:31, 28.47it/s]\u001b[A\n",
            " 91%|█████████ | 9107/10000 [04:34<00:31, 28.14it/s]\u001b[A\n",
            " 91%|█████████ | 9111/10000 [04:34<00:32, 27.39it/s]\u001b[A\n",
            " 91%|█████████ | 9114/10000 [04:34<00:33, 26.70it/s]\u001b[A\n",
            " 91%|█████████ | 9117/10000 [04:34<00:34, 25.86it/s]\u001b[A\n",
            " 91%|█████████ | 9121/10000 [04:34<00:31, 28.19it/s]\u001b[A\n",
            " 91%|█████████▏| 9125/10000 [04:35<00:30, 28.82it/s]\u001b[A\n",
            " 91%|█████████▏| 9128/10000 [04:35<00:31, 27.33it/s]\u001b[A\n",
            " 91%|█████████▏| 9131/10000 [04:35<00:32, 26.40it/s]\u001b[A\n",
            " 91%|█████████▏| 9134/10000 [04:35<00:33, 26.10it/s]\u001b[A\n",
            " 91%|█████████▏| 9137/10000 [04:35<00:32, 26.22it/s]\u001b[A\n",
            " 91%|█████████▏| 9140/10000 [04:35<00:33, 26.04it/s]\u001b[A\n",
            " 91%|█████████▏| 9143/10000 [04:35<00:32, 26.35it/s]\u001b[A\n",
            " 91%|█████████▏| 9147/10000 [04:35<00:29, 28.54it/s]\u001b[A\n",
            " 92%|█████████▏| 9151/10000 [04:36<00:27, 30.94it/s]\u001b[A\n",
            " 92%|█████████▏| 9155/10000 [04:36<00:25, 33.10it/s]\u001b[A\n",
            " 92%|█████████▏| 9159/10000 [04:36<00:25, 32.89it/s]\u001b[A\n",
            " 92%|█████████▏| 9163/10000 [04:36<00:24, 34.15it/s]\u001b[A\n",
            " 92%|█████████▏| 9167/10000 [04:36<00:25, 32.73it/s]\u001b[A\n",
            " 92%|█████████▏| 9171/10000 [04:36<00:28, 28.84it/s]\u001b[A\n",
            " 92%|█████████▏| 9175/10000 [04:36<00:28, 29.08it/s]\u001b[A\n",
            " 92%|█████████▏| 9179/10000 [04:36<00:26, 31.24it/s]\u001b[A\n",
            " 92%|█████████▏| 9183/10000 [04:37<00:26, 30.30it/s]\u001b[A\n",
            " 92%|█████████▏| 9187/10000 [04:37<00:32, 25.06it/s]\u001b[A\n",
            " 92%|█████████▏| 9190/10000 [04:37<00:33, 24.08it/s]\u001b[A\n",
            " 92%|█████████▏| 9193/10000 [04:37<00:46, 17.24it/s]\u001b[A\n",
            " 92%|█████████▏| 9196/10000 [04:37<00:43, 18.41it/s]\u001b[A\n",
            " 92%|█████████▏| 9200/10000 [04:37<00:36, 21.76it/s]\u001b[A\n",
            " 92%|█████████▏| 9204/10000 [04:38<00:33, 24.04it/s]\u001b[A\n",
            " 92%|█████████▏| 9207/10000 [04:38<00:32, 24.48it/s]\u001b[A\n",
            " 92%|█████████▏| 9210/10000 [04:38<00:31, 25.20it/s]\u001b[A\n",
            " 92%|█████████▏| 9214/10000 [04:38<00:28, 27.43it/s]\u001b[A\n",
            " 92%|█████████▏| 9219/10000 [04:38<00:25, 30.72it/s]\u001b[A\n",
            " 92%|█████████▏| 9223/10000 [04:38<00:25, 30.99it/s]\u001b[A\n",
            " 92%|█████████▏| 9228/10000 [04:38<00:22, 34.38it/s]\u001b[A\n",
            " 92%|█████████▏| 9232/10000 [04:38<00:27, 27.97it/s]\u001b[A\n",
            " 92%|█████████▏| 9237/10000 [04:39<00:23, 32.19it/s]\u001b[A\n",
            " 92%|█████████▏| 9241/10000 [04:39<00:24, 31.34it/s]\u001b[A\n",
            " 92%|█████████▏| 9245/10000 [04:39<00:24, 30.42it/s]\u001b[A\n",
            " 92%|█████████▏| 9249/10000 [04:39<00:27, 27.39it/s]\u001b[A\n",
            " 93%|█████████▎| 9252/10000 [04:39<00:27, 27.02it/s]\u001b[A\n",
            " 93%|█████████▎| 9256/10000 [04:39<00:28, 26.20it/s]\u001b[A\n",
            " 93%|█████████▎| 9260/10000 [04:39<00:26, 27.49it/s]\u001b[A\n",
            " 93%|█████████▎| 9263/10000 [04:40<00:26, 28.16it/s]\u001b[A\n",
            " 93%|█████████▎| 9266/10000 [04:40<00:26, 28.19it/s]\u001b[A\n",
            " 93%|█████████▎| 9271/10000 [04:40<00:22, 31.96it/s]\u001b[A\n",
            " 93%|█████████▎| 9275/10000 [04:40<00:22, 32.51it/s]\u001b[A\n",
            " 93%|█████████▎| 9280/10000 [04:40<00:24, 29.75it/s]\u001b[A\n",
            " 93%|█████████▎| 9285/10000 [04:40<00:21, 33.09it/s]\u001b[A\n",
            " 93%|█████████▎| 9290/10000 [04:40<00:20, 34.32it/s]\u001b[A\n",
            " 93%|█████████▎| 9294/10000 [04:40<00:21, 33.51it/s]\u001b[A\n",
            " 93%|█████████▎| 9298/10000 [04:41<00:20, 33.63it/s]\u001b[A\n",
            " 93%|█████████▎| 9303/10000 [04:41<00:18, 37.24it/s]\u001b[A\n",
            " 93%|█████████▎| 9307/10000 [04:41<00:18, 36.97it/s]\u001b[A\n",
            " 93%|█████████▎| 9311/10000 [04:41<00:19, 35.76it/s]\u001b[A\n",
            " 93%|█████████▎| 9315/10000 [04:41<00:18, 36.80it/s]\u001b[A\n",
            " 93%|█████████▎| 9319/10000 [04:41<00:21, 32.34it/s]\u001b[A\n",
            " 93%|█████████▎| 9323/10000 [04:41<00:20, 33.32it/s]\u001b[A\n",
            " 93%|█████████▎| 9328/10000 [04:41<00:18, 35.79it/s]\u001b[A\n",
            " 93%|█████████▎| 9333/10000 [04:41<00:17, 37.22it/s]\u001b[A\n",
            " 93%|█████████▎| 9337/10000 [04:42<00:17, 37.92it/s]\u001b[A\n",
            " 93%|█████████▎| 9341/10000 [04:42<00:17, 37.84it/s]\u001b[A\n",
            " 93%|█████████▎| 9345/10000 [04:42<00:17, 37.04it/s]\u001b[A\n",
            " 93%|█████████▎| 9349/10000 [04:42<00:17, 37.10it/s]\u001b[A\n",
            " 94%|█████████▎| 9353/10000 [04:42<00:20, 32.31it/s]\u001b[A\n",
            " 94%|█████████▎| 9357/10000 [04:42<00:20, 31.90it/s]\u001b[A\n",
            " 94%|█████████▎| 9361/10000 [04:42<00:19, 32.62it/s]\u001b[A\n",
            " 94%|█████████▎| 9365/10000 [04:42<00:21, 30.08it/s]\u001b[A\n",
            " 94%|█████████▎| 9369/10000 [04:43<00:21, 29.70it/s]\u001b[A\n",
            " 94%|█████████▎| 9373/10000 [04:43<00:20, 30.27it/s]\u001b[A\n",
            " 94%|█████████▍| 9378/10000 [04:43<00:18, 34.08it/s]\u001b[A\n",
            " 94%|█████████▍| 9382/10000 [04:43<00:19, 31.74it/s]\u001b[A\n",
            " 94%|█████████▍| 9387/10000 [04:43<00:17, 35.64it/s]\u001b[A\n",
            " 94%|█████████▍| 9391/10000 [04:43<00:21, 28.89it/s]\u001b[A\n",
            " 94%|█████████▍| 9396/10000 [04:43<00:18, 32.56it/s]\u001b[A\n",
            " 94%|█████████▍| 9400/10000 [04:44<00:19, 30.24it/s]\u001b[A\n",
            " 94%|█████████▍| 9404/10000 [04:44<00:19, 31.25it/s]\u001b[A\n",
            " 94%|█████████▍| 9409/10000 [04:44<00:17, 32.94it/s]\u001b[A\n",
            " 94%|█████████▍| 9414/10000 [04:44<00:16, 35.18it/s]\u001b[A\n",
            " 94%|█████████▍| 9418/10000 [04:44<00:23, 24.34it/s]\u001b[A\n",
            " 94%|█████████▍| 9422/10000 [04:44<00:22, 25.74it/s]\u001b[A\n",
            " 94%|█████████▍| 9426/10000 [04:44<00:21, 26.68it/s]\u001b[A\n",
            " 94%|█████████▍| 9429/10000 [04:45<00:22, 25.44it/s]\u001b[A\n",
            " 94%|█████████▍| 9433/10000 [04:45<00:19, 28.55it/s]\u001b[A\n",
            " 94%|█████████▍| 9437/10000 [04:45<00:19, 29.09it/s]\u001b[A\n",
            " 94%|█████████▍| 9441/10000 [04:45<00:20, 27.92it/s]\u001b[A\n",
            " 94%|█████████▍| 9444/10000 [04:45<00:20, 27.55it/s]\u001b[A\n",
            " 94%|█████████▍| 9447/10000 [04:45<00:20, 26.64it/s]\u001b[A\n",
            " 95%|█████████▍| 9451/10000 [04:45<00:19, 28.23it/s]\u001b[A\n",
            " 95%|█████████▍| 9455/10000 [04:45<00:18, 30.07it/s]\u001b[A\n",
            " 95%|█████████▍| 9459/10000 [04:46<00:18, 29.04it/s]\u001b[A\n",
            " 95%|█████████▍| 9463/10000 [04:46<00:17, 30.70it/s]\u001b[A\n",
            " 95%|█████████▍| 9467/10000 [04:46<00:17, 29.98it/s]\u001b[A\n",
            " 95%|█████████▍| 9471/10000 [04:46<00:17, 30.47it/s]\u001b[A\n",
            " 95%|█████████▍| 9475/10000 [04:46<00:16, 31.41it/s]\u001b[A\n",
            " 95%|█████████▍| 9479/10000 [04:46<00:17, 29.02it/s]\u001b[A\n",
            " 95%|█████████▍| 9482/10000 [04:46<00:19, 26.44it/s]\u001b[A\n",
            " 95%|█████████▍| 9485/10000 [04:47<00:18, 27.16it/s]\u001b[A\n",
            " 95%|█████████▍| 9489/10000 [04:47<00:19, 26.03it/s]\u001b[A\n",
            " 95%|█████████▍| 9492/10000 [04:47<00:20, 24.25it/s]\u001b[A\n",
            " 95%|█████████▍| 9495/10000 [04:47<00:20, 24.50it/s]\u001b[A\n",
            " 95%|█████████▍| 9499/10000 [04:47<00:18, 27.72it/s]\u001b[A\n",
            " 95%|█████████▌| 9503/10000 [04:47<00:17, 29.07it/s]\u001b[A\n",
            " 95%|█████████▌| 9507/10000 [04:47<00:16, 30.38it/s]\u001b[A\n",
            " 95%|█████████▌| 9511/10000 [04:48<00:21, 23.22it/s]\u001b[A\n",
            " 95%|█████████▌| 9515/10000 [04:48<00:19, 25.38it/s]\u001b[A\n",
            " 95%|█████████▌| 9518/10000 [04:48<00:18, 26.30it/s]\u001b[A\n",
            " 95%|█████████▌| 9523/10000 [04:48<00:16, 29.79it/s]\u001b[A\n",
            " 95%|█████████▌| 9527/10000 [04:48<00:15, 30.86it/s]\u001b[A\n",
            " 95%|█████████▌| 9531/10000 [04:48<00:14, 31.69it/s]\u001b[A\n",
            " 95%|█████████▌| 9535/10000 [04:48<00:17, 27.05it/s]\u001b[A\n",
            " 95%|█████████▌| 9539/10000 [04:48<00:15, 29.66it/s]\u001b[A\n",
            " 95%|█████████▌| 9543/10000 [04:49<00:17, 25.98it/s]\u001b[A\n",
            " 95%|█████████▌| 9546/10000 [04:49<00:17, 26.14it/s]\u001b[A\n",
            " 96%|█████████▌| 9550/10000 [04:49<00:17, 25.70it/s]\u001b[A\n",
            " 96%|█████████▌| 9554/10000 [04:49<00:17, 25.94it/s]\u001b[A\n",
            " 96%|█████████▌| 9557/10000 [04:49<00:19, 23.04it/s]\u001b[A\n",
            " 96%|█████████▌| 9561/10000 [04:49<00:17, 25.79it/s]\u001b[A\n",
            " 96%|█████████▌| 9564/10000 [04:49<00:17, 24.95it/s]\u001b[A\n",
            " 96%|█████████▌| 9567/10000 [04:50<00:21, 20.29it/s]\u001b[A\n",
            " 96%|█████████▌| 9570/10000 [04:50<00:20, 21.02it/s]\u001b[A\n",
            " 96%|█████████▌| 9575/10000 [04:50<00:17, 24.71it/s]\u001b[A\n",
            " 96%|█████████▌| 9578/10000 [04:50<00:16, 25.47it/s]\u001b[A\n",
            " 96%|█████████▌| 9582/10000 [04:50<00:14, 28.40it/s]\u001b[A\n",
            " 96%|█████████▌| 9586/10000 [04:50<00:13, 29.92it/s]\u001b[A\n",
            " 96%|█████████▌| 9590/10000 [04:50<00:13, 30.59it/s]\u001b[A\n",
            " 96%|█████████▌| 9594/10000 [04:51<00:14, 28.81it/s]\u001b[A\n",
            " 96%|█████████▌| 9599/10000 [04:51<00:12, 31.90it/s]\u001b[A\n",
            " 96%|█████████▌| 9603/10000 [04:51<00:12, 32.79it/s]\u001b[A\n",
            " 96%|█████████▌| 9607/10000 [04:51<00:12, 32.45it/s]\u001b[A\n",
            " 96%|█████████▌| 9611/10000 [04:51<00:11, 33.21it/s]\u001b[A\n",
            " 96%|█████████▌| 9615/10000 [04:51<00:11, 34.43it/s]\u001b[A\n",
            " 96%|█████████▌| 9619/10000 [04:51<00:10, 35.51it/s]\u001b[A\n",
            " 96%|█████████▌| 9623/10000 [04:51<00:10, 36.01it/s]\u001b[A\n",
            " 96%|█████████▋| 9627/10000 [04:51<00:11, 31.88it/s]\u001b[A\n",
            " 96%|█████████▋| 9631/10000 [04:52<00:16, 22.90it/s]\u001b[A\n",
            " 96%|█████████▋| 9634/10000 [04:52<00:15, 23.50it/s]\u001b[A\n",
            " 96%|█████████▋| 9637/10000 [04:52<00:14, 24.41it/s]\u001b[A\n",
            " 96%|█████████▋| 9640/10000 [04:52<00:15, 22.63it/s]\u001b[A\n",
            " 96%|█████████▋| 9644/10000 [04:52<00:13, 25.63it/s]\u001b[A\n",
            " 96%|█████████▋| 9649/10000 [04:52<00:12, 28.07it/s]\u001b[A\n",
            " 97%|█████████▋| 9653/10000 [04:53<00:11, 29.31it/s]\u001b[A\n",
            " 97%|█████████▋| 9657/10000 [04:53<00:12, 27.42it/s]\u001b[A\n",
            " 97%|█████████▋| 9660/10000 [04:53<00:12, 27.87it/s]\u001b[A\n",
            " 97%|█████████▋| 9664/10000 [04:53<00:11, 28.82it/s]\u001b[A\n",
            " 97%|█████████▋| 9668/10000 [04:53<00:10, 30.47it/s]\u001b[A\n",
            " 97%|█████████▋| 9672/10000 [04:53<00:11, 28.09it/s]\u001b[A\n",
            " 97%|█████████▋| 9677/10000 [04:53<00:11, 28.45it/s]\u001b[A\n",
            " 97%|█████████▋| 9680/10000 [04:54<00:12, 26.32it/s]\u001b[A\n",
            " 97%|█████████▋| 9684/10000 [04:54<00:10, 28.82it/s]\u001b[A\n",
            " 97%|█████████▋| 9689/10000 [04:54<00:10, 30.83it/s]\u001b[A\n",
            " 97%|█████████▋| 9693/10000 [04:54<00:13, 22.75it/s]\u001b[A\n",
            " 97%|█████████▋| 9697/10000 [04:54<00:12, 25.14it/s]\u001b[A\n",
            " 97%|█████████▋| 9702/10000 [04:54<00:10, 27.12it/s]\u001b[A\n",
            " 97%|█████████▋| 9706/10000 [04:54<00:09, 29.77it/s]\u001b[A\n",
            " 97%|█████████▋| 9710/10000 [04:55<00:09, 29.47it/s]\u001b[A\n",
            " 97%|█████████▋| 9715/10000 [04:55<00:09, 30.50it/s]\u001b[A\n",
            " 97%|█████████▋| 9719/10000 [04:55<00:08, 32.78it/s]\u001b[A\n",
            " 97%|█████████▋| 9723/10000 [04:55<00:07, 34.64it/s]\u001b[A\n",
            " 97%|█████████▋| 9727/10000 [04:55<00:09, 29.32it/s]\u001b[A\n",
            " 97%|█████████▋| 9733/10000 [04:55<00:07, 33.64it/s]\u001b[A\n",
            " 97%|█████████▋| 9737/10000 [04:55<00:08, 32.11it/s]\u001b[A\n",
            " 97%|█████████▋| 9741/10000 [04:55<00:08, 32.29it/s]\u001b[A\n",
            " 97%|█████████▋| 9745/10000 [04:56<00:08, 29.26it/s]\u001b[A\n",
            " 97%|█████████▋| 9749/10000 [04:56<00:09, 27.22it/s]\u001b[A\n",
            " 98%|█████████▊| 9752/10000 [04:56<00:09, 26.75it/s]\u001b[A\n",
            " 98%|█████████▊| 9755/10000 [04:56<00:09, 26.46it/s]\u001b[A\n",
            " 98%|█████████▊| 9758/10000 [04:56<00:10, 24.15it/s]\u001b[A\n",
            " 98%|█████████▊| 9761/10000 [04:56<00:10, 23.32it/s]\u001b[A\n",
            " 98%|█████████▊| 9764/10000 [04:56<00:09, 23.77it/s]\u001b[A\n",
            " 98%|█████████▊| 9768/10000 [04:57<00:08, 27.00it/s]\u001b[A\n",
            " 98%|█████████▊| 9772/10000 [04:57<00:07, 29.51it/s]\u001b[A\n",
            " 98%|█████████▊| 9778/10000 [04:57<00:06, 33.30it/s]\u001b[A\n",
            " 98%|█████████▊| 9782/10000 [04:57<00:06, 32.04it/s]\u001b[A\n",
            " 98%|█████████▊| 9786/10000 [04:57<00:06, 31.06it/s]\u001b[A\n",
            " 98%|█████████▊| 9790/10000 [04:57<00:06, 30.55it/s]\u001b[A\n",
            " 98%|█████████▊| 9795/10000 [04:57<00:06, 33.58it/s]\u001b[A\n",
            " 98%|█████████▊| 9800/10000 [04:57<00:05, 34.71it/s]\u001b[A\n",
            " 98%|█████████▊| 9804/10000 [04:58<00:06, 32.17it/s]\u001b[A\n",
            " 98%|█████████▊| 9808/10000 [04:58<00:07, 26.15it/s]\u001b[A\n",
            " 98%|█████████▊| 9812/10000 [04:58<00:06, 29.16it/s]\u001b[A\n",
            " 98%|█████████▊| 9816/10000 [04:58<00:05, 30.70it/s]\u001b[A\n",
            " 98%|█████████▊| 9820/10000 [04:58<00:05, 31.06it/s]\u001b[A\n",
            " 98%|█████████▊| 9824/10000 [04:58<00:06, 28.68it/s]\u001b[A\n",
            " 98%|█████████▊| 9828/10000 [04:58<00:05, 29.22it/s]\u001b[A\n",
            " 98%|█████████▊| 9834/10000 [04:59<00:05, 32.77it/s]\u001b[A\n",
            " 98%|█████████▊| 9838/10000 [04:59<00:06, 26.91it/s]\u001b[A\n",
            " 98%|█████████▊| 9842/10000 [04:59<00:06, 25.89it/s]\u001b[A\n",
            " 98%|█████████▊| 9846/10000 [04:59<00:05, 28.15it/s]\u001b[A\n",
            " 98%|█████████▊| 9850/10000 [04:59<00:05, 29.88it/s]\u001b[A\n",
            " 99%|█████████▊| 9854/10000 [04:59<00:04, 29.84it/s]\u001b[A\n",
            " 99%|█████████▊| 9858/10000 [04:59<00:04, 31.68it/s]\u001b[A\n",
            " 99%|█████████▊| 9862/10000 [05:00<00:04, 33.29it/s]\u001b[A\n",
            " 99%|█████████▊| 9866/10000 [05:00<00:05, 25.80it/s]\u001b[A\n",
            " 99%|█████████▊| 9869/10000 [05:00<00:05, 23.93it/s]\u001b[A\n",
            " 99%|█████████▊| 9872/10000 [05:00<00:05, 24.41it/s]\u001b[A\n",
            " 99%|█████████▉| 9875/10000 [05:00<00:06, 20.69it/s]\u001b[A\n",
            " 99%|█████████▉| 9879/10000 [05:00<00:05, 23.34it/s]\u001b[A\n",
            " 99%|█████████▉| 9883/10000 [05:00<00:04, 24.93it/s]\u001b[A\n",
            " 99%|█████████▉| 9887/10000 [05:01<00:04, 26.75it/s]\u001b[A\n",
            " 99%|█████████▉| 9890/10000 [05:01<00:04, 23.50it/s]\u001b[A\n",
            " 99%|█████████▉| 9894/10000 [05:01<00:04, 26.33it/s]\u001b[A\n",
            " 99%|█████████▉| 9898/10000 [05:01<00:03, 27.50it/s]\u001b[A\n",
            " 99%|█████████▉| 9901/10000 [05:01<00:03, 25.88it/s]\u001b[A\n",
            " 99%|█████████▉| 9905/10000 [05:01<00:03, 26.75it/s]\u001b[A\n",
            " 99%|█████████▉| 9908/10000 [05:01<00:03, 27.35it/s]\u001b[A\n",
            " 99%|█████████▉| 9911/10000 [05:01<00:03, 28.02it/s]\u001b[A\n",
            " 99%|█████████▉| 9917/10000 [05:02<00:02, 30.90it/s]\u001b[A\n",
            " 99%|█████████▉| 9921/10000 [05:02<00:02, 28.94it/s]\u001b[A\n",
            " 99%|█████████▉| 9925/10000 [05:02<00:02, 29.77it/s]\u001b[A\n",
            " 99%|█████████▉| 9929/10000 [05:02<00:02, 28.80it/s]\u001b[A\n",
            " 99%|█████████▉| 9935/10000 [05:02<00:01, 32.97it/s]\u001b[A\n",
            " 99%|█████████▉| 9939/10000 [05:02<00:01, 32.33it/s]\u001b[A\n",
            " 99%|█████████▉| 9943/10000 [05:02<00:01, 33.08it/s]\u001b[A\n",
            " 99%|█████████▉| 9947/10000 [05:03<00:01, 28.81it/s]\u001b[A\n",
            "100%|█████████▉| 9952/10000 [05:03<00:01, 32.33it/s]\u001b[A\n",
            "100%|█████████▉| 9956/10000 [05:03<00:01, 30.21it/s]\u001b[A\n",
            "100%|█████████▉| 9961/10000 [05:03<00:01, 33.79it/s]\u001b[A\n",
            "100%|█████████▉| 9965/10000 [05:03<00:01, 29.51it/s]\u001b[A\n",
            "100%|█████████▉| 9970/10000 [05:03<00:00, 32.38it/s]\u001b[A\n",
            "100%|█████████▉| 9974/10000 [05:03<00:00, 32.42it/s]\u001b[A\n",
            "100%|█████████▉| 9978/10000 [05:04<00:00, 33.27it/s]\u001b[A\n",
            "100%|█████████▉| 9983/10000 [05:04<00:00, 35.91it/s]\u001b[A\n",
            "100%|█████████▉| 9987/10000 [05:04<00:00, 33.01it/s]\u001b[A\n",
            "100%|█████████▉| 9992/10000 [05:04<00:00, 34.84it/s]\u001b[A\n",
            "100%|█████████▉| 9996/10000 [05:04<00:00, 33.01it/s]\u001b[A\n",
            "100%|██████████| 10000/10000 [05:04<00:00, 32.83it/s]\n"
          ],
          "name": "stderr"
        }
      ]
    },
    {
      "cell_type": "code",
      "metadata": {
        "id": "XvAqVbAfwUjM",
        "colab_type": "code",
        "colab": {}
      },
      "source": [
        "afinn_text = Afinn()\n",
        "sf['afinn_score_text'] = sf['normalize_all_text'].apply(lambda t: afinn_text.score(t))\n",
        "sf['textblob_score_text'] = sf['normalize_all_text'].apply(lambda t: get_textblob_features(t))\n",
        "sf.materialize()\n",
        "sf['words_2grams'] = tc.text_analytics.count_ngrams(sf['normalize_all_text'], n=2, method='word')\n",
        "sf.materialize()"
      ],
      "execution_count": 0,
      "outputs": []
    },
    {
      "cell_type": "code",
      "metadata": {
        "id": "LCE9ND9-tgxx",
        "colab_type": "code",
        "colab": {
          "base_uri": "https://localhost:8080/",
          "height": 907
        },
        "outputId": "450d1a7e-2555-4040-ec6c-afb15dc8e86d"
      },
      "source": [
        "features_list = ['vector']\n",
        "# split to test and train\n",
        "test, train  = sf.random_split(0.2)\n",
        "print(f\"Train size {len(train)}\\nTest size: {len(test)}\" )\n",
        "cls_embedding_feature_only = tc.classifier.create(train,features=features_list, target=\"sentiment\")"
      ],
      "execution_count": 55,
      "outputs": [
        {
          "output_type": "stream",
          "text": [
            "Train size 8033\n",
            "Test size: 1967\n",
            "PROGRESS: Creating a validation set from 5 percent of training data. This may take a while.\n",
            "          You can set ``validation_set=None`` to disable validation tracking.\n",
            "\n",
            "PROGRESS: The following methods are available for this type of problem.\n",
            "PROGRESS: LogisticClassifier, SVMClassifier\n",
            "PROGRESS: The returned model will be chosen according to validation accuracy.\n"
          ],
          "name": "stdout"
        },
        {
          "output_type": "display_data",
          "data": {
            "text/html": [
              "<pre>Logistic regression:</pre>"
            ],
            "text/plain": [
              "Logistic regression:"
            ]
          },
          "metadata": {
            "tags": []
          }
        },
        {
          "output_type": "display_data",
          "data": {
            "text/html": [
              "<pre>--------------------------------------------------------</pre>"
            ],
            "text/plain": [
              "--------------------------------------------------------"
            ]
          },
          "metadata": {
            "tags": []
          }
        },
        {
          "output_type": "display_data",
          "data": {
            "text/html": [
              "<pre>Number of examples          : 7631</pre>"
            ],
            "text/plain": [
              "Number of examples          : 7631"
            ]
          },
          "metadata": {
            "tags": []
          }
        },
        {
          "output_type": "display_data",
          "data": {
            "text/html": [
              "<pre>Number of classes           : 2</pre>"
            ],
            "text/plain": [
              "Number of classes           : 2"
            ]
          },
          "metadata": {
            "tags": []
          }
        },
        {
          "output_type": "display_data",
          "data": {
            "text/html": [
              "<pre>Number of feature columns   : 1</pre>"
            ],
            "text/plain": [
              "Number of feature columns   : 1"
            ]
          },
          "metadata": {
            "tags": []
          }
        },
        {
          "output_type": "display_data",
          "data": {
            "text/html": [
              "<pre>Number of unpacked features : 300</pre>"
            ],
            "text/plain": [
              "Number of unpacked features : 300"
            ]
          },
          "metadata": {
            "tags": []
          }
        },
        {
          "output_type": "display_data",
          "data": {
            "text/html": [
              "<pre>Number of coefficients      : 301</pre>"
            ],
            "text/plain": [
              "Number of coefficients      : 301"
            ]
          },
          "metadata": {
            "tags": []
          }
        },
        {
          "output_type": "display_data",
          "data": {
            "text/html": [
              "<pre>Starting Newton Method</pre>"
            ],
            "text/plain": [
              "Starting Newton Method"
            ]
          },
          "metadata": {
            "tags": []
          }
        },
        {
          "output_type": "display_data",
          "data": {
            "text/html": [
              "<pre>--------------------------------------------------------</pre>"
            ],
            "text/plain": [
              "--------------------------------------------------------"
            ]
          },
          "metadata": {
            "tags": []
          }
        },
        {
          "output_type": "display_data",
          "data": {
            "text/html": [
              "<pre>+-----------+----------+--------------+-------------------+---------------------+</pre>"
            ],
            "text/plain": [
              "+-----------+----------+--------------+-------------------+---------------------+"
            ]
          },
          "metadata": {
            "tags": []
          }
        },
        {
          "output_type": "display_data",
          "data": {
            "text/html": [
              "<pre>| Iteration | Passes   | Elapsed Time | Training Accuracy | Validation Accuracy |</pre>"
            ],
            "text/plain": [
              "| Iteration | Passes   | Elapsed Time | Training Accuracy | Validation Accuracy |"
            ]
          },
          "metadata": {
            "tags": []
          }
        },
        {
          "output_type": "display_data",
          "data": {
            "text/html": [
              "<pre>+-----------+----------+--------------+-------------------+---------------------+</pre>"
            ],
            "text/plain": [
              "+-----------+----------+--------------+-------------------+---------------------+"
            ]
          },
          "metadata": {
            "tags": []
          }
        },
        {
          "output_type": "display_data",
          "data": {
            "text/html": [
              "<pre>| 1         | 2        | 2.935147     | 0.856375          | 0.858209            |</pre>"
            ],
            "text/plain": [
              "| 1         | 2        | 2.935147     | 0.856375          | 0.858209            |"
            ]
          },
          "metadata": {
            "tags": []
          }
        },
        {
          "output_type": "display_data",
          "data": {
            "text/html": [
              "<pre>| 2         | 3        | 4.521063     | 0.866204          | 0.865672            |</pre>"
            ],
            "text/plain": [
              "| 2         | 3        | 4.521063     | 0.866204          | 0.865672            |"
            ]
          },
          "metadata": {
            "tags": []
          }
        },
        {
          "output_type": "display_data",
          "data": {
            "text/html": [
              "<pre>| 3         | 4        | 6.112881     | 0.867776          | 0.860697            |</pre>"
            ],
            "text/plain": [
              "| 3         | 4        | 6.112881     | 0.867776          | 0.860697            |"
            ]
          },
          "metadata": {
            "tags": []
          }
        },
        {
          "output_type": "display_data",
          "data": {
            "text/html": [
              "<pre>| 4         | 5        | 7.683027     | 0.867776          | 0.855721            |</pre>"
            ],
            "text/plain": [
              "| 4         | 5        | 7.683027     | 0.867776          | 0.855721            |"
            ]
          },
          "metadata": {
            "tags": []
          }
        },
        {
          "output_type": "display_data",
          "data": {
            "text/html": [
              "<pre>| 5         | 6        | 9.279374     | 0.868038          | 0.855721            |</pre>"
            ],
            "text/plain": [
              "| 5         | 6        | 9.279374     | 0.868038          | 0.855721            |"
            ]
          },
          "metadata": {
            "tags": []
          }
        },
        {
          "output_type": "display_data",
          "data": {
            "text/html": [
              "<pre>| 6         | 7        | 10.840677    | 0.868038          | 0.855721            |</pre>"
            ],
            "text/plain": [
              "| 6         | 7        | 10.840677    | 0.868038          | 0.855721            |"
            ]
          },
          "metadata": {
            "tags": []
          }
        },
        {
          "output_type": "display_data",
          "data": {
            "text/html": [
              "<pre>+-----------+----------+--------------+-------------------+---------------------+</pre>"
            ],
            "text/plain": [
              "+-----------+----------+--------------+-------------------+---------------------+"
            ]
          },
          "metadata": {
            "tags": []
          }
        },
        {
          "output_type": "display_data",
          "data": {
            "text/html": [
              "<pre>SUCCESS: Optimal solution found.</pre>"
            ],
            "text/plain": [
              "SUCCESS: Optimal solution found."
            ]
          },
          "metadata": {
            "tags": []
          }
        },
        {
          "output_type": "display_data",
          "data": {
            "text/html": [
              "<pre></pre>"
            ],
            "text/plain": [
              ""
            ]
          },
          "metadata": {
            "tags": []
          }
        },
        {
          "output_type": "display_data",
          "data": {
            "text/html": [
              "<pre>SVM:</pre>"
            ],
            "text/plain": [
              "SVM:"
            ]
          },
          "metadata": {
            "tags": []
          }
        },
        {
          "output_type": "display_data",
          "data": {
            "text/html": [
              "<pre>--------------------------------------------------------</pre>"
            ],
            "text/plain": [
              "--------------------------------------------------------"
            ]
          },
          "metadata": {
            "tags": []
          }
        },
        {
          "output_type": "display_data",
          "data": {
            "text/html": [
              "<pre>Number of examples          : 7631</pre>"
            ],
            "text/plain": [
              "Number of examples          : 7631"
            ]
          },
          "metadata": {
            "tags": []
          }
        },
        {
          "output_type": "display_data",
          "data": {
            "text/html": [
              "<pre>Number of classes           : 2</pre>"
            ],
            "text/plain": [
              "Number of classes           : 2"
            ]
          },
          "metadata": {
            "tags": []
          }
        },
        {
          "output_type": "display_data",
          "data": {
            "text/html": [
              "<pre>Number of feature columns   : 1</pre>"
            ],
            "text/plain": [
              "Number of feature columns   : 1"
            ]
          },
          "metadata": {
            "tags": []
          }
        },
        {
          "output_type": "display_data",
          "data": {
            "text/html": [
              "<pre>Number of unpacked features : 300</pre>"
            ],
            "text/plain": [
              "Number of unpacked features : 300"
            ]
          },
          "metadata": {
            "tags": []
          }
        },
        {
          "output_type": "display_data",
          "data": {
            "text/html": [
              "<pre>Number of coefficients    : 301</pre>"
            ],
            "text/plain": [
              "Number of coefficients    : 301"
            ]
          },
          "metadata": {
            "tags": []
          }
        },
        {
          "output_type": "display_data",
          "data": {
            "text/html": [
              "<pre>Starting L-BFGS</pre>"
            ],
            "text/plain": [
              "Starting L-BFGS"
            ]
          },
          "metadata": {
            "tags": []
          }
        },
        {
          "output_type": "display_data",
          "data": {
            "text/html": [
              "<pre>--------------------------------------------------------</pre>"
            ],
            "text/plain": [
              "--------------------------------------------------------"
            ]
          },
          "metadata": {
            "tags": []
          }
        },
        {
          "output_type": "display_data",
          "data": {
            "text/html": [
              "<pre>+-----------+----------+-----------+--------------+-------------------+---------------------+</pre>"
            ],
            "text/plain": [
              "+-----------+----------+-----------+--------------+-------------------+---------------------+"
            ]
          },
          "metadata": {
            "tags": []
          }
        },
        {
          "output_type": "display_data",
          "data": {
            "text/html": [
              "<pre>| Iteration | Passes   | Step size | Elapsed Time | Training Accuracy | Validation Accuracy |</pre>"
            ],
            "text/plain": [
              "| Iteration | Passes   | Step size | Elapsed Time | Training Accuracy | Validation Accuracy |"
            ]
          },
          "metadata": {
            "tags": []
          }
        },
        {
          "output_type": "display_data",
          "data": {
            "text/html": [
              "<pre>+-----------+----------+-----------+--------------+-------------------+---------------------+</pre>"
            ],
            "text/plain": [
              "+-----------+----------+-----------+--------------+-------------------+---------------------+"
            ]
          },
          "metadata": {
            "tags": []
          }
        },
        {
          "output_type": "display_data",
          "data": {
            "text/html": [
              "<pre>| 0         | 4        | 0.250000  | 0.565914     | 0.631241          | 0.671642            |</pre>"
            ],
            "text/plain": [
              "| 0         | 4        | 0.250000  | 0.565914     | 0.631241          | 0.671642            |"
            ]
          },
          "metadata": {
            "tags": []
          }
        },
        {
          "output_type": "display_data",
          "data": {
            "text/html": [
              "<pre>| 1         | 7        | 1.250000  | 1.094183     | 0.734635          | 0.741294            |</pre>"
            ],
            "text/plain": [
              "| 1         | 7        | 1.250000  | 1.094183     | 0.734635          | 0.741294            |"
            ]
          },
          "metadata": {
            "tags": []
          }
        },
        {
          "output_type": "display_data",
          "data": {
            "text/html": [
              "<pre>| 2         | 14       | 2.697628  | 2.161325     | 0.761892          | 0.756219            |</pre>"
            ],
            "text/plain": [
              "| 2         | 14       | 2.697628  | 2.161325     | 0.761892          | 0.756219            |"
            ]
          },
          "metadata": {
            "tags": []
          }
        },
        {
          "output_type": "display_data",
          "data": {
            "text/html": [
              "<pre>| 3         | 15       | 2.697628  | 2.429074     | 0.716420          | 0.661692            |</pre>"
            ],
            "text/plain": [
              "| 3         | 15       | 2.697628  | 2.429074     | 0.716420          | 0.661692            |"
            ]
          },
          "metadata": {
            "tags": []
          }
        },
        {
          "output_type": "display_data",
          "data": {
            "text/html": [
              "<pre>| 4         | 19       | 1.498876  | 3.076539     | 0.787184          | 0.776119            |</pre>"
            ],
            "text/plain": [
              "| 4         | 19       | 1.498876  | 3.076539     | 0.787184          | 0.776119            |"
            ]
          },
          "metadata": {
            "tags": []
          }
        },
        {
          "output_type": "display_data",
          "data": {
            "text/html": [
              "<pre>| 9         | 29       | 1.155719  | 4.969870     | 0.837636          | 0.840796            |</pre>"
            ],
            "text/plain": [
              "| 9         | 29       | 1.155719  | 4.969870     | 0.837636          | 0.840796            |"
            ]
          },
          "metadata": {
            "tags": []
          }
        },
        {
          "output_type": "display_data",
          "data": {
            "text/html": [
              "<pre>+-----------+----------+-----------+--------------+-------------------+---------------------+</pre>"
            ],
            "text/plain": [
              "+-----------+----------+-----------+--------------+-------------------+---------------------+"
            ]
          },
          "metadata": {
            "tags": []
          }
        },
        {
          "output_type": "stream",
          "text": [
            "PROGRESS: Model selection based on validation accuracy:\n",
            "PROGRESS: ---------------------------------------------\n",
            "PROGRESS: LogisticClassifier              : 0.8557213930348259\n",
            "PROGRESS: SVMClassifier                   : 0.8407960199004975\n",
            "PROGRESS: ---------------------------------------------\n",
            "PROGRESS: Selecting LogisticClassifier based on validation set performance.\n"
          ],
          "name": "stdout"
        }
      ]
    },
    {
      "cell_type": "markdown",
      "metadata": {
        "id": "dDDphSY4tzPs",
        "colab_type": "text"
      },
      "source": [
        "Lets evaluate our embedding sentiment classifier."
      ]
    },
    {
      "cell_type": "code",
      "metadata": {
        "id": "ep0YaLJZuRnD",
        "colab_type": "code",
        "colab": {
          "base_uri": "https://localhost:8080/",
          "height": 857
        },
        "outputId": "2c3b610a-0fa4-4544-971c-c116529703bd"
      },
      "source": [
        "only_embedding_feature_results = cls_embedding_feature_only.evaluate(test)\n",
        "only_embedding_feature_results"
      ],
      "execution_count": 56,
      "outputs": [
        {
          "output_type": "execute_result",
          "data": {
            "text/plain": [
              "{'accuracy': 0.845958312150483,\n",
              " 'auc': 0.916062047569804,\n",
              " 'confusion_matrix': Columns:\n",
              " \ttarget_label\tint\n",
              " \tpredicted_label\tint\n",
              " \tcount\tint\n",
              " \n",
              " Rows: 4\n",
              " \n",
              " Data:\n",
              " +--------------+-----------------+-------+\n",
              " | target_label | predicted_label | count |\n",
              " +--------------+-----------------+-------+\n",
              " |      0       |        1        |  146  |\n",
              " |      0       |        0        |  854  |\n",
              " |      1       |        0        |  157  |\n",
              " |      1       |        1        |  810  |\n",
              " +--------------+-----------------+-------+\n",
              " [4 rows x 3 columns],\n",
              " 'f1_score': 0.8424336973478939,\n",
              " 'log_loss': 0.37838842719941107,\n",
              " 'precision': 0.8472803347280334,\n",
              " 'recall': 0.8376421923474664,\n",
              " 'roc_curve': Columns:\n",
              " \tthreshold\tfloat\n",
              " \tfpr\tfloat\n",
              " \ttpr\tfloat\n",
              " \tp\tint\n",
              " \tn\tint\n",
              " \n",
              " Rows: 100001\n",
              " \n",
              " Data:\n",
              " +-----------+-------+-----+-----+------+\n",
              " | threshold |  fpr  | tpr |  p  |  n   |\n",
              " +-----------+-------+-----+-----+------+\n",
              " |    0.0    |  1.0  | 1.0 | 967 | 1000 |\n",
              " |   1e-05   | 0.998 | 1.0 | 967 | 1000 |\n",
              " |   2e-05   | 0.996 | 1.0 | 967 | 1000 |\n",
              " |   3e-05   | 0.995 | 1.0 | 967 | 1000 |\n",
              " |   4e-05   | 0.991 | 1.0 | 967 | 1000 |\n",
              " |   5e-05   | 0.991 | 1.0 | 967 | 1000 |\n",
              " |   6e-05   | 0.989 | 1.0 | 967 | 1000 |\n",
              " |   7e-05   | 0.989 | 1.0 | 967 | 1000 |\n",
              " |   8e-05   | 0.988 | 1.0 | 967 | 1000 |\n",
              " |   9e-05   | 0.987 | 1.0 | 967 | 1000 |\n",
              " +-----------+-------+-----+-----+------+\n",
              " [100001 rows x 5 columns]\n",
              " Note: Only the head of the SFrame is printed.\n",
              " You can use print_rows(num_rows=m, num_columns=n) to print more rows and columns.}"
            ]
          },
          "metadata": {
            "tags": []
          },
          "execution_count": 56
        }
      ]
    },
    {
      "cell_type": "markdown",
      "metadata": {
        "id": "kcvpA0AXL860",
        "colab_type": "text"
      },
      "source": [
        "Lets create sentiment classifier with more features like: afinn sentiment score, textblob sentiment score and 2gram."
      ]
    },
    {
      "cell_type": "code",
      "metadata": {
        "id": "xvu0300QGwh_",
        "colab_type": "code",
        "colab": {
          "base_uri": "https://localhost:8080/",
          "height": 857
        },
        "outputId": "4471c283-43aa-4759-d96e-8523e8810552"
      },
      "source": [
        "features_list = ['vector','afinn_score_text', 'textblob_score_text','words_2grams']\n",
        "cls_all_features = tc.classifier.create(train,features=features_list, target=\"sentiment\")"
      ],
      "execution_count": 63,
      "outputs": [
        {
          "output_type": "stream",
          "text": [
            "PROGRESS: Creating a validation set from 5 percent of training data. This may take a while.\n",
            "          You can set ``validation_set=None`` to disable validation tracking.\n",
            "\n",
            "PROGRESS: The following methods are available for this type of problem.\n",
            "PROGRESS: LogisticClassifier, SVMClassifier\n",
            "PROGRESS: The returned model will be chosen according to validation accuracy.\n"
          ],
          "name": "stdout"
        },
        {
          "output_type": "display_data",
          "data": {
            "text/html": [
              "<pre>Logistic regression:</pre>"
            ],
            "text/plain": [
              "Logistic regression:"
            ]
          },
          "metadata": {
            "tags": []
          }
        },
        {
          "output_type": "display_data",
          "data": {
            "text/html": [
              "<pre>--------------------------------------------------------</pre>"
            ],
            "text/plain": [
              "--------------------------------------------------------"
            ]
          },
          "metadata": {
            "tags": []
          }
        },
        {
          "output_type": "display_data",
          "data": {
            "text/html": [
              "<pre>Number of examples          : 7631</pre>"
            ],
            "text/plain": [
              "Number of examples          : 7631"
            ]
          },
          "metadata": {
            "tags": []
          }
        },
        {
          "output_type": "display_data",
          "data": {
            "text/html": [
              "<pre>Number of classes           : 2</pre>"
            ],
            "text/plain": [
              "Number of classes           : 2"
            ]
          },
          "metadata": {
            "tags": []
          }
        },
        {
          "output_type": "display_data",
          "data": {
            "text/html": [
              "<pre>Number of feature columns   : 4</pre>"
            ],
            "text/plain": [
              "Number of feature columns   : 4"
            ]
          },
          "metadata": {
            "tags": []
          }
        },
        {
          "output_type": "display_data",
          "data": {
            "text/html": [
              "<pre>Number of unpacked features : 354098</pre>"
            ],
            "text/plain": [
              "Number of unpacked features : 354098"
            ]
          },
          "metadata": {
            "tags": []
          }
        },
        {
          "output_type": "display_data",
          "data": {
            "text/html": [
              "<pre>Number of coefficients      : 354099</pre>"
            ],
            "text/plain": [
              "Number of coefficients      : 354099"
            ]
          },
          "metadata": {
            "tags": []
          }
        },
        {
          "output_type": "display_data",
          "data": {
            "text/html": [
              "<pre>Starting L-BFGS</pre>"
            ],
            "text/plain": [
              "Starting L-BFGS"
            ]
          },
          "metadata": {
            "tags": []
          }
        },
        {
          "output_type": "display_data",
          "data": {
            "text/html": [
              "<pre>--------------------------------------------------------</pre>"
            ],
            "text/plain": [
              "--------------------------------------------------------"
            ]
          },
          "metadata": {
            "tags": []
          }
        },
        {
          "output_type": "display_data",
          "data": {
            "text/html": [
              "<pre>+-----------+----------+-----------+--------------+-------------------+---------------------+</pre>"
            ],
            "text/plain": [
              "+-----------+----------+-----------+--------------+-------------------+---------------------+"
            ]
          },
          "metadata": {
            "tags": []
          }
        },
        {
          "output_type": "display_data",
          "data": {
            "text/html": [
              "<pre>| Iteration | Passes   | Step size | Elapsed Time | Training Accuracy | Validation Accuracy |</pre>"
            ],
            "text/plain": [
              "| Iteration | Passes   | Step size | Elapsed Time | Training Accuracy | Validation Accuracy |"
            ]
          },
          "metadata": {
            "tags": []
          }
        },
        {
          "output_type": "display_data",
          "data": {
            "text/html": [
              "<pre>+-----------+----------+-----------+--------------+-------------------+---------------------+</pre>"
            ],
            "text/plain": [
              "+-----------+----------+-----------+--------------+-------------------+---------------------+"
            ]
          },
          "metadata": {
            "tags": []
          }
        },
        {
          "output_type": "display_data",
          "data": {
            "text/html": [
              "<pre>| 0         | 2        | 1.000000  | 0.441599     | 0.972088          | 0.810945            |</pre>"
            ],
            "text/plain": [
              "| 0         | 2        | 1.000000  | 0.441599     | 0.972088          | 0.810945            |"
            ]
          },
          "metadata": {
            "tags": []
          }
        },
        {
          "output_type": "display_data",
          "data": {
            "text/html": [
              "<pre>| 1         | 4        | 1.000000  | 1.006182     | 0.997510          | 0.823383            |</pre>"
            ],
            "text/plain": [
              "| 1         | 4        | 1.000000  | 1.006182     | 0.997510          | 0.823383            |"
            ]
          },
          "metadata": {
            "tags": []
          }
        },
        {
          "output_type": "display_data",
          "data": {
            "text/html": [
              "<pre>| 2         | 5        | 1.000000  | 1.368896     | 0.999345          | 0.815920            |</pre>"
            ],
            "text/plain": [
              "| 2         | 5        | 1.000000  | 1.368896     | 0.999345          | 0.815920            |"
            ]
          },
          "metadata": {
            "tags": []
          }
        },
        {
          "output_type": "display_data",
          "data": {
            "text/html": [
              "<pre>| 3         | 6        | 1.000000  | 1.728793     | 0.999607          | 0.813433            |</pre>"
            ],
            "text/plain": [
              "| 3         | 6        | 1.000000  | 1.728793     | 0.999607          | 0.813433            |"
            ]
          },
          "metadata": {
            "tags": []
          }
        },
        {
          "output_type": "display_data",
          "data": {
            "text/html": [
              "<pre>| 4         | 7        | 1.000000  | 2.118501     | 0.999869          | 0.810945            |</pre>"
            ],
            "text/plain": [
              "| 4         | 7        | 1.000000  | 2.118501     | 0.999869          | 0.810945            |"
            ]
          },
          "metadata": {
            "tags": []
          }
        },
        {
          "output_type": "display_data",
          "data": {
            "text/html": [
              "<pre>| 9         | 15       | 1.000000  | 4.542707     | 1.000000          | 0.820896            |</pre>"
            ],
            "text/plain": [
              "| 9         | 15       | 1.000000  | 4.542707     | 1.000000          | 0.820896            |"
            ]
          },
          "metadata": {
            "tags": []
          }
        },
        {
          "output_type": "display_data",
          "data": {
            "text/html": [
              "<pre>+-----------+----------+-----------+--------------+-------------------+---------------------+</pre>"
            ],
            "text/plain": [
              "+-----------+----------+-----------+--------------+-------------------+---------------------+"
            ]
          },
          "metadata": {
            "tags": []
          }
        },
        {
          "output_type": "display_data",
          "data": {
            "text/html": [
              "<pre>SVM:</pre>"
            ],
            "text/plain": [
              "SVM:"
            ]
          },
          "metadata": {
            "tags": []
          }
        },
        {
          "output_type": "display_data",
          "data": {
            "text/html": [
              "<pre>--------------------------------------------------------</pre>"
            ],
            "text/plain": [
              "--------------------------------------------------------"
            ]
          },
          "metadata": {
            "tags": []
          }
        },
        {
          "output_type": "display_data",
          "data": {
            "text/html": [
              "<pre>Number of examples          : 7631</pre>"
            ],
            "text/plain": [
              "Number of examples          : 7631"
            ]
          },
          "metadata": {
            "tags": []
          }
        },
        {
          "output_type": "display_data",
          "data": {
            "text/html": [
              "<pre>Number of classes           : 2</pre>"
            ],
            "text/plain": [
              "Number of classes           : 2"
            ]
          },
          "metadata": {
            "tags": []
          }
        },
        {
          "output_type": "display_data",
          "data": {
            "text/html": [
              "<pre>Number of feature columns   : 4</pre>"
            ],
            "text/plain": [
              "Number of feature columns   : 4"
            ]
          },
          "metadata": {
            "tags": []
          }
        },
        {
          "output_type": "display_data",
          "data": {
            "text/html": [
              "<pre>Number of unpacked features : 354098</pre>"
            ],
            "text/plain": [
              "Number of unpacked features : 354098"
            ]
          },
          "metadata": {
            "tags": []
          }
        },
        {
          "output_type": "display_data",
          "data": {
            "text/html": [
              "<pre>Number of coefficients    : 354099</pre>"
            ],
            "text/plain": [
              "Number of coefficients    : 354099"
            ]
          },
          "metadata": {
            "tags": []
          }
        },
        {
          "output_type": "display_data",
          "data": {
            "text/html": [
              "<pre>Starting L-BFGS</pre>"
            ],
            "text/plain": [
              "Starting L-BFGS"
            ]
          },
          "metadata": {
            "tags": []
          }
        },
        {
          "output_type": "display_data",
          "data": {
            "text/html": [
              "<pre>--------------------------------------------------------</pre>"
            ],
            "text/plain": [
              "--------------------------------------------------------"
            ]
          },
          "metadata": {
            "tags": []
          }
        },
        {
          "output_type": "display_data",
          "data": {
            "text/html": [
              "<pre>+-----------+----------+-----------+--------------+-------------------+---------------------+</pre>"
            ],
            "text/plain": [
              "+-----------+----------+-----------+--------------+-------------------+---------------------+"
            ]
          },
          "metadata": {
            "tags": []
          }
        },
        {
          "output_type": "display_data",
          "data": {
            "text/html": [
              "<pre>| Iteration | Passes   | Step size | Elapsed Time | Training Accuracy | Validation Accuracy |</pre>"
            ],
            "text/plain": [
              "| Iteration | Passes   | Step size | Elapsed Time | Training Accuracy | Validation Accuracy |"
            ]
          },
          "metadata": {
            "tags": []
          }
        },
        {
          "output_type": "display_data",
          "data": {
            "text/html": [
              "<pre>+-----------+----------+-----------+--------------+-------------------+---------------------+</pre>"
            ],
            "text/plain": [
              "+-----------+----------+-----------+--------------+-------------------+---------------------+"
            ]
          },
          "metadata": {
            "tags": []
          }
        },
        {
          "output_type": "display_data",
          "data": {
            "text/html": [
              "<pre>| 0         | 2        | 1.000000  | 0.361358     | 0.972088          | 0.810945            |</pre>"
            ],
            "text/plain": [
              "| 0         | 2        | 1.000000  | 0.361358     | 0.972088          | 0.810945            |"
            ]
          },
          "metadata": {
            "tags": []
          }
        },
        {
          "output_type": "display_data",
          "data": {
            "text/html": [
              "<pre>| 1         | 4        | 1.000000  | 0.872148     | 0.994103          | 0.818408            |</pre>"
            ],
            "text/plain": [
              "| 1         | 4        | 1.000000  | 0.872148     | 0.994103          | 0.818408            |"
            ]
          },
          "metadata": {
            "tags": []
          }
        },
        {
          "output_type": "display_data",
          "data": {
            "text/html": [
              "<pre>| 2         | 5        | 1.000000  | 1.205864     | 0.997772          | 0.828358            |</pre>"
            ],
            "text/plain": [
              "| 2         | 5        | 1.000000  | 1.205864     | 0.997772          | 0.828358            |"
            ]
          },
          "metadata": {
            "tags": []
          }
        },
        {
          "output_type": "display_data",
          "data": {
            "text/html": [
              "<pre>| 3         | 6        | 1.000000  | 1.532146     | 0.999345          | 0.823383            |</pre>"
            ],
            "text/plain": [
              "| 3         | 6        | 1.000000  | 1.532146     | 0.999345          | 0.823383            |"
            ]
          },
          "metadata": {
            "tags": []
          }
        },
        {
          "output_type": "display_data",
          "data": {
            "text/html": [
              "<pre>| 4         | 7        | 1.000000  | 1.871441     | 0.999738          | 0.815920            |</pre>"
            ],
            "text/plain": [
              "| 4         | 7        | 1.000000  | 1.871441     | 0.999738          | 0.815920            |"
            ]
          },
          "metadata": {
            "tags": []
          }
        },
        {
          "output_type": "display_data",
          "data": {
            "text/html": [
              "<pre>| 9         | 17       | 0.077750  | 4.482919     | 1.000000          | 0.808458            |</pre>"
            ],
            "text/plain": [
              "| 9         | 17       | 0.077750  | 4.482919     | 1.000000          | 0.808458            |"
            ]
          },
          "metadata": {
            "tags": []
          }
        },
        {
          "output_type": "display_data",
          "data": {
            "text/html": [
              "<pre>+-----------+----------+-----------+--------------+-------------------+---------------------+</pre>"
            ],
            "text/plain": [
              "+-----------+----------+-----------+--------------+-------------------+---------------------+"
            ]
          },
          "metadata": {
            "tags": []
          }
        },
        {
          "output_type": "stream",
          "text": [
            "PROGRESS: Model selection based on validation accuracy:\n",
            "PROGRESS: ---------------------------------------------\n",
            "PROGRESS: LogisticClassifier              : 0.8208955223880597\n",
            "PROGRESS: SVMClassifier                   : 0.8084577114427861\n",
            "PROGRESS: ---------------------------------------------\n",
            "PROGRESS: Selecting LogisticClassifier based on validation set performance.\n"
          ],
          "name": "stdout"
        }
      ]
    },
    {
      "cell_type": "code",
      "metadata": {
        "id": "LrxvZIS_HFhu",
        "colab_type": "code",
        "colab": {
          "base_uri": "https://localhost:8080/",
          "height": 857
        },
        "outputId": "5fcd708a-f9e1-411a-a4ae-b447cbc5b372"
      },
      "source": [
        "all_features_results = cls_all_features.evaluate(test)\n",
        "all_features_results"
      ],
      "execution_count": 64,
      "outputs": [
        {
          "output_type": "execute_result",
          "data": {
            "text/plain": [
              "{'accuracy': 0.8017285205897305,\n",
              " 'auc': 0.8801716649431222,\n",
              " 'confusion_matrix': Columns:\n",
              " \ttarget_label\tint\n",
              " \tpredicted_label\tint\n",
              " \tcount\tint\n",
              " \n",
              " Rows: 4\n",
              " \n",
              " Data:\n",
              " +--------------+-----------------+-------+\n",
              " | target_label | predicted_label | count |\n",
              " +--------------+-----------------+-------+\n",
              " |      0       |        1        |  156  |\n",
              " |      0       |        0        |  844  |\n",
              " |      1       |        0        |  234  |\n",
              " |      1       |        1        |  733  |\n",
              " +--------------+-----------------+-------+\n",
              " [4 rows x 3 columns],\n",
              " 'f1_score': 0.7898706896551725,\n",
              " 'log_loss': 0.9699605216377698,\n",
              " 'precision': 0.8245219347581553,\n",
              " 'recall': 0.7580144777662875,\n",
              " 'roc_curve': Columns:\n",
              " \tthreshold\tfloat\n",
              " \tfpr\tfloat\n",
              " \ttpr\tfloat\n",
              " \tp\tint\n",
              " \tn\tint\n",
              " \n",
              " Rows: 100001\n",
              " \n",
              " Data:\n",
              " +-----------+-------+--------------------+-----+------+\n",
              " | threshold |  fpr  |        tpr         |  p  |  n   |\n",
              " +-----------+-------+--------------------+-----+------+\n",
              " |    0.0    |  1.0  |        1.0         | 967 | 1000 |\n",
              " |   1e-05   | 0.684 | 0.9782833505687694 | 967 | 1000 |\n",
              " |   2e-05   | 0.661 | 0.9731127197518097 | 967 | 1000 |\n",
              " |   3e-05   | 0.648 | 0.9700103412616339 | 967 | 1000 |\n",
              " |   4e-05   | 0.638 | 0.9689762150982419 | 967 | 1000 |\n",
              " |   5e-05   | 0.627 | 0.9658738366080661 | 967 | 1000 |\n",
              " |   6e-05   | 0.617 | 0.9648397104446742 | 967 | 1000 |\n",
              " |   7e-05   | 0.613 | 0.9627714581178903 | 967 | 1000 |\n",
              " |   8e-05   | 0.605 | 0.9617373319544984 | 967 | 1000 |\n",
              " |   9e-05   |  0.6  | 0.9617373319544984 | 967 | 1000 |\n",
              " +-----------+-------+--------------------+-----+------+\n",
              " [100001 rows x 5 columns]\n",
              " Note: Only the head of the SFrame is printed.\n",
              " You can use print_rows(num_rows=m, num_columns=n) to print more rows and columns.}"
            ]
          },
          "metadata": {
            "tags": []
          },
          "execution_count": 64
        }
      ]
    },
    {
      "cell_type": "code",
      "metadata": {
        "id": "Dgu96dktK9xH",
        "colab_type": "code",
        "colab": {
          "base_uri": "https://localhost:8080/",
          "height": 587
        },
        "outputId": "d1f004f8-3815-41cd-cc90-8ce1a16c95ed"
      },
      "source": [
        "plot_roc_curve(all_features_results, 'All features ROC curve')\n",
        "plot_roc_curve(only_embedding_feature_results, 'Only embedding vectors features ROC curve')"
      ],
      "execution_count": 67,
      "outputs": [
        {
          "output_type": "display_data",
          "data": {
            "image/png": "[encoded data removed]",
            "text/plain": [
              "<Figure size 432x288 with 1 Axes>"
            ]
          },
          "metadata": {
            "tags": []
          }
        },
        {
          "output_type": "display_data",
          "data": {
            "image/png": "[encoded data removed]",
            "text/plain": [
              "<Figure size 432x288 with 1 Axes>"
            ]
          },
          "metadata": {
            "tags": []
          }
        }
      ]
    },
    {
      "cell_type": "markdown",
      "metadata": {
        "id": "Wf1Ab-isL0zU",
        "colab_type": "text"
      },
      "source": [
        "The conclusion is that embedding vectors are enough informative features for sentiment analysis on our dataset."
      ]
    }
  ]
}